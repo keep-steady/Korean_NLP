{
 "cells": [
  {
   "cell_type": "markdown",
   "metadata": {},
   "source": [
    "# 1. String_Distance"
   ]
  },
  {
   "cell_type": "markdown",
   "metadata": {},
   "source": [
    "## Edit distance\n",
    "1. Edit distance(Levenshtein distance)\n",
    "2. Token edit distance\n",
    "3. Jamo edit distance\n",
    "4. Token - Jamo edit distance\n",
    "\n",
    "str1, str2에 대하여 s1의 길이가 s2보다 길거나 같다고 가정함. len(s1) < len(s2)를 확인하고, s2의 길이가 더 길 경우 반대로 입력\n",
    "\n",
    "s1에서 s2로 바뀌거나, s2에서 s1바뀌는 비용은 같음"
   ]
  },
  {
   "cell_type": "code",
   "execution_count": 1,
   "metadata": {
    "ExecuteTime": {
     "end_time": "2018-03-08T08:17:36.147845Z",
     "start_time": "2018-03-08T08:17:36.132951Z"
    }
   },
   "outputs": [
    {
     "name": "stdout",
     "output_type": "stream",
     "text": [
      "after cost += (a == a) :  1\n",
      "after cost += (a != a) :  1\n",
      "True\n",
      "True\n"
     ]
    }
   ],
   "source": [
    "_cost = 0\n",
    "_cost += ('a' == 'a')\n",
    "print('after cost += (a == a) : ', _cost)\n",
    "_cost += ('a' != 'a')\n",
    "print('after cost += (a != a) : ', _cost)\n",
    "print(('a' != 'a') == 0)\n",
    "print(('a' == 'a') == 1)"
   ]
  },
  {
   "cell_type": "code",
   "execution_count": 2,
   "metadata": {
    "ExecuteTime": {
     "end_time": "2018-03-08T08:17:36.826223Z",
     "start_time": "2018-03-08T08:17:36.793707Z"
    }
   },
   "outputs": [],
   "source": [
    "def levenshtein(s1, s2):\n",
    "    if len(s1) < len(s2):\n",
    "        return levenshtein(s2, s1)\n",
    "    \n",
    "    if len(s2) == 0:\n",
    "        return len(s1)\n",
    "    \n",
    "    previous_row = range(len(s2) + 1)\n",
    "    for i, c1 in enumerate(s1):\n",
    "        current_row = [i + 1]\n",
    "        for j, c2 in enumerate(s2):\n",
    "            insertions = previous_row[j + 1] + 1\n",
    "            deletions = current_row[j] + 1\n",
    "            substitutions = previous_row[j] + (c1 != c2)\n",
    "            current_row.append(min(insertions, deletions, substitutions))\n",
    "        previous_row = current_row\n",
    "    return previous_row[-1]"
   ]
  },
  {
   "cell_type": "markdown",
   "metadata": {},
   "source": [
    "s1, s2에 대하여 enumerate를 통하여 iteration을 돌면서 각 unit들이 같은지 확인함. 글자 단위로 넣으면 띄어쓰기도 글자로 인식한 뒤, 각 위치의 글자들이 같은지 확인하며 Edit distance를 계산"
   ]
  },
  {
   "cell_type": "code",
   "execution_count": 3,
   "metadata": {
    "ExecuteTime": {
     "end_time": "2018-03-08T08:17:37.518966Z",
     "start_time": "2018-03-08T08:17:37.495577Z"
    }
   },
   "outputs": [
    {
     "name": "stdout",
     "output_type": "stream",
     "text": [
      "('매직 마법 마술사', '메직 마법 마술사') : 1\n",
      "('매직 마법 마술사', '메직 마법 마술사') : 1\n",
      "('매직 마법 마술사', '메직 마벙 마술사') : 2\n",
      "('매직 마법 마술사', '마술사 매직 마법') : 7\n",
      "('매직 마법 마술사', '마술사 매직 마버') : 7\n"
     ]
    }
   ],
   "source": [
    "test_pairs = [\n",
    "    ('매직 마법 마술사', '메직 마법 마술사'),\n",
    "    ('매직 마법 마술사', '메직 마법 마술사'),\n",
    "    ('매직 마법 마술사', '메직 마벙 마술사'), \n",
    "    ('매직 마법 마술사', '마술사 매직 마법'),\n",
    "    ('매직 마법 마술사', '마술사 매직 마버')\n",
    "]\n",
    "\n",
    "for pair in test_pairs:\n",
    "    print(pair, ':', levenshtein(pair[0], pair[1]))"
   ]
  },
  {
   "cell_type": "markdown",
   "metadata": {},
   "source": [
    "Unit을 글자가 아니라 단어로 넣어보자"
   ]
  },
  {
   "cell_type": "code",
   "execution_count": 4,
   "metadata": {
    "ExecuteTime": {
     "end_time": "2018-03-08T08:17:38.135223Z",
     "start_time": "2018-03-08T08:17:38.123483Z"
    }
   },
   "outputs": [
    {
     "name": "stdout",
     "output_type": "stream",
     "text": [
      "('매직 마법 마술사', '메직 마법 마술사') : 1\n",
      "('매직 마법 마술사', '메직 마법 마술사') : 1\n",
      "('매직 마법 마술사', '메직 마벙 마술사') : 2\n",
      "('매직 마법 마술사', '마술사 매직 마법') : 2\n",
      "('매직 마법 마술사', '마술사 매직 마버') : 3\n"
     ]
    }
   ],
   "source": [
    "for pair in test_pairs:\n",
    "    print(pair, ':', levenshtein(pair[0].split(), pair[1].split()))"
   ]
  },
  {
   "cell_type": "markdown",
   "metadata": {},
   "source": [
    "substitutions의 비용을 다르게 설정할 수 있음. c1에서 c2로 바뀌는 비용을 (c1, c2): float로 dict에 넣자"
   ]
  },
  {
   "cell_type": "code",
   "execution_count": 5,
   "metadata": {
    "ExecuteTime": {
     "end_time": "2018-03-08T08:17:39.267728Z",
     "start_time": "2018-03-08T08:17:38.674182Z"
    }
   },
   "outputs": [
    {
     "name": "stdout",
     "output_type": "stream",
     "text": [
      "with out cost,        서비스 --> 써비스: 1.00\n",
      "with predefined cost, 서비스 --> 써비스: 0.01\n"
     ]
    }
   ],
   "source": [
    "def levenshtein(s1, s2, cost=None):\n",
    "    if len(s1) < len(s2):\n",
    "        return levenshtein(s2, s1)\n",
    "    \n",
    "    if len(s2) == 0:\n",
    "        return len(s1)\n",
    "    \n",
    "    # 추가된 부분\n",
    "    if cost == None:\n",
    "        cost = {}\n",
    "        \n",
    "    def get_cost(c1, c2, cost):\n",
    "        return 0 if (c1 == c2) else cost.get((c1, c2), 1)\n",
    "    \n",
    "    previous_row = range(len(s2) + 1)\n",
    "    for i, c1 in enumerate(s1):\n",
    "        current_row = [i + 1]\n",
    "        for j, c2 in enumerate(s2):\n",
    "            insertions = previous_row[j + 1] + 1\n",
    "            deletions = current_row[j] + 1\n",
    "            substitutions = previous_row[j] + get_cost(c1, c2, cost)\n",
    "            current_row.append(min(insertions, deletions, substitutions))\n",
    "        previous_row = current_row\n",
    "        \n",
    "    return previous_row[-1]\n",
    "\n",
    "print('with out cost,        서비스 --> 써비스: %.2f' % levenshtein('서비스', '써비스'))\n",
    "print('with predefined cost, 서비스 --> 써비스: %.2f' % levenshtein('서비스', '써비스', {('서', '써'): 0.01}))"
   ]
  },
  {
   "cell_type": "markdown",
   "metadata": {},
   "source": [
    "띄어쓰기가 있을 경우에는 어절 단위로, 없을 경우에는 글자 단위로 Edit distance를 계산하고, 어절 간의 거리를 임의의 함수로 정의하고 싶으면 base_distance를 argument로 받는 token_levenshtein함수를 만들면 됨"
   ]
  },
  {
   "cell_type": "code",
   "execution_count": 6,
   "metadata": {
    "ExecuteTime": {
     "end_time": "2018-03-08T08:17:39.387557Z",
     "start_time": "2018-03-08T08:17:39.376216Z"
    }
   },
   "outputs": [
    {
     "name": "stdout",
     "output_type": "stream",
     "text": [
      "('매직 마법 마술사', '메직 마법 마술사') : 1 -> 1\n",
      "('매직 마법 마술사', '메직 마법 마술사') : 1 -> 1\n",
      "('매직 마법 마술사', '메직 마벙 마술사') : 2 -> 2\n",
      "('매직 마법 마술사', '마술사 매직 마법') : 7 -> 2\n",
      "('매직 마법 마술사', '마술사 매직 마버') : 7 -> 3\n"
     ]
    }
   ],
   "source": [
    "def token_levenshtein(s1, s2, base_distance=levenshtein, debug=False):\n",
    "    t1 = set(s1.split())\n",
    "    t2 = set(s2.split())\n",
    "    \n",
    "    cost = {(t1_i, t2_j): base_distance(t1_i, t2_j) for t1_i in t1 for t2_j in t2}\n",
    "    \n",
    "    if debug:\n",
    "        print(cost)\n",
    "        \n",
    "    return levenshtein(s1.split(), s2.split(), cost)\n",
    "\n",
    "\n",
    "for pair in test_pairs:\n",
    "    print(pair, ':', '%d -> %d'%(levenshtein(pair[0], pair[1]), token_levenshtein(pair[0], pair[1])))"
   ]
  },
  {
   "cell_type": "markdown",
   "metadata": {},
   "source": [
    "### Jamo tokenize\n",
    "한글을 받아서 초/중/종성을 나눈 뒤, 한 글자를 세 글자로 이뤄진 리스트를 return하는 Jamo클래스 생성"
   ]
  },
  {
   "cell_type": "code",
   "execution_count": 7,
   "metadata": {
    "ExecuteTime": {
     "end_time": "2018-03-08T08:17:39.878426Z",
     "start_time": "2018-03-08T08:17:39.812811Z"
    }
   },
   "outputs": [],
   "source": [
    "class Jamo:\n",
    "    kor_begin = 44032\n",
    "    kor_end = 55203\n",
    "    chosung_base = 588\n",
    "    jungsung_base = 28\n",
    "    \n",
    "    chosung_list = ['ㄱ', 'ㄲ', 'ㄴ', 'ㄷ', 'ㄸ', 'ㄹ', 'ㅁ', 'ㅂ', 'ㅃ', \n",
    "            'ㅅ', 'ㅆ', 'ㅇ' , 'ㅈ', 'ㅉ', 'ㅊ', 'ㅋ', 'ㅌ', 'ㅍ', 'ㅎ']\n",
    "    \n",
    "    jungsung_list = ['ㅏ', 'ㅐ', 'ㅑ', 'ㅒ', 'ㅓ', 'ㅔ', \n",
    "            'ㅕ', 'ㅖ', 'ㅗ', 'ㅘ', 'ㅙ', 'ㅚ', \n",
    "            'ㅛ', 'ㅜ', 'ㅝ', 'ㅞ', 'ㅟ', 'ㅠ', \n",
    "            'ㅡ', 'ㅢ', 'ㅣ']\n",
    "\n",
    "    jongsung_list = [\n",
    "        ' ', 'ㄱ', 'ㄲ', 'ㄳ', 'ㄴ', 'ㄵ', 'ㄶ', 'ㄷ',\n",
    "            'ㄹ', 'ㄺ', 'ㄻ', 'ㄼ', 'ㄽ', 'ㄾ', 'ㄿ', 'ㅀ', \n",
    "            'ㅁ', 'ㅂ', 'ㅄ', 'ㅅ', 'ㅆ', 'ㅇ', 'ㅈ', 'ㅊ', \n",
    "            'ㅋ', 'ㅌ', 'ㅍ', 'ㅎ']\n",
    "\n",
    "    jaum_list = ['ㄱ', 'ㄲ', 'ㄳ', 'ㄴ', 'ㄵ', 'ㄶ', 'ㄷ', 'ㄸ', 'ㄹ', \n",
    "                  'ㄺ', 'ㄻ', 'ㄼ', 'ㄽ', 'ㄾ', 'ㄿ', 'ㅀ', 'ㅁ', 'ㅂ', \n",
    "                  'ㅃ', 'ㅄ', 'ㅅ', 'ㅆ', 'ㅇ', 'ㅈ', 'ㅉ', 'ㅊ', 'ㅋ', 'ㅌ', 'ㅍ', 'ㅎ']\n",
    "\n",
    "    moum_list = ['ㅏ', 'ㅐ', 'ㅑ', 'ㅒ', 'ㅓ', 'ㅔ', 'ㅕ', 'ㅖ', 'ㅗ', 'ㅘ', \n",
    "                  'ㅙ', 'ㅚ', 'ㅛ', 'ㅜ', 'ㅝ', 'ㅞ', 'ㅟ', 'ㅠ', 'ㅡ', 'ㅢ', 'ㅣ']\n",
    "    \n",
    "    def decompose(self, c):\n",
    "        i = ord(c)\n",
    "        if not (self.kor_begin <= i <= self.kor_end):\n",
    "            return [c]\n",
    "        \n",
    "        i = i - self.kor_begin\n",
    "        cho = i // self.chosung_base\n",
    "        jung = (i - cho * self.chosung_base) // self.jungsung_base\n",
    "        jong = (i - cho * self.chosung_base - jung * self.jungsung_base)\n",
    "        \n",
    "        return [self.chosung_list[cho], self.jungsung_list[jung], self.jongsung_list[jong]]\n",
    "    \n",
    "jamo_module = Jamo()\n",
    "\n",
    "def decompose(c):\n",
    "    return jamo_module.decompose(c)"
   ]
  },
  {
   "cell_type": "code",
   "execution_count": 8,
   "metadata": {
    "ExecuteTime": {
     "end_time": "2018-03-08T08:17:40.067484Z",
     "start_time": "2018-03-08T08:17:40.060436Z"
    }
   },
   "outputs": [
    {
     "data": {
      "text/plain": [
       "['ㅎ', 'ㅏ', 'ㄴ']"
      ]
     },
     "execution_count": 8,
     "metadata": {},
     "output_type": "execute_result"
    }
   ],
   "source": [
    "decompose('한')"
   ]
  },
  {
   "cell_type": "markdown",
   "metadata": {},
   "source": [
    "글자의 substitution 비용을 초/중/종성을 분리한 뒤에 levenshtein거리의 1/3을 곱함으로써, 초/중/종성 차이를 모두 고려하는 levenshtein distance를 계산할 수 있음"
   ]
  },
  {
   "cell_type": "code",
   "execution_count": 9,
   "metadata": {
    "ExecuteTime": {
     "end_time": "2018-03-08T08:17:40.536704Z",
     "start_time": "2018-03-08T08:17:40.509793Z"
    }
   },
   "outputs": [
    {
     "data": {
      "text/plain": [
       "2.6666666666666665"
      ]
     },
     "execution_count": 9,
     "metadata": {},
     "output_type": "execute_result"
    }
   ],
   "source": [
    "def jamo_levenshtein(s1, s2):\n",
    "    if len(s1) < len(s2):\n",
    "        return levenshtein(s2, s1)\n",
    "    \n",
    "    if len(s2) == 0:\n",
    "        return len(s1)\n",
    "    \n",
    "    def get_jamo_cost(c1, c2):\n",
    "        return 0 if (c1 == c2) else levenshtein(decompose(c1), decompose(c2))/3\n",
    "    \n",
    "    previous_row = range(len(s2) + 1)\n",
    "    for i, c1 in enumerate(s1):\n",
    "        current_row = [i + 1]\n",
    "        for j, c2 in enumerate(s2):\n",
    "            insertions = previous_row[j + 1] + 1\n",
    "            deletions = current_row[j] + 1\n",
    "            substitutions = previous_row[j] + get_jamo_cost(c1, c2)\n",
    "            current_row.append(min(insertions, deletions, substitutions))\n",
    "        previous_row = current_row\n",
    "        \n",
    "    return previous_row[-1]\n",
    "\n",
    "jamo_levenshtein('다이한민구어', '대한민국')"
   ]
  },
  {
   "cell_type": "code",
   "execution_count": 10,
   "metadata": {
    "ExecuteTime": {
     "end_time": "2018-03-08T08:17:40.745184Z",
     "start_time": "2018-03-08T08:17:40.737185Z"
    }
   },
   "outputs": [
    {
     "name": "stdout",
     "output_type": "stream",
     "text": [
      "Basic -> TOKEN -> JAMO TOKEN\n",
      "('매직 마법 마술사', '메직 마법 마술사') : 1 -> 1 -> 0.333\n",
      "('매직 마법 마술사', '메직 마법 마술사') : 1 -> 1 -> 0.333\n",
      "('매직 마법 마술사', '메직 마벙 마술사') : 2 -> 2 -> 0.667\n",
      "('매직 마법 마술사', '마술사 매직 마법') : 7 -> 2 -> 2.000\n",
      "('매직 마법 마술사', '마술사 매직 마버') : 7 -> 3 -> 2.333\n"
     ]
    }
   ],
   "source": [
    "print('%sBasic -> TOKEN -> JAMO TOKEN'%(''*35))\n",
    "\n",
    "for pair in test_pairs:\n",
    "    print(pair, ':', '%d -> %d -> %.3f'%(levenshtein(pair[0], pair[1]),\n",
    "                                        token_levenshtein(pair[0], pair[1]),\n",
    "                                        token_levenshtein(pair[0], pair[1], base_distance=jamo_levenshtein)))"
   ]
  },
  {
   "cell_type": "markdown",
   "metadata": {},
   "source": [
    "## Jaccard distance\n",
    "자커드 거리는 unit들에 대해 set의 1 - (intersection / union) 값임\n",
    "주어진 단어 s1, s2에 대하여 unit을 만드는 함수를 lambda를 통하여 정의함\n",
    "\n",
    "    s1_set = unify(s1)\n",
    "    \n",
    "이 부분을 통하여 주어진 s1, s2는 unit set으로 바뀌에 되고, str을 set처리하면 글자의 set이 출력됨. set은 iterable한 대상이 입력되면 iteration을 돌면서 고유한 값을 저장함"
   ]
  },
  {
   "cell_type": "code",
   "execution_count": 11,
   "metadata": {
    "ExecuteTime": {
     "end_time": "2018-03-08T08:17:41.090322Z",
     "start_time": "2018-03-08T08:17:41.061825Z"
    }
   },
   "outputs": [
    {
     "name": "stdout",
     "output_type": "stream",
     "text": [
      "{'도', '것', '요', '이'} {'오', '것', '요', '도', '저'}\n",
      "0.5\n",
      "{'것도', '도요', '이것'} {'저것', '요오', '도요', '것도'}\n",
      "0.6\n"
     ]
    }
   ],
   "source": [
    "def jaccard_distance(s1, s2, unitfy=lambda x:set(x), debug=False):\n",
    "    if (not s1) or (not s2):\n",
    "        return 1\n",
    "    \n",
    "    s1_set = unitfy(s1)\n",
    "    s2_set = unitfy(s2)\n",
    "    if debug:\n",
    "        print(s1_set, s2_set)\n",
    "        \n",
    "    return 1 - len(s1_set.intersection(s2_set)) / len(s1_set.union(s2_set))\n",
    "\n",
    "print(jaccard_distance('이것도요', '저것도요오', debug=True))\n",
    "print(jaccard_distance('이것도요', '저것도요오', debug=True, unitfy=lambda x:set([x[i:i+2] for i in range(len(x) - 1)])))"
   ]
  },
  {
   "cell_type": "markdown",
   "metadata": {},
   "source": [
    "unify함수에 복잡한 함수를 넣을 때는 lambda와 helper함수를 함께 사용해라\n",
    "\n",
    "char_ngram은 min_n부터 max_n길이의 character ngram을 추출하는 함수임"
   ]
  },
  {
   "cell_type": "code",
   "execution_count": 12,
   "metadata": {
    "ExecuteTime": {
     "end_time": "2018-03-08T08:17:41.409344Z",
     "start_time": "2018-03-08T08:17:41.391632Z"
    }
   },
   "outputs": [
    {
     "name": "stdout",
     "output_type": "stream",
     "text": [
      "{'것도요', '이것도', '것', '도요', '이것', '요', '것도', '도', '이'} {'것도요', '요오', '오', '것도', '것', '도요', '요', '저것도', '저것', '도요오', '도', '저'}\n",
      "0.6\n"
     ]
    }
   ],
   "source": [
    "def char_ngram(x, min_n=1, max_n=3):\n",
    "    ngrams = []\n",
    "    max_n = min(max_n, len(x))\n",
    "    \n",
    "    for n in range(min_n, max_n + 1):\n",
    "        for b in range(len(x) - n + 1):\n",
    "            ngrams.append(x[b:b+n])\n",
    "    return ngrams\n",
    "\n",
    "print(jaccard_distance('이것도요', '저것도요오', debug=True, unitfy=lambda x:set(char_ngram(x))))"
   ]
  },
  {
   "cell_type": "markdown",
   "metadata": {},
   "source": [
    "## Cosine\n",
    "Cosine distance는 Jaccard distance와 다르게, 한 unit이 몇 번 등장했는지의 횟수 정보를 이용함. 이를 위해 str s1, s2의 character들이 몇 번 등장하였는지 카운팅을 해야 함. iterable한 객체의 요소들의 카운팅은 Counter를 이용하여 쉽게 할 수 있음"
   ]
  },
  {
   "cell_type": "code",
   "execution_count": 13,
   "metadata": {
    "ExecuteTime": {
     "end_time": "2018-03-08T08:17:41.773436Z",
     "start_time": "2018-03-08T08:17:41.714276Z"
    }
   },
   "outputs": [
    {
     "name": "stdout",
     "output_type": "stream",
     "text": [
      "d1 :  Counter({'이': 1, '것': 1, '도': 1, '요': 1})\n",
      "d2 :  Counter({'저': 1, '것': 1, '도': 1, '요': 1, '오': 1})\n",
      "0.32917960675 \n",
      "\n",
      "d1 :  Counter({'이': 1, '것': 1, '도': 1, '요': 1, '이것': 1, '것도': 1, '도요': 1, '이것도': 1, '것도요': 1})\n",
      "d2 :  Counter({'저': 1, '것': 1, '도': 1, '요': 1, '오': 1, '저것': 1, '것도': 1, '도요': 1, '요오': 1, '저것도': 1, '것도요': 1, '도요오': 1})\n",
      "0.42264973081\n"
     ]
    }
   ],
   "source": [
    "from collections import Counter\n",
    "import numpy as np\n",
    "\n",
    "def cosine_distance(s1, s2, unitfy=lambda x: Counter(x), debug=False):\n",
    "    if (not s1) or (not s2):\n",
    "        return 2\n",
    "    \n",
    "    d1 = unitfy(s1)\n",
    "    d2 = unitfy(s2)\n",
    "    \n",
    "    prod = 0\n",
    "    for c1, f in d1.items():\n",
    "        prod += (f * d2.get(c1, 0))\n",
    "        \n",
    "    if debug:\n",
    "        print('d1 : ', d1)\n",
    "        print('d2 : ', d2)\n",
    "        \n",
    "    return 1 - (prod / np.sqrt((sum([f**2 for f in d1.values()]) * sum([f**2 for f in d2.values()]))))\n",
    "\n",
    "\n",
    "print(cosine_distance('이것도요', '저것도요오', debug=True), '\\n')\n",
    "print(cosine_distance('이것도요', '저것도요오', debug=True, unitfy=lambda x:Counter(char_ngram(x, min_n=1, max_n=3))))"
   ]
  },
  {
   "cell_type": "markdown",
   "metadata": {},
   "source": [
    "## soynlp 사용"
   ]
  },
  {
   "cell_type": "code",
   "execution_count": 14,
   "metadata": {
    "ExecuteTime": {
     "end_time": "2018-03-08T08:17:42.086324Z",
     "start_time": "2018-03-08T08:17:42.052641Z"
    }
   },
   "outputs": [],
   "source": [
    "from soynlp.hangle import levenshtein, jamo_levenshtein, cosine_distance, jaccard_distance"
   ]
  },
  {
   "cell_type": "code",
   "execution_count": 15,
   "metadata": {
    "ExecuteTime": {
     "end_time": "2018-03-08T08:17:42.239243Z",
     "start_time": "2018-03-08T08:17:42.231766Z"
    }
   },
   "outputs": [
    {
     "name": "stdout",
     "output_type": "stream",
     "text": [
      "levenshtein:\t\t\t\t1.000\n",
      "jamo levenshtein:\t\t\t\t0.333\n",
      "cosine w 1syllable:\t\t\t\t0.106\n",
      "cosine w 2syllable:\t\t\t\t0.225\n",
      "jaccard w 1syllable:\t\t\t\t0.000\n",
      "jaccard w 2syllable:\t\t\t\t0.333\n"
     ]
    }
   ],
   "source": [
    "print('levenshtein:\\t\\t\\t\\t%.3f'%(levenshtein('가각', '감각')))\n",
    "print('jamo levenshtein:\\t\\t\\t\\t%.3f'%(jamo_levenshtein('가각', '감각')))\n",
    "print('cosine w 1syllable:\\t\\t\\t\\t%.3f'%(cosine_distance('가가가각', '가가각각')))\n",
    "print('cosine w 2syllable:\\t\\t\\t\\t%.3f'%(cosine_distance('가가가각', '가가각각',\n",
    "        unitfy=lambda x:Counter(char_ngram(x, min_n=2, max_n=2)))))\n",
    "print('jaccard w 1syllable:\\t\\t\\t\\t%.3f'%(jaccard_distance('가가각', '가가각각')))\n",
    "print('jaccard w 2syllable:\\t\\t\\t\\t%.3f'%(jaccard_distance('가가각', '가가각각',\n",
    "        unitfy=lambda x:set(char_ngram(x, min_n=2, max_n=2)))))"
   ]
  },
  {
   "cell_type": "markdown",
   "metadata": {},
   "source": [
    "# company type으로 연습"
   ]
  },
  {
   "cell_type": "code",
   "execution_count": 16,
   "metadata": {
    "ExecuteTime": {
     "end_time": "2018-03-08T08:17:42.673002Z",
     "start_time": "2018-03-08T08:17:42.668374Z"
    }
   },
   "outputs": [],
   "source": [
    "import sys\n",
    "sys.path.append('/home/paulkim/workspace/python/Korean_NLP/WordExtraction_NounExtraction/')\n",
    "\n",
    "from cohesion import CohesionProbability\n",
    "cohesion = CohesionProbability(min_count=5)"
   ]
  },
  {
   "cell_type": "markdown",
   "metadata": {},
   "source": [
    "형태는 \"업태\\t업종\"임"
   ]
  },
  {
   "cell_type": "code",
   "execution_count": 17,
   "metadata": {
    "ExecuteTime": {
     "end_time": "2018-03-08T08:17:43.081198Z",
     "start_time": "2018-03-08T08:17:43.034832Z"
    }
   },
   "outputs": [
    {
     "name": "stdout",
     "output_type": "stream",
     "text": [
      "('도소매,서비스', '제조업,건설업', '도소매,서비스', '도소매,서비스', '서비스')\n",
      "('전자상거래업, 소프트웨어개발', '컴퓨터주변기기외', '컴퓨터및주변기기', '컴퓨터및주변기기', '소프트웨어개발공급및유지보수')\n"
     ]
    }
   ],
   "source": [
    "def load_business_type_field(fname):\n",
    "    with open(fname, encoding='utf-8') as f:\n",
    "        twocolumns = [doc.strip().split('\\t') for doc in f]\n",
    "        twocolumns = [doc for doc in twocolumns if len(doc) == 2]\n",
    "    business_type, business_field = zip(*twocolumns)\n",
    "    return business_type, business_field\n",
    "\n",
    "business_type, business_field = load_business_type_field('/home/paulkim/workspace/python/Korean_NLP/data/company_name/company_type_list.txt')\n",
    "print(business_type[:5])\n",
    "print(business_field[:5])"
   ]
  },
  {
   "cell_type": "markdown",
   "metadata": {},
   "source": [
    "normalize함수를 사용. 한글/영어/숫자/특수기호 등을 전처리하는 함수. 지워지는 글자는 빈칸으로 처리함. 두 개 이상 연속된 빈칸은 모두 지운다!\n",
    "\n",
    "default value\n",
    "\n",
    "    normalize(doc, english=False, number=False, punctuation=False, remove_repeat=0, remains={})\n",
    "    \n",
    "    > s = '이건123숫자abc영어가모두섞인 문장!! '\n",
    "\n",
    "    > normalize(s)\n",
    "    $ '이건 숫자 영어가모두섞인 문장'\n",
    "    \n",
    "    > normalize(s, english=True)\n",
    "    $ '이건 숫자abc영어가모두섞인 문장'"
   ]
  },
  {
   "cell_type": "code",
   "execution_count": 18,
   "metadata": {
    "ExecuteTime": {
     "end_time": "2018-03-08T08:17:43.921132Z",
     "start_time": "2018-03-08T08:17:43.368344Z"
    }
   },
   "outputs": [
    {
     "name": "stdout",
     "output_type": "stream",
     "text": [
      "['도소매 서비스', '제조업 건설업', '도소매 서비스', '도소매 서비스', '서비스']\n",
      "['전자상거래업 소프트웨어개발', '컴퓨터주변기기외', '컴퓨터및주변기기', '컴퓨터및주변기기', '소프트웨어개발공급및유지보수']\n"
     ]
    }
   ],
   "source": [
    "from soynlp.hangle import normalize\n",
    "\n",
    "business_type = [normalize(doc) for doc in business_type]\n",
    "business_field = [normalize(doc) for doc in business_field]\n",
    "print(business_type[:5])\n",
    "print(business_field[:5])"
   ]
  },
  {
   "cell_type": "markdown",
   "metadata": {},
   "source": [
    "Counter를 이용하여 빈도수가 높은 어절들을 확인해보자\n",
    "\n",
    "서비스외, 제조외 같이 -외로 끝나는 단어들이 있음. 동시에 오탈자들도 존재함"
   ]
  },
  {
   "cell_type": "code",
   "execution_count": 19,
   "metadata": {
    "ExecuteTime": {
     "end_time": "2018-03-08T08:17:44.162866Z",
     "start_time": "2018-03-08T08:17:44.147913Z"
    }
   },
   "outputs": [
    {
     "name": "stdout",
     "output_type": "stream",
     "text": [
      "num token in business type = 155\n",
      "       서비스\t\t7182\n",
      "        제조\t\t4298\n",
      "        세관\t\t3025\n",
      "       도소매\t\t2195\n",
      "      서비스외\t\t1155\n",
      "        도매\t\t1112\n",
      "        소매\t\t818\n",
      "       부동산\t\t815\n",
      "         외\t\t791\n",
      "       제조업\t\t767\n",
      "         도\t\t429\n",
      "        통신\t\t362\n",
      "    사업서비스외\t\t352\n",
      "       제조외\t\t309\n",
      "        건설\t\t297\n",
      "      운수관련\t\t249\n",
      "        운보\t\t223\n",
      "      서비스업\t\t208\n",
      "      도소매외\t\t196\n",
      "       건설업\t\t156\n",
      "       통신업\t\t144\n",
      "        운수\t\t119\n",
      "       도매업\t\t116\n",
      "       써비스\t\t113\n",
      "       소매외\t\t101\n",
      "       운수업\t\t100\n",
      "      부동산업\t\t83\n",
      "      통신업외\t\t83\n",
      "       소매업\t\t61\n",
      "     전기통신업\t\t61\n",
      "        보관\t\t55\n",
      "      전기가스\t\t51\n",
      "   운수관련서비스\t\t45\n",
      "       운보외\t\t44\n",
      "         및\t\t42\n",
      "       음숙외\t\t40\n",
      "     다단계판매\t\t39\n",
      "       도매외\t\t38\n",
      "   부동산업부동산\t\t37\n",
      "        음숙\t\t36\n",
      "      기타관련\t\t35\n",
      "     상품중개업\t\t34\n",
      "       건설외\t\t33\n",
      "      도소매업\t\t30\n",
      "      부동산외\t\t27\n",
      "      사업관련\t\t26\n",
      "         업\t\t26\n",
      "        농업\t\t26\n",
      "      제조업외\t\t25\n",
      "       비영리\t\t24\n"
     ]
    }
   ],
   "source": [
    "from collections import Counter\n",
    "\n",
    "business_type_tokens = Counter([token for doc in business_type for token in doc.split()])\n",
    "print('num token in business type = %d'%len(business_type_tokens))\n",
    "for token, freq in sorted(business_type_tokens.items(), key=lambda x:x[1], reverse=True)[:50]:\n",
    "    print(\"%10s\\t\\t%d\"%(token, freq))"
   ]
  },
  {
   "cell_type": "markdown",
   "metadata": {},
   "source": [
    "CohesionProbability를 학습"
   ]
  },
  {
   "cell_type": "code",
   "execution_count": 20,
   "metadata": {
    "ExecuteTime": {
     "end_time": "2018-03-08T08:17:44.461642Z",
     "start_time": "2018-03-08T08:17:44.408988Z"
    }
   },
   "outputs": [
    {
     "name": "stdout",
     "output_type": "stream",
     "text": [
      "\r",
      "inserting 0 sents... \r",
      "inserting 5000 sents... \r",
      "inserting 10000 sents... \r",
      "inserting 15000 sents... \r",
      "inserting subwords into L: done\n",
      "num subword = 356\n",
      "num subword = 229 (after pruning with min count 5)\n"
     ]
    }
   ],
   "source": [
    "cohesion.train(business_type)"
   ]
  },
  {
   "cell_type": "code",
   "execution_count": 21,
   "metadata": {
    "ExecuteTime": {
     "end_time": "2018-03-08T08:17:44.724973Z",
     "start_time": "2018-03-08T08:17:44.711695Z"
    }
   },
   "outputs": [
    {
     "name": "stdout",
     "output_type": "stream",
     "text": [
      "          단어\t\t(freq, cohesion_l, cohesion_r)\n",
      "--------------------------------------------------\n",
      "         서비스\t\t(8595, 0.998)\n",
      "          제조\t\t(5436, 0.998)\n",
      "          세관\t\t(3025, 1.000)\n",
      "         도소매\t\t(2439, 0.766)\n",
      "        서비스외\t\t(1155, 0.512)\n",
      "          도매\t\t(1277, 0.307)\n",
      "          소매\t\t( 980, 0.998)\n",
      "         부동산\t\t( 971, 1.000)\n",
      "         제조업\t\t( 808, 0.385)\n",
      "          통신\t\t( 603, 1.000)\n",
      "      사업서비스외\t\t( 352, 0.955)\n",
      "         제조외\t\t( 309, 0.238)\n",
      "          건설\t\t( 493, 0.998)\n",
      "        운수관련\t\t( 294, 0.710)\n",
      "          운보\t\t( 274, 0.334)\n",
      "        서비스업\t\t( 225, 0.297)\n",
      "        도소매외\t\t( 196, 0.361)\n",
      "         건설업\t\t( 160, 0.569)\n",
      "         통신업\t\t( 227, 0.614)\n",
      "          운수\t\t( 527, 0.643)\n",
      "         도매업\t\t( 117, 0.168)\n",
      "         써비스\t\t( 113, 1.000)\n",
      "         소매외\t\t( 101, 0.321)\n",
      "         운수업\t\t( 101, 0.351)\n",
      "        부동산업\t\t( 120, 0.498)\n",
      "        통신업외\t\t(  83, 0.516)\n",
      "         소매업\t\t(  61, 0.249)\n",
      "       전기통신업\t\t(  61, 0.859)\n",
      "          보관\t\t(  56, 0.903)\n",
      "        전기가스\t\t(  51, 0.769)\n",
      "     운수관련서비스\t\t(  45, 0.616)\n",
      "         운보외\t\t(  44, 0.232)\n",
      "         음숙외\t\t(  40, 0.623)\n",
      "       다단계판매\t\t(  39, 1.000)\n",
      "     부동산업부동산\t\t(  37, 0.580)\n",
      "          음숙\t\t(  76, 0.738)\n",
      "        기타관련\t\t(  35, 0.982)\n",
      "       상품중개업\t\t(  34, 1.000)\n",
      "         건설외\t\t(  33, 0.258)\n",
      "        도소매업\t\t(  30, 0.193)\n",
      "        부동산외\t\t(  27, 0.303)\n",
      "        사업관련\t\t(  33, 0.421)\n",
      "          농업\t\t(  26, 1.000)\n",
      "        제조업외\t\t(  25, 0.166)\n",
      "         비영리\t\t(  25, 1.000)\n",
      "       법무서비스\t\t(  24, 1.000)\n",
      "      서비스도소매\t\t(  23, 0.306)\n",
      "          서비\t\t(8624, 1.000)\n",
      "        자유직업\t\t(  21, 0.776)\n",
      "     자동차제조업등\t\t(  20, 0.874)\n",
      "         해운외\t\t(  19, 0.975)\n",
      "     식품제조가공업\t\t(  19, 1.000)\n",
      "       서비스업외\t\t(  17, 0.211)\n",
      "      도소매서비스\t\t(  17, 0.333)\n",
      "  도난방지기및감시장치\t\t(  17, 0.543)\n",
      "         금융업\t\t(  18, 0.548)\n",
      "     연구개발컨설팅\t\t(  16, 1.000)\n",
      "      사업서비스업\t\t(  16, 0.515)\n",
      "          음식\t\t(  26, 0.252)\n",
      "         유리및\t\t(  14, 0.707)\n",
      "        유리제품\t\t(  14, 0.794)\n",
      "         통신외\t\t(  14, 0.152)\n",
      "      금융및보험업\t\t(  14, 0.747)\n",
      "       사업서비스\t\t( 381, 0.963)\n",
      "        제조업도\t\t(  16, 0.143)\n",
      "        정보동신\t\t(  13, 0.953)\n",
      "          교육\t\t(  20, 1.000)\n",
      "          윤수\t\t(  12, 1.000)\n",
      "     금융보험서비스\t\t(  12, 0.765)\n",
      "        운수보관\t\t(  12, 0.245)\n",
      "        제조도매\t\t(  10, 0.122)\n",
      "      금융서비스외\t\t(  10, 0.699)\n",
      "         숙박업\t\t(  11, 0.920)\n",
      "       금융서비스\t\t(  14, 0.695)\n",
      "         운수관\t\t( 295, 0.600)\n",
      "          숙박\t\t(  12, 0.923)\n",
      "          의료\t\t(  11, 0.917)\n",
      "          금융\t\t(  60, 1.000)\n"
     ]
    }
   ],
   "source": [
    "print(\"%12s\\t\\t(freq, cohesion_l, cohesion_r)\\n%s\"%('단어', '-'*50))\n",
    "for token, freq in sorted(business_type_tokens.items(), key=lambda x:x[1], reverse=True):\n",
    "    cohesion_l = cohesion.get_cohesion(token)\n",
    "    freq = cohesion.L.get(token, 0)\n",
    "    \n",
    "    if cohesion_l < 0.1 or freq < 10 or len(token) == 1:\n",
    "        continue\n",
    "    print('%12s\\t\\t(%4d, %.3f)' % (token, freq, cohesion_l))"
   ]
  },
  {
   "cell_type": "markdown",
   "metadata": {},
   "source": [
    "초성/중성/종성을 분해하는 jamo_levenshtein을 이용하기 위해 string_distance에서 불러오자"
   ]
  },
  {
   "cell_type": "code",
   "execution_count": 22,
   "metadata": {
    "ExecuteTime": {
     "end_time": "2018-03-08T08:17:45.338583Z",
     "start_time": "2018-03-08T08:17:45.328689Z"
    }
   },
   "outputs": [
    {
     "data": {
      "text/plain": [
       "0.3333333333333333"
      ]
     },
     "execution_count": 22,
     "metadata": {},
     "output_type": "execute_result"
    }
   ],
   "source": [
    "from soynlp.hangle import jamo_levenshtein\n",
    "\n",
    "jamo_levenshtein('아니야', '아니얌')"
   ]
  },
  {
   "cell_type": "markdown",
   "metadata": {},
   "source": [
    "match함수는 주어진 token에 대해 현재까지 단어로 알려진 dict를 이용해, 길이가 2보다 긴 단어들의 조합으로 이뤄진 token을 분해함\n",
    "\n",
    "    {\n",
    "        '도소매' : 100,\n",
    "        '서비스' : 50,\n",
    "        '소매' : 30\n",
    "    }\n",
    "    \n",
    "이 알려진 dictionary일 경우, '도소매서비스판매'에 대해, 빈도수가 가장 높은 단어 '도소매'가 들어있기 때문에 token을 아래와 같이 변형함\n",
    "\n",
    "    '도소매서버스판매' --> '[도소매]서비스판매'\n",
    "    \n",
    "[, ]로 경계를 설정한 이유는 이후 '소매'라는 단어가\n",
    "\n",
    "    '[도소매]서비스판매' --> '[도[소매]]서비스판매'\n",
    "    \n",
    "처럼 변경될 것을 막기 위함임\n",
    "\n",
    "사전에 있는 모든 단어에 대해 확인이 끝나면, [, ]부분에 split()을 하여 token을 단어로 나눔. 이를 통해 여러 업태의 합성어로 이뤄진 업태를 토크나이징함"
   ]
  },
  {
   "cell_type": "code",
   "execution_count": 23,
   "metadata": {
    "ExecuteTime": {
     "end_time": "2018-03-08T08:17:45.946880Z",
     "start_time": "2018-03-08T08:17:45.916159Z"
    }
   },
   "outputs": [
    {
     "name": "stdout",
     "output_type": "stream",
     "text": [
      "도소매서비스판매 --> 도소매 서비스 판매\n",
      "금융서비스 --> 금융 서비스\n"
     ]
    }
   ],
   "source": [
    "def match(token, dictionary):\n",
    "    for word, _ in sorted(dictionary.items(), key=lambda x:x[1], reverse=True):\n",
    "        if (word in token) and ( ('[%s'%word in token) == False ) and ( ('%s]'%word in token) == False):\n",
    "            token = token.replace(word, '[%s]' % word)\n",
    "            \n",
    "    # 제조 서비스 업 -> 제조 서비스\n",
    "    token = token.replace('[', ']').replace(']]',']')\n",
    "    token = ' '.join([t for t in token.split(']') if len(t) >= 2])\n",
    "    return token.strip()\n",
    "\n",
    "for token in ['도소매서비스판매', '금융서비스']:\n",
    "    print('%s --> %s' % (token, match(token, {'도소매':100, '서비스':50, '소매':30})))"
   ]
  },
  {
   "cell_type": "markdown",
   "metadata": {},
   "source": [
    "find_similars함수는 dictionary에 들어있는 단어들 중에서 token과 jamo_leveshtein거리가 <= 0.5 이하인 단어를 찾는 함수임. 거리값은 1/3단위로 변하기 때문에 거리 <=0.5는 초/중/종성 중 하나 이상 다르지 않다는 것!!!을 기억해야 함\n",
    "\n",
    "dictionary 안에 두 개 이상으로 유사한 단어가 있다면 빈도수가 가장 높은 단어를 선택함. 만약 비슷한 단어가 없으면 None을 리턴함"
   ]
  },
  {
   "cell_type": "code",
   "execution_count": 24,
   "metadata": {
    "ExecuteTime": {
     "end_time": "2018-03-08T08:17:46.540463Z",
     "start_time": "2018-03-08T08:17:46.508424Z"
    }
   },
   "outputs": [
    {
     "name": "stdout",
     "output_type": "stream",
     "text": [
      "서비스\n",
      "None\n"
     ]
    }
   ],
   "source": [
    "def find_similars(token, dictionary):\n",
    "    if not dictionary:\n",
    "        return None\n",
    "    \n",
    "    similars = {word:jamo_levenshtein(token, word) for word in dictionary.keys()}\n",
    "    min_distance = min(similars.values())\n",
    "    if min_distance > 0.5:\n",
    "        return None\n",
    "    \n",
    "    similars = {word:dist for word, dist in similars.items() if dist == min_distance}\n",
    "    return sorted(similars.keys(), key=lambda x:dictionary.get(x, 0), reverse=True)[0]\n",
    "\n",
    "print(find_similars('써비스', {'서비스':100}))\n",
    "print(find_similars('자비스', {'서비스':100}))"
   ]
  },
  {
   "cell_type": "markdown",
   "metadata": {},
   "source": [
    "업태의 표현들을 제대로 된 단어들과 노이즈로 나누는 작업을 수행함\n",
    "\n",
    "business_type_dictionary = {}는 빈 dict로 시작하여, 제대로 된 단어들을 체울 것임.\n",
    "business_type_noisy = {}는 빈 dict로 시작하여, 노이즈들을 추가할 것임\n",
    "\n",
    "business_type_dictionary는 {단어:빈도수} 형태로 입력할 것임. business_type_noisy은 {오탈자:정자} 형태로 입력할 것임.  {'써비스', : '서비스'} 임\n",
    "\n",
    "passwords는 단어로 알려진 업태임. passwords = ['작업', '도매', '도소매', '금융']로 네 개의 단어만 알고 있다고 가정함\n",
    "\n",
    "    for password in passwords:\n",
    "        business_type_dictionary[password] = business_type_tokens[password]\n",
    "        \n",
    "correct_noise 함수는 tokens, dictionary, noisy, 세 가지 dict를 받아서, dictionary, noisy를 return해야 함\n",
    "\n",
    "correct_noise 함수는 token을 여섯가지 경우로 나눠서 생각함\n",
    "1. 길이가 1보다 작은 단어들로 제거\n",
    "2. \"서비스외 --> 서비스\"로 고치는 경우로, 뒤의 한 글자를 제외하면 이미 dictionary에 등록되어 있는 단어들임\n",
    "3. \"써비스업외 --> 서비스 + 업외\"처럼 나눠지는 경우로, 뒤의 두글자를 제외하면 단어가 dictionary에 등록되어 있지만, 뒤의 두글자는 등록이 되어있지 않는 경우\n",
    "4. \"도매서비스 --> 도매 + 서비스\"처럼 두 개 이상의 업태 단어가 합성된 경우. 앞의 match함수를 이용하여 띄어쓰기가 추가가 되면 이는 합성어로 판단하고 수정\n",
    "5. \"써비스 -> 서비스\"처럼 dictionary에 jamo_levenshtein 거리가 0.5 이하인 단어가 존재하는 경우. 이 때에는 dictionary에 존재하는 단어로 치환\n",
    "6. 그 외의 단어는 dictionary에 등록하여 다음 단어로 넘어감\n",
    "\n",
    "correct_noise함수는 주어진 tokens에 대하여 빈도수 기준으로 내림정렬을 하고, 빈도수가 높은 단어부터 위 경우 중 어떠한 경우에 해당하는지 살펴봄\n",
    "\n",
    "빈도수가 높은 단어부터 유사하거나 합성어가 아닌 경우, 올바른 단어로 추가하는 것임"
   ]
  },
  {
   "cell_type": "code",
   "execution_count": 25,
   "metadata": {
    "ExecuteTime": {
     "end_time": "2018-03-08T08:17:47.696385Z",
     "start_time": "2018-03-08T08:17:47.096270Z"
    }
   },
   "outputs": [
    {
     "name": "stdout",
     "output_type": "stream",
     "text": [
      "donein 155\n",
      "all tokens are parsed? True\n"
     ]
    }
   ],
   "source": [
    "import sys\n",
    "\n",
    "business_type_dictionary = {} # word: freq\n",
    "business_type_noisy = {} # noisy word to corrected word\n",
    "\n",
    "# exception\n",
    "passwords = ['소매', '도매', '도소매', '금융']\n",
    "for password in passwords:\n",
    "    business_type_dictionary[password] = business_type_tokens[password]\n",
    "\n",
    "def correct_noise(tokens, dictionary, noisy):\n",
    "    for num, (token, freq) in enumerate(sorted(tokens.items(), key=lambda x:x[1], reverse=True)):\n",
    "        if (num + 1) % 100 == 0:\n",
    "            sys.stdout.write('\\r%d in %d' % (num + 1, len(tokens)))\n",
    "        \n",
    "        if len(token) <= 1:\n",
    "            business_type_noisy[token] = ''\n",
    "            continue\n",
    "\n",
    "        # check 서비스외 = 서비스 + 외\n",
    "        if (token[:-1] in dictionary):\n",
    "            noisy[token] = token[:-1]\n",
    "            continue\n",
    "\n",
    "        # check 서비스업외 = 서비스 + 업외\n",
    "        if (len(token) > 2) and (token[:-2] in dictionary) and ((token[-2:] in dictionary) == False):\n",
    "            noisy[token] = token[:-2]\n",
    "            continue\n",
    "\n",
    "        # check 도매서비스 = 도매 + 서비스\n",
    "        matched_token = match(token, dictionary)\n",
    "        if ' ' in matched_token:\n",
    "            # check 운보써비스 -> [운보]써비스 -> [운보][서비스]\n",
    "            spells = [find_similars(token, business_type_dictionary) for token in matched_token.split()]\n",
    "            matched_token = ' '.join([s if s else m for m, s in zip(matched_token.split(), spells)])\n",
    "            noisy[token] = matched_token\n",
    "            continue\n",
    "\n",
    "        # check 써비스 -> 서비스\n",
    "        most_similar = find_similars(token, dictionary)\n",
    "        if (most_similar != None) and (most_similar != token):\n",
    "            noisy[token] = most_similar\n",
    "            continue\n",
    "\n",
    "        # Add token into dictionary\n",
    "        dictionary[token] = freq\n",
    "    \n",
    "    print('\\rdone')        \n",
    "    return dictionary, noisy\n",
    "\n",
    "\n",
    "business_type_dictionary, business_type_noisy = correct_noise(business_type_tokens, business_type_dictionary, business_type_noisy)\n",
    "print('all tokens are parsed?', len(business_type_dictionary) + len(business_type_noisy) == len(business_type_tokens))"
   ]
  },
  {
   "cell_type": "markdown",
   "metadata": {},
   "source": [
    "business_type_dictionary에 등록된 단어임. '음숙외'와 같은 단어가 사전에 들어있음. 이는 '음숙'이 36번으로 '음숙외'보다 덜 등장했기 때문임"
   ]
  },
  {
   "cell_type": "code",
   "execution_count": 26,
   "metadata": {
    "ExecuteTime": {
     "end_time": "2018-03-08T08:17:47.965141Z",
     "start_time": "2018-03-08T08:17:47.949644Z"
    }
   },
   "outputs": [
    {
     "name": "stdout",
     "output_type": "stream",
     "text": [
      "# 0:   ('서비스', 7182)\n",
      "# 1:   ('제조', 4298)\n",
      "# 2:   ('세관', 3025)\n",
      "# 3:   ('도소매', 2195)\n",
      "# 4:   ('도매', 1112)\n",
      "# 5:   ('소매', 818)\n",
      "# 6:   ('부동산', 815)\n",
      "# 7:   ('통신', 362)\n",
      "# 8:   ('건설', 297)\n",
      "# 9:   ('운수관련', 249)\n",
      "#10:   ('운보', 223)\n",
      "#11:   ('운수', 119)\n",
      "#12:   ('보관', 55)\n",
      "#13:   ('전기가스', 51)\n",
      "#14:   ('음숙외', 40)\n",
      "#15:   ('다단계판매', 39)\n",
      "#16:   ('음숙', 36)\n",
      "#17:   ('기타관련', 35)\n",
      "#18:   ('상품중개업', 34)\n",
      "#19:   ('사업관련', 26)\n",
      "#20:   ('농업', 26)\n",
      "#21:   ('비영리', 24)\n",
      "#22:   ('서비', 21)\n",
      "#23:   ('자유직업', 21)\n",
      "#24:   ('사회', 20)\n",
      "#25:   ('해운외', 19)\n",
      "#26:   ('운송', 19)\n",
      "#27:   ('도난방지기및감시장치', 17)\n",
      "#28:   ('연구개발컨설팅', 16)\n",
      "#29:   ('유리및', 14)\n",
      "#30:   ('유리제품', 14)\n",
      "#31:   ('정보동신', 13)\n",
      "#32:   ('교육', 13)\n",
      "#33:   ('작물재배', 9)\n",
      "#34:   ('의료학회', 8)\n",
      "#35:   ('사단법인', 8)\n",
      "#36:   ('출판', 8)\n",
      "#37:   ('숙박업', 7)\n",
      "#38:   ('음식업', 7)\n",
      "#39:   ('보건업', 5)\n",
      "#40:   ('학교', 5)\n",
      "#41:   ('자동자제외', 4)\n",
      "#42:   ('의료업', 2)\n",
      "#43:   ('데이터베이스', 2)\n",
      "#44:   ('판매', 2)\n",
      "#45:   ('정화조청소', 2)\n",
      "#46:   ('브랜드개발', 2)\n",
      "#47:   ('광고기획', 2)\n",
      "#48:   ('금융', 1)\n",
      "#49:   ('화물취급업', 1)\n",
      "#50:   ('소도매', 1)\n",
      "#51:   ('무선전화업', 1)\n",
      "#52:   ('제작', 1)\n",
      "#53:   ('해운업', 1)\n",
      "#54:   ('숙박', 1)\n",
      "#55:   ('의료', 1)\n",
      "#56:   ('건서업', 1)\n"
     ]
    }
   ],
   "source": [
    "result = (sorted(business_type_dictionary.items(), key=lambda x:x[1], reverse=True))\n",
    "for i, business_type in enumerate(result):\n",
    "    print(\"#%2d:  \"% i, business_type)"
   ]
  },
  {
   "cell_type": "markdown",
   "metadata": {},
   "source": [
    "business_type_noisy에 들어있는 단어들이 어떻게 오탈자가 수정되었는 확인\n",
    "\n",
    "    건설제조업건설서비스(1) -> 건설 제조 건설 서비스\n",
    "    \n",
    "처럼 여러 개의 합성어로 이뤄진 업태도 분해가 가능함"
   ]
  },
  {
   "cell_type": "code",
   "execution_count": 27,
   "metadata": {
    "ExecuteTime": {
     "end_time": "2018-03-08T08:17:48.906054Z",
     "start_time": "2018-03-08T08:17:48.894286Z"
    }
   },
   "outputs": [
    {
     "name": "stdout",
     "output_type": "stream",
     "text": [
      "      서비스외 (1155)\t-->\t서비스\n",
      "         외 (791)\t-->\t\n",
      "       제조업 (767)\t-->\t제조\n",
      "         도 (429)\t-->\t\n",
      "    사업서비스외 (352)\t-->\t사업 서비스\n",
      "       제조외 (309)\t-->\t제조\n",
      "      서비스업 (208)\t-->\t서비스\n",
      "      도소매외 (196)\t-->\t도소매\n",
      "       건설업 (156)\t-->\t건설\n",
      "       통신업 (144)\t-->\t통신\n",
      "       도매업 (116)\t-->\t도매\n",
      "       써비스 (113)\t-->\t서비스\n",
      "       소매외 (101)\t-->\t소매\n",
      "       운수업 (100)\t-->\t운수\n",
      "      부동산업 (83)\t-->\t부동산\n",
      "      통신업외 (83)\t-->\t통신\n",
      "       소매업 (61)\t-->\t소매\n",
      "     전기통신업 (61)\t-->\t전기 통신\n",
      "   운수관련서비스 (45)\t-->\t운수관련 서비스\n",
      "       운보외 (44)\t-->\t운보\n",
      "         및 (42)\t-->\t\n",
      "       도매외 (38)\t-->\t도매\n",
      "   부동산업부동산 (37)\t-->\t부동산 부동산\n",
      "       건설외 (33)\t-->\t건설\n",
      "      도소매업 (30)\t-->\t도소매\n",
      "      부동산외 (27)\t-->\t부동산\n",
      "         업 (26)\t-->\t\n",
      "      제조업외 (25)\t-->\t제조\n",
      "     법무서비스 (24)\t-->\t법무 서비스\n",
      "    서비스도소매 (23)\t-->\t서비스 도소매\n",
      "   자동차제조업등 (20)\t-->\t자동차 제조 업등\n",
      "   식품제조가공업 (19)\t-->\t식품 제조 가공업\n",
      "     서비스업외 (17)\t-->\t서비스\n",
      "    도소매서비스 (17)\t-->\t도소매 서비스\n",
      "       금융업 (16)\t-->\t금융\n",
      "    사업서비스업 (16)\t-->\t사업 서비스\n",
      "        음식 (15)\t-->\t음숙\n",
      "       통신외 (14)\t-->\t통신\n",
      "    금융및보험업 (14)\t-->\t금융 및보험업\n",
      "     사업서비스 (13)\t-->\t사업 서비스\n",
      "      제조업도 (13)\t-->\t제조\n",
      "        윤수 (12)\t-->\t운수\n",
      "   금융보험서비스 (12)\t-->\t금융 보험 서비스\n",
      "      운수보관 (12)\t-->\t운수 보관\n",
      "      제조도매 (10)\t-->\t제조 도매\n",
      "    금융서비스외 (10)\t-->\t금융 서비스\n",
      "    서비스도매업 (8)\t-->\t서비스 도매\n",
      "        제소 (8)\t-->\t제조\n",
      "    부동산임대업 (8)\t-->\t부동산 임대업\n",
      "       서비즈 (8)\t-->\t서비\n",
      "     제조서비스 (8)\t-->\t제조 서비스\n",
      "   사업관련서비스 (7)\t-->\t사업관련 서비스\n",
      "     운보써비스 (7)\t-->\t운보 서비스\n",
      "  도매및상품중개업 (5)\t-->\t도매 상품중개업\n",
      "         스 (5)\t-->\t\n",
      "    음식숙박업외 (4)\t-->\t음숙 숙박업\n",
      "      숙박업외 (4)\t-->\t숙박업\n",
      "     교육서비스 (4)\t-->\t교육 서비스\n",
      "      건설업외 (3)\t-->\t건설\n",
      "     금융서비스 (3)\t-->\t금융 서비스\n",
      "      학교법인 (3)\t-->\t학교\n",
      "     제조업도매 (3)\t-->\t제조 도매\n",
      "       건설도 (2)\t-->\t건설\n",
      "      기타금융 (2)\t-->\t기타 금융\n",
      "    도매및소매업 (2)\t-->\t도매 소매\n",
      "    교육서비스외 (2)\t-->\t교육 서비스\n",
      "    금융업서비스 (2)\t-->\t금융 서비스\n",
      "      서비스등 (1)\t-->\t서비스\n",
      "     의약품도매 (1)\t-->\t의약품 도매\n",
      "       교육서 (1)\t-->\t교육\n",
      "  도소매제조서비스 (1)\t-->\t도소매 제조 서비스\n",
      "     철도운송업 (1)\t-->\t철도 운송\n",
      "       보관업 (1)\t-->\t보관\n",
      "       운수관 (1)\t-->\t운수\n",
      "      운수업외 (1)\t-->\t운수\n",
      "         음 (1)\t-->\t\n",
      "         숙 (1)\t-->\t\n",
      "    서비스제조업 (1)\t-->\t서비스 제조\n",
      "       금융외 (1)\t-->\t금융\n",
      "     건설업도매 (1)\t-->\t건설 도매\n",
      "   비영리학술단체 (1)\t-->\t비영리 학술단체\n",
      "  제조도소매서비스 (1)\t-->\t제조 도소매 서비스\n",
      "      도매소매 (1)\t-->\t도매 소매\n",
      "        소배 (1)\t-->\t소매\n",
      "        보건 (1)\t-->\t보관\n",
      "    부동산서비스 (1)\t-->\t부동산 서비스\n",
      "        제도 (1)\t-->\t제조\n",
      "      도매업외 (1)\t-->\t도매\n",
      "     제조도소매 (1)\t-->\t제조 도소매\n",
      "      도매건설 (1)\t-->\t도매 건설\n",
      "    도매건설도매 (1)\t-->\t도매 건설 도매\n",
      "     제조건설업 (1)\t-->\t제조 건설\n",
      "    금융서비스업 (1)\t-->\t금융 서비스\n",
      "       학교외 (1)\t-->\t학교\n",
      "        지조 (1)\t-->\t제조\n",
      "건설제조업건설업서비스 (1)\t-->\t건설 제조 건설 서비스\n",
      "     사회서비스 (1)\t-->\t사회 서비스\n",
      "     회계서비스 (1)\t-->\t회계 서비스\n"
     ]
    }
   ],
   "source": [
    "for noisy_token, corrected in sorted(business_type_noisy.items(), key=lambda x:business_type_tokens.get(x[0], 0), reverse=True):\n",
    "    print('%10s (%d)\\t-->\\t%s' % (noisy_token, business_type_tokens[noisy_token], corrected))"
   ]
  },
  {
   "cell_type": "markdown",
   "metadata": {},
   "source": [
    "동일한 작업을 업종에 대해서도 수행"
   ]
  },
  {
   "cell_type": "code",
   "execution_count": 28,
   "metadata": {
    "ExecuteTime": {
     "end_time": "2018-03-08T08:18:27.549372Z",
     "start_time": "2018-03-08T08:17:49.593234Z"
    }
   },
   "outputs": [
    {
     "name": "stdout",
     "output_type": "stream",
     "text": [
      "done in 1237\n"
     ]
    }
   ],
   "source": [
    "business_field_tokens = Counter([token for doc in business_field for token in doc.split()])\n",
    "\n",
    "business_field_dictionary = {}\n",
    "business_field_noisy = {}\n",
    "\n",
    "passwords = ['소매', '도매','도소매', '금융']\n",
    "for password in passwords:\n",
    "    business_field_dictionary[password] = business_field_tokens[password]\n",
    "    \n",
    "business_field_dictionary, business_field_noisy = correct_noise(business_field_tokens, business_field_dictionary, business_field_noisy)"
   ]
  },
  {
   "cell_type": "code",
   "execution_count": 29,
   "metadata": {
    "ExecuteTime": {
     "end_time": "2018-03-08T08:18:36.893073Z",
     "start_time": "2018-03-08T08:18:36.888321Z"
    }
   },
   "outputs": [
    {
     "data": {
      "text/plain": [
       "[('서비스', 7182),\n",
       " ('제조', 4298),\n",
       " ('세관', 3025),\n",
       " ('도소매', 2195),\n",
       " ('도매', 1112),\n",
       " ('소매', 818),\n",
       " ('부동산', 815),\n",
       " ('통신', 362),\n",
       " ('건설', 297),\n",
       " ('운수관련', 249),\n",
       " ('운보', 223),\n",
       " ('운수', 119),\n",
       " ('보관', 55),\n",
       " ('전기가스', 51),\n",
       " ('음숙외', 40),\n",
       " ('다단계판매', 39),\n",
       " ('음숙', 36),\n",
       " ('기타관련', 35),\n",
       " ('상품중개업', 34),\n",
       " ('사업관련', 26),\n",
       " ('농업', 26),\n",
       " ('비영리', 24),\n",
       " ('서비', 21),\n",
       " ('자유직업', 21),\n",
       " ('사회', 20),\n",
       " ('해운외', 19),\n",
       " ('운송', 19),\n",
       " ('도난방지기및감시장치', 17),\n",
       " ('연구개발컨설팅', 16),\n",
       " ('유리및', 14),\n",
       " ('유리제품', 14),\n",
       " ('정보동신', 13),\n",
       " ('교육', 13),\n",
       " ('작물재배', 9),\n",
       " ('의료학회', 8),\n",
       " ('사단법인', 8),\n",
       " ('출판', 8),\n",
       " ('숙박업', 7),\n",
       " ('음식업', 7),\n",
       " ('보건업', 5),\n",
       " ('학교', 5),\n",
       " ('자동자제외', 4),\n",
       " ('의료업', 2),\n",
       " ('데이터베이스', 2),\n",
       " ('판매', 2),\n",
       " ('정화조청소', 2),\n",
       " ('브랜드개발', 2),\n",
       " ('광고기획', 2),\n",
       " ('금융', 1),\n",
       " ('화물취급업', 1),\n",
       " ('소도매', 1),\n",
       " ('무선전화업', 1),\n",
       " ('제작', 1),\n",
       " ('해운업', 1),\n",
       " ('숙박', 1),\n",
       " ('의료', 1),\n",
       " ('건서업', 1)]"
      ]
     },
     "execution_count": 29,
     "metadata": {},
     "output_type": "execute_result"
    }
   ],
   "source": [
    "sorted(business_type_dictionary.items(), key=lambda x:x[1], reverse=True)"
   ]
  },
  {
   "cell_type": "code",
   "execution_count": 30,
   "metadata": {
    "ExecuteTime": {
     "end_time": "2018-03-08T08:18:37.354098Z",
     "start_time": "2018-03-08T08:18:37.297034Z"
    }
   },
   "outputs": [
    {
     "name": "stdout",
     "output_type": "stream",
     "text": [
      "          다단계판매원 (188)\t -> \t다단계판매\n",
      "            화분임대 (184)\t -> \t화분 임대\n",
      "            광고선전 (114)\t -> \t광고\n",
      "      인쇄출판디자인기획외 (91)\t -> \t인쇄 출판 디자인 기획외\n",
      "  산업단지의개발조성및분양임대 (80)\t -> \t산업단지의개발조성및분양 임대\n",
      "           광고대행외 (75)\t -> \t광고대행\n",
      "       소프트웨어개발공급 (69)\t -> \t소프트웨어개발\n",
      "          개발및판매외 (67)\t -> \t개발 및판매외\n",
      "          다단계후원수 (65)\t -> \t다단계 후원수\n",
      "      소프트웨어개발및공급 (64)\t -> \t소프트웨어개발 및공급\n",
      "            컨설팅외 (62)\t -> \t컨설팅\n",
      "            수세미외 (60)\t -> \t수세미\n",
      "           의약품제조 (55)\t -> \t의약품\n",
      "    소프트웨어프로그램개발외 (54)\t -> \t소프트웨어 프로그램 개발\n",
      "           디지털인쇄 (53)\t -> \t디지털 인쇄\n",
      "        소프트웨어개발외 (52)\t -> \t소프트웨어개발\n",
      "          종합유선방송 (48)\t -> \t종합 유선 방송\n",
      "           옵셋인쇄외 (46)\t -> \t옵셋 인쇄\n",
      "         소프트웨어자문 (43)\t -> \t소프트웨어\n",
      "         다단계후원수당 (40)\t -> \t다단계 후원수당\n",
      "              전기 (37)\t -> \t전시\n",
      "          유선통신장비 (37)\t -> \t유선 통신장비\n",
      "          광고물제작외 (33)\t -> \t광고 제작\n",
      "          위탁대리판매 (33)\t -> \t위탁대리 판매\n",
      "            유선방송 (32)\t -> \t유선\n",
      "             인쇄외 (31)\t -> \t인쇄\n",
      "         기술검사서비스 (29)\t -> \t기술검사 서비스\n",
      "           주차장운영 (28)\t -> \t주차장\n",
      "            개발용역 (28)\t -> \t개발\n",
      "          원부자재무역 (28)\t -> \t원부자재 무역\n",
      "            프라스틱 (27)\t -> \t플라스틱\n",
      "            수탁판매 (24)\t -> \t수탁 판매\n",
      "         고무장갑생산외 (23)\t -> \t고무장갑 생산\n",
      "          인터넷서비스 (23)\t -> \t인터넷 서비스\n",
      "           통신장비외 (23)\t -> \t통신장비\n",
      "          플라스틱사출 (23)\t -> \t플라스틱\n",
      "        기술검사서비스외 (23)\t -> \t기술검사 서비스\n",
      "       화장품및의약품원료 (22)\t -> \t화장품 의약품 원료\n",
      "         컴퓨터주변기기 (21)\t -> \t컴퓨터 주변기기\n",
      "            교육연수 (21)\t -> \t교육\n",
      "           건어물가공 (21)\t -> \t건어물\n",
      "            무역업외 (21)\t -> \t무역\n",
      "          의류및직물외 (21)\t -> \t의료 및직물외\n",
      "          기타자유직업 (21)\t -> \t기타 자유직업\n",
      "           원료의약품 (20)\t -> \t원료 의약품\n",
      "           식품첨가물 (20)\t -> \t식품 첨가물\n",
      "             인쇄기 (20)\t -> \t인쇄\n",
      "   소프트웨어자문개발및공급외 (19)\t -> \t소프트웨어 자문 개발 및공급외\n",
      "         기타사업서비스 (19)\t -> \t기타 사업 서비스\n",
      "            광고기획 (19)\t -> \t광고 기획\n",
      "      광고제작및광고대행업 (19)\t -> \t광고 제작 광고대행\n",
      "     소프트웨어개발및공급외 (19)\t -> \t소프트웨어개발 및공급외\n",
      "             광고물 (19)\t -> \t광고\n",
      "          다단게판매원 (19)\t -> \t다단게 판매\n",
      "          전자상거래업 (18)\t -> \t전자상거래\n",
      "            상업인쇄 (18)\t -> \t상업 인쇄\n",
      "         승강기유지보수 (18)\t -> \t승강기 유지보수\n",
      "             출판외 (17)\t -> \t출판\n",
      "        프로젝터사업자문 (17)\t -> \t프로젝터사업 자문\n",
      "           별정통신외 (17)\t -> \t별정통신\n",
      "        신문및정기간행물 (16)\t -> \t신문 정기간행물\n",
      "           의약품원료 (16)\t -> \t의약품 원료\n",
      "          전산기및부품 (16)\t -> \t전산기 및부품\n",
      "            영상제작 (16)\t -> \t영상 제작\n",
      "          육류가공식품 (16)\t -> \t육류 가공식품\n",
      "          통신장비설치 (16)\t -> \t통신장비\n",
      "         금융업무대행외 (15)\t -> \t금융 업무대행외\n",
      "        정기간행물발행외 (15)\t -> \t정기간행물 발행외\n",
      "      광고대행및환경디자인 (15)\t -> \t광고대행 및환경 디자인\n",
      "         종합유선방송업 (15)\t -> \t종합 유선 방송업\n",
      "            제책업외 (15)\t -> \t제책업\n",
      "        온라인정보제공업 (14)\t -> \t온라인정보제공\n",
      "         알루미늄튜브외 (14)\t -> \t알루미늄 튜브\n",
      "         위생관리용역업 (14)\t -> \t위생관리 용역\n",
      "           광고대행업 (14)\t -> \t광고대행\n",
      "           신문보급소 (14)\t -> \t신문 보급소\n",
      "            일용잡화 (14)\t -> \t일용 잡화\n",
      "     전기안전관리대행및수리 (14)\t -> \t전기안전관리대행 및수리\n",
      "             커피외 (14)\t -> \t커피\n",
      "             컴튜터 (14)\t -> \t컴퓨터\n",
      "        패키지개발및판매 (14)\t -> \t패키지 개발 판매\n",
      "           기타임가공 (14)\t -> \t기타 임가공\n",
      "         학술연구용역외 (14)\t -> \t학술연구 용역\n",
      "   소프트웨어개발유통유지보수 (14)\t -> \t소프트웨어개발 유통 유지보수\n",
      "            도서출판 (14)\t -> \t도서 출판\n",
      "             무역업 (13)\t -> \t무역\n",
      "         서비스여행알선 (13)\t -> \t서비스 여행알선\n",
      "            신문발행 (13)\t -> \t신문\n",
      "          자문및공급외 (13)\t -> \t자문 공급\n",
      "        네트워크장비판매 (13)\t -> \t네트워크장비 판매\n",
      "           별정통신업 (13)\t -> \t별정통신\n",
      "        영상음반광고대행 (13)\t -> \t영상 음반 광고대행\n",
      "           개발판매및 (13)\t -> \t개발 판매\n",
      "           컨텐츠개발 (13)\t -> \t컨텐츠 개발\n",
      "         관련서비스업외 (13)\t -> \t관련 서비스 업외\n",
      "           냉난방기기 (13)\t -> \t냉난방기\n",
      "         종합유선방송외 (13)\t -> \t종합 유선 방송외\n",
      "           동영상제작 (13)\t -> \t동영상 제작\n",
      "         유선및위성방송 (13)\t -> \t유선 위성방송\n",
      "           근로자파견 (12)\t -> \t근로자 파견\n",
      "           노무서비스 (12)\t -> \t노무 서비스\n",
      "            사무가구 (12)\t -> \t사무 가구\n",
      "           전자금융외 (12)\t -> \t전자 금융\n",
      "       통신공사및유지보수 (12)\t -> \t통신공사및 유지보수\n",
      "    승강기및주차설비유지관리 (12)\t -> \t승강기 및주차설비유지관리\n",
      "          프로그램개발 (12)\t -> \t프로그램 개발\n",
      "        통신장비네트워크 (12)\t -> \t통신장비 네트워크\n",
      "            매트대여 (12)\t -> \t매트 대여\n",
      "           사업컨설팅 (12)\t -> \t사업 컨설팅\n",
      "            인력공급 (12)\t -> \t인력 공급\n",
      "             광고업 (11)\t -> \t광고\n",
      "           인터넷신문 (11)\t -> \t인터넷 신문\n",
      "           산업디자인 (11)\t -> \t산업 디자인\n",
      "          전자제품수리 (11)\t -> \t전자제품\n",
      "         화물운송대행외 (11)\t -> \t화물운송대행\n",
      "           부가통신업 (11)\t -> \t부가통신\n",
      "        소프트웨어자문외 (11)\t -> \t소프트웨어 자문\n",
      "            대행광고 (11)\t -> \t대행 광고\n",
      "           다단계후원 (11)\t -> \t다단계\n",
      "           경영컨설팅 (11)\t -> \t경영 컨설팅\n",
      "           통신판매외 (11)\t -> \t통신판매\n",
      "           번역및통역 (10)\t -> \t번역 통역\n",
      "    컴퓨터주변기유지및수리외 (10)\t -> \t컴퓨터 주변기유지및수리외\n",
      "        합성수지포장자재 (10)\t -> \t합성수지 포장자재\n",
      "          금융전산망외 (10)\t -> \t금융 전산망외\n",
      "      방송프로그램제작업외 (10)\t -> \t방송프로그램 제작 업외\n",
      "       아크릴광고물제작외 (10)\t -> \t아크릴 광고 제작\n",
      "          커피차외식품 (10)\t -> \t커피 차외 식품\n",
      "           건물관리외 (10)\t -> \t건물관리\n",
      "        서적및전자서적외 (9)\t -> \t서적 전자 서적\n",
      "          근로자파견업 (9)\t -> \t근로자 파견\n",
      "        일반철물및수공구 (9)\t -> \t일반 철물 및수공구\n",
      "            커피머신 (9)\t -> \t커피\n",
      "             문구류 (9)\t -> \t문구\n",
      "           가전제품외 (9)\t -> \t가전제품\n",
      "           한국어교육 (9)\t -> \t한국어 교육\n",
      "         실내인테리어외 (9)\t -> \t실내 인테리어\n",
      "        통신소프트웨어외 (9)\t -> \t통신 소프트웨어\n",
      "           개발및공급 (8)\t -> \t개발 공급\n",
      "      소프트웨어개발및용역 (8)\t -> \t소프트웨어개발 용역\n",
      "            교육훈련 (8)\t -> \t교육\n",
      "            광고전시 (8)\t -> \t광고 전시\n",
      "         행사장부스설치 (8)\t -> \t행사 장부스설치\n",
      "            운송하역 (8)\t -> \t운송 하역\n",
      "       홍보컨설팅및이벤트 (8)\t -> \t홍보 컨설팅 이벤트\n",
      "            경비용역 (8)\t -> \t경비 용역\n",
      "          광고물작성업 (8)\t -> \t광고 물작성업\n",
      "           유선방송외 (8)\t -> \t유선 방송외\n",
      "            인력교육 (8)\t -> \t인력 교육\n",
      "         전기전자기기외 (8)\t -> \t전기 전자기기\n",
      "          평생교육시설 (8)\t -> \t평생 교육 시설\n",
      "      기업경영자문및서비스 (8)\t -> \t기업 경영자문 서비스\n",
      "        전문인력채용자문 (8)\t -> \t전문인력채용 자문\n",
      "        가스제조및공급업 (8)\t -> \t가스제조및 공급\n",
      "           사무용가구 (8)\t -> \t사무용 가구\n",
      "       유선프로그램광고업 (8)\t -> \t유선 프로그램 광고\n",
      "    전자상거래관련인증서비스 (7)\t -> \t전자상거래 관련인증 서비스\n",
      "            기타도급 (7)\t -> \t기타\n",
      "          그래픽디자인 (7)\t -> \t그래픽 디자인\n",
      "             광고외 (7)\t -> \t광고\n",
      "            경기단체 (7)\t -> \t경기 단체\n",
      "        유선및위성방송외 (7)\t -> \t유선 및위성 방송외\n",
      "             임대외 (7)\t -> \t임대\n",
      "          위험물보관외 (7)\t -> \t위험물보관\n",
      "       온라인교육서비스외 (7)\t -> \t온라인 교육 서비스\n",
      "           교육정보화 (7)\t -> \t교육 정보화\n",
      "       인력공급및고용알선 (7)\t -> \t인력 공급 고용알선\n",
      "        소프트웨어개발및 (7)\t -> \t소프트웨어개발\n",
      "            신문출판 (6)\t -> \t신문 출판\n",
      "             출판업 (6)\t -> \t출판\n",
      "           무인경비외 (6)\t -> \t무인 경비외\n",
      "        방송프로그램제작 (6)\t -> \t방송프로그램 제작\n",
      "          유아이디자인 (6)\t -> \t유아이 디자인\n",
      "           디자인용역 (6)\t -> \t디자인 용역\n",
      "          실내인테리어 (6)\t -> \t실내 인테리어\n",
      "          통역장비임대 (6)\t -> \t통역 장비 임대\n",
      "         가방및피혁제품 (6)\t -> \t가방 및피혁제품\n",
      "          식물성유지류 (6)\t -> \t식물성 유지\n",
      "      전자상거래관련인증외 (6)\t -> \t전자상거래 관련인증외\n",
      "            전자부품 (6)\t -> \t전자\n",
      "            출판업외 (6)\t -> \t출판\n",
      "          사무용기기외 (6)\t -> \t사무용기기\n",
      "          콘텐츠유통외 (6)\t -> \t콘텐츠 유통\n",
      "        유선통신설비임대 (6)\t -> \t유선 통신설비 임대\n",
      "           물류서비스 (6)\t -> \t물류 서비스\n",
      "            건강식품 (6)\t -> \t건강 식품\n",
      "          개발및공급외 (5)\t -> \t개발 공급\n",
      "          과학기기오파 (5)\t -> \t과학기기 오파\n",
      "   가정용플라스틱일반성형제품 (5)\t -> \t가정용 플라스틱 일반성형제품\n",
      "        산업용에어필터외 (5)\t -> \t산업 용에어필터외\n",
      "            탄산가스 (5)\t -> \t탄산 가스\n",
      "           승강기검사 (5)\t -> \t승강기\n",
      "           외국어교육 (5)\t -> \t외국어 교육\n",
      "           시장조사외 (5)\t -> \t시장조사\n",
      "             인쇄물 (5)\t -> \t인쇄\n",
      "           사무기기외 (5)\t -> \t사무기기\n",
      "        인터넷정보서비스 (5)\t -> \t인터넷 정보 서비스\n",
      "            일간신문 (5)\t -> \t일간 신문\n",
      "              휘장 (5)\t -> \t화장\n",
      "           연구용역외 (5)\t -> \t연구 용역\n",
      "       주방용품기기및잡화 (5)\t -> \t주방용품기기및 잡화\n",
      "      소프트웨어개발공급외 (5)\t -> \t소프트웨어개발 공급\n",
      "       화물취급장비수리외 (5)\t -> \t화물 취급장비 수리외\n",
      "            화물운송 (5)\t -> \t화물\n",
      "            신문판매 (5)\t -> \t신문 판매\n",
      "           광고물제작 (5)\t -> \t광고 제작\n",
      "         자동차관련교육 (5)\t -> \t자동차관련 교육\n",
      "            광고제작 (5)\t -> \t광고 제작\n",
      "          임대시설운영 (5)\t -> \t임대 시설운영\n",
      "           통신판매업 (5)\t -> \t통신판매\n",
      "             세무서 (5)\t -> \t세무사\n",
      "      지주회사경영상담업외 (5)\t -> \t지주회사 경영상담 업외\n",
      "          전기통신자재 (4)\t -> \t전기 통신 자재\n",
      "            고압가스 (4)\t -> \t고압 가스\n",
      "           조경공사업 (4)\t -> \t조경공사\n",
      "          기계식주차장 (4)\t -> \t기계식 주차장\n",
      "          교육서비스외 (4)\t -> \t교육 서비스\n",
      "          간판및광고물 (4)\t -> \t간판및 광고\n",
      "            교육자료 (4)\t -> \t교육\n",
      "       컴퓨터및주변기기외 (4)\t -> \t컴퓨터및주변기기\n",
      "          각종업무용역 (4)\t -> \t각종업무 용역\n",
      "       사업경영및관리자문 (4)\t -> \t사업경영및관리 자문\n",
      "       옵셋인쇄제판및조판 (4)\t -> \t옵셋 인쇄 제판및조판\n",
      "           차량렌탈외 (4)\t -> \t차량렌탈\n",
      "          카다로그제작 (4)\t -> \t카다로그 제작\n",
      "      사업경영및관리자문외 (4)\t -> \t사업경영및관리 자문\n",
      "           교육컨설팅 (4)\t -> \t교육 컨설팅\n",
      "           화장품용기 (4)\t -> \t화장품\n",
      "           의료기기외 (4)\t -> \t의료기기\n",
      "           컴퓨터관련 (4)\t -> \t컴퓨터\n",
      "             용역외 (4)\t -> \t용역\n",
      "            금융기기 (4)\t -> \t금융\n",
      "          아이티컨설팅 (4)\t -> \t아이티 컨설팅\n",
      "        교육컨설팅및자문 (4)\t -> \t교육 컨설팅 자문\n",
      "           행사대행업 (4)\t -> \t행사대행\n",
      "       시장조사및여론조사 (4)\t -> \t시장조사 여론조사\n",
      "            판촉용역 (4)\t -> \t판촉 용역\n",
      "           교육서비스 (4)\t -> \t교육 서비스\n",
      "           공연전시외 (4)\t -> \t공연 전시\n",
      "            공장임대 (4)\t -> \t공장 임대\n",
      "       시설물유지관리공사 (4)\t -> \t시설물 유지 관리공사\n",
      "         구축및컨설팅외 (3)\t -> \t구축및 컨설팅\n",
      "        플라스틱강화제품 (3)\t -> \t플라스틱 강화제품\n",
      "           신문발행업 (3)\t -> \t신문 발행업\n",
      "           연구개발외 (3)\t -> \t연구 개발\n",
      "          정수장치설치 (3)\t -> \t정수장치\n",
      "            의약품외 (3)\t -> \t의약품\n",
      "         인터넷의료정보 (3)\t -> \t인터넷 의료정보\n",
      "          이화학기기외 (3)\t -> \t이화학기구외\n",
      "           출판물발행 (3)\t -> \t출판 물발행\n",
      "            서비스업 (3)\t -> \t서비스\n",
      "         정기간행물발행 (3)\t -> \t정기간행물\n",
      "              유류 (3)\t -> \t의류\n",
      "           시설대여업 (3)\t -> \t시설 대여\n"
     ]
    },
    {
     "name": "stdout",
     "output_type": "stream",
     "text": [
      "         국제회의기획외 (3)\t -> \t국제회의 기획\n",
      "          판촉물잡자재 (3)\t -> \t판촉물 잡자재\n",
      "           유선방송업 (3)\t -> \t유선 방송업\n",
      "           기업컨설팅 (3)\t -> \t기업 컨설팅\n",
      "            어학서적 (3)\t -> \t어학 서적\n",
      "         산업용인쇄기기 (3)\t -> \t산업 인쇄 기기\n",
      "             인테넷 (3)\t -> \t인터넷\n",
      "         가전생활용품외 (3)\t -> \t가전생활용품\n",
      "       방송채널사용사업외 (3)\t -> \t방송채널사용사업\n",
      "            조명기구 (3)\t -> \t조명기기\n",
      "           출판물판매 (3)\t -> \t출판 판매\n",
      "           자문및개발 (3)\t -> \t자문 개발\n",
      "           금융전산망 (3)\t -> \t금융 전산망\n",
      "          경영컨설팅외 (3)\t -> \t경영 컨설팅\n",
      "          홈페이지제작 (3)\t -> \t홈페이지 제작\n",
      "            행사기획 (3)\t -> \t행사 기획\n",
      "            교육사업 (3)\t -> \t교육\n",
      "         전기통신공사외 (3)\t -> \t전기통신공사\n",
      "            시계제작 (3)\t -> \t시계 제작\n",
      "            컴퓨터및 (3)\t -> \t컴퓨터\n",
      "           가스수리업 (3)\t -> \t가스 수리\n",
      "          냉난방기기외 (3)\t -> \t냉난방기\n",
      "          자전거부품외 (3)\t -> \t자전거 부품\n",
      "            병원홍보 (3)\t -> \t병원 홍보\n",
      "           마케팅대행 (3)\t -> \t마케팅\n",
      "       가정용플라스틱제품 (3)\t -> \t가정용 플라스틱 제품\n",
      "유선통신장치무선통신방송및응용장치 (3)\t -> \t유선 통신 장치무선 통신 방송및응용장치\n",
      "             통신판 (3)\t -> \t통신\n",
      "             은행업 (3)\t -> \t은행\n",
      "       자전거및자전거부품 (3)\t -> \t자전거 자전거 부품\n",
      "           인터넷정보 (3)\t -> \t인터넷\n",
      "             쌀엿외 (3)\t -> \t쌀엿\n",
      "       항공및육상화물취급 (3)\t -> \t항공및육상 화물 취급\n",
      " 정보처리및기타컴퓨터운용관련업 (3)\t -> \t정보처리 기타 컴퓨터 운용관련업\n",
      "          사회교육시설 (3)\t -> \t사회 교육 시설\n",
      "       의학분야연구개발외 (2)\t -> \t의학분야 연구 개발\n",
      "            대리운전 (2)\t -> \t대리\n",
      "           합성수지외 (2)\t -> \t합성수지\n",
      "       생물학연구개발업외 (2)\t -> \t생물학 연구 개발 업외\n",
      "             양약외 (2)\t -> \t양약\n",
      "             서적및 (2)\t -> \t서적\n",
      "   아웃소싱근로자파견고용알선 (2)\t -> \t아웃소싱 근로자 파견 고용알선\n",
      "         승용자동차임대 (2)\t -> \t승용자동차 임대\n",
      "           포장기제작 (2)\t -> \t포장기 제작\n",
      "        전시및행사대행업 (2)\t -> \t전시 행사대행\n",
      "            도서판매 (2)\t -> \t도서 판매\n",
      "           인사컨설팅 (2)\t -> \t인사 컨설팅\n",
      "             신문외 (2)\t -> \t신문\n",
      "           신문발행외 (2)\t -> \t신문 발행외\n",
      "             통신기 (2)\t -> \t통신\n",
      "             전대외 (2)\t -> \t전대\n",
      "       자문및개발교육훈련 (2)\t -> \t자문 개발 교육 훈련\n",
      "의료전문인력양성교육프로그램기관 (2)\t -> \t의료전문인력양성 교육 프로그램기관\n",
      "           보안장비외 (2)\t -> \t보안장비\n",
      "          개인휴대통신 (2)\t -> \t개인휴대 통신\n",
      "           전문디자인 (2)\t -> \t전문 디자인\n",
      "           전기제품외 (2)\t -> \t전기제품\n",
      "          직업정보제공 (2)\t -> \t직업 정보제공\n",
      "  경영컨설팅및전문인력채용상담 (2)\t -> \t경영 컨설팅 및전문인력채용상담\n",
      "           서비스교육 (2)\t -> \t서비스 교육\n",
      "         교육및기술지도 (2)\t -> \t교육 및기술지도\n",
      "           정보처리외 (2)\t -> \t정보처리\n",
      "         파워포인트제작 (2)\t -> \t파워포인트 제작\n",
      "         기술용역및연구 (2)\t -> \t기술 용역 연구\n",
      "             전시회 (2)\t -> \t전시\n",
      "           관광호텔외 (2)\t -> \t관광호텔\n",
      "           콘텐츠유통 (2)\t -> \t콘텐츠 유통\n",
      "           저작물대리 (2)\t -> \t저작물 대리\n",
      "            광고사진 (2)\t -> \t광고 사진\n",
      "             개발외 (2)\t -> \t개발\n",
      "           경영상담업 (2)\t -> \t경영상담\n",
      "           영상물제작 (2)\t -> \t영상물 제작\n",
      "             촬영외 (2)\t -> \t촬영\n",
      "       자연과학연구개발업 (2)\t -> \t자연과학 연구 개발\n",
      "           가공식품외 (2)\t -> \t가공식품\n",
      "         온라인리크루팅 (2)\t -> \t온라인 리크루팅\n",
      "           광고디자인 (2)\t -> \t광고 디자인\n",
      "           식자재판매 (2)\t -> \t식자 재판\n",
      "           학원경영외 (2)\t -> \t학원 경영외\n",
      "           잡화수출입 (2)\t -> \t잡화 수출\n",
      "           캐릭터개발 (2)\t -> \t캐릭터 개발\n",
      "          위탁교육대행 (2)\t -> \t위탁 교육 대행\n",
      "          컴퓨터서버등 (2)\t -> \t컴퓨터 서버등\n",
      "        소프트웨어임대외 (2)\t -> \t소프트웨어 임대\n",
      "            옥외광고 (2)\t -> \t옥외 광고\n",
      "        상하수도설비공사 (2)\t -> \t상하수도설비 공사\n",
      "            출판도서 (2)\t -> \t출판\n",
      "            생활잡화 (2)\t -> \t생활 잡화\n",
      "            잡화류외 (2)\t -> \t잡화\n",
      "           공연기획외 (2)\t -> \t공연 기획\n",
      "            전시부스 (2)\t -> \t전시\n",
      "           잡지출판업 (2)\t -> \t잡지 출판\n",
      "         농축산물가공품 (2)\t -> \t축산 가공\n",
      "         인력공급및파견 (2)\t -> \t인력 공급 파견\n",
      "          다단계판매업 (2)\t -> \t다단계판매\n",
      "           취장기치물 (2)\t -> \t취장 기치물\n",
      "             전시및 (2)\t -> \t전시\n",
      "        인터넷정보제공외 (2)\t -> \t인터넷정보제공\n",
      "              카피 (2)\t -> \t커피\n",
      "          패션디자인업 (2)\t -> \t패션 디자인\n",
      "      상품전시및행사대행업 (2)\t -> \t상품 전시 행사대행\n",
      "        비디오및영화제작 (2)\t -> \t비디오및영화 제작\n",
      "       통역및음향영상장비 (2)\t -> \t통역 및음향 영상장비\n",
      "  소프트웨어개발공급및유지보수 (1)\t -> \t소프트웨어개발 공급 유지보수\n",
      "          입찰정보제공 (1)\t -> \t입찰 정보제공\n",
      "         소프트개발판매 (1)\t -> \t소프트 개발 판매\n",
      "       다국어번역서비스외 (1)\t -> \t다국어 번역 서비스\n",
      "         연구및개발업등 (1)\t -> \t연구 개발 업등\n",
      "            필터오파 (1)\t -> \t필터 오파\n",
      "   소프트웨어자문개발및공급업 (1)\t -> \t소프트웨어 자문 개발 공급\n",
      "          식품첨가물외 (1)\t -> \t식품 첨가물외\n",
      "            연구용역 (1)\t -> \t연구 용역\n",
      "           양중기검사 (1)\t -> \t양중기 검사\n",
      "          정기간행물외 (1)\t -> \t정기간행물\n",
      "          전자측정기기 (1)\t -> \t전자 측정기기\n",
      "          신약개발연구 (1)\t -> \t신약 개발 연구\n",
      "           농기계부품 (1)\t -> \t농기계 부품\n",
      "           인쇄물제작 (1)\t -> \t인쇄 제작\n",
      "           인쇄물출판 (1)\t -> \t인쇄 출판\n",
      "            변호사외 (1)\t -> \t변호사\n",
      "            설비공사 (1)\t -> \t서비 공사\n",
      "            방송제작 (1)\t -> \t방송 제작\n",
      "           인터넷교육 (1)\t -> \t인터넷 교육\n",
      "         승용차종차임대 (1)\t -> \t승용차종차 임대\n",
      "           광고물작성 (1)\t -> \t광고 물작성\n",
      "            기타광고 (1)\t -> \t기타 광고\n",
      "           장비임대외 (1)\t -> \t장비 임대\n",
      "        수출입화물보관외 (1)\t -> \t수출 화물 보관외\n",
      "           커피기기및 (1)\t -> \t커피 기기및\n",
      "          이벤트기획외 (1)\t -> \t이벤트 기획\n",
      "       생활위생품임가공외 (1)\t -> \t생활위생품임 가공\n",
      "            단체급식 (1)\t -> \t단체\n",
      "            창고업외 (1)\t -> \t창고\n",
      "             유지및 (1)\t -> \t유지\n",
      "          위탁교육훈련 (1)\t -> \t위탁 교육 훈련\n",
      "         신문출판광고외 (1)\t -> \t신문 출판 광고\n",
      "       신문및정기간행물외 (1)\t -> \t신문 정기간행물\n",
      "          인터넷광고외 (1)\t -> \t인터넷 광고\n",
      "           수출품검사 (1)\t -> \t수출 검사\n",
      "          기술검사서비 (1)\t -> \t기술검사 서비\n",
      "       유선방송프로그램외 (1)\t -> \t유선 방송프로그램외\n",
      "         운동시설운영회 (1)\t -> \t운동시설운영\n",
      "      인터넷관련교육세미나 (1)\t -> \t인터넷 관련 교육 세미나\n",
      "            모타수리 (1)\t -> \t모타 수리\n",
      "            도소매업 (1)\t -> \t도소매\n",
      "        전기전자제품부품 (1)\t -> \t전기 전자제품 부품\n",
      "           사회서비스 (1)\t -> \t사회 서비스\n",
      "          안전검사대행 (1)\t -> \t안전 검사대행\n",
      "           부동산임대 (1)\t -> \t부동산 임대\n",
      "             개발업 (1)\t -> \t개발\n",
      "           브랜드개발 (1)\t -> \t브랜드 개발\n",
      "            기술용역 (1)\t -> \t기술 용역\n",
      "        콤프렛서관련기기 (1)\t -> \t콤프렛서 관련기기\n",
      "              사업 (1)\t -> \t산업\n",
      "        온라인교육세미나 (1)\t -> \t온라인 교육 세미나\n",
      "              창호 (1)\t -> \t창고\n",
      "          통신기기대여 (1)\t -> \t통신기기 대여\n",
      "          운송주선업외 (1)\t -> \t운송 주선업\n",
      "           창고보관업 (1)\t -> \t창고보관\n",
      "            연구개발 (1)\t -> \t연구 개발\n",
      "          학술연구용역 (1)\t -> \t학술 연구 용역\n",
      "           관광호텔업 (1)\t -> \t관광호텔\n",
      "            시공수리 (1)\t -> \t시공 수리\n",
      "            건출자재 (1)\t -> \t건축자재\n",
      "             잡화류 (1)\t -> \t잡화\n",
      "         기업교육컨설팅 (1)\t -> \t기업 교육 컨설팅\n",
      "       디지털컨텐츠개발및 (1)\t -> \t디지털 컨텐츠 개발\n",
      "            기타출판 (1)\t -> \t기타 출판\n",
      "             은행외 (1)\t -> \t은행\n",
      "           출판발행외 (1)\t -> \t출판 발행외\n",
      "             커피머 (1)\t -> \t커피\n",
      "       식물성유지및조미료 (1)\t -> \t식물성 유지 조미료\n",
      "          디자인제작외 (1)\t -> \t디자인 제작\n",
      "       전산기임대및판매외 (1)\t -> \t전산기 임대 판매\n",
      "            광고물외 (1)\t -> \t광고\n",
      "      자전거및저전거부품외 (1)\t -> \t자전거 및저전거 부품\n",
      "          주택수도수리 (1)\t -> \t주택수도 수리\n",
      "           디자인기획 (1)\t -> \t디자인 기획\n",
      "            학술활동 (1)\t -> \t학술\n",
      "          만화영화제작 (1)\t -> \t만화영화 제작\n",
      "         화물운송보관어 (1)\t -> \t화물 운송 보관\n",
      "           생활잡화외 (1)\t -> \t생활 잡화\n",
      "           광고물기획 (1)\t -> \t광고 기획\n",
      "           하수도수리 (1)\t -> \t하수도 수리\n",
      "           직업소개외 (1)\t -> \t직업소개\n",
      "        전자제품직특판업 (1)\t -> \t전자제품 특판\n",
      "           경영자문외 (1)\t -> \t경영자문\n",
      "            촬영편집 (1)\t -> \t촬영 편집\n",
      "        교육정보화사업외 (1)\t -> \t교육 정보화사업외\n",
      "           광고기획및 (1)\t -> \t광고 기획\n",
      "      광고기획및광고제작물 (1)\t -> \t광고 기획 광고 제작\n",
      "         인력개발사업외 (1)\t -> \t인력 개발 사업외\n",
      "          행사용품대여 (1)\t -> \t행사 용품 대여\n",
      "           출판서적외 (1)\t -> \t출판 서적\n",
      "           디지철인쇄 (1)\t -> \t디지철 인쇄\n",
      "         기타사업스비스 (1)\t -> \t기타 사업스비스\n",
      "       소프트웨어프로그램 (1)\t -> \t소프트웨어 프로그램\n",
      "          건설전기공사 (1)\t -> \t건설 전기공사\n",
      "           자문및교육 (1)\t -> \t자문 교육\n",
      "             자문및 (1)\t -> \t자문\n",
      "       기술용역및연구용역 (1)\t -> \t기술 용역 연구 용역\n",
      "            잡철공사 (1)\t -> \t잡철 공사\n",
      "            서적출판 (1)\t -> \t서적 출판\n",
      "            리서치외 (1)\t -> \t리서치\n",
      "           골프용품외 (1)\t -> \t골프용품\n",
      "            이벤트외 (1)\t -> \t이벤트\n",
      "       프로그램개발판매및 (1)\t -> \t프로그램 개발 판매\n",
      "             자문외 (1)\t -> \t자문\n",
      "         전자기기개발외 (1)\t -> \t전자기기 개발\n",
      "          고급음식점외 (1)\t -> \t고급음식점\n",
      "         컴퓨터및주변기 (1)\t -> \t컴퓨터 및주변기\n",
      "           이사짐센터 (1)\t -> \t이사짐센타\n",
      "           일반여행업 (1)\t -> \t일반 여행업\n",
      "             렌트가 (1)\t -> \t렌트카\n",
      "           타이어튜브 (1)\t -> \t타이어 튜브\n",
      "            차량부품 (1)\t -> \t차량 부품\n",
      "            안전검사 (1)\t -> \t안전 검사\n",
      "          국제운송주선 (1)\t -> \t국제 운송 주선\n",
      "            보통창고 (1)\t -> \t보통 창고\n",
      "            보세창고 (1)\t -> \t보세 창고\n",
      "            위탁교육 (1)\t -> \t위탁 교육\n",
      "            사진제판 (1)\t -> \t사진\n",
      "         방송장비유지및 (1)\t -> \t방송장비 유지\n",
      "        컴퓨터기억장치외 (1)\t -> \t컴퓨터 기억장치외\n",
      "            전시용역 (1)\t -> \t전시 용역\n",
      "         교육정보제공업 (1)\t -> \t교육 정보제공\n",
      "              서점 (1)\t -> \t서적\n",
      "            여행중개 (1)\t -> \t여행 중개\n",
      "           판촉인쇄물 (1)\t -> \t판촉 인쇄\n",
      "           자동문설치 (1)\t -> \t자동문\n",
      "              강사 (1)\t -> \t공사\n",
      "        학술기술연구용역 (1)\t -> \t학술 기술 연구 용역\n",
      "           기초화홥물 (1)\t -> \t기초화합물\n",
      "           설비자문외 (1)\t -> \t서비 자문\n",
      "             신문및 (1)\t -> \t신문\n",
      "          실내건축공사 (1)\t -> \t실내건축 공사\n",
      "   소프트웨어개발판매및컨설팅 (1)\t -> \t소프트웨어개발 판매 컨설팅\n",
      "  방송수신기및기타영상음향기기 (1)\t -> \t방송수신기및 기타 영상 음향기기\n",
      "              생선 (1)\t -> \t생산\n",
      "           아크릴가공 (1)\t -> \t아크릴 가공\n",
      "          인테리어소품 (1)\t -> \t인테리어\n",
      "     냉난방인테리어건축자재 (1)\t -> \t냉난방 인테리어 건축자재\n",
      "    냉난방기인테리어건축자재 (1)\t -> \t냉난방기 인테리어 건축자재\n",
      "       농축산물가공판매외 (1)\t -> \t축산 가공 판매\n",
      "             조명등 (1)\t -> \t조명\n",
      "            간판재료 (1)\t -> \t간판\n",
      "            샷다제조 (1)\t -> \t샷다 제조\n",
      "          수입식품판매 (1)\t -> \t수입 식품 판매\n",
      "           정보서비스 (1)\t -> \t정보 서비스\n",
      "              지류 (1)\t -> \t지로\n",
      "     전자제품및의료기기수리 (1)\t -> \t전자제품 의료기기 수리\n",
      "       프리젠테이션디자인 (1)\t -> \t프리젠테이션 디자인\n",
      "         인터넷경력관리 (1)\t -> \t인터넷 경력관리\n",
      "          직업소개사업 (1)\t -> \t직업소개\n",
      "           개발공급외 (1)\t -> \t개발 공급\n",
      "             간행물 (1)\t -> \t간행\n",
      "           전시부스외 (1)\t -> \t전시 부스외\n",
      "          사업경영상담 (1)\t -> \t사업 경영상담\n",
      "            중기부품 (1)\t -> \t중기 부품\n",
      "            중기수리 (1)\t -> \t중기 수리\n",
      "       인터넷정보통신제공 (1)\t -> \t인터넷 정보동신 제공\n",
      "     신용조사및신용정보조회 (1)\t -> \t신용조사및 신용정보조회\n",
      "           개발무역업 (1)\t -> \t개발 무역\n",
      "            외국서적 (1)\t -> \t외국 서적\n",
      "         비디오제작녹화 (1)\t -> \t비디오 제작 녹화\n",
      "          성능컨설팅및 (1)\t -> \t성능 컨설팅\n",
      "            의료기구 (1)\t -> \t의료기기\n",
      "          종합물품임대 (1)\t -> \t종합물품 임대\n",
      "        인테리어디자인외 (1)\t -> \t인테리어 디자인\n",
      "          부가통신사업 (1)\t -> \t부가통신\n",
      "            자전제품 (1)\t -> \t가전제품\n",
      "           경여교육및 (1)\t -> \t경여 교육\n",
      "            신호경비 (1)\t -> \t신호 경비\n",
      "          산학협력단외 (1)\t -> \t산학협력단\n",
      "           방송교육외 (1)\t -> \t방송 교육\n",
      "             개발및 (1)\t -> \t개발\n",
      "       기업체위탁교육강의 (1)\t -> \t기업체위탁 교육 강의\n",
      "           판촉기치물 (1)\t -> \t판촉 기치물\n",
      "         통역및음향장비 (1)\t -> \t통역 음향 장비\n",
      "창호공사철물공사창호샷시철물도장공사건물보수유지 (1)\t -> \t창호공사 철물 공사창호샷시 철물 도장공사건물보수 유지\n",
      "       시설물유지관리업외 (1)\t -> \t시설물 유지 관리업외\n",
      "     소프트웨어프로그램개발 (1)\t -> \t소프트웨어 프로그램 개발\n",
      "          이벤트효과물 (1)\t -> \t이벤트 효과물\n",
      "    승강기및기계식주차장검사 (1)\t -> \t승강기 및기계식 주차장 검사\n",
      "         광고영상물제작 (1)\t -> \t광고 영상물 제작\n",
      "        고기능성섬유무역 (1)\t -> \t고기능성섬유 무역\n",
      "           기타수수료 (1)\t -> \t기타 수수료\n",
      "            전시대행 (1)\t -> \t전시\n",
      "          전자상거래외 (1)\t -> \t전자상거래\n",
      "          마케팅브랜드 (1)\t -> \t마케팅 브랜드\n",
      "          직장위탁교육 (1)\t -> \t직장위탁 교육\n",
      "           화물운대행 (1)\t -> \t화물 운대행\n",
      "         인쇄관련서비스 (1)\t -> \t인쇄 관련 서비스\n",
      "          기타정보처리 (1)\t -> \t기타 정보처리\n",
      "            경비업외 (1)\t -> \t경비\n",
      "       온라인정보제공업외 (1)\t -> \t온라인정보제공\n",
      "         주방용품기기외 (1)\t -> \t주방용품기기\n",
      "         인사교육컨설팅 (1)\t -> \t인사 교육 컨설팅\n",
      "            경력개발 (1)\t -> \t경력 개발\n",
      "         자원재활용홍보 (1)\t -> \t자원재활용 홍보\n",
      "            주택수리 (1)\t -> \t주택 수리\n",
      "           도서출판외 (1)\t -> \t도서 출판\n",
      "          광고대행기획 (1)\t -> \t광고대행 기획\n",
      "         주방용품및잡화 (1)\t -> \t주방용품 잡화\n",
      "            안전대행 (1)\t -> \t운전대행\n",
      "             비데외 (1)\t -> \t비데\n",
      "            관리용역 (1)\t -> \t관리 용역\n",
      "          위생관리용역 (1)\t -> \t위생관리 용역\n"
     ]
    }
   ],
   "source": [
    "for noisy_token, corrected in sorted(business_field_noisy.items(), key=lambda x:business_field_tokens.get(x[0], 0), reverse=True):\n",
    "    print('%16s (%d)\\t -> \\t%s'%(noisy_token, business_field_tokens[noisy_token], corrected))"
   ]
  },
  {
   "cell_type": "code",
   "execution_count": null,
   "metadata": {},
   "outputs": [],
   "source": []
  }
 ],
 "metadata": {
  "kernelspec": {
   "display_name": "Python (python3_0901)",
   "language": "python",
   "name": "python3_0901"
  },
  "language_info": {
   "codemirror_mode": {
    "name": "ipython",
    "version": 3
   },
   "file_extension": ".py",
   "mimetype": "text/x-python",
   "name": "python",
   "nbconvert_exporter": "python",
   "pygments_lexer": "ipython3",
   "version": "3.6.3"
  },
  "latex_envs": {
   "LaTeX_envs_menu_present": true,
   "autoclose": false,
   "autocomplete": true,
   "bibliofile": "biblio.bib",
   "cite_by": "apalike",
   "current_citInitial": 1,
   "eqLabelWithNumbers": true,
   "eqNumInitial": 1,
   "hotkeys": {
    "equation": "Ctrl-E",
    "itemize": "Ctrl-I"
   },
   "labels_anchors": false,
   "latex_user_defs": false,
   "report_style_numbering": false,
   "user_envs_cfg": false
  },
  "varInspector": {
   "cols": {
    "lenName": 16,
    "lenType": 16,
    "lenVar": 40
   },
   "kernels_config": {
    "python": {
     "delete_cmd_postfix": "",
     "delete_cmd_prefix": "del ",
     "library": "var_list.py",
     "varRefreshCmd": "print(var_dic_list())"
    },
    "r": {
     "delete_cmd_postfix": ") ",
     "delete_cmd_prefix": "rm(",
     "library": "var_list.r",
     "varRefreshCmd": "cat(var_dic_list()) "
    }
   },
   "types_to_exclude": [
    "module",
    "function",
    "builtin_function_or_method",
    "instance",
    "_Feature"
   ],
   "window_display": false
  }
 },
 "nbformat": 4,
 "nbformat_minor": 2
}
