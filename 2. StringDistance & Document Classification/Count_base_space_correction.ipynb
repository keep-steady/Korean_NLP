{
 "cells": [
  {
   "cell_type": "code",
   "execution_count": 1,
   "metadata": {
    "ExecuteTime": {
     "end_time": "2018-03-11T09:15:57.858795Z",
     "start_time": "2018-03-11T09:15:57.814357Z"
    }
   },
   "outputs": [
    {
     "data": {
      "text/plain": [
       "'1.0.12'"
      ]
     },
     "execution_count": 1,
     "metadata": {},
     "output_type": "execute_result"
    }
   ],
   "source": [
    "import soyspacing\n",
    "soyspacing.__version__"
   ]
  },
  {
   "cell_type": "code",
   "execution_count": 2,
   "metadata": {
    "ExecuteTime": {
     "end_time": "2018-03-11T09:15:58.119860Z",
     "start_time": "2018-03-11T09:15:58.113435Z"
    }
   },
   "outputs": [],
   "source": [
    "from soyspacing.countbase import RuleDict, CountSpace\n",
    "model = CountSpace()"
   ]
  },
  {
   "cell_type": "markdown",
   "metadata": {},
   "source": [
    "## Training\n",
    "134963_norm은 리뷰데이터에서 한글만 남겨놓은 텍스트데이터임. 이로부터 텍스트만을 가져와서 띄어쓰기 수정 모델을 학습한다. CountSpace는 텍스트만 있는 문서에서 한줄씩 텍스트를 읽으면서 띄어쓰기 패턴을 학습"
   ]
  },
  {
   "cell_type": "code",
   "execution_count": 3,
   "metadata": {
    "ExecuteTime": {
     "end_time": "2018-03-11T09:15:58.495868Z",
     "start_time": "2018-03-11T09:15:58.484223Z"
    }
   },
   "outputs": [
    {
     "name": "stdout",
     "output_type": "stream",
     "text": [
      "시사회에서 보고왔습니다동화와 재즈뮤지컬의 만남 지루하지않고 재밌습니다\n",
      "\n",
      "사랑과 꿈 그 흐름의 아름다움을 음악과 영상으로 최대한 담아놓았다 배우들 연기는 두말할것없고\n",
      "\n",
      "지금껏 영화 평가 해본 적이 없는데 진짜 최고네요 색감 스토리 음악 연기 모두ㅜㅜ최고입니다\n",
      "\n"
     ]
    }
   ],
   "source": [
    "with open('/home/paulkim/workspace/python/Korean_NLP/data/tmp/134963_norm.txt', encoding='utf-8') as f:\n",
    "    for _ in range(3):\n",
    "        print(next(f))"
   ]
  },
  {
   "cell_type": "markdown",
   "metadata": {},
   "source": [
    "num_lines는 fname 파일의 num_lines번째 줄까지만 학습하는 argument임. -1이면 모든 줄을 학습에 이용함. 디버깅 확인이 목적이면 적당하게 사용해주면 됨"
   ]
  },
  {
   "cell_type": "code",
   "execution_count": 4,
   "metadata": {
    "ExecuteTime": {
     "end_time": "2018-03-11T09:16:03.806176Z",
     "start_time": "2018-03-11T09:15:58.811730Z"
    }
   },
   "outputs": [
    {
     "name": "stdout",
     "output_type": "stream",
     "text": [
      "all tags length = 654328 --> 53317, (num_doc = 15602)"
     ]
    }
   ],
   "source": [
    "model.train(fname='/home/paulkim/workspace/python/Korean_NLP/data/tmp/134963_norm.txt', num_lines=-1)"
   ]
  },
  {
   "cell_type": "markdown",
   "metadata": {},
   "source": [
    "json형식으로 parameters를 저장하도록 json_format=True를 설정한 뒤, tmp 폴더에 모델을 저장함"
   ]
  },
  {
   "cell_type": "code",
   "execution_count": 5,
   "metadata": {
    "ExecuteTime": {
     "end_time": "2018-03-11T09:16:04.060512Z",
     "start_time": "2018-03-11T09:16:03.825906Z"
    }
   },
   "outputs": [],
   "source": [
    "model.save_model('./space_model.json', json_format=True)"
   ]
  },
  {
   "cell_type": "code",
   "execution_count": 6,
   "metadata": {
    "ExecuteTime": {
     "end_time": "2018-03-11T09:16:04.340544Z",
     "start_time": "2018-03-11T09:16:04.077107Z"
    }
   },
   "outputs": [
    {
     "name": "stdout",
     "output_type": "stream",
     "text": [
      "Count_base_space_correction.ipynb     sentiment_vocab.pkl  space_rules.txt\r\n",
      "Keyword_extracion_Lasso.ipynb\t      sentiment_x.pkl\t   vocablist\r\n",
      "String_distance.ipynb\t\t      sentiment_y.pkl\r\n",
      "naver_movie_sentiment_Analysis.ipynb  space_model.json\r\n"
     ]
    }
   ],
   "source": [
    "!ls"
   ]
  },
  {
   "cell_type": "markdown",
   "metadata": {},
   "source": [
    "## Test\n",
    "테스트를 하기 위해 파라미터 값을 설정해보자\n",
    "- arguments\n",
    "    - 4개의 파라미터\n",
    "        - force_abs_threshold : 점수의 절대값이 이 수준 이상이면 최고점이 아니더라도 즉각 태깅\n",
    "        - nonspace_threshold : 이 점수 이하일 때만 0으로 태깅\n",
    "        - space_threshold : 이 점수 이상일 때만 1로 태깅\n",
    "        - min_count : L, C, R 각각의 feature 빈도수가 min_count 이하이면 불확실항 정보로 판단, 띄어스기 계산 시 무시\n",
    "    - verbose : iteration마다 띄어쓰기가 어떻게 되고 있는지 확인\n",
    "    - rules : 점수와 관계없이 반드시 태기을 먼저 할 (chars, tags)"
   ]
  },
  {
   "cell_type": "code",
   "execution_count": 7,
   "metadata": {
    "ExecuteTime": {
     "end_time": "2018-03-11T09:16:04.392832Z",
     "start_time": "2018-03-11T09:16:04.389988Z"
    }
   },
   "outputs": [],
   "source": [
    "verbose = False\n",
    "mc = 10 # min_count\n",
    "ft = 0.3 # force_abs_threshold\n",
    "nt = -.3 # nonspace_threshold\n",
    "st = 0.3 # space_threshold"
   ]
  },
  {
   "cell_type": "markdown",
   "metadata": {},
   "source": [
    "before와 after를 보면 띄어씌기가 수정된 것을 볼 수 있음"
   ]
  },
  {
   "cell_type": "code",
   "execution_count": 8,
   "metadata": {
    "ExecuteTime": {
     "end_time": "2018-03-11T09:16:04.823588Z",
     "start_time": "2018-03-11T09:16:04.413212Z"
    }
   },
   "outputs": [],
   "source": [
    "# 기존에 학습한 데이터와 사용하고자하는 데이터가 homorgenious해야 잘 작동함\n",
    "sent = \"이건진짜좋은영화 라라랜드진짜좋은영화\"\n",
    "sent_correct, tags = model.correct(doc=sent, verbose=False, force_abs_threshold=ft, nonspace_threshold=nt, min_count=mc, space_threshold=st)"
   ]
  },
  {
   "cell_type": "code",
   "execution_count": 9,
   "metadata": {
    "ExecuteTime": {
     "end_time": "2018-03-11T09:16:04.903481Z",
     "start_time": "2018-03-11T09:16:04.875244Z"
    }
   },
   "outputs": [
    {
     "name": "stdout",
     "output_type": "stream",
     "text": [
      "before : 이건진짜좋은영화 라라랜드진짜좋은영화\n",
      "after : 이건 진짜 좋은 영화 라라랜드진짜 좋은 영화\n"
     ]
    }
   ],
   "source": [
    "print(\"before : %s\"%sent)\n",
    "print(\"after : %s\"%sent_correct)"
   ]
  },
  {
   "cell_type": "markdown",
   "metadata": {},
   "source": [
    "verbose=True이면, 각 단계별 어떻게 띄어쓰기가 수정되었는지 확인할 수 있음\n",
    "\n",
    "이 경우는 대부분의 경우 띄어쓰기가 확실해서 force tagging이 되었음. tagg가 None으로 뜨는 경우에는, 띄어쓰기 정보가 불확실하여 띄어쓰기를 하지 않은 경우임"
   ]
  },
  {
   "cell_type": "code",
   "execution_count": 10,
   "metadata": {
    "ExecuteTime": {
     "end_time": "2018-03-11T09:16:04.983494Z",
     "start_time": "2018-03-11T09:16:04.935253Z"
    }
   },
   "outputs": [
    {
     "name": "stdout",
     "output_type": "stream",
     "text": [
      "Input: ? ? ? ? ? ? ? 1 ? ? ? ? ? ? ? ? ? 1 \n",
      "이건진짜좋은영화 라라랜드진짜좋은영화\n",
      "Force tagged (iter=1): 0 1 0 1 0 1 0 1 0 0 0 ? ? 1 0 1 0 1 \n",
      "Force tagged (iter=2): 0 1 0 1 0 1 0 1 0 0 0 ? ? 1 0 1 0 1 \n"
     ]
    },
    {
     "data": {
      "text/plain": [
       "('이건 진짜 좋은 영화 라라랜드진짜 좋은 영화',\n",
       " [0, 1, 0, 1, 0, 1, 0, 1, 0, 0, 0, None, None, 1, 0, 1, 0, 1])"
      ]
     },
     "execution_count": 10,
     "metadata": {},
     "output_type": "execute_result"
    }
   ],
   "source": [
    "model.correct(doc=sent, verbose=True, force_abs_threshold=ft, nonspace_threshold=nt, space_threshold=st, min_count=mc)"
   ]
  },
  {
   "cell_type": "markdown",
   "metadata": {},
   "source": [
    "force_abs_threshold의 값을 좀 더 키우면 forece tagging이 적게 일어남. 속도가 더 느려짐"
   ]
  },
  {
   "cell_type": "code",
   "execution_count": 11,
   "metadata": {
    "ExecuteTime": {
     "end_time": "2018-03-11T09:16:05.093828Z",
     "start_time": "2018-03-11T09:16:05.002669Z"
    }
   },
   "outputs": [
    {
     "name": "stdout",
     "output_type": "stream",
     "text": [
      "Input: ? ? ? ? ? ? ? 1 ? ? ? ? ? ? ? ? ? 1 \n",
      "이건진짜좋은영화 라라랜드진짜좋은영화\n",
      "Force tagged (iter=1): 0 ? 0 ? 0 ? 0 1 0 0 0 ? ? ? 0 ? 0 1 \n",
      "Iteratively tagged (iter=1): 0 1 0 ? 0 ? 0 1 0 0 0 ? ? ? 0 ? 0 1 \n",
      "Force tagged (iter=2): 0 1 0 ? 0 ? 0 1 0 0 0 ? ? ? 0 ? 0 1 \n",
      "Iteratively tagged (iter=2): 0 1 0 1 0 ? 0 1 0 0 0 ? ? ? 0 ? 0 1 \n",
      "Force tagged (iter=3): 0 1 0 1 0 ? 0 1 0 0 0 ? ? ? 0 ? 0 1 \n",
      "Iteratively tagged (iter=3): 0 1 0 1 0 ? 0 1 0 0 0 ? ? 1 0 ? 0 1 \n",
      "Force tagged (iter=4): 0 1 0 1 0 ? 0 1 0 0 0 ? ? 1 0 ? 0 1 \n",
      "Iteratively tagged (iter=4): 0 1 0 1 0 1 0 1 0 0 0 ? ? 1 0 ? 0 1 \n",
      "Force tagged (iter=5): 0 1 0 1 0 1 0 1 0 0 0 ? ? 1 0 ? 0 1 \n",
      "Iteratively tagged (iter=5): 0 1 0 1 0 1 0 1 0 0 0 ? ? 1 0 1 0 1 \n",
      "Force tagged (iter=6): 0 1 0 1 0 1 0 1 0 0 0 ? ? 1 0 1 0 1 \n"
     ]
    },
    {
     "data": {
      "text/plain": [
       "('이건 진짜 좋은 영화 라라랜드진짜 좋은 영화',\n",
       " [0, 1, 0, 1, 0, 1, 0, 1, 0, 0, 0, None, None, 1, 0, 1, 0, 1])"
      ]
     },
     "execution_count": 11,
     "metadata": {},
     "output_type": "execute_result"
    }
   ],
   "source": [
    "model.correct(doc=sent, verbose=True, force_abs_threshold=0.9, nonspace_threshold=nt, space_threshold=st, min_count=mc)"
   ]
  },
  {
   "cell_type": "markdown",
   "metadata": {},
   "source": [
    "debug=True이면 lcr점수표와 띄어스기 교정이 되는 과정이 출력됨"
   ]
  },
  {
   "cell_type": "code",
   "execution_count": 12,
   "metadata": {
    "ExecuteTime": {
     "end_time": "2018-03-11T09:16:05.173791Z",
     "start_time": "2018-03-11T09:16:05.134024Z"
    }
   },
   "outputs": [
    {
     "name": "stdout",
     "output_type": "stream",
     "text": [
      "0: 이 (-1.000, 16)\tlcr = (0.000, 0.000, -1.000)\n",
      "1: 건 (0.750, 24)\tlcr = (0.000, 0.750, 0.000)\n",
      "2: 진 (-1.000, 53)\tlcr = (0.000, -1.000, -1.000)\n",
      "3: 짜 (0.703, 45)\tlcr = (0.750, 0.655, 0.000)\n",
      "4: 좋 (-1.000, 536)\tlcr = (-1.000, 0.000, -1.000)\n",
      "5: 은 (0.503, 1024)\tlcr = (0.000, 0.377, 0.629)\n",
      "6: 영 (-1.000, 1102)\tlcr = (-1.000, -1.000, -1.000)\n",
      "7: 화 (0.000, 0)\tlcr = (0.000, 0.000, 0.000)\n",
      "8: 라 (-0.998, 1015)\tlcr = (-1.000, -1.000, -0.995)\n",
      "9: 라 (-0.938, 1430)\tlcr = (-0.882, -0.962, -0.968)\n",
      "10: 랜 (-1.000, 1396)\tlcr = (-1.000, -1.000, 0.000)\n",
      "11: 드 (0.011, 920)\tlcr = (0.011, 0.000, 0.000)\n",
      "12: 진 (-1.000, 29)\tlcr = (0.000, 0.000, -1.000)\n",
      "13: 짜 (0.655, 29)\tlcr = (0.000, 0.655, 0.000)\n",
      "14: 좋 (-1.000, 536)\tlcr = (-1.000, 0.000, -1.000)\n",
      "15: 은 (0.502, 1022)\tlcr = (0.000, 0.377, 0.627)\n",
      "16: 영 (-1.000, 1022)\tlcr = (-1.000, -1.000, 0.000)\n",
      "17: 화 (0.000, 0)\tlcr = (0.000, 0.000, 0.000)\n",
      "force tagging i=0, score=-1.000\n",
      "force tagging i=2, score=-1.000\n",
      "force tagging i=4, score=-1.000\n",
      "force tagging i=6, score=-1.000\n",
      "force tagging i=8, score=-0.998\n",
      "force tagging i=9, score=-0.939\n",
      "force tagging i=10, score=-1.000\n",
      "force tagging i=14, score=-1.000\n",
      "force tagging i=16, score=-1.000\n",
      "sequential tagging i=1, score=0.750\n",
      "sequential tagging i=3, score=0.685\n",
      "sequential tagging i=13, score=0.655\n",
      "sequential tagging i=5, score=0.503\n",
      "sequential tagging i=15, score=0.502\n"
     ]
    },
    {
     "data": {
      "text/plain": [
       "('이건 진짜 좋은 영화 라라랜드진짜 좋은 영화',\n",
       " [0, 1, 0, 1, 0, 1, 0, 1, 0, 0, 0, None, None, 1, 0, 1, 0, 1])"
      ]
     },
     "execution_count": 12,
     "metadata": {},
     "output_type": "execute_result"
    }
   ],
   "source": [
    "model.correct(doc=sent, debug=True, force_abs_threshold=0.9, nonspace_threshold=nt, min_count=mc, space_threshold=st)"
   ]
  },
  {
   "cell_type": "markdown",
   "metadata": {},
   "source": [
    "## Load model and rules\n",
    "이미 학습된 모델과 띄어쓰기가 반드시 이뤄져야 하는 rules를 아는 경우에 이를 로딩하여 이용할 수 있음"
   ]
  },
  {
   "cell_type": "code",
   "execution_count": 13,
   "metadata": {
    "ExecuteTime": {
     "end_time": "2018-03-11T09:16:05.444829Z",
     "start_time": "2018-03-11T09:16:05.195621Z"
    }
   },
   "outputs": [],
   "source": [
    "model = CountSpace()\n",
    "\n",
    "model_fname = 'space_model.json'\n",
    "model.load_model(model_fname, json_format=True)"
   ]
  },
  {
   "cell_type": "markdown",
   "metadata": {},
   "source": [
    "아래와 같이 모델을 중복으로 로딩할 수 있음. 중복으로 로딩될 때에는 (chars, tags)의 빈도수가 추가됨"
   ]
  },
  {
   "cell_type": "code",
   "execution_count": 14,
   "metadata": {
    "ExecuteTime": {
     "end_time": "2018-03-11T09:16:05.871673Z",
     "start_time": "2018-03-11T09:16:05.465150Z"
    }
   },
   "outputs": [],
   "source": [
    "another_model_fname = 'space_model.json'\n",
    "model.load_model(another_model_fname, json_format=True)"
   ]
  },
  {
   "cell_type": "markdown",
   "metadata": {},
   "source": [
    "rules는 하나 이상의 파일이 입력될 수 있음을 고려하여 fname list로 받음\n",
    "min_rule_length, max_rule_lenth는 rules에 이용되는 단어의 최소/최대 길이임"
   ]
  },
  {
   "cell_type": "code",
   "execution_count": 15,
   "metadata": {
    "ExecuteTime": {
     "end_time": "2018-03-11T09:16:05.899748Z",
     "start_time": "2018-03-11T09:16:05.896175Z"
    }
   },
   "outputs": [],
   "source": [
    "rules_fname = ['space_rules.txt']\n",
    "min_rule_length = 2\n",
    "max_rule_length = 3\n",
    "\n",
    "rule_dict = RuleDict(min_rule_length, max_rule_length, rules_fname)"
   ]
  },
  {
   "cell_type": "code",
   "execution_count": 16,
   "metadata": {
    "ExecuteTime": {
     "end_time": "2018-03-11T09:16:05.971291Z",
     "start_time": "2018-03-11T09:16:05.921464Z"
    }
   },
   "outputs": [
    {
     "data": {
      "text/plain": [
       "{'가게는': (1, 0, 0, 1),\n",
       " '가게로': (1, 0, 0, 1),\n",
       " '가게야': (1, 0, 0, 1),\n",
       " '가령': (1, 0, 1),\n",
       " '진짜': (1, 0, 1)}"
      ]
     },
     "execution_count": 16,
     "metadata": {},
     "output_type": "execute_result"
    }
   ],
   "source": [
    "rule_dict.rule_dict"
   ]
  },
  {
   "cell_type": "code",
   "execution_count": 17,
   "metadata": {
    "ExecuteTime": {
     "end_time": "2018-03-11T09:16:06.046587Z",
     "start_time": "2018-03-11T09:16:06.007810Z"
    }
   },
   "outputs": [
    {
     "data": {
      "text/plain": [
       "('이건 진짜 좋은 영화 라라랜드진짜 좋은 영화',\n",
       " [0, 1, 0, 1, 0, 1, 0, 1, 0, 0, 0, None, None, 1, 0, 1, 0, 1])"
      ]
     },
     "execution_count": 17,
     "metadata": {},
     "output_type": "execute_result"
    }
   ],
   "source": [
    "model.correct(sent, verbose=False, min_count=10, force_abs_threshold=0.8, nonspace_threshold=0.3, space_threshold=0.3, space_importancy=1, rules=None, debug=False )"
   ]
  },
  {
   "cell_type": "code",
   "execution_count": 18,
   "metadata": {
    "ExecuteTime": {
     "end_time": "2018-03-11T09:16:06.153691Z",
     "start_time": "2018-03-11T09:16:06.072389Z"
    }
   },
   "outputs": [
    {
     "data": {
      "text/plain": [
       "('이건 진짜 좋은 영화 라라랜드 진짜 좋은 영화',\n",
       " [0, 1, 0, 1, 0, 1, 0, 1, 0, 0, 0, 1, 0, 1, 0, 1, 0, 1])"
      ]
     },
     "execution_count": 18,
     "metadata": {},
     "output_type": "execute_result"
    }
   ],
   "source": [
    "model.correct(sent, verbose=False, force_abs_threshold=ft, min_count=mc, nonspace_threshold=nt, space_threshold=st, debug=False, rules=rule_dict)"
   ]
  },
  {
   "cell_type": "code",
   "execution_count": null,
   "metadata": {},
   "outputs": [],
   "source": []
  }
 ],
 "metadata": {
  "kernelspec": {
   "display_name": "Python (python3_0901)",
   "language": "python",
   "name": "python3_0901"
  },
  "language_info": {
   "codemirror_mode": {
    "name": "ipython",
    "version": 3
   },
   "file_extension": ".py",
   "mimetype": "text/x-python",
   "name": "python",
   "nbconvert_exporter": "python",
   "pygments_lexer": "ipython3",
   "version": "3.6.3"
  },
  "latex_envs": {
   "LaTeX_envs_menu_present": true,
   "autoclose": false,
   "autocomplete": true,
   "bibliofile": "biblio.bib",
   "cite_by": "apalike",
   "current_citInitial": 1,
   "eqLabelWithNumbers": true,
   "eqNumInitial": 1,
   "hotkeys": {
    "equation": "Ctrl-E",
    "itemize": "Ctrl-I"
   },
   "labels_anchors": false,
   "latex_user_defs": false,
   "report_style_numbering": false,
   "user_envs_cfg": false
  },
  "varInspector": {
   "cols": {
    "lenName": 16,
    "lenType": 16,
    "lenVar": 40
   },
   "kernels_config": {
    "python": {
     "delete_cmd_postfix": "",
     "delete_cmd_prefix": "del ",
     "library": "var_list.py",
     "varRefreshCmd": "print(var_dic_list())"
    },
    "r": {
     "delete_cmd_postfix": ") ",
     "delete_cmd_prefix": "rm(",
     "library": "var_list.r",
     "varRefreshCmd": "cat(var_dic_list()) "
    }
   },
   "types_to_exclude": [
    "module",
    "function",
    "builtin_function_or_method",
    "instance",
    "_Feature"
   ],
   "window_display": false
  }
 },
 "nbformat": 4,
 "nbformat_minor": 2
}
