{
 "cells": [
  {
   "cell_type": "markdown",
   "metadata": {},
   "source": [
    "## Clustering viz"
   ]
  },
  {
   "cell_type": "code",
   "execution_count": 1,
   "metadata": {
    "ExecuteTime": {
     "end_time": "2018-03-13T12:03:56.472678Z",
     "start_time": "2018-03-13T12:03:55.793457Z"
    }
   },
   "outputs": [],
   "source": [
    "import pickle\n",
    "\n",
    "with open('/home/paulkim/workspace/python/Korean_NLP/data/sample_naver_movie/movie_review_doc2vec_model.pkl', 'rb') as f:\n",
    "    doc2vec_model = pickle.load(f)\n",
    "    \n",
    "with open('/home/paulkim/workspace/python/Korean_NLP/data/sample_naver_movie/navermovie_info_idx2moviename.pkl', 'rb') as f:\n",
    "    id2movie = pickle.load(f)"
   ]
  },
  {
   "cell_type": "markdown",
   "metadata": {},
   "source": [
    "Doc2Vec에서 document(영화)의 임베딩 차원은 100이며, 영화의 갯수는 172개임을 확인할 수 있음"
   ]
  },
  {
   "cell_type": "code",
   "execution_count": 2,
   "metadata": {
    "ExecuteTime": {
     "end_time": "2018-03-13T12:03:57.227513Z",
     "start_time": "2018-03-13T12:03:57.194417Z"
    }
   },
   "outputs": [
    {
     "data": {
      "text/plain": [
       "(172, 100)"
      ]
     },
     "execution_count": 2,
     "metadata": {},
     "output_type": "execute_result"
    }
   ],
   "source": [
    "doc2vec_model.docvecs.doctag_syn0.shape"
   ]
  },
  {
   "cell_type": "markdown",
   "metadata": {},
   "source": [
    "172개의 각 row에 해당하는 영화가 무엇인지 제목을 미리 list로 만들어둠. 각 row id에 해당하는 label이 dict형태로, Doc2Vec.docvecs.doctags에 저장되어 있음\n",
    "\n",
    "id가 72523의 row id는 offset=0번임. docvecs.doctags로부터 아래의 코드를 실행하면 row별 영화 이름을 얻을 수 있음\n",
    "\n",
    "작업의 각 부분들의 내용을 확인하기 위해 step별로 list의 3개의 값을 출력함\n",
    "\n",
    "dict.items()를 하면 (key, value)의 list가 만들어짐. 이를 offset 기준으로 정렬하려면 sorted의 key가 offset을 지정해주면 됨"
   ]
  },
  {
   "cell_type": "code",
   "execution_count": 3,
   "metadata": {
    "ExecuteTime": {
     "end_time": "2018-03-13T12:03:58.118334Z",
     "start_time": "2018-03-13T12:03:58.110552Z"
    }
   },
   "outputs": [
    {
     "name": "stdout",
     "output_type": "stream",
     "text": [
      "[('MOVIE_72523', Doctag(offset=0, word_count=95807, doc_count=10187)),\n",
      " ('MOVIE_59845', Doctag(offset=1, word_count=145728, doc_count=13095)),\n",
      " ('MOVIE_109753', Doctag(offset=2, word_count=203777, doc_count=10361)),\n",
      " ('MOVIE_45321', Doctag(offset=3, word_count=296181, doc_count=26915))]\n"
     ]
    }
   ],
   "source": [
    "row2movie = sorted(doc2vec_model.docvecs.doctags.items(), key=lambda x:x[1].offset)\n",
    "\n",
    "from pprint import pprint\n",
    "pprint(row2movie[:4])"
   ]
  },
  {
   "cell_type": "markdown",
   "metadata": {},
   "source": [
    "row[0]에 의해 key들의 list가 만들어지고 str인 key를 \\_로 split한 뒤 [1]을 가져왔으므로 영화 id가 str형식으로 만들어짐"
   ]
  },
  {
   "cell_type": "code",
   "execution_count": 4,
   "metadata": {
    "ExecuteTime": {
     "end_time": "2018-03-13T12:03:59.144757Z",
     "start_time": "2018-03-13T12:03:59.138990Z"
    }
   },
   "outputs": [
    {
     "name": "stdout",
     "output_type": "stream",
     "text": [
      "['72523', '59845', '109753']\n"
     ]
    }
   ],
   "source": [
    "row2movie = [row[0].split('_')[1] for row in row2movie]\n",
    "print(row2movie[:3])"
   ]
  },
  {
   "cell_type": "markdown",
   "metadata": {},
   "source": [
    "idx2movie를 이용하여 str형식의 영화 id를 영화 이름으로 변경"
   ]
  },
  {
   "cell_type": "code",
   "execution_count": 5,
   "metadata": {
    "ExecuteTime": {
     "end_time": "2018-03-13T12:04:00.061835Z",
     "start_time": "2018-03-13T12:04:00.055781Z"
    }
   },
   "outputs": [
    {
     "name": "stdout",
     "output_type": "stream",
     "text": [
      "['고사 두 번째 이야기: 교생실습', '박쥐', '해무']\n"
     ]
    }
   ],
   "source": [
    "row2movie = [id2movie.get(row, None) for row in row2movie]\n",
    "print(row2movie[:3])"
   ]
  },
  {
   "cell_type": "markdown",
   "metadata": {},
   "source": [
    "## K-means\n",
    "http://scikit-learn.org/stable/modules/generated/sklearn.cluster.KMeans.html\n",
    "\n",
    "    KMeans(n_clusters=8, init='k-means++', n_init=10, max_iter=300, tol=0.0001, precompute_distances='auto', verbose=0, random_state=None, copy_x=True, n_jobs=1, algorithm='auto')\n",
    "    \n",
    "spherical k-means를 구현하기 위해선 metrics='cosine'으로 변경. k-means는 Euclidean을 기준으로 만들어짐. 만약 spherical k-means를 설정하고자 한다면, (172, 100)의 행렬을 row normalize하여 unit vector로 만들어야 함"
   ]
  },
  {
   "cell_type": "code",
   "execution_count": 6,
   "metadata": {
    "ExecuteTime": {
     "end_time": "2018-03-13T12:04:00.929626Z",
     "start_time": "2018-03-13T12:04:00.900283Z"
    }
   },
   "outputs": [],
   "source": [
    "from sklearn.preprocessing import normalize\n",
    "\n",
    "# 모형의 value값을 지닌 행렬을 그대로 사용함\n",
    "movie_vectors = normalize(doc2vec_model.docvecs.doctag_syn0, axis=1, norm='l2')"
   ]
  },
  {
   "cell_type": "markdown",
   "metadata": {},
   "source": [
    "kmeans는 .fit_predict()와 .fit_transform() 두 가지 함수가 존재\n",
    "\n",
    "    kmeans.fit_predict(doc2vec_model.docvecs.doctag_syn0)\n",
    "    \n",
    "fit_predict는 각 row의 label을 하나로 출력\n",
    "\n",
    "    kmeans.fit_transform(doc2vec_model.docvecs.doctag_syn0)\n",
    "    \n",
    "fit_transform은 각 row 별로 k 개의 centroid와의 거리를 출력 "
   ]
  },
  {
   "cell_type": "code",
   "execution_count": 7,
   "metadata": {
    "ExecuteTime": {
     "end_time": "2018-03-13T12:04:01.983456Z",
     "start_time": "2018-03-13T12:04:01.893105Z"
    }
   },
   "outputs": [
    {
     "name": "stdout",
     "output_type": "stream",
     "text": [
      "kmeans.fit_predict()\n",
      "Initialization complete\n",
      "start iteration\n",
      "done sorting\n",
      "end inner loop\n",
      "Iteration 0, inertia 63.8952\n",
      "start iteration\n",
      "done sorting\n",
      "end inner loop\n",
      "Iteration 1, inertia 61.2315\n",
      "start iteration\n",
      "done sorting\n",
      "end inner loop\n",
      "Iteration 2, inertia 59.9298\n",
      "start iteration\n",
      "done sorting\n",
      "end inner loop\n",
      "Iteration 3, inertia 59.4295\n",
      "start iteration\n",
      "done sorting\n",
      "end inner loop\n",
      "Iteration 4, inertia 59.2587\n",
      "start iteration\n",
      "done sorting\n",
      "end inner loop\n",
      "Iteration 5, inertia 59.2079\n",
      "start iteration\n",
      "done sorting\n",
      "end inner loop\n",
      "Iteration 6, inertia 59.2079\n",
      "center shift 0.000000e+00 within tolerance 6.219525e-07\n",
      "\n",
      "\n",
      "kmeans.fit_transform()\n",
      "Initialization complete\n",
      "start iteration\n",
      "done sorting\n",
      "end inner loop\n",
      "Iteration 0, inertia 64.3562\n",
      "start iteration\n",
      "done sorting\n",
      "end inner loop\n",
      "Iteration 1, inertia 60.5869\n",
      "start iteration\n",
      "done sorting\n",
      "end inner loop\n",
      "Iteration 2, inertia 59.2172\n",
      "start iteration\n",
      "done sorting\n",
      "end inner loop\n",
      "Iteration 3, inertia 58.0581\n",
      "start iteration\n",
      "done sorting\n",
      "end inner loop\n",
      "Iteration 4, inertia 57.249\n",
      "start iteration\n",
      "done sorting\n",
      "end inner loop\n",
      "Iteration 5, inertia 57.1819\n",
      "start iteration\n",
      "done sorting\n",
      "end inner loop\n",
      "Iteration 6, inertia 57.1819\n",
      "center shift 0.000000e+00 within tolerance 6.219525e-07\n"
     ]
    }
   ],
   "source": [
    "from sklearn.cluster import KMeans\n",
    "\n",
    "kmeans = KMeans(n_clusters=10, max_iter=10, n_init=1, verbose=1)\n",
    "print('kmeans.fit_predict()')\n",
    "clusters = kmeans.fit_predict(movie_vectors)\n",
    "\n",
    "print('\\n\\nkmeans.fit_transform()')\n",
    "distance = kmeans.fit_transform(movie_vectors)"
   ]
  },
  {
   "cell_type": "code",
   "execution_count": 8,
   "metadata": {
    "ExecuteTime": {
     "end_time": "2018-03-13T12:04:02.562020Z",
     "start_time": "2018-03-13T12:04:02.551258Z"
    }
   },
   "outputs": [
    {
     "data": {
      "text/plain": [
       "array([4, 2, 9, 8, 1, 2, 5, 0, 1, 4, 8, 5, 3, 5, 3, 5, 9, 3, 1, 3, 4, 2, 7,\n",
       "       0, 6, 7, 0, 9, 1, 6, 3, 1, 1, 7, 2, 7, 2, 6, 2, 8, 9, 9, 0, 7, 3, 0,\n",
       "       2, 3, 1, 6, 3, 8, 3, 5, 7, 3, 5, 2, 3, 4, 8, 0, 2, 1, 9, 1, 3, 6, 4,\n",
       "       6, 1, 5, 6, 6, 9, 1, 8, 3, 3, 3, 2, 7, 3, 8, 7, 1, 4, 9, 1, 4, 1, 2,\n",
       "       7, 1, 3, 5, 3, 6, 3, 2, 3, 6, 3, 9, 2, 1, 2, 3, 6, 1, 0, 7, 8, 4, 1,\n",
       "       3, 5, 4, 6, 4, 4, 1, 1, 3, 6, 3, 6, 3, 7, 0, 8, 1, 1, 2, 3, 5, 3, 2,\n",
       "       1, 6, 6, 4, 5, 9, 6, 6, 4, 1, 2, 8, 5, 3, 6, 7, 9, 3, 8, 2, 1, 0, 1,\n",
       "       1, 3, 4, 3, 3, 3, 6, 3, 7, 3, 1], dtype=int32)"
      ]
     },
     "execution_count": 8,
     "metadata": {},
     "output_type": "execute_result"
    }
   ],
   "source": [
    "clusters"
   ]
  },
  {
   "cell_type": "code",
   "execution_count": 9,
   "metadata": {
    "ExecuteTime": {
     "end_time": "2018-03-13T12:04:02.956589Z",
     "start_time": "2018-03-13T12:04:02.953255Z"
    }
   },
   "outputs": [
    {
     "data": {
      "text/plain": [
       "(172, 10)"
      ]
     },
     "execution_count": 9,
     "metadata": {},
     "output_type": "execute_result"
    }
   ],
   "source": [
    "distance.shape"
   ]
  },
  {
   "cell_type": "code",
   "execution_count": 10,
   "metadata": {
    "ExecuteTime": {
     "end_time": "2018-03-13T12:04:03.589239Z",
     "start_time": "2018-03-13T12:04:03.578315Z"
    }
   },
   "outputs": [
    {
     "data": {
      "text/plain": [
       "array([[ 1.00776696,  1.15984023,  1.11450279, ...,  0.77788609,\n",
       "         0.99433744,  0.79507792],\n",
       "       [ 1.06772983,  1.11007488,  1.15411174, ...,  0.63797492,\n",
       "         0.90492499,  0.89402008],\n",
       "       [ 0.91416931,  1.14640009,  1.18865705, ...,  1.00015831,\n",
       "         1.21329784,  1.20927846],\n",
       "       ..., \n",
       "       [ 0.78110337,  1.06664968,  1.2224524 , ...,  1.02023673,\n",
       "         1.15254533,  1.26334012],\n",
       "       [ 0.91870588,  0.67714381,  0.73855913, ...,  1.20366633,\n",
       "         1.0032655 ,  1.08491528],\n",
       "       [ 0.98810357,  0.83676296,  0.8756507 , ...,  0.8640601 ,\n",
       "         0.62956959,  0.68509537]], dtype=float32)"
      ]
     },
     "execution_count": 10,
     "metadata": {},
     "output_type": "execute_result"
    }
   ],
   "source": [
    "distance"
   ]
  },
  {
   "cell_type": "markdown",
   "metadata": {},
   "source": [
    "같은 cluster label을 지니는 영화별로 그룹을 묶어서 이름을 확인. 그 뒤, 각 label 별로 몇 개의 영화로 묶여 있는지 갯수를 출력함"
   ]
  },
  {
   "cell_type": "code",
   "execution_count": 11,
   "metadata": {
    "ExecuteTime": {
     "end_time": "2018-03-13T12:04:04.656057Z",
     "start_time": "2018-03-13T12:04:04.649081Z"
    }
   },
   "outputs": [
    {
     "name": "stdout",
     "output_type": "stream",
     "text": [
      "cluster # 4 has 14 movies\n",
      "cluster # 2 has 18 movies\n",
      "cluster # 9 has 11 movies\n",
      "cluster # 8 has 11 movies\n",
      "cluster # 1 has 28 movies\n",
      "cluster # 5 has 12 movies\n",
      "cluster # 0 has 9 movies\n",
      "cluster # 3 has 36 movies\n",
      "cluster # 7 has 13 movies\n",
      "cluster # 6 has 20 movies\n"
     ]
    }
   ],
   "source": [
    "from collections import defaultdict\n",
    "\n",
    "cluster_to_row = defaultdict(lambda: [])\n",
    "for row_id, label in enumerate(clusters):\n",
    "    cluster_to_row[label].append(row_id)\n",
    "    \n",
    "cluster_to_row = dict(cluster_to_row)\n",
    "for label, rows in cluster_to_row.items():\n",
    "    print('cluster # %d has %d movies'%(label, len(rows)))"
   ]
  },
  {
   "cell_type": "markdown",
   "metadata": {},
   "source": [
    "각 cluster별로 10개씩 영화의 이름을 출력하여, 군집화 결과가 어떤 느낌인지 확인해보자."
   ]
  },
  {
   "cell_type": "code",
   "execution_count": 12,
   "metadata": {
    "ExecuteTime": {
     "end_time": "2018-03-13T12:04:06.974181Z",
     "start_time": "2018-03-13T12:04:06.961109Z"
    }
   },
   "outputs": [
    {
     "name": "stdout",
     "output_type": "stream",
     "text": [
      "\n",
      "cluster # 4\n",
      "  > 고사 두 번째 이야기: 교생실습\n",
      "  > 미스터 고\n",
      "  > 과속스캔들\n",
      "  > 박수건달\n",
      "  > 세 얼간이\n",
      "  > 초능력자\n",
      "  > 퀵\n",
      "  > 투사부일체\n",
      "  > 시라노; 연애조작단\n",
      "  > 전우치\n",
      "\n",
      "cluster # 2\n",
      "  > 박쥐\n",
      "  > 국가대표\n",
      "  > 미녀는 괴로워\n",
      "  > 지금, 만나러 갑니다\n",
      "  > 포화 속으로\n",
      "  > 의형제\n",
      "  > 광해, 왕이 된 남자\n",
      "  > 해바라기\n",
      "  > 고지전\n",
      "  > 왕의 남자\n",
      "\n",
      "cluster # 9\n",
      "  > 해무\n",
      "  > 내가 살인범이다\n",
      "  > 곡성(哭聲)\n",
      "  > 검은 사제들\n",
      "  > 악마를 보았다\n",
      "  > 감시자들\n",
      "  > 더 테러 라이브\n",
      "  > 끝까지 간다\n",
      "  > 숨바꼭질\n",
      "  > 추격자\n",
      "\n",
      "cluster # 8\n",
      "  > 해운대\n",
      "  > 7광구\n",
      "  > 판도라\n",
      "  > 카트\n",
      "  > 감기\n",
      "  > 도가니\n",
      "  > 연가시\n",
      "  > 부산행\n",
      "  > 타워\n",
      "  > 소원\n",
      "\n",
      "cluster # 1\n",
      "  > 인터스텔라\n",
      "  > 해리 포터와 죽음의 성물 - 2부\n",
      "  > 다크 나이트\n",
      "  > 겨울왕국\n",
      "  > 인셉션\n",
      "  > 타이타닉\n",
      "  > 캐리비안의 해적 - 세상의 끝에서\n",
      "  > 클레멘타인\n",
      "  > 스카이라인\n",
      "  > 트와일라잇\n",
      "\n",
      "cluster # 5\n",
      "  > 도둑들\n",
      "  > 럭키\n",
      "  > 해적: 바다로 간 산적\n",
      "  > 아가씨\n",
      "  > 검사외전\n",
      "  > 관상\n",
      "  > 역린\n",
      "  > 신의 한 수\n",
      "  > 아수라\n",
      "  > 베테랑\n",
      "\n",
      "cluster # 0\n",
      "  > 베를린\n",
      "  > 영웅: 샐러멘더의 비밀\n",
      "  > 신세계\n",
      "  > 좋은 놈, 나쁜 놈, 이상한 놈\n",
      "  > 용의자\n",
      "  > 최종병기 활\n",
      "  > 아저씨\n",
      "  > 테이큰\n",
      "  > 세븐 데이즈\n",
      "\n",
      "cluster # 3\n",
      "  > 다크 나이트 라이즈\n",
      "  > 배트맨 대 슈퍼맨: 저스티스의 시작\n",
      "  > 메이즈 러너: 스코치 트라이얼\n",
      "  > 캡틴 아메리카: 시빌 워\n",
      "  > 빅 히어로\n",
      "  > 인디펜던스 데이: 리써전스\n",
      "  > 제이슨 본\n",
      "  > 트랜스포머 3\n",
      "  > 배틀쉽\n",
      "  > 쥬라기 월드\n",
      "\n",
      "cluster # 7\n",
      "  > 터널\n",
      "  > 대호\n",
      "  > 26년\n",
      "  > 암살\n",
      "  > 천안함 프로젝트\n",
      "  > 국제시장\n",
      "  > 밀정\n",
      "  > 연평해전\n",
      "  > 인천상륙작전\n",
      "  > 귀향\n",
      "\n",
      "cluster # 6\n",
      "  > 응답하라 1988\n",
      "  > 완득이\n",
      "  > 인턴\n",
      "  > 님아, 그 강을 건너지 마오\n",
      "  > 인사이드 아웃\n",
      "  > 형\n",
      "  > 비긴 어게인\n",
      "  > 두근두근 내 인생\n",
      "  > 7번방의 선물\n",
      "  > 라라랜드\n"
     ]
    }
   ],
   "source": [
    "for label, rows in cluster_to_row.items():\n",
    "    print('\\ncluster # %d'%label)\n",
    "    for row in rows[:10]:\n",
    "        print('  > %s'%row2movie[row])"
   ]
  },
  {
   "cell_type": "markdown",
   "metadata": {},
   "source": [
    "kmeans의 KMeans.clustercenters는 각 centroid의 좌표임\n",
    "\n",
    "Doc2Vec 임베딩 벡터의 크기가 100이고, 클러스터의 갯수가 10이 때문에 centers 행렬의 크기는 (10, 100)임"
   ]
  },
  {
   "cell_type": "markdown",
   "metadata": {},
   "source": [
    "### T-SNE를 이용한 시각화\n",
    "label로 각 군집의 id와 영화 2개의 이름을 함께 annotation\n",
    "\n",
    "영화의 갯수가 172개 뿐이고, 300차원이기 때문에 10개의 군집으로 묶었을 때, 군집의 centroids의 벡터값이 서로 비슷할 수 있음. 이는 시각화의 측면에서는 좋지 않은 영향을 줄 수 있음. 시각화는 비슷한 것의 거리는 작게, 비슷하지 않은 것의 거리는 크게 표현되어야 함. 하지만 k-means의 centroids는 고차원 벡터들의 평균임. order 이상의 의미가 없을 수 있음"
   ]
  },
  {
   "cell_type": "code",
   "execution_count": 13,
   "metadata": {
    "ExecuteTime": {
     "end_time": "2018-03-13T12:04:09.166349Z",
     "start_time": "2018-03-13T12:04:08.687317Z"
    }
   },
   "outputs": [
    {
     "data": {
      "image/png": "[encoded data removed]",
      "text/plain": [
       "<matplotlib.figure.Figure at 0x7f754c427748>"
      ]
     },
     "metadata": {},
     "output_type": "display_data"
    }
   ],
   "source": [
    "import matplotlib\n",
    "import matplotlib.pyplot as plt\n",
    "%matplotlib inline\n",
    "krfont = {'family': 'nanumgothic', 'weight':'bold', 'size':10}\n",
    "matplotlib.rc('font', **krfont)\n",
    "\n",
    "from sklearn.manifold import TSNE\n",
    "\n",
    "tsne = TSNE(n_components= 2)\n",
    "y_tsne = tsne.fit_transform(kmeans.cluster_centers_)\n",
    "y_tsne = y_tsne*1000\n",
    "\n",
    "plt.figure(figsize=(15, 10))\n",
    "plt.scatter(y_tsne[:, 0], y_tsne[:, 1], color = 'yellow')\n",
    "for i in range(y_tsne.shape[0]):\n",
    "    one_sample = row2movie[cluster_to_row[i][0]]\n",
    "    two_sample = row2movie[cluster_to_row[i][1]]\n",
    "    plt.annotate('cluster %d \\n(%s\\n%s)'%(i, one_sample, two_sample), (y_tsne[i, 0], y_tsne[i, 1]))\n",
    "\n",
    "plt.show()"
   ]
  },
  {
   "cell_type": "markdown",
   "metadata": {},
   "source": [
    "## clustering keywords"
   ]
  },
  {
   "cell_type": "markdown",
   "metadata": {},
   "source": [
    "각 군집의 키워드들을 추출해봄\n",
    "\n",
    "doc2vec, k-means를 학습할 것인지, 학습된 k-means로부터 같은 군집에 해당하는 영화들의 리뷰를 하나로 합쳐둔 corpus와 term frequency matrix를 만들 것인지를 정하는 파라미터를 설정함"
   ]
  },
  {
   "cell_type": "code",
   "execution_count": 14,
   "metadata": {
    "ExecuteTime": {
     "end_time": "2018-03-13T12:04:14.667477Z",
     "start_time": "2018-03-13T12:04:14.661840Z"
    }
   },
   "outputs": [],
   "source": [
    "TRAIN_DOC2VEC = True\n",
    "TRAIN_KMEANS = True\n",
    "CREATE_MERGED_CORPUS = True\n",
    "CREATE_MERGED_CORPUS_TERMFREQUENCY_MATRIX = True\n",
    "TRAIN_LOGISTIC_FULL = True\n",
    "TRAIN_LOGISTIC_MIN_1000 = True\n",
    "\n",
    "tokenized_corpus_fname = '/home/paulkim/workspace/python/Korean_NLP/data/sample_naver_movie_5000/merged_comments_tokenized.txt'\n",
    "doc2vec_fname = '/home/paulkim/workspace/python/Korean_NLP/data/sample_naver_movie_5000/movie_review_doc2vec_model.pkl'\n",
    "logistic_l1_full = '/home/paulkim/workspace/python/Korean_NLP/data/sample_naver_movie_5000/logistic_l1_full.pkl'\n",
    "logistic_l1_min1000 = '/home/paulkim/workspace/python/Korean_NLP/data/sample_naver_movie_5000/logistic_l1_min1000.pkl'"
   ]
  },
  {
   "cell_type": "markdown",
   "metadata": {},
   "source": [
    "TRAIN_DOC2VEC=True이면, gensim으로부터 Doc2Vec을 import하여 학습을 진행\n",
    "TRAIN_DOC2VEC=False이면 이전에 학습된 모델을 loading함"
   ]
  },
  {
   "cell_type": "code",
   "execution_count": 15,
   "metadata": {
    "ExecuteTime": {
     "end_time": "2018-03-13T12:42:11.688982Z",
     "start_time": "2018-03-13T12:04:35.019748Z"
    }
   },
   "outputs": [],
   "source": [
    "if TRAIN_DOC2VEC:\n",
    "    import pickle\n",
    "    from gensim.models import Doc2Vec\n",
    "    from gensim.models.doc2vec import TaggedDocument\n",
    "    \n",
    "    class CommentDoc2Vec:\n",
    "        def __init__(self, fname):\n",
    "            self.fname = fname\n",
    "        def __iter__(self):\n",
    "            with open(self.fname, encoding='utf-8') as f:\n",
    "                for doc in f:\n",
    "                    movie_idx, text, score = doc.split('\\t')\n",
    "                    yield TaggedDocument(words=text.split(), tags=['MOVIE_%s'%movie_idx])\n",
    "                    \n",
    "    doc2vec_corpus = CommentDoc2Vec(tokenized_corpus_fname)\n",
    "    doc2vec_model = Doc2Vec(doc2vec_corpus)\n",
    "    with open(doc2vec_fname, 'wb') as f:\n",
    "        pickle.dump(doc2vec_model, f)\n",
    "        \n",
    "else:\n",
    "    import pickle\n",
    "    with open(doc2vec_fname, 'rb') as f:\n",
    "        doc2vec_model = pickle.load(f)"
   ]
  },
  {
   "cell_type": "markdown",
   "metadata": {},
   "source": [
    "{영화 id: 영화 이름}의 dictionary를 pickle로부터 읽어옴"
   ]
  },
  {
   "cell_type": "code",
   "execution_count": 17,
   "metadata": {
    "ExecuteTime": {
     "end_time": "2018-03-13T12:45:36.098699Z",
     "start_time": "2018-03-13T12:45:36.038737Z"
    }
   },
   "outputs": [],
   "source": [
    "import pickle\n",
    "with open('/home/paulkim/workspace/python/Korean_NLP/data/sample_naver_movie/navermovie_info_idx2moviename.pkl', 'rb') as f:\n",
    "    id2movie = pickle.load(f)"
   ]
  },
  {
   "cell_type": "markdown",
   "metadata": {},
   "source": [
    "Doc2Vec 모델에 저장되어 있는 docvec의 document vector를 l2로 row normalization을 수행함. 그 뒤, KMeans.fit_predict()를 이용해 군집화를 수행함으로써 Spherical k-means처럼 군집화를 수행함"
   ]
  },
  {
   "cell_type": "code",
   "execution_count": 18,
   "metadata": {
    "ExecuteTime": {
     "end_time": "2018-03-13T12:45:41.179443Z",
     "start_time": "2018-03-13T12:45:40.796212Z"
    }
   },
   "outputs": [
    {
     "name": "stdout",
     "output_type": "stream",
     "text": [
      "Initialization complete\n",
      "start iteration\n",
      "done sorting\n",
      "end inner loop\n",
      "Iteration 0, inertia 1493.61\n",
      "start iteration\n",
      "done sorting\n",
      "end inner loop\n",
      "Iteration 1, inertia 1428.75\n",
      "start iteration\n",
      "done sorting\n",
      "end inner loop\n",
      "Iteration 2, inertia 1412.24\n",
      "start iteration\n",
      "done sorting\n",
      "end inner loop\n",
      "Iteration 3, inertia 1403.54\n",
      "start iteration\n",
      "done sorting\n",
      "end inner loop\n",
      "Iteration 4, inertia 1398.21\n",
      "start iteration\n",
      "done sorting\n",
      "end inner loop\n",
      "Iteration 5, inertia 1394.14\n",
      "start iteration\n",
      "done sorting\n",
      "end inner loop\n",
      "Iteration 6, inertia 1392.03\n",
      "start iteration\n",
      "done sorting\n",
      "end inner loop\n",
      "Iteration 7, inertia 1390.74\n",
      "start iteration\n",
      "done sorting\n",
      "end inner loop\n",
      "Iteration 8, inertia 1389.62\n",
      "start iteration\n",
      "done sorting\n",
      "end inner loop\n",
      "Iteration 9, inertia 1388.4\n",
      "start iteration\n",
      "done sorting\n",
      "end inner loop\n",
      "Iteration 10, inertia 1387.33\n",
      "start iteration\n",
      "done sorting\n",
      "end inner loop\n",
      "Iteration 11, inertia 1386.77\n",
      "start iteration\n",
      "done sorting\n",
      "end inner loop\n",
      "Iteration 12, inertia 1386.34\n",
      "start iteration\n",
      "done sorting\n",
      "end inner loop\n",
      "Iteration 13, inertia 1385.94\n",
      "start iteration\n",
      "done sorting\n",
      "end inner loop\n",
      "Iteration 14, inertia 1385.62\n",
      "start iteration\n",
      "done sorting\n",
      "end inner loop\n",
      "Iteration 15, inertia 1385.29\n",
      "start iteration\n",
      "done sorting\n",
      "end inner loop\n",
      "Iteration 16, inertia 1384.88\n",
      "start iteration\n",
      "done sorting\n",
      "end inner loop\n",
      "Iteration 17, inertia 1384.79\n",
      "start iteration\n",
      "done sorting\n",
      "end inner loop\n",
      "Iteration 18, inertia 1384.67\n",
      "start iteration\n",
      "done sorting\n",
      "end inner loop\n",
      "Iteration 19, inertia 1384.52\n",
      "CPU times: user 1.39 s, sys: 20.1 ms, total: 1.41 s\n",
      "Wall time: 355 ms\n"
     ]
    }
   ],
   "source": [
    "%%time\n",
    "\n",
    "if TRAIN_KMEANS:\n",
    "    from sklearn.cluster import KMeans\n",
    "    from sklearn.preprocessing import normalize\n",
    "    \n",
    "    movie_vectors = normalize(doc2vec_model.docvecs.doctag_syn0, axis = 1, norm='l2')\n",
    "    kmeans = KMeans(n_clusters=100, max_iter=20, n_init=1, verbose=1)\n",
    "    clusters = kmeans.fit_predict(movie_vectors)\n",
    "    \n",
    "    with open('/home/paulkim/workspace/python/Korean_NLP/data/sample_naver_movie_5000/kmeans_100.pkl', 'wb') as f:\n",
    "        pickle.dump(kmeans, f)\n",
    "        \n",
    "    with open('/home/paulkim/workspace/python/Korean_NLP/data/sample_naver_movie_5000/kmeans_100_label', 'wb') as f:\n",
    "        pickle.dump(clusters, f)\n",
    "        \n",
    "else:\n",
    "    with open('/home/paulkim/workspace/python/Korean_NLP/data/sample_naver_movie_5000/kmeans_100.pkl', 'rb') as f:\n",
    "        kmeans = pickle.load(f)\n",
    "        \n",
    "    with open('/home/paulkim/workspace/python/Korean_NLP/data/sample_naver_movie_5000/kmeans_100_label', 'rb') as f:\n",
    "        clusters = pickle.load(f)"
   ]
  },
  {
   "cell_type": "markdown",
   "metadata": {},
   "source": [
    "군집별로 어떤 영화들이 묶이는지 확인할 수 있는 cluster_to_row를 만듦. 그리고 군집화의 결과가 균형적인지 (= 각 준집에 할당된 영화의 갯수가 너무 많거나 너무 적지 않은지) 확인도 해봄"
   ]
  },
  {
   "cell_type": "code",
   "execution_count": 19,
   "metadata": {
    "ExecuteTime": {
     "end_time": "2018-03-13T12:45:44.903001Z",
     "start_time": "2018-03-13T12:45:44.891848Z"
    }
   },
   "outputs": [
    {
     "name": "stdout",
     "output_type": "stream",
     "text": [
      "cluster # 4 has 87 movies\n",
      "cluster # 2 has 76 movies\n",
      "cluster # 14 has 97 movies\n",
      "cluster # 5 has 47 movies\n",
      "cluster # 11 has 54 movies\n",
      "cluster # 19 has 70 movies\n",
      "cluster # 10 has 29 movies\n",
      "cluster # 9 has 36 movies\n",
      "cluster # 7 has 41 movies\n",
      "cluster # 13 has 94 movies\n",
      "cluster # 0 has 56 movies\n",
      "cluster # 12 has 56 movies\n",
      "cluster # 17 has 64 movies\n",
      "cluster # 3 has 53 movies\n",
      "cluster # 8 has 48 movies\n",
      "cluster # 6 has 79 movies\n",
      "cluster # 15 has 57 movies\n",
      "cluster # 16 has 19 movies\n",
      "cluster # 20 has 54 movies\n",
      "cluster # 18 has 33 movies\n",
      "cluster # 1 has 29 movies\n"
     ]
    }
   ],
   "source": [
    "from collections import defaultdict\n",
    "\n",
    "cluster_to_row = defaultdict(lambda : [])\n",
    "for row_id, label in enumerate(clusters):\n",
    "    cluster_to_row[label].append(row_id)\n",
    "    \n",
    "cluster_to_row = dict(cluster_to_row)\n",
    "for label, rows in cluster_to_row.items():\n",
    "    if label > 20: continue\n",
    "    print('cluster # %d has %d movies'%(label, len(rows)))"
   ]
  },
  {
   "cell_type": "markdown",
   "metadata": {},
   "source": [
    "Doc2Vec.docvecs.doctags로부터 각 row id가 어떤 영화에 해당하는지를 확인하는 list를 만듦. "
   ]
  },
  {
   "cell_type": "code",
   "execution_count": 21,
   "metadata": {
    "ExecuteTime": {
     "end_time": "2018-03-13T12:46:39.243541Z",
     "start_time": "2018-03-13T12:46:39.210040Z"
    }
   },
   "outputs": [
    {
     "name": "stdout",
     "output_type": "stream",
     "text": [
      "\n",
      "cluster # 98 (num movies = 47)\n",
      "  > 마돈나\n",
      "  > 돌이킬 수 없는\n",
      "  > 사이비\n",
      "  > 한공주\n",
      "  > 터치\n",
      "  > 돼지의 왕\n",
      "  > 모범생\n",
      "  > 용서받지 못한 자\n",
      "  > 들개\n",
      "  > 백설공주 살인사건\n",
      "\n",
      "cluster # 82 (num movies = 43)\n",
      "  > 마법천자문 - 대마왕의 부활을 막아라\n",
      "  > 몬스터 하우스\n",
      "  > 가디언의 전설\n",
      "  > 잉크하트: 어둠의 부활\n",
      "  > 드래곤 헌터\n",
      "  > 트론: 새로운 시작\n",
      "  > 유희왕 극장판\n",
      "  > 드래곤볼 에볼루션\n",
      "  > 케로로 더 무비: 드래곤 워리어\n",
      "  > 랭고\n",
      "\n",
      "cluster # 90 (num movies = 55)\n",
      "  > 스트레인저 댄 픽션\n",
      "  > 스위트 노벰버\n",
      "  > 판타스틱 소녀 백서\n",
      "  > 라스트 나잇\n",
      "  > 비기너스\n",
      "  > 졸업\n",
      "  > 사랑도 리콜이 되나요\n",
      "  > 아트 오브 겟팅 바이\n",
      "  > 사랑도 통역이 되나요?\n",
      "  > 세상의 모든 계절\n",
      "\n",
      "cluster # 88 (num movies = 41)\n",
      "  > 미션 투 마스\n",
      "  > 칠드런 오브 맨\n",
      "  > 더 웨이브\n",
      "  > 채피\n",
      "  > 샌 안드레아스\n",
      "  > 생텀\n",
      "  > 엑소더스: 신들과 왕들\n",
      "  > 오토마타\n",
      "  > 월드워Z\n",
      "  > 패신저스\n",
      "\n",
      "cluster # 93 (num movies = 46)\n",
      "  > 닥터\n",
      "  > 더 테러 라이브\n",
      "  > 특별수사: 사형수의 편지\n",
      "  > 특종: 량첸살인기\n",
      "  > 분노의 윤리학\n",
      "  > 이웃사람\n",
      "  > 성난 변호사\n",
      "  > 범죄의 여왕\n",
      "  > 내가 살인범이다\n",
      "  > 몬스터\n",
      "\n",
      "cluster # 80 (num movies = 47)\n",
      "  > 우리들의 행복한 시간\n",
      "  > 회초리\n",
      "  > 눈부신 날에\n",
      "  > 코리아\n",
      "  > 크로싱\n",
      "  > 국가대표\n",
      "  > 킹콩을 들다\n",
      "  > 챔프\n",
      "  > 호로비츠를 위하여\n",
      "  > 마지막 선물\n",
      "\n",
      "cluster # 84 (num movies = 66)\n",
      "  > 풍산개\n",
      "  > 평양성\n",
      "  > 방가? 방가!\n",
      "  > 스카우트\n",
      "  > 해결사\n",
      "  > 걸스카우트\n",
      "  > 신석기 블루스\n",
      "  > 무도리\n",
      "  > 웰컴 투 동막골\n",
      "  > 이장과 군수\n",
      "\n",
      "cluster # 89 (num movies = 41)\n",
      "  > 퍼펙트 호스트\n",
      "  > 리미트리스\n",
      "  > 익스트랙티드\n",
      "  > 3096일\n",
      "  > 더 레이븐\n",
      "  > 더 콜\n",
      "  > 엔터 노웨어\n",
      "  > 내가 잠들기 전에\n",
      "  > 헤드헌터\n",
      "  > 나를 찾아줘\n",
      "\n",
      "cluster # 95 (num movies = 68)\n",
      "  > 엽문3: 최후의 대결\n",
      "  > 청사\n",
      "  > 화피 2\n",
      "  > 키스 오브 드래곤\n",
      "  > 성룡의 신화\n",
      "  > 천녀유혼 2 - 인간도\n",
      "  > 정무문 : 100대 1의 전설\n",
      "  > 특수경찰 : 스페셜 ID\n",
      "  > 대상해\n",
      "  > 검우강호\n",
      "\n",
      "cluster # 99 (num movies = 46)\n",
      "  > 램페이지 2 - 워싱턴 심판의 날\n",
      "  > 슈퍼 사이즈 미\n",
      "  > 엑스페리먼트\n",
      "  > 엘리트 스쿼드\n",
      "  > 브레이크다운\n",
      "  > 셀 211\n",
      "  > 링컨 차를 타는 변호사\n",
      "  > 아웃브레이크\n",
      "  > 프로스트 VS 닉슨\n",
      "  > 더 팬\n",
      "\n",
      "cluster # 85 (num movies = 37)\n",
      "  > 일본이외 전부침몰\n",
      "  > 아틀란틱 림\n",
      "  > 영웅: 샐러멘더의 비밀\n",
      "  > None\n",
      "  > 9시 뉴스\n",
      "  > 노아-40일간의기적\n",
      "  > 레드 던\n",
      "  > 김치 전사\n",
      "  > 레알\n",
      "  > 킹크\n",
      "\n",
      "cluster # 97 (num movies = 34)\n",
      "  > 무서운 영화 4\n",
      "  > 무서운 영화 5\n",
      "  > 와사비 : 레옹 파트2\n",
      "  > 조폭 마누라 2 - 돌아온 전설\n",
      "  > 골! 3\n",
      "  > 무서운 영화 3\n",
      "  > 에반 올마이티\n",
      "  > 해롤드와 쿠마 2 - 관티나모로부터의 탈출\n",
      "  > 빅 마마 하우스 2 - 근무 중 이상무\n",
      "  > 행오버 2\n",
      "\n",
      "cluster # 87 (num movies = 43)\n",
      "  > 신과함께\n",
      "  > 난폭한 로맨스\n",
      "  > 최고다 이순신\n",
      "  > 아이리스 - 극장판\n",
      "  > 전우치\n",
      "  > 천 번째 남자\n",
      "  > 더 엑스\n",
      "  > 서툴지만, 사랑\n",
      "  > 내일도 칸타빌레\n",
      "  > 막걸스\n",
      "\n",
      "cluster # 96 (num movies = 50)\n",
      "  > 스텝 업 3D\n",
      "  > 더티 댄싱 - 하바나 나이트\n",
      "  > 페임\n",
      "  > 시카고\n",
      "  > 마오의 라스트 댄서\n",
      "  > 드럼라인\n",
      "  > 스텝 업 2 - 더 스트리트\n",
      "  > 고고70\n",
      "  > 더 콘서트\n",
      "  > 아티스트\n",
      "\n",
      "cluster # 91 (num movies = 52)\n",
      "  > 사랑에 대한 모든 것\n",
      "  > 녹터널 애니멀스\n",
      "  > 더 랍스터\n",
      "  > 그녀\n",
      "  > 마미\n",
      "  > 맥베스\n",
      "  > 내일을 위한 시간\n",
      "  > 라이프\n",
      "  > 페이스 오브 러브\n",
      "  > 어느 하녀의 일기\n",
      "\n",
      "cluster # 94 (num movies = 24)\n",
      "  > 슈퍼스타K 2\n",
      "  > 꽃보다 할배\n",
      "  > 심장이 뛴다\n",
      "  > 슈퍼스타K 5\n",
      "  > 하이킥! 짧은 다리의 역습\n",
      "  > 해피선데이-1박 2일 시즌3\n",
      "  > 더 지니어스: 블랙 가넷\n",
      "  > 마녀사냥\n",
      "  > 힐링캠프\n",
      "  > 댄싱9\n",
      "\n",
      "cluster # 86 (num movies = 40)\n",
      "  > 킬러들의 도시\n",
      "  > 트루 로맨스\n",
      "  > 오션스 13\n",
      "  > 마셰티\n",
      "  > 미녀 삼총사\n",
      "  > 프레디 VS 제이슨\n",
      "  > 밴디다스\n",
      "  > 번 애프터 리딩\n",
      "  > None\n",
      "  > 마세티 킬즈\n",
      "\n",
      "cluster # 83 (num movies = 42)\n",
      "  > 연공: 안녕, 사랑하는 모든 것\n",
      "  > 당신이 사랑하는 동안에\n",
      "  > 리틀 디제이\n",
      "  > 블라인드\n",
      "  > 러브레터\n",
      "  > 조제, 호랑이 그리고 물고기들\n",
      "  > 시간 여행자의 아내\n",
      "  > 나 없는 내 인생\n",
      "  > 혐오스런 마츠코의 일생\n",
      "  > 도쿄 타워\n",
      "\n",
      "cluster # 81 (num movies = 46)\n",
      "  > 언브로큰\n",
      "  > 아이 인 더 스카이\n",
      "  > 이미테이션 게임\n",
      "  > 프라미스드 랜드\n",
      "  > 아메리칸 스나이퍼\n",
      "  > 드래프트 데이\n",
      "  > 스파이 브릿지\n",
      "  > 차일드 44\n",
      "  > 코드네임 제로니모\n",
      "  > 스포트라이트\n",
      "\n",
      "cluster # 92 (num movies = 47)\n",
      "  > 와일드 카드\n",
      "  > 노벰버 맨\n",
      "  > 더 건맨\n",
      "  > 포커스\n",
      "  > 크리미널\n",
      "  > 콜롬비아나\n",
      "  > 킬러 엘리트\n",
      "  > 어브덕션\n",
      "  > 라스트맞짱\n",
      "  > 잭 라이언 : 코드네임 쉐도우\n"
     ]
    }
   ],
   "source": [
    "row2movie_id = sorted(doc2vec_model.docvecs.doctags.items(), key=lambda x:x[1].offset)\n",
    "row2movie_id = [row[0].split('_')[1] for row in row2movie_id]\n",
    "row2movie_name = [id2movie.get(row, None) for row in row2movie_id]\n",
    "\n",
    "for label, rows in cluster_to_row.items():\n",
    "    if label < 80: continue\n",
    "    print('\\ncluster # %d (num movies = %d)'%(label, len(rows)))\n",
    "    for row in rows[:10]:\n",
    "        print('  > %s'%row2movie_name[row])"
   ]
  },
  {
   "cell_type": "code",
   "execution_count": 22,
   "metadata": {
    "ExecuteTime": {
     "end_time": "2018-03-13T12:46:48.831657Z",
     "start_time": "2018-03-13T12:46:48.823994Z"
    }
   },
   "outputs": [
    {
     "name": "stdout",
     "output_type": "stream",
     "text": [
      "\n",
      "cluster # 99\n",
      "  > 램페이지 2 - 워싱턴 심판의 날\n",
      "  > 슈퍼 사이즈 미\n",
      "  > 엑스페리먼트\n",
      "  > 엘리트 스쿼드\n",
      "  > 브레이크다운\n",
      "  > 셀 211\n",
      "  > 링컨 차를 타는 변호사\n",
      "  > 아웃브레이크\n",
      "  > 프로스트 VS 닉슨\n",
      "  > 더 팬\n",
      "  > 킬러조\n",
      "  > 월스트리트: 분노의 복수\n",
      "  > 로드 오브 워\n",
      "  > 랜섬\n",
      "  > 세븐\n",
      "  > 에너미 오브 스테이트\n",
      "  > 조디악\n",
      "  > 대결\n",
      "  > 런어웨이\n",
      "  > 악질경찰\n",
      "  > 의뢰인\n",
      "  > 그린 존\n",
      "  > 시티 오브 갓\n",
      "  > 모범시민\n",
      "  > 월 스트리트: 머니 네버 슬립스\n",
      "  > 소셜 네트워크\n",
      "  > 트레이닝 데이\n",
      "  > 엘리트 스쿼드 2\n",
      "  > 램페이지 : 더 테러리스트\n",
      "  > 펠론\n",
      "  > 네고시에이터\n",
      "  > 밴티지 포인트\n",
      "  > 캐치 미 이프 유 캔\n",
      "  > 패스워드\n",
      "  > 더 킬링 룸\n",
      "  > 스테이트 오브 플레이\n",
      "  > 언싱커블\n",
      "  > 이그잼\n",
      "  > 노인을 위한 나라는 없다\n",
      "  > 베리드\n",
      "  > 마이클 클레이튼\n",
      "  > 폰 부스\n",
      "  > 파고\n",
      "  > 어 퓨 굿 맨\n",
      "  > 24 시즌1\n",
      "  > 예언자\n"
     ]
    }
   ],
   "source": [
    "print('\\ncluster # %d'%99)\n",
    "for row in cluster_to_row[99]:\n",
    "    print(\"  > %s\"%(row2movie_name[row]))"
   ]
  },
  {
   "cell_type": "markdown",
   "metadata": {},
   "source": [
    "각 영화가 어떤 군집에 해당하는지를 볼 수 있는 dict를 만듦\n",
    "\n",
    "row2movie_id는 각 row가 어떤 영화인지를 알려주고, clusters는 각 row가 어떤 군집인지를 알려주므로, 이를 아래와 같이 zip을 통하여 함께 for loop을 돌면서 dict의 key:value로 만들어줌\n",
    "\n",
    "    for movie_id, cluster_label in zip(row2movie_id, clusters)..."
   ]
  },
  {
   "cell_type": "code",
   "execution_count": 23,
   "metadata": {
    "ExecuteTime": {
     "end_time": "2018-03-13T12:47:13.625951Z",
     "start_time": "2018-03-13T12:47:13.622010Z"
    }
   },
   "outputs": [],
   "source": [
    "movie_id_to_cluster = {movie_id:cluster_label for movie_id, cluster_label in zip(row2movie_id, clusters)}"
   ]
  },
  {
   "cell_type": "code",
   "execution_count": 24,
   "metadata": {
    "ExecuteTime": {
     "end_time": "2018-03-13T12:58:23.417320Z",
     "start_time": "2018-03-13T12:57:50.367669Z"
    }
   },
   "outputs": [
    {
     "name": "stdout",
     "output_type": "stream",
     "text": [
      "4914\n",
      "100\n"
     ]
    }
   ],
   "source": [
    "if CREATE_MERGED_CORPUS:\n",
    "    with open(tokenized_corpus_fname, encoding='utf-8') as f:\n",
    "        docs = [doc.strip().split('\\t') for doc in f]\n",
    "        movie_idxs, texts, scores = zip(*docs)\n",
    "        \n",
    "    from collections import defaultdict\n",
    "    merged_by_movie = defaultdict(lambda : [])\n",
    "    merged_by_cluster = defaultdict(lambda: [])\n",
    "    \n",
    "    for movie_idx, text in zip(movie_idxs, texts):\n",
    "        merged_by_movie[movie_idx].append(text)\n",
    "        cluster_idx = movie_id_to_cluster[movie_idx]\n",
    "        merged_by_cluster[cluster_idx].append(text)\n",
    "        \n",
    "    print(len(merged_by_movie))\n",
    "    print(len(merged_by_cluster))\n",
    "    \n",
    "    with open('/home/paulkim/workspace/python/Korean_NLP/data/sample_naver_movie_5000/row_as_movie_comments.txt', 'w', encoding='utf-8') as fd:\n",
    "        with open('/home/paulkim/workspace/python/Korean_NLP/data/sample_naver_movie_5000/row_as_movie_comments_movieidx.txt', 'w', encoding='utf-8') as fi:\n",
    "            for movie_id in row2movie_id:\n",
    "                texts = merged_by_movie[movie_id]\n",
    "                texts = ' '.join(texts)\n",
    "                fd.write('%s\\n'%texts)\n",
    "                fi.write('%s\\n'%movie_id)\n",
    "                \n",
    "    with open('/home/paulkim/workspace/python/Korean_NLP/data/sample_naver_movie_5000/row_as_cluster_comments.txt', 'w', encoding='utf-8') as fd:\n",
    "        with open('/home/paulkim/workspace/python/Korean_NLP/data/sample_naver_movie_5000/row_as_cluster_comments_clusterid.txt', 'w', encoding='utf-8') as fi:\n",
    "            for cluster_id in range(len(merged_by_cluster)):\n",
    "                texts = merged_by_cluster[cluster_id]\n",
    "                texts = ' '.join(texts)\n",
    "                fd.write('%s\\n'%texts)\n",
    "                fi.write('%s\\n'%movie_id)"
   ]
  },
  {
   "cell_type": "markdown",
   "metadata": {},
   "source": [
    "영화별/군집별 merged corpus는 하나의 row가 하나의 영화/군집의 리뷰들의 합임. 이를 CountVectorizer를 이용하여 term frequency matrix로 만들어보자\n",
    "\n",
    "Doc2Vec은 각 영화를 리뷰의 기준으로 비슷한 영화들이 비슷한 임베딩 공간에서의 좌표값을 가지도록 만들어주지만, 어떤 단어가 그 영화에 더 자주 등장했는지 알려주는 정보들을 없음. 단어 level에서 특징을 확인하기 위해서는 다시 한 번 term frequency matrix를 만들어야 함\n",
    "\n",
    "나중에 term frequency matrix의 각 항목이 어떤 단어인지 확인하기 위하여\n",
    "vectorizer.vocabulary_의 {단어 : 단어 index} dict를 pickling하게 해둠"
   ]
  },
  {
   "cell_type": "code",
   "execution_count": 29,
   "metadata": {
    "ExecuteTime": {
     "end_time": "2018-03-13T13:17:44.702209Z",
     "start_time": "2018-03-13T13:14:52.685313Z"
    }
   },
   "outputs": [],
   "source": [
    "if CREATE_MERGED_CORPUS_TERMFREQUENCY_MATRIX:\n",
    "    from sklearn.feature_extraction.text import CountVectorizer\n",
    "    from scipy.io import mmwrite\n",
    "    import pickle\n",
    "    \n",
    "    fname = '/home/paulkim/workspace/python/Korean_NLP/data/sample_naver_movie_5000/row_as_movie_comments.txt'\n",
    "    mm_fname = '/home/paulkim/workspace/python/Korean_NLP/data/sample_naver_movie_5000/row_as_movie_comments.mm'\n",
    "    vocab_fname = '/home/paulkim/workspace/python/Korean_NLP/data/sample_naver_movie_5000/row_as_movie_comments_vocab.pkl'\n",
    "    with open(fname, encoding='utf-8') as f:\n",
    "        docs = [doc.strip() for doc in f]\n",
    "        \n",
    "    vectorizer = CountVectorizer(min_df=0.01)\n",
    "    x_by_movie = vectorizer.fit_transform(docs)\n",
    "    mmwrite(mm_fname, x_by_movie)\n",
    "    with open(vocab_fname, 'wb') as f:\n",
    "        pickle.dump(vectorizer.vocabulary_, f)\n",
    "    \n",
    "    \n",
    "    fname = '/home/paulkim/workspace/python/Korean_NLP/data/sample_naver_movie_5000/row_as_cluster_comments.txt'\n",
    "    mm_write = '/home/paulkim/workspace/python/Korean_NLP/data/sample_naver_movie_5000/row_as_cluster_comments.mm'\n",
    "    vocab_fname = '/home/paulkim/workspace/python/Korean_NLP/data/sample_naver_movie_5000/row_as_cluster_comments_vocab.pkl'\n",
    "    with open(fname, encoding='utf-8') as f:\n",
    "        docs = [doc.strip() for doc in f]\n",
    "        \n",
    "    vectorizer = CountVectorizer()\n",
    "    x_by_cluster = vectorizer.fit_transform(docs)\n",
    "    mmwrite(mm_fname, x_by_cluster)\n",
    "    with open(vocab_fname, 'wb') as f:\n",
    "        pickle.dump(vectorizer.vocabulary_, f)"
   ]
  },
  {
   "cell_type": "markdown",
   "metadata": {},
   "source": [
    "각 군집별로 영화 리뷰를 묶은 뒤 만든 tern frequency matrix를 로딩함\n",
    "\n",
    "군집의 크기가 100개이고, 사용된 단어에 frequency filtering 등을 하지 않았기 때문에 x의 shape이 (100, 332528)으로 매우 큰 고차원임을 확인할 수 있음\n",
    "\n",
    "미리 vocabs로부터 \"단어 index --> 단어\"로 이용할 수 있는 int2vocab list를 만들어 둠"
   ]
  },
  {
   "cell_type": "code",
   "execution_count": 34,
   "metadata": {
    "ExecuteTime": {
     "end_time": "2018-03-13T13:29:56.861691Z",
     "start_time": "2018-03-13T13:29:51.066343Z"
    }
   },
   "outputs": [
    {
     "name": "stdout",
     "output_type": "stream",
     "text": [
      "(100, 332582)\n"
     ]
    }
   ],
   "source": [
    "mm_fname = '/home/paulkim/workspace/python/Korean_NLP/data/sample_naver_movie_5000/row_as_movie_comments.mm.mtx'\n",
    "vocab_fname = '/home/paulkim/workspace/python/Korean_NLP/data/sample_naver_movie_5000/row_as_cluster_comments_vocab.pkl'\n",
    "\n",
    "from scipy.io import mmread\n",
    "import pickle\n",
    "\n",
    "x = mmread(mm_fname)\n",
    "print(x.shape)\n",
    "\n",
    "with open(vocab_fname, 'rb') as f:\n",
    "    vocabs = pickle.load(f)\n",
    "    int2vocab = sorted(vocabs.items(), key=lambda x:x[1])\n",
    "    int2vocab = [word for word, idx in int2vocab]"
   ]
  },
  {
   "cell_type": "markdown",
   "metadata": {},
   "source": [
    "L1 Regularized Logistic Regression(Lasso)를 사용해 각 영화 군집의 키워드를 선택. y는 각 영화 군집의 id를 넣어주면 됨\n",
    "\n",
    "이렇게 할 경우에는 한 번에 100개의 영화 군집에 대한 키워드를 모두 학습하는 L1 Softmax Regression이 됨. \n",
    "\n",
    "Multi class classification에서 one vs others와 one vs one은 학습의 편리함과 정확도 사이에서 trade off가 있음. one vs one은 여러 개의 classifier를 매번 학습해야 함"
   ]
  },
  {
   "cell_type": "code",
   "execution_count": 35,
   "metadata": {
    "ExecuteTime": {
     "end_time": "2018-03-13T13:36:05.139887Z",
     "start_time": "2018-03-13T13:32:52.195879Z"
    }
   },
   "outputs": [
    {
     "name": "stdout",
     "output_type": "stream",
     "text": [
      "(100, 332582)\n"
     ]
    }
   ],
   "source": [
    "from sklearn.linear_model import LogisticRegression\n",
    "\n",
    "if TRAIN_LOGISTIC_FULL:\n",
    "    y = list(range(x.shape[0]))\n",
    "    logistic_l1 = LogisticRegression(penalty='l1', C=20)\n",
    "    logistic_l1.fit(x, y)\n",
    "    print(logistic_l1.coef_.shape)\n",
    "    \n",
    "    with open(logistic_l1_full, 'wb') as f:\n",
    "        pickle.dump(logistic_l1, f)\n",
    "        \n",
    "else:\n",
    "    with open(logistic_l1_full, 'rb') as f:\n",
    "        logistic_l1 = pickle.load(f)"
   ]
  },
  {
   "cell_type": "markdown",
   "metadata": {},
   "source": [
    "99번 군집은 공포영화이기 때문에 '킬러', '법정', '살인' 등의 단어들이 등장함. 또한 시리즈 물들이 묶여 있는 것 같음"
   ]
  },
  {
   "cell_type": "code",
   "execution_count": 36,
   "metadata": {
    "ExecuteTime": {
     "end_time": "2018-03-13T13:39:01.165013Z",
     "start_time": "2018-03-13T13:39:01.055982Z"
    }
   },
   "outputs": [
    {
     "name": "stdout",
     "output_type": "stream",
     "text": [
      "44\n",
      "킬러\n",
      "법정\n",
      "핀처\n",
      "페이\n",
      "살인\n",
      "천재\n",
      "허무\n",
      "반복\n",
      "실화\n",
      "결말\n",
      "긴장\n",
      "몰입\n",
      "데이\n",
      "스릴\n",
      "관람객\n",
      "평점\n",
      "마지막\n",
      "내용\n",
      "정말\n",
      "하게\n",
      "연기\n",
      "전개\n",
      "흥미\n",
      "진짜\n",
      "아이들\n",
      "지루\n",
      "었다\n",
      "스토리\n",
      "00\n"
     ]
    }
   ],
   "source": [
    "coef_99 = list(enumerate(logistic_l1.coef_[99, :]))\n",
    "keyword_99 = sorted(coef_99, key=lambda x:x[1], reverse=True)[:100]\n",
    "for word, score in keyword_99:\n",
    "    print(int2vocab[word])\n",
    "    if score == 0: break"
   ]
  },
  {
   "cell_type": "markdown",
   "metadata": {},
   "source": [
    "84번 영화 군집은 액션 영화들이 군집으로 묶여있는 것을 확인할 수 있음\n",
    "\n",
    "L1 regularized regression에서는 coefficient가 0이면 classification에 해당 feature(=단어)를 이용하지 않겠다는 의미임. coefficient의 크기 순으로 정렬을 하였기 때문에 score가 0이 되면 더이상 출력을 하지 않음"
   ]
  },
  {
   "cell_type": "code",
   "execution_count": 37,
   "metadata": {
    "ExecuteTime": {
     "end_time": "2018-03-13T13:41:59.931819Z",
     "start_time": "2018-03-13T13:41:59.813572Z"
    }
   },
   "outputs": [
    {
     "name": "stdout",
     "output_type": "stream",
     "text": [
      "김수로\n",
      "윤계상\n",
      "김윤석\n",
      "송강호\n",
      "장진\n",
      "임창정\n",
      "석규\n",
      "알바\n",
      "정재영\n",
      "웃음\n",
      "성동일\n",
      "웃었\n",
      "었어요\n",
      "강추\n",
      "억지\n",
      "후회\n",
      "류승\n",
      "안하고\n",
      "조폭\n",
      "코믹\n",
      "오랜만에\n",
      "있고\n",
      "대박\n",
      "습니다\n",
      "한국\n",
      "시간\n",
      "관람객\n",
      "있었\n",
      "스토리\n",
      "감동\n",
      "볼만\n",
      "재밋\n",
      "액션\n",
      "황정민\n",
      "웃고\n",
      "진짜\n",
      "눈물\n",
      "있게\n",
      "평점\n",
      "추천\n",
      "하지\n",
      "강동원\n",
      "울었\n",
      "봤어요\n",
      "최고\n",
      "연기\n",
      "정말\n",
      "완전\n",
      "어요\n",
      "코미디\n",
      "재미\n",
      "괜찮\n",
      "기대\n",
      "웃기\n",
      "시사회\n",
      "잼있\n",
      "봤는데\n",
      "00\n"
     ]
    }
   ],
   "source": [
    "coef_84 = list(enumerate(logistic_l1.coef_[84,:]))\n",
    "keyword_84 = sorted(coef_84, key=lambda x:x[1], reverse=True)[:100]\n",
    "for word, score in keyword_84:\n",
    "    print(int2vocab[word])\n",
    "    if score == 0: break"
   ]
  },
  {
   "cell_type": "markdown",
   "metadata": {},
   "source": [
    "## 군집들의 키워드를 추출"
   ]
  },
  {
   "cell_type": "markdown",
   "metadata": {},
   "source": [
    "모든 단어를 이용하지 않고, 모든 문서에서 등장한 빈도수가 1000 이상인 단어들만 선택하여 각 군집의 키워드들을 추출함\n",
    "\n",
    "    x.sum(axis = 0)\n",
    "    \n",
    "은 column 기준으로 row sum을 한 것임. 이 결과를 list로 바꾼 뒤 enumerate를 돌면서 frequency가 1000이 넘는 단어의 index i를 word_atleast_1000에 넣어둠\n",
    "\n",
    "그 결과 32만개의 단어 중에서 7223개의 단어가 선택될 것임\n",
    "\n",
    "mmread()의 return은 Scipy의 Sparse Matrix 중 COO Matrix임. Sparse Matrix는 다앙한 종류가 있음. 하지만 coo matrix는 matrix[:, j]와 같은 slice가 되지 않음. slice가 가능한 CSR Matrix로 그 형식을 바꾼 뒤, 빈도수가 1000이 넘는 단어 리스트만을 선택한 sub-matrix, x_atleast_1000을 만듦\n",
    "\n",
    "    x.tocsr()[:, word_atleast_1000]\n",
    "    \n",
    "이미 x의 type이 csr matrix라면 아래와 같이 slice하면 됨\n",
    "\n",
    "    x[:, word_atleast_1000]\n",
    "    \n",
    "그 결과 (100, 7223)의 부분행렬이 만들어짐을 볼 수 있음"
   ]
  },
  {
   "cell_type": "code",
   "execution_count": 38,
   "metadata": {
    "ExecuteTime": {
     "end_time": "2018-03-13T13:45:55.202708Z",
     "start_time": "2018-03-13T13:45:54.768096Z"
    }
   },
   "outputs": [
    {
     "name": "stdout",
     "output_type": "stream",
     "text": [
      "[0, 1, 21, 23, 101, 184, 243, 394, 428, 492] ...\n",
      "7223\n",
      "(100, 7223)\n"
     ]
    }
   ],
   "source": [
    "word_atleast_1000 = x.sum(axis=0)[0, :].tolist()[0]\n",
    "word_atleast_1000 = [i for i, freq in enumerate(word_atleast_1000) if freq >= 1000]\n",
    "print(word_atleast_1000[:10], '...')\n",
    "print(len(word_atleast_1000))\n",
    "\n",
    "x_atleast_1000 = x.tocsr()[:, word_atleast_1000]\n",
    "print(x_atleast_1000.shape)"
   ]
  },
  {
   "cell_type": "markdown",
   "metadata": {},
   "source": [
    "이를 이용하여 다시 한 번 99번과 84번 군집의 키워드를 추출해보자. 이 때 아래처럼 단어를 print하는 함수가 바뀜\n",
    "\n",
    "    print(int2vocab[word])\n",
    "    \n",
    "    -> print(int2vocab[word_atleast_1000[word]])\n",
    "    \n",
    "이는, 앞서에서는 모든 단어를 포함하는 term frequency matrix, x를 이용했지만,\n",
    "x_atleast_1000는 그 중에서 빈도수가 1000이 넘는 단어들만 포함되어 있음. 그리고\n",
    "column index는 x와 다름. x_atleast_1000의 column index에 해당하는 단어들을 위해서 정의했던 word_atleast_1000에 저장되어 있는 아래의 단어들임\n",
    "\n",
    "    [0, 1, 21, 23, 101, 184, ...]\n",
    "    \n",
    "그러므로 아래의 word는 정확히는 word_atleast_1000의 index이기 때문에\n",
    "word_atleast_1000을 한 번 거쳐서 실제 word index를 가져온 것임\n",
    "\n",
    "    for word, score in keyword_99_atleast_1000:\n",
    "       \n",
    "    word : word_atleast_1000에서의 index\n",
    "    word_atleast_1000[word]: 실제 단어의 index"
   ]
  },
  {
   "cell_type": "code",
   "execution_count": 39,
   "metadata": {
    "ExecuteTime": {
     "end_time": "2018-03-13T13:53:47.006841Z",
     "start_time": "2018-03-13T13:53:38.125639Z"
    }
   },
   "outputs": [
    {
     "name": "stdout",
     "output_type": "stream",
     "text": [
      "cluster $ 99 keywords\n",
      "킬러\n",
      "44\n",
      "법정\n",
      "핀처\n",
      "살인\n",
      "페이\n",
      "천재\n",
      "허무\n",
      "결말\n",
      "실화\n",
      "긴장\n",
      "데이\n",
      "몰입\n",
      "스릴\n",
      "관람객\n",
      "습니다\n",
      "평점\n",
      "아이\n",
      "마지막\n",
      "아이들\n",
      "시간\n",
      "연기\n",
      "지루\n",
      "내용\n",
      "흥미\n",
      "00\n"
     ]
    }
   ],
   "source": [
    "if TRAIN_LOGISTIC_MIN_1000:\n",
    "    logistic_l1_atleast_1000 = LogisticRegression(penalty='l1', C=15)\n",
    "    logistic_l1_atleast_1000.fit(x_atleast_1000, y)\n",
    "    \n",
    "    with open(logistic_l1_min1000, 'wb') as f:\n",
    "        pickle.dump(logistic_l1_atleast_1000, f)\n",
    "        \n",
    "else:\n",
    "    with open(logistic_l1_atleast_1000, 'rb') as f:\n",
    "        logistic_l1_atleast_1000 = pickle.load(f)\n",
    "        \n",
    "print('cluster $ %d keywords'%99)\n",
    "coef_99_atleast_1000 = list(enumerate(logistic_l1_atleast_1000.coef_[99, :]))\n",
    "keyword_99_atleast_1000 = sorted(coef_99_atleast_1000, key=lambda x:x[1], reverse=True)[:100]\n",
    "for word, score in keyword_99_atleast_1000:\n",
    "    print(int2vocab[word_atleast_1000[word]])\n",
    "    if score == 0: break"
   ]
  },
  {
   "cell_type": "code",
   "execution_count": 40,
   "metadata": {
    "ExecuteTime": {
     "end_time": "2018-03-13T13:56:49.407708Z",
     "start_time": "2018-03-13T13:56:49.393584Z"
    }
   },
   "outputs": [
    {
     "name": "stdout",
     "output_type": "stream",
     "text": [
      "\n",
      "cluster # 84 keywords\n",
      "윤계상\n",
      "김수로\n",
      "김윤석\n",
      "송강호\n",
      "성동일\n",
      "장진\n",
      "임창정\n",
      "알바\n",
      "웃고\n",
      "코믹\n",
      "웃음\n",
      "었어요\n",
      "웃기\n",
      "코미디\n",
      "관람객\n",
      "볼만\n",
      "습니다\n",
      "잼있\n",
      "스토리\n",
      "연기\n",
      "감동\n",
      "봤어요\n",
      "억지\n",
      "배우\n",
      "재미\n",
      "봤는데\n",
      "대박\n",
      "정말\n",
      "평점\n",
      "재밌\n",
      "있고\n",
      "어요\n",
      "00\n"
     ]
    }
   ],
   "source": [
    "print('\\ncluster # %d keywords' % 84)\n",
    "coef_84_atleast_1000 = list(enumerate(logistic_l1_atleast_1000.coef_[84,:]))\n",
    "keyword_84_atleast_1000 = sorted(coef_84_atleast_1000, key=lambda x:x[1], reverse=True)[:100]\n",
    "for word, score in keyword_84_atleast_1000:\n",
    "    print(int2vocab[word_atleast_1000[word]])\n",
    "    if score == 0: break"
   ]
  },
  {
   "cell_type": "code",
   "execution_count": null,
   "metadata": {},
   "outputs": [],
   "source": []
  }
 ],
 "metadata": {
  "kernelspec": {
   "display_name": "Python (python3_0901)",
   "language": "python",
   "name": "python3_0901"
  },
  "language_info": {
   "codemirror_mode": {
    "name": "ipython",
    "version": 3
   },
   "file_extension": ".py",
   "mimetype": "text/x-python",
   "name": "python",
   "nbconvert_exporter": "python",
   "pygments_lexer": "ipython3",
   "version": "3.6.3"
  },
  "latex_envs": {
   "LaTeX_envs_menu_present": true,
   "autoclose": false,
   "autocomplete": true,
   "bibliofile": "biblio.bib",
   "cite_by": "apalike",
   "current_citInitial": 1,
   "eqLabelWithNumbers": true,
   "eqNumInitial": 1,
   "hotkeys": {
    "equation": "Ctrl-E",
    "itemize": "Ctrl-I"
   },
   "labels_anchors": false,
   "latex_user_defs": false,
   "report_style_numbering": false,
   "user_envs_cfg": false
  },
  "varInspector": {
   "cols": {
    "lenName": 16,
    "lenType": 16,
    "lenVar": 40
   },
   "kernels_config": {
    "python": {
     "delete_cmd_postfix": "",
     "delete_cmd_prefix": "del ",
     "library": "var_list.py",
     "varRefreshCmd": "print(var_dic_list())"
    },
    "r": {
     "delete_cmd_postfix": ") ",
     "delete_cmd_prefix": "rm(",
     "library": "var_list.r",
     "varRefreshCmd": "cat(var_dic_list()) "
    }
   },
   "types_to_exclude": [
    "module",
    "function",
    "builtin_function_or_method",
    "instance",
    "_Feature"
   ],
   "window_display": false
  }
 },
 "nbformat": 4,
 "nbformat_minor": 2
}
