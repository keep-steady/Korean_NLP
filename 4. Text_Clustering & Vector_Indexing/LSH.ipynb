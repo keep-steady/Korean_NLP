{
 "cells": [
  {
   "cell_type": "markdown",
   "metadata": {},
   "source": [
    "Locality Sensitive Hashing (LSH)의 실습을 위해 50차원 크기의 인공데이터 100만개를 만듦"
   ]
  },
  {
   "cell_type": "code",
   "execution_count": 4,
   "metadata": {
    "ExecuteTime": {
     "end_time": "2018-03-15T10:53:31.443227Z",
     "start_time": "2018-03-15T10:53:31.441167Z"
    }
   },
   "outputs": [],
   "source": [
    "mm_fname = '/home/paulkim/workspace/python/Korean_NLP/data/corpus_10days/models/2016-10-20_noun_x.mm.mtx'\n",
    "corpus_fname = '/home/paulkim/workspace/python/Korean_NLP/data/corpus_10days/news/2016-10-20_article_all_normed.txt'"
   ]
  },
  {
   "cell_type": "markdown",
   "metadata": {},
   "source": [
    "mmread(fname)의 return type은 coo_matrix이며, 이는 slice가 안됨. 그렇기 때문에 csr_matrix로 바꿔야함\n",
    "\n",
    "x.shape와 len(docs)의 길이가 맞는지도 확인"
   ]
  },
  {
   "cell_type": "code",
   "execution_count": 5,
   "metadata": {
    "ExecuteTime": {
     "end_time": "2018-03-15T10:55:01.704196Z",
     "start_time": "2018-03-15T10:54:59.692396Z"
    }
   },
   "outputs": [
    {
     "name": "stdout",
     "output_type": "stream",
     "text": [
      "(30091, 2611) 30091\n"
     ]
    }
   ],
   "source": [
    "from scipy.io import mmread\n",
    "x = mmread(mm_fname).tocsr()\n",
    "\n",
    "with open(corpus_fname, encoding='utf-8') as f:\n",
    "    docs = [doc.strip() for doc in f]\n",
    "    \n",
    "print(x.shape, len(docs))"
   ]
  },
  {
   "cell_type": "markdown",
   "metadata": {},
   "source": [
    "임의의 문서 하나를 선택함. 미르재단과 최순실과의 관계에 대한 뉴스\n",
    "\n",
    "이 뉴스의 term frequency vector는 x[2317, :]으로 선택할 수 있음"
   ]
  },
  {
   "cell_type": "code",
   "execution_count": 6,
   "metadata": {
    "ExecuteTime": {
     "end_time": "2018-03-15T10:55:37.923368Z",
     "start_time": "2018-03-15T10:55:37.914169Z"
    }
   },
   "outputs": [
    {
     "data": {
      "text/plain": [
       "'서울 연합뉴스 비선 실세 논란의 중심에 선 최순실씨를 둘러싼 각종 의혹이 난무하고 있다 전경련이 800억 원 가까운 기금을 내 만든 문화 스포츠 재단인 미르와 스포츠 설립 및 인사 관련 논란으로 출발한 최순실씨의 재단 사유화 의혹은 정경유착 논쟁으로 번지면서 최대 재계 단체인 전국경제인연합회의 해체 압력으로 이어졌고 최씨 딸의 이화여대 체육특기자 입학과 성적 등 학사관리를 둘러싼 특혜 의혹은 최경희 총장의 사퇴를 부르는 등 파문이 확산되고 있다 최씨가 사실상의 소유주라는 의심을 받는 더블루케이와 최씨 모녀의 개인회사인 비텍스포츠는 스포츠재단을 통해 들어온 돈을 사적으로 쓰려 했다는 보도까지 나왔다 여기에 최씨 모녀의 부적절한 언동이 를 타고 퍼지면서 여론이 악화하고 있다  청와대는 미르 스포츠재단 기금 모금과 관련한 청와대 연루설에 대해서는 이미 사실무근 이라고 부인하면서 야권의 부당한 정치 공세라고 반박한 바 있다 전경련도 미르와 스포츠는 기업들이 자발적으로 설립한 재단으로 권력의 개입은 없었다고 밝혔다 하지만 의혹이 수그러들기는커녕 갈수록 가지를 뻗고 있어 이 문제를 그냥 넘길 수 없는 상황이 됐다 여권 내부에서조차 비주류를 중심으로 권력형 비리 파문으로 확산하는 것을 차단하기 위해서라도 검찰 수사 등을 통해 신속히 진상을 규명해야 한다는 목소리가 커지고 있다 일각에서는 미르 스포츠재단 문제가 블랙홀처럼 모든 현안을 빨아들이는 판에 집권 여당이 진상 규명을 막는 듯한 모습을 보이는 것은 향후 국정 운영에 부담이 될 것이라고 우려한다 야권에서는 지금까지 불거진 최씨와 관련한 각종 의혹을 최순실 게이트 로 규정하고 국정조사와 특검까지 거론하고 있다  박근혜 대통령은 이와 관련 20일 수석비서관회의에서 어느 누구라도 재단과 관련해 자금 유용 등 불법 행위를 저질렀다면 엄정하게 처벌받을 것 이라고 밝혔다 한 달 전 미르 스포츠재단 의혹이 불거진 이후 박 대통령이 이처럼 구체적으로 언급한 건 처음이다 박 대통령은 문화 체육 분야를 집중 지원하고 우리 문화를 알리며 어려운 체육 인재들을 키움으로써 해외시장을 개척하고 수익 창출을 확대하고자 기업들이 뜻을 모아 만들게 된 것이 두 재단의 성격으로 알고 있으며 과거에도 많은 재단이 기업의 후원으로 이런 사회적 역할을 해 왔는데 전경련이 나서고 기업들이 동의해 준 것은 감사한 일이라고 생각한다 고도 했다 특정인을 위한 단체라는 세간의 의혹에 선을 긋는 한편 전경련에 쏠린 여론의 부정적 인식을 바로잡을 필요가 있다고 판단한 것으로 보인다  지금 우리나라는 전례 없는 경제 안보 복합 위기를 맞고 있다 이런 때에 박 대통령의 지인으로 알려진 최씨에 대한 의혹이 청와대와 정부의 국정 리더십을 해친다면 이대로 두고 볼 일은 아니다 이를 둘러싼 정쟁을 매일 접해야 하는 국민의 피로감은 높아지고 있다 사실관계를 엄정하게 가려 의혹을 털어내야 할 것이다 이를 위해선 검찰이 나서 제기된 문제와 루머의 실체를 규명할 수밖에 없다 검찰은 지난달 시민단체인 투기자본감시센터가 두 재단의 설립과 기금 모금 과정에서의 의혹을 밝혀달라며 최순실씨 등을 고발한 사건 수사에 착수했으나 문제를 파헤치려는 적극적인 움직임을 보이지 않는다는 지적이 나오고 있다 하지만 박 대통령이 불법 행위에 대한 엄정한 처벌을 언급한 만큼 머뭇거릴 이유가 없을 것이다 철저하고 신속한 수사를 통해 의혹의 실체를 규명하기 바란다'"
      ]
     },
     "execution_count": 6,
     "metadata": {},
     "output_type": "execute_result"
    }
   ],
   "source": [
    "docs[2317]"
   ]
  },
  {
   "cell_type": "markdown",
   "metadata": {},
   "source": [
    "LSHForest를 이용하여 Cosine distance 기준으로 유사한 문서를 찾아봄."
   ]
  },
  {
   "cell_type": "code",
   "execution_count": 7,
   "metadata": {
    "ExecuteTime": {
     "end_time": "2018-03-15T10:56:45.335829Z",
     "start_time": "2018-03-15T10:56:44.958954Z"
    }
   },
   "outputs": [
    {
     "name": "stderr",
     "output_type": "stream",
     "text": [
      "/home/paulkim/anaconda3/envs/python3_0901/lib/python3.6/site-packages/sklearn/neighbors/approximate.py:220: DeprecationWarning: LSHForest has poor performance and has been deprecated in 0.19. It will be removed in version 0.21.\n",
      "  DeprecationWarning)\n"
     ]
    },
    {
     "name": "stdout",
     "output_type": "stream",
     "text": [
      "CPU times: user 374 ms, sys: 0 ns, total: 374 ms\n",
      "Wall time: 372 ms\n"
     ]
    }
   ],
   "source": [
    "%%time\n",
    "\n",
    "from sklearn.neighbors import LSHForest\n",
    "lsh = LSHForest()\n",
    "lsh.fit(x)"
   ]
  },
  {
   "cell_type": "markdown",
   "metadata": {},
   "source": [
    "2317번 문서와 유사한 10개의 문서를 선택함. 가장 비슷한 문서는 2317번이어야 함"
   ]
  },
  {
   "cell_type": "code",
   "execution_count": 8,
   "metadata": {
    "ExecuteTime": {
     "end_time": "2018-03-15T10:57:24.776226Z",
     "start_time": "2018-03-15T10:57:24.757843Z"
    }
   },
   "outputs": [],
   "source": [
    "dist, idxs = lsh.kneighbors(x[2317, :], n_neighbors=10)"
   ]
  },
  {
   "cell_type": "markdown",
   "metadata": {},
   "source": [
    "2317번을 포함한 10개의 문서에 대하여 각 문서 별 200글자까지만 snippest를 출력하여 그 내용을 확인함. 이와 같이 비슷한 문서를 찾는 문제에서는 LSHForest를 쓰면 편리함\n",
    "\n",
    "또한, 문서는 어느 정도 길이가 긴 문선인 것이 좋음. 짧은 문서는 too much sparse하여 인덱싱이 잘 되지 않을 수 있음"
   ]
  },
  {
   "cell_type": "code",
   "execution_count": 9,
   "metadata": {
    "ExecuteTime": {
     "end_time": "2018-03-15T10:59:05.120921Z",
     "start_time": "2018-03-15T10:59:05.115325Z"
    }
   },
   "outputs": [
    {
     "name": "stdout",
     "output_type": "stream",
     "text": [
      "서울 연합뉴스 비선 실세 논란의 중심에 선 최순실씨를 둘러싼 각종 의혹이 난무하고 있다 전경련이 800억 원 가까운 기금을 내 만든 문화 스포츠 재단인 미르와 스포츠 설립 및 인사 관련 논란으로 출발한 최순실씨의 재단 사유화 의혹은 정경유착 논쟁으로 번지면서 최대 재계 단체인 전국경제인연합회의 해체 압력으로 이어졌고 최씨 딸의 이화여대 체육특기자 입학과 성 ...\n",
      "\n",
      "한겨레 검찰 수사로 정권 불똥 막기  의미있는 사업에 인신공격  강제모금 초고속 설립 모르쇠  퇴임 대비한 재단 의혹 부인  박근혜 대통령이 20일 오후 청와대에서 열린 수석비서관회의에서 참석자들에게 자리를 안내하고 있다 왼쪽으로 안종범 정책조정수석과 그 뒤로 우병우 민정수석이 보인다 청와대사진기자단  박근혜 대통령이 20일 비선 실세 로 알려진 최순실 6 ...\n",
      "\n",
      "미르 스포츠재단 의혹 관련  검찰에 철저한 수사 지시  퇴임후 대비 사실 아냐 일축  최순실 논란 침묵 깨고 첫 언급  기업들 뜻 모아 만든 재단  강제모금설 부인 수사 영향  박근혜 대통령은 20일 대기업들이 낸 미르 스포츠재단 자금을 최순실 60 최서원으로 개명 씨가 빼돌려 쓰고 재단을 사유화했다는 의혹에 대해 어느 누구라도 재단과 관련해 자금 유용 등 ...\n",
      "\n",
      "수석회의 모두 발언 절반 할애 기업들 자발적으로 자금 모금 검찰에 수사 가이드라인 제시 최씨 재단설립 개입 여부 언급 안해 야 공세에 인신공격성 논란 규정 사실상 최순실 감싸기 지적 일어  박근혜 대통령이 20일 미르 스포츠 재단 설립 과정과 모금 경위에 대해 설명한 것은 자신의 최측근인 최순실씨가 두 재단 의혹의 중심에 있다는 파장이 확산되는 것을 차단하 ...\n",
      "\n",
      "수석비서관회의에서 인신공격성 논란 기업의 순수한 참여의지로 이뤄진 문화융성 사업 이화여대 특혜는 언급 없어 미디어오늘 이재진 기자 박근혜 대통령이 최순실씨 의혹을 도가 지나친 인식 공격성 논란으로 규정했다  박 대통령은 20일 청와대에서 주재한 수석비서관회의에서 의미있는 사업에 대해 의혹이 확산되고 도를 지나치게 인식 공격성 논란이 계속 이어진다면 문화 융 ...\n",
      "\n",
      "서울신문  사실상 수사 가이드라인 제시  검찰 문체부 직원 2명 소환조사  박근혜 대통령이 20일 청와대에서 수석비서관회의를 열고 모두 발언을 하고 있다 대통령 왼쪽으로 안종범 정책조정수석 우병우 민정수석 현대원 미래전략수석 연합뉴스박근혜 대통령은 20일 미르재단 및 스포츠재단 설립과 관련한 최순실씨 의혹에 대해 그동안 진행된 국정감사에서 경제단체 주도로  ...\n",
      "\n",
      "청 수석회의서 불법 있으면 엄정 처벌 말했지만 9분 동안 대리 해명 검찰 수사 시점에 또 가이드라인  박근혜 대통령은 20일 비선 실세 로 지목된 최순실씨 등이 연루된 미르재단 스포츠재단 논란을 두고 의미 있는 사업에 대해 의혹이 확산되고 도를 지나치게 인신공격성 논란이 계속 이어진다 고 비판했다  강제모금 자금 불법유용 등 각종 의혹에도 두 재단 일을 의 ...\n",
      "\n",
      "모두 발언 18분중 절반 이상을 재단과 비선실세 의혹 해명  역대 최저지지율에 국정 부담  권력형 아닌 개인비리 해석  박근혜 대통령이 20일 청와대에서 수석비서관회의를 주재한 자리에서 모두발언을 하고 있다 사진제공 연합뉴스 아시아경제 최일권 기자 박근혜 대통령은 20일 청와대에서 수석비서관회의를 주재하면서 미르와 스포츠재단 모금 관련 의혹에 10여 분을  ...\n",
      "\n",
      "미르 스포츠재단 사유화 시도 의혹 본격수사 관심  서울 연합뉴스 차대운 박경준 기자 현 정부 비선 실세 의혹을 받고 있는 최순실 최서원으로 개명 씨가 대기업들이 800억원대 거금을 출연해 설립한 미르재단과 스포츠재단을 사유화하려 했다는 의혹이 거세게 일고 있다  사건 초기만 해도 대기업들이 이들 재단에 거액을 몰아준 배경에 관심이 쏠렸지만 최씨가 직접 소유 ...\n",
      "\n",
      "파도 파도 계속되는 최순실 의혹 검찰 본격수사 돌입하나  사진 연합뉴스  현 정부 비선 실세 의혹을 받고 있는 최순실 최서원으로 개명 씨가 대기업들이 800억원대 거금을 출연해 설립한 미르재단과 스포츠재단을 사유화하려 했다는 의혹이 거세게 일고 있습니다  사건 초기만 해도 대기업들이 이들 재단에 거액을 몰아준 배경에 관심이 쏠렸지만 최씨가 직접 소유하거나  ...\n",
      "\n"
     ]
    }
   ],
   "source": [
    "for similar_doc in idxs[0]:\n",
    "    print('%s ...\\n'%docs[similar_doc][:200])"
   ]
  },
  {
   "cell_type": "code",
   "execution_count": null,
   "metadata": {},
   "outputs": [],
   "source": []
  }
 ],
 "metadata": {
  "kernelspec": {
   "display_name": "Python (python3_0901)",
   "language": "python",
   "name": "python3_0901"
  },
  "language_info": {
   "codemirror_mode": {
    "name": "ipython",
    "version": 3
   },
   "file_extension": ".py",
   "mimetype": "text/x-python",
   "name": "python",
   "nbconvert_exporter": "python",
   "pygments_lexer": "ipython3",
   "version": "3.6.3"
  },
  "latex_envs": {
   "LaTeX_envs_menu_present": true,
   "autoclose": false,
   "autocomplete": true,
   "bibliofile": "biblio.bib",
   "cite_by": "apalike",
   "current_citInitial": 1,
   "eqLabelWithNumbers": true,
   "eqNumInitial": 1,
   "hotkeys": {
    "equation": "Ctrl-E",
    "itemize": "Ctrl-I"
   },
   "labels_anchors": false,
   "latex_user_defs": false,
   "report_style_numbering": false,
   "user_envs_cfg": false
  },
  "varInspector": {
   "cols": {
    "lenName": 16,
    "lenType": 16,
    "lenVar": 40
   },
   "kernels_config": {
    "python": {
     "delete_cmd_postfix": "",
     "delete_cmd_prefix": "del ",
     "library": "var_list.py",
     "varRefreshCmd": "print(var_dic_list())"
    },
    "r": {
     "delete_cmd_postfix": ") ",
     "delete_cmd_prefix": "rm(",
     "library": "var_list.r",
     "varRefreshCmd": "cat(var_dic_list()) "
    }
   },
   "types_to_exclude": [
    "module",
    "function",
    "builtin_function_or_method",
    "instance",
    "_Feature"
   ],
   "window_display": false
  }
 },
 "nbformat": 4,
 "nbformat_minor": 2
}
