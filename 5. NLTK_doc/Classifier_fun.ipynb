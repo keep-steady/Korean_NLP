{
 "cells": [
  {
   "cell_type": "markdown",
   "metadata": {},
   "source": [
    "## Data : 20 Newsgroups"
   ]
  },
  {
   "cell_type": "markdown",
   "metadata": {},
   "source": [
    "### Basic exploration"
   ]
  },
  {
   "cell_type": "code",
   "execution_count": 1,
   "metadata": {
    "ExecuteTime": {
     "end_time": "2018-03-17T07:40:47.702888Z",
     "start_time": "2018-03-17T07:40:47.434669Z"
    }
   },
   "outputs": [],
   "source": [
    "from pprint import pprint\n",
    "import numpy as np\n",
    "from sklearn.datasets import fetch_20newsgroups"
   ]
  },
  {
   "cell_type": "code",
   "execution_count": 2,
   "metadata": {
    "ExecuteTime": {
     "end_time": "2018-03-17T07:40:48.426194Z",
     "start_time": "2018-03-17T07:40:48.139184Z"
    }
   },
   "outputs": [],
   "source": [
    "newsgroups = fetch_20newsgroups(subset='all')"
   ]
  },
  {
   "cell_type": "code",
   "execution_count": 3,
   "metadata": {
    "ExecuteTime": {
     "end_time": "2018-03-17T07:40:50.016199Z",
     "start_time": "2018-03-17T07:40:50.011362Z"
    }
   },
   "outputs": [
    {
     "name": "stdout",
     "output_type": "stream",
     "text": [
      "['alt.atheism',\n",
      " 'comp.graphics',\n",
      " 'comp.os.ms-windows.misc',\n",
      " 'comp.sys.ibm.pc.hardware',\n",
      " 'comp.sys.mac.hardware',\n",
      " 'comp.windows.x',\n",
      " 'misc.forsale',\n",
      " 'rec.autos',\n",
      " 'rec.motorcycles',\n",
      " 'rec.sport.baseball',\n",
      " 'rec.sport.hockey',\n",
      " 'sci.crypt',\n",
      " 'sci.electronics',\n",
      " 'sci.med',\n",
      " 'sci.space',\n",
      " 'soc.religion.christian',\n",
      " 'talk.politics.guns',\n",
      " 'talk.politics.mideast',\n",
      " 'talk.politics.misc',\n",
      " 'talk.religion.misc']\n"
     ]
    }
   ],
   "source": [
    "pprint(newsgroups.target_names)"
   ]
  },
  {
   "cell_type": "code",
   "execution_count": 4,
   "metadata": {
    "ExecuteTime": {
     "end_time": "2018-03-17T07:40:51.621672Z",
     "start_time": "2018-03-17T07:40:51.618260Z"
    }
   },
   "outputs": [
    {
     "name": "stdout",
     "output_type": "stream",
     "text": [
      "18846\n"
     ]
    }
   ],
   "source": [
    "print(len(newsgroups.data))"
   ]
  },
  {
   "cell_type": "code",
   "execution_count": 5,
   "metadata": {
    "ExecuteTime": {
     "end_time": "2018-03-17T07:40:53.223006Z",
     "start_time": "2018-03-17T07:40:53.219634Z"
    }
   },
   "outputs": [
    {
     "name": "stdout",
     "output_type": "stream",
     "text": [
      "From: tomh@metrics.com (Tom Haapanen)\n",
      "Subject: RFD: comp.os.ms-windows.nt.{misc,setup}\n",
      "Organization: Software Metrics Inc.\n",
      "Lines: 76\n",
      "NNTP-Posting-Host: rodan.uu.net\n",
      "\n",
      "This is the official Request for Discussion (RFD) for the creation of two\n",
      "new newsgroups for Microsoft Windows NT.  This is a second RFD, replacing\n",
      "the one originally posted in January '93 (and never taken to a vote).  The\n",
      "proposed groups are described below:\n",
      "\n",
      "NAME: \t comp.os.ms-windows.nt.setup\n",
      "STATUS:  Unmoderated.\n",
      "PURPOSE: Discussions about setting up and installing Windows NT, and about\n",
      "\t system and peripheral compatability issues for Windows NT.\n",
      "\n",
      "NAME:\t comp.os.ms-windows.nt.misc\n",
      "STATUS:\t Unmoderated.\n",
      "PURPOSE: Miscellaneous non-programming discussions about using Windows NT,\n",
      "\t including issues such as security, networking features, console\n",
      "\t mode and Windows 3.1 (Win16) compatability.\n",
      "\n",
      "RATIONALE:\n",
      "\tMicrosoft NT is the newest member of the Microsoft Windows family\n",
      "\tof operating systems (or operating environments for those who wish\n",
      "\tto argue about the meaning of an \"OS\").  The family ranges from\n",
      "\tModular Windows through Windows 3.1 and Windows for Workgroups to\n",
      "\tWindows NT at the high end.  To date, Microsoft has shipped over\n",
      "\t50,000 beta copies and pre-release SDKs of Windows NT -- the\n",
      "\tactual release is slated for May/June '93.\n",
      "\n",
      "\tWhile Windows NT has an entirely new design internally, it shares\n",
      "\tan application programming interface with the other members of the\n",
      "\tWindows family; its Win32 API includes the Win16 API used in Win-\n",
      "\tdows 3.1, and the Win32s API subset (Win32 less threads, networking\n",
      "\tand security) can be used to create 32-bit applications for\n",
      "\tWindows 3.1.\n",
      "\n",
      "\tThe user interface is also practically identical to that of Windows\n",
      "\t3.1, with the addition of logins and a few other features.  It uses\n",
      "\tProgram Manager, File Manager and other applets, and generally pre-\n",
      "\tsents an identical appearance to the user.  Many of the announced\n",
      "\tWindows NT applications are ports of existing Windows 3.1 apps, and\n",
      "\tNT also runs existing 3.1 applications.\n",
      "\n",
      "\tThus, it appears logical that Windows NT should share the following\n",
      "\tgroups with the other members of the Windows family:\n",
      "\t\tcomp.os.ms-windows.apps\n",
      "\t\tcomp.os.ms-windows.programmer.tools\n",
      "\t\tcomp.os.ms-windows.programmer.misc\n",
      "\t\tcomp.os.ms-windows.programmer.win32\n",
      "\t\n",
      "\tThe following groups are also clearly applicable to Windows NT as\n",
      "\twell as Windows 3.1:\n",
      "\t\tcomp.os.ms-windows.announce\n",
      "\t\tcomp.os.ms-windows.advocacy\n",
      "\t\n",
      "\tIn conclusion, the only clear argument for the separation of the\n",
      "\tWindows 3.1 and Windows NT hierarchies is different internal\n",
      "\tstructures of Windows 3.1 and Windows NT.  And yet operating\n",
      "\tsystems such as OS/2, Macintosh OS, Xenix and Coherent all have\n",
      "\tundergone major rewrites without having been split into separate\n",
      "\tnewsgroup hierarchies.\n",
      "\n",
      "\tFurther, Windows 3.1 is due for a major rewrite itself in 1994 --\n",
      "\twhen the fully 32-bit, protected-mode and with-DOS-built-in next-\n",
      "\tgeneration Windows, \"Chicago\", debuts next year, surely it should\n",
      "\tremain in the same hierarchy.  And what, then, would be the jus-\n",
      "\ttification for separating Windows NT from other Windows versions?\n",
      "\n",
      "\n",
      "DISCUSSION PERIOD:\n",
      "\tThe discussion period will run from 27 April, 1992 to 18 May, 1993.  \n",
      "\n",
      "VOTING:\n",
      "\tThe CFV (Call for Votes) will be issued around 19 May, 1993, based on\n",
      "\tthe feedback received during the discussion period.  No votes will\n",
      "\tbe accepted prior to the CFV.\n",
      "-- \n",
      "[ /tom haapanen -- tomh@metrics.com -- software metrics inc -- waterloo, ont ]\n",
      "[       \"stick your index fingers into both corners of your mouth.  now pull ]\n",
      "[          up.  that's how the corrado makes you feel.\"  -- car, january '93 ]\n",
      "\n"
     ]
    }
   ],
   "source": [
    "print(newsgroups.data[2000])"
   ]
  },
  {
   "cell_type": "code",
   "execution_count": 6,
   "metadata": {
    "ExecuteTime": {
     "end_time": "2018-03-17T07:40:54.806578Z",
     "start_time": "2018-03-17T07:40:54.803744Z"
    }
   },
   "outputs": [
    {
     "name": "stdout",
     "output_type": "stream",
     "text": [
      "2\n"
     ]
    }
   ],
   "source": [
    "print(newsgroups.target[2000])"
   ]
  },
  {
   "cell_type": "code",
   "execution_count": 7,
   "metadata": {
    "ExecuteTime": {
     "end_time": "2018-03-17T07:40:56.455474Z",
     "start_time": "2018-03-17T07:40:56.387058Z"
    }
   },
   "outputs": [
    {
     "data": {
      "text/plain": [
       "'comp.os.ms-windows.misc'"
      ]
     },
     "execution_count": 7,
     "metadata": {},
     "output_type": "execute_result"
    }
   ],
   "source": [
    "# 타겟의 인덱스 값을 넣으면 실제 데이터의 값을 확인할 수 있음\n",
    "newsgroups.target_names[2]"
   ]
  },
  {
   "cell_type": "code",
   "execution_count": 8,
   "metadata": {
    "ExecuteTime": {
     "end_time": "2018-03-17T07:40:58.073152Z",
     "start_time": "2018-03-17T07:40:58.070612Z"
    }
   },
   "outputs": [
    {
     "name": "stdout",
     "output_type": "stream",
     "text": [
      "comp.os.ms-windows.misc\n"
     ]
    }
   ],
   "source": [
    "print(newsgroups.target_names[newsgroups.target[2000]])"
   ]
  },
  {
   "cell_type": "code",
   "execution_count": 9,
   "metadata": {
    "ExecuteTime": {
     "end_time": "2018-03-17T07:40:59.669933Z",
     "start_time": "2018-03-17T07:40:59.666572Z"
    }
   },
   "outputs": [],
   "source": [
    "def get_content(newsgroups, news_id):\n",
    "    print('[CONTENT]')\n",
    "    print(newsgroups.data[news_id])\n",
    "    print('\\n[CLASS]: %s (index = %d)'%(newsgroups.target_names[newsgroups.target[news_id]], newsgroups.target[news_id]))"
   ]
  },
  {
   "cell_type": "code",
   "execution_count": 10,
   "metadata": {
    "ExecuteTime": {
     "end_time": "2018-03-17T07:41:01.265417Z",
     "start_time": "2018-03-17T07:41:01.262126Z"
    }
   },
   "outputs": [
    {
     "name": "stdout",
     "output_type": "stream",
     "text": [
      "[CONTENT]\n",
      "From: g_waugaman@nac.enet.dec.com (Glenn R. Waugaman)\n",
      "Subject: Re: I've found the secret!\n",
      "Article-I.D.: nntpd.1993Apr15.193907.24177\n",
      "Organization: Digital Equipment Corporation\n",
      "Lines: 23\n",
      "\n",
      "\n",
      "In article <1993Apr15.161730.9903@cs.cornell.edu>, tedward@cs.cornell.edu (Edward [Ted] Fischer) writes...\n",
      "> \n",
      ">Why are the Red Sox in first place?  Eight games into the season, they\n",
      ">already have two wins each from Clemens and Viola.  Clemens starts\n",
      ">again tonight, on three days rest.\n",
      "> \n",
      ">What's up?  Are the Sox going with a four-man rotation?  Is this why\n",
      ">Hesketh was used in relief last night?\n",
      "\n",
      "Clemens is going on his normal four days' rest (last pitched Saturday). \n",
      "Hesketh only pitched one inning yesterday afternoon, his first outing\n",
      "since an aborted 1-1/3 inning start 6 days before, so he should be plenty\n",
      "rested to go in his expected turn this Saturday, as the 5th starter.  Not\n",
      "that this is a good thing, of course.  I'd like to see a well-managed\n",
      "four-man rotation with this team... \n",
      "\n",
      "---\n",
      "Glenn Waugaman\n",
      "Digital Equipment Corporation\n",
      "Littleton, MA\n",
      "g_waugaman@nac.enet.dec.com\n",
      "---\n",
      "\n",
      "\n",
      "[CLASS]: rec.sport.baseball (index = 9)\n"
     ]
    }
   ],
   "source": [
    "get_content(newsgroups, 11111)"
   ]
  },
  {
   "cell_type": "code",
   "execution_count": 11,
   "metadata": {
    "ExecuteTime": {
     "end_time": "2018-03-17T07:41:02.861676Z",
     "start_time": "2018-03-17T07:41:02.859060Z"
    }
   },
   "outputs": [
    {
     "name": "stdout",
     "output_type": "stream",
     "text": [
      "[CONTENT]\n",
      "From: Mamatha Devineni Ratnam <mr47+@andrew.cmu.edu>\n",
      "Subject: Pens fans reactions\n",
      "Organization: Post Office, Carnegie Mellon, Pittsburgh, PA\n",
      "Lines: 12\n",
      "NNTP-Posting-Host: po4.andrew.cmu.edu\n",
      "\n",
      "\n",
      "\n",
      "I am sure some bashers of Pens fans are pretty confused about the lack\n",
      "of any kind of posts about the recent Pens massacre of the Devils. Actually,\n",
      "I am  bit puzzled too and a bit relieved. However, I am going to put an end\n",
      "to non-PIttsburghers' relief with a bit of praise for the Pens. Man, they\n",
      "are killing those Devils worse than I thought. Jagr just showed you why\n",
      "he is much better than his regular season stats. He is also a lot\n",
      "fo fun to watch in the playoffs. Bowman should let JAgr have a lot of\n",
      "fun in the next couple of games since the Pens are going to beat the pulp out of Jersey anyway. I was very disappointed not to see the Islanders lose the final\n",
      "regular season game.          PENS RULE!!!\n",
      "\n",
      "\n",
      "\n",
      "[CLASS]: rec.sport.hockey (index = 10)\n"
     ]
    }
   ],
   "source": [
    "get_content(newsgroups, 0)"
   ]
  },
  {
   "cell_type": "code",
   "execution_count": 12,
   "metadata": {
    "ExecuteTime": {
     "end_time": "2018-03-17T07:41:04.439970Z",
     "start_time": "2018-03-17T07:41:04.437252Z"
    }
   },
   "outputs": [],
   "source": [
    "target_id, counts = np.unique(newsgroups.target, return_counts = True)"
   ]
  },
  {
   "cell_type": "code",
   "execution_count": 13,
   "metadata": {
    "ExecuteTime": {
     "end_time": "2018-03-17T07:41:06.030535Z",
     "start_time": "2018-03-17T07:41:06.026592Z"
    }
   },
   "outputs": [
    {
     "data": {
      "text/plain": [
       "{0: 799,\n",
       " 1: 973,\n",
       " 2: 985,\n",
       " 3: 982,\n",
       " 4: 963,\n",
       " 5: 988,\n",
       " 6: 975,\n",
       " 7: 990,\n",
       " 8: 996,\n",
       " 9: 994,\n",
       " 10: 999,\n",
       " 11: 991,\n",
       " 12: 984,\n",
       " 13: 990,\n",
       " 14: 987,\n",
       " 15: 997,\n",
       " 16: 910,\n",
       " 17: 940,\n",
       " 18: 775,\n",
       " 19: 628}"
      ]
     },
     "execution_count": 13,
     "metadata": {},
     "output_type": "execute_result"
    }
   ],
   "source": [
    "dict(zip(target_id, counts))"
   ]
  },
  {
   "cell_type": "code",
   "execution_count": 14,
   "metadata": {
    "ExecuteTime": {
     "end_time": "2018-03-17T07:41:07.620709Z",
     "start_time": "2018-03-17T07:41:07.617153Z"
    }
   },
   "outputs": [
    {
     "data": {
      "text/plain": [
       "{'alt.atheism': 799,\n",
       " 'comp.graphics': 973,\n",
       " 'comp.os.ms-windows.misc': 985,\n",
       " 'comp.sys.ibm.pc.hardware': 982,\n",
       " 'comp.sys.mac.hardware': 963,\n",
       " 'comp.windows.x': 988,\n",
       " 'misc.forsale': 975,\n",
       " 'rec.autos': 990,\n",
       " 'rec.motorcycles': 996,\n",
       " 'rec.sport.baseball': 994,\n",
       " 'rec.sport.hockey': 999,\n",
       " 'sci.crypt': 991,\n",
       " 'sci.electronics': 984,\n",
       " 'sci.med': 990,\n",
       " 'sci.space': 987,\n",
       " 'soc.religion.christian': 997,\n",
       " 'talk.politics.guns': 910,\n",
       " 'talk.politics.mideast': 940,\n",
       " 'talk.politics.misc': 775,\n",
       " 'talk.religion.misc': 628}"
      ]
     },
     "execution_count": 14,
     "metadata": {},
     "output_type": "execute_result"
    }
   ],
   "source": [
    "dict(zip(newsgroups.target_names, counts))"
   ]
  },
  {
   "cell_type": "markdown",
   "metadata": {},
   "source": [
    "## Training and test data"
   ]
  },
  {
   "cell_type": "code",
   "execution_count": 15,
   "metadata": {
    "ExecuteTime": {
     "end_time": "2018-03-17T07:41:09.701337Z",
     "start_time": "2018-03-17T07:41:09.215287Z"
    }
   },
   "outputs": [],
   "source": [
    "newsgroups_trn = fetch_20newsgroups(subset='train')\n",
    "newsgroups_tst = fetch_20newsgroups(subset='test')"
   ]
  },
  {
   "cell_type": "code",
   "execution_count": 16,
   "metadata": {
    "ExecuteTime": {
     "end_time": "2018-03-17T07:41:12.774412Z",
     "start_time": "2018-03-17T07:41:12.771454Z"
    }
   },
   "outputs": [
    {
     "name": "stdout",
     "output_type": "stream",
     "text": [
      "Number of training points : 11314\n",
      "Number of test points : 7532\n"
     ]
    }
   ],
   "source": [
    "print(\"Number of training points : %d\"%len(newsgroups_trn.data))\n",
    "print(\"Number of test points : %d\"%len(newsgroups_tst.data))"
   ]
  },
  {
   "cell_type": "markdown",
   "metadata": {},
   "source": [
    "## More...\n",
    "`sklearn.datasets.fetch_20newsgroups`에서는 메인 컨텐츠와 상관없는 내용을 삭제하는 기능이 포함되어 있습니다.\n",
    "1. headers: [source](https://github.com/scikit-learn/scikit-learn/blob/14031f6/sklearn/datasets/twenty_newsgroups.py#L110)\n",
    "2. footers: [source](https://github.com/scikit-learn/scikit-learn/blob/14031f6/sklearn/datasets/twenty_newsgroups.py#L134)\n",
    "3. quotes: [source](https://github.com/scikit-learn/scikit-learn/blob/14031f6/sklearn/datasets/twenty_newsgroups.py#L123)\n",
    "\n"
   ]
  },
  {
   "cell_type": "code",
   "execution_count": 17,
   "metadata": {
    "ExecuteTime": {
     "end_time": "2018-03-17T07:41:17.871723Z",
     "start_time": "2018-03-17T07:41:15.918019Z"
    }
   },
   "outputs": [],
   "source": [
    "newsgroups_removed = fetch_20newsgroups(subset='all', remove=('headers', 'footers', 'quotes'))"
   ]
  },
  {
   "cell_type": "code",
   "execution_count": 18,
   "metadata": {
    "ExecuteTime": {
     "end_time": "2018-03-17T07:41:22.078698Z",
     "start_time": "2018-03-17T07:41:22.076100Z"
    }
   },
   "outputs": [
    {
     "name": "stdout",
     "output_type": "stream",
     "text": [
      "[CONTENT]\n",
      "From: g_waugaman@nac.enet.dec.com (Glenn R. Waugaman)\n",
      "Subject: Re: I've found the secret!\n",
      "Article-I.D.: nntpd.1993Apr15.193907.24177\n",
      "Organization: Digital Equipment Corporation\n",
      "Lines: 23\n",
      "\n",
      "\n",
      "In article <1993Apr15.161730.9903@cs.cornell.edu>, tedward@cs.cornell.edu (Edward [Ted] Fischer) writes...\n",
      "> \n",
      ">Why are the Red Sox in first place?  Eight games into the season, they\n",
      ">already have two wins each from Clemens and Viola.  Clemens starts\n",
      ">again tonight, on three days rest.\n",
      "> \n",
      ">What's up?  Are the Sox going with a four-man rotation?  Is this why\n",
      ">Hesketh was used in relief last night?\n",
      "\n",
      "Clemens is going on his normal four days' rest (last pitched Saturday). \n",
      "Hesketh only pitched one inning yesterday afternoon, his first outing\n",
      "since an aborted 1-1/3 inning start 6 days before, so he should be plenty\n",
      "rested to go in his expected turn this Saturday, as the 5th starter.  Not\n",
      "that this is a good thing, of course.  I'd like to see a well-managed\n",
      "four-man rotation with this team... \n",
      "\n",
      "---\n",
      "Glenn Waugaman\n",
      "Digital Equipment Corporation\n",
      "Littleton, MA\n",
      "g_waugaman@nac.enet.dec.com\n",
      "---\n",
      "\n",
      "\n",
      "[CLASS]: rec.sport.baseball (index = 9)\n"
     ]
    }
   ],
   "source": [
    "get_content(newsgroups, 11111)"
   ]
  },
  {
   "cell_type": "code",
   "execution_count": 19,
   "metadata": {
    "ExecuteTime": {
     "end_time": "2018-03-17T07:41:26.278172Z",
     "start_time": "2018-03-17T07:41:26.274861Z"
    }
   },
   "outputs": [
    {
     "name": "stdout",
     "output_type": "stream",
     "text": [
      "[CONTENT]\n",
      "\n",
      "Clemens is going on his normal four days' rest (last pitched Saturday). \n",
      "Hesketh only pitched one inning yesterday afternoon, his first outing\n",
      "since an aborted 1-1/3 inning start 6 days before, so he should be plenty\n",
      "rested to go in his expected turn this Saturday, as the 5th starter.  Not\n",
      "that this is a good thing, of course.  I'd like to see a well-managed\n",
      "four-man rotation with this team... \n",
      "\n",
      "---\n",
      "Glenn Waugaman\n",
      "Digital Equipment Corporation\n",
      "Littleton, MA\n",
      "g_waugaman@nac.enet.dec.com\n",
      "\n",
      "[CLASS]: rec.sport.baseball (index = 9)\n"
     ]
    }
   ],
   "source": [
    "get_content(newsgroups_removed, 11111)"
   ]
  },
  {
   "cell_type": "code",
   "execution_count": 20,
   "metadata": {
    "ExecuteTime": {
     "end_time": "2018-03-17T07:41:30.461402Z",
     "start_time": "2018-03-17T07:41:30.458687Z"
    }
   },
   "outputs": [
    {
     "name": "stdout",
     "output_type": "stream",
     "text": [
      "[CONTENT]\n",
      "From: tomh@metrics.com (Tom Haapanen)\n",
      "Subject: RFD: comp.os.ms-windows.nt.{misc,setup}\n",
      "Organization: Software Metrics Inc.\n",
      "Lines: 76\n",
      "NNTP-Posting-Host: rodan.uu.net\n",
      "\n",
      "This is the official Request for Discussion (RFD) for the creation of two\n",
      "new newsgroups for Microsoft Windows NT.  This is a second RFD, replacing\n",
      "the one originally posted in January '93 (and never taken to a vote).  The\n",
      "proposed groups are described below:\n",
      "\n",
      "NAME: \t comp.os.ms-windows.nt.setup\n",
      "STATUS:  Unmoderated.\n",
      "PURPOSE: Discussions about setting up and installing Windows NT, and about\n",
      "\t system and peripheral compatability issues for Windows NT.\n",
      "\n",
      "NAME:\t comp.os.ms-windows.nt.misc\n",
      "STATUS:\t Unmoderated.\n",
      "PURPOSE: Miscellaneous non-programming discussions about using Windows NT,\n",
      "\t including issues such as security, networking features, console\n",
      "\t mode and Windows 3.1 (Win16) compatability.\n",
      "\n",
      "RATIONALE:\n",
      "\tMicrosoft NT is the newest member of the Microsoft Windows family\n",
      "\tof operating systems (or operating environments for those who wish\n",
      "\tto argue about the meaning of an \"OS\").  The family ranges from\n",
      "\tModular Windows through Windows 3.1 and Windows for Workgroups to\n",
      "\tWindows NT at the high end.  To date, Microsoft has shipped over\n",
      "\t50,000 beta copies and pre-release SDKs of Windows NT -- the\n",
      "\tactual release is slated for May/June '93.\n",
      "\n",
      "\tWhile Windows NT has an entirely new design internally, it shares\n",
      "\tan application programming interface with the other members of the\n",
      "\tWindows family; its Win32 API includes the Win16 API used in Win-\n",
      "\tdows 3.1, and the Win32s API subset (Win32 less threads, networking\n",
      "\tand security) can be used to create 32-bit applications for\n",
      "\tWindows 3.1.\n",
      "\n",
      "\tThe user interface is also practically identical to that of Windows\n",
      "\t3.1, with the addition of logins and a few other features.  It uses\n",
      "\tProgram Manager, File Manager and other applets, and generally pre-\n",
      "\tsents an identical appearance to the user.  Many of the announced\n",
      "\tWindows NT applications are ports of existing Windows 3.1 apps, and\n",
      "\tNT also runs existing 3.1 applications.\n",
      "\n",
      "\tThus, it appears logical that Windows NT should share the following\n",
      "\tgroups with the other members of the Windows family:\n",
      "\t\tcomp.os.ms-windows.apps\n",
      "\t\tcomp.os.ms-windows.programmer.tools\n",
      "\t\tcomp.os.ms-windows.programmer.misc\n",
      "\t\tcomp.os.ms-windows.programmer.win32\n",
      "\t\n",
      "\tThe following groups are also clearly applicable to Windows NT as\n",
      "\twell as Windows 3.1:\n",
      "\t\tcomp.os.ms-windows.announce\n",
      "\t\tcomp.os.ms-windows.advocacy\n",
      "\t\n",
      "\tIn conclusion, the only clear argument for the separation of the\n",
      "\tWindows 3.1 and Windows NT hierarchies is different internal\n",
      "\tstructures of Windows 3.1 and Windows NT.  And yet operating\n",
      "\tsystems such as OS/2, Macintosh OS, Xenix and Coherent all have\n",
      "\tundergone major rewrites without having been split into separate\n",
      "\tnewsgroup hierarchies.\n",
      "\n",
      "\tFurther, Windows 3.1 is due for a major rewrite itself in 1994 --\n",
      "\twhen the fully 32-bit, protected-mode and with-DOS-built-in next-\n",
      "\tgeneration Windows, \"Chicago\", debuts next year, surely it should\n",
      "\tremain in the same hierarchy.  And what, then, would be the jus-\n",
      "\ttification for separating Windows NT from other Windows versions?\n",
      "\n",
      "\n",
      "DISCUSSION PERIOD:\n",
      "\tThe discussion period will run from 27 April, 1992 to 18 May, 1993.  \n",
      "\n",
      "VOTING:\n",
      "\tThe CFV (Call for Votes) will be issued around 19 May, 1993, based on\n",
      "\tthe feedback received during the discussion period.  No votes will\n",
      "\tbe accepted prior to the CFV.\n",
      "-- \n",
      "[ /tom haapanen -- tomh@metrics.com -- software metrics inc -- waterloo, ont ]\n",
      "[       \"stick your index fingers into both corners of your mouth.  now pull ]\n",
      "[          up.  that's how the corrado makes you feel.\"  -- car, january '93 ]\n",
      "\n",
      "\n",
      "[CLASS]: comp.os.ms-windows.misc (index = 2)\n"
     ]
    }
   ],
   "source": [
    "get_content(newsgroups, 2000)"
   ]
  },
  {
   "cell_type": "code",
   "execution_count": 21,
   "metadata": {
    "ExecuteTime": {
     "end_time": "2018-03-17T07:41:34.640028Z",
     "start_time": "2018-03-17T07:41:34.637033Z"
    }
   },
   "outputs": [
    {
     "name": "stdout",
     "output_type": "stream",
     "text": [
      "[CONTENT]\n",
      "This is the official Request for Discussion (RFD) for the creation of two\n",
      "new newsgroups for Microsoft Windows NT.  This is a second RFD, replacing\n",
      "the one originally posted in January '93 (and never taken to a vote).  The\n",
      "proposed groups are described below:\n",
      "\n",
      "NAME: \t comp.os.ms-windows.nt.setup\n",
      "STATUS:  Unmoderated.\n",
      "PURPOSE: Discussions about setting up and installing Windows NT, and about\n",
      "\t system and peripheral compatability issues for Windows NT.\n",
      "\n",
      "NAME:\t comp.os.ms-windows.nt.misc\n",
      "STATUS:\t Unmoderated.\n",
      "PURPOSE: Miscellaneous non-programming discussions about using Windows NT,\n",
      "\t including issues such as security, networking features, console\n",
      "\t mode and Windows 3.1 (Win16) compatability.\n",
      "\n",
      "RATIONALE:\n",
      "\tMicrosoft NT is the newest member of the Microsoft Windows family\n",
      "\tof operating systems (or operating environments for those who wish\n",
      "\tto argue about the meaning of an \"OS\").  The family ranges from\n",
      "\tModular Windows through Windows 3.1 and Windows for Workgroups to\n",
      "\tWindows NT at the high end.  To date, Microsoft has shipped over\n",
      "\t50,000 beta copies and pre-release SDKs of Windows NT -- the\n",
      "\tactual release is slated for May/June '93.\n",
      "\n",
      "\tWhile Windows NT has an entirely new design internally, it shares\n",
      "\tan application programming interface with the other members of the\n",
      "\tWindows family; its Win32 API includes the Win16 API used in Win-\n",
      "\tdows 3.1, and the Win32s API subset (Win32 less threads, networking\n",
      "\tand security) can be used to create 32-bit applications for\n",
      "\tWindows 3.1.\n",
      "\n",
      "\tThe user interface is also practically identical to that of Windows\n",
      "\t3.1, with the addition of logins and a few other features.  It uses\n",
      "\tProgram Manager, File Manager and other applets, and generally pre-\n",
      "\tsents an identical appearance to the user.  Many of the announced\n",
      "\tWindows NT applications are ports of existing Windows 3.1 apps, and\n",
      "\tNT also runs existing 3.1 applications.\n",
      "\n",
      "\tThus, it appears logical that Windows NT should share the following\n",
      "\tgroups with the other members of the Windows family:\n",
      "\t\tcomp.os.ms-windows.apps\n",
      "\t\tcomp.os.ms-windows.programmer.tools\n",
      "\t\tcomp.os.ms-windows.programmer.misc\n",
      "\t\tcomp.os.ms-windows.programmer.win32\n",
      "\t\n",
      "\tThe following groups are also clearly applicable to Windows NT as\n",
      "\twell as Windows 3.1:\n",
      "\t\tcomp.os.ms-windows.announce\n",
      "\t\tcomp.os.ms-windows.advocacy\n",
      "\t\n",
      "\tIn conclusion, the only clear argument for the separation of the\n",
      "\tWindows 3.1 and Windows NT hierarchies is different internal\n",
      "\tstructures of Windows 3.1 and Windows NT.  And yet operating\n",
      "\tsystems such as OS/2, Macintosh OS, Xenix and Coherent all have\n",
      "\tundergone major rewrites without having been split into separate\n",
      "\tnewsgroup hierarchies.\n",
      "\n",
      "\tFurther, Windows 3.1 is due for a major rewrite itself in 1994 --\n",
      "\twhen the fully 32-bit, protected-mode and with-DOS-built-in next-\n",
      "\tgeneration Windows, \"Chicago\", debuts next year, surely it should\n",
      "\tremain in the same hierarchy.  And what, then, would be the jus-\n",
      "\ttification for separating Windows NT from other Windows versions?\n",
      "\n",
      "\n",
      "DISCUSSION PERIOD:\n",
      "\tThe discussion period will run from 27 April, 1992 to 18 May, 1993.  \n",
      "\n",
      "VOTING:\n",
      "\tThe CFV (Call for Votes) will be issued around 19 May, 1993, based on\n",
      "\tthe feedback received during the discussion period.  No votes will\n",
      "\tbe accepted prior to the CFV.\n",
      "\n",
      "[CLASS]: comp.os.ms-windows.misc (index = 2)\n"
     ]
    }
   ],
   "source": [
    "get_content(newsgroups_removed, 2000)"
   ]
  },
  {
   "cell_type": "markdown",
   "metadata": {},
   "source": [
    "## Newsgroups_classification_simple_sklearn"
   ]
  },
  {
   "cell_type": "code",
   "execution_count": 22,
   "metadata": {
    "ExecuteTime": {
     "end_time": "2018-03-17T07:41:38.972002Z",
     "start_time": "2018-03-17T07:41:38.803954Z"
    }
   },
   "outputs": [],
   "source": [
    "import numpy as np\n",
    "import matplotlib.pyplot as plt\n",
    "%matplotlib inline\n",
    "\n",
    "from sklearn.datasets import fetch_20newsgroups\n",
    "from sklearn.feature_extraction.text import CountVectorizer\n",
    "from sklearn.feature_extraction.text import TfidfVectorizer\n",
    "from sklearn.linear_model import LogisticRegression\n",
    "from sklearn.naive_bayes import BernoulliNB, MultinomialNB\n",
    "from sklearn.ensemble import RandomForestClassifier\n",
    "from sklearn.neural_network import MLPClassifier # 처음 사용하는 것\n",
    "from sklearn import metrics\n",
    "from sklearn.model_selection import StratifiedKFold, KFold, GridSearchCV"
   ]
  },
  {
   "cell_type": "markdown",
   "metadata": {},
   "source": [
    "## 0. Data Loadinn and preprocessing\n",
    "\n",
    "### Data : 20newsgroups\n",
    "- http://qwone.com/~jason/20Newsgroups/\n",
    "- http://scikit-learn.org/stable/datasets/twenty_newsgroups.html#newsgroups"
   ]
  },
  {
   "cell_type": "code",
   "execution_count": 23,
   "metadata": {
    "ExecuteTime": {
     "end_time": "2018-03-17T07:41:45.225214Z",
     "start_time": "2018-03-17T07:41:43.107377Z"
    }
   },
   "outputs": [],
   "source": [
    "categories = ['rec.sport.baseball', 'soc.religion.christian', 'comp.windows.x', 'sci.space']\n",
    "newsgroups_train = fetch_20newsgroups(subset='train', remove=('headers', 'footers', 'quotes'), categories=categories)\n",
    "newsgroups_test = fetch_20newsgroups(subset='test', remove=('headers', 'footers', 'quotes'), categories=categories)\n",
    "X_train = newsgroups_train.data\n",
    "Y_train = newsgroups_train.target\n",
    "X_test = newsgroups_test.data\n",
    "Y_test = newsgroups_test.target"
   ]
  },
  {
   "cell_type": "code",
   "execution_count": 24,
   "metadata": {
    "ExecuteTime": {
     "end_time": "2018-03-17T07:41:49.853442Z",
     "start_time": "2018-03-17T07:41:49.850675Z"
    }
   },
   "outputs": [],
   "source": [
    "# Declare two vectorizer\n",
    "count_vectorizer = CountVectorizer(min_df=40)\n",
    "tfidf_vectorizer = TfidfVectorizer(min_df=40)"
   ]
  },
  {
   "cell_type": "code",
   "execution_count": 25,
   "metadata": {
    "ExecuteTime": {
     "end_time": "2018-03-17T07:41:55.117573Z",
     "start_time": "2018-03-17T07:41:54.368068Z"
    }
   },
   "outputs": [],
   "source": [
    "# Fitting vectorizers to the training set\n",
    "count_vectorizer = count_vectorizer.fit(X_train)\n",
    "tfidf_vectorizer = tfidf_vectorizer.fit(X_train)"
   ]
  },
  {
   "cell_type": "code",
   "execution_count": 26,
   "metadata": {
    "ExecuteTime": {
     "end_time": "2018-03-17T07:42:00.704478Z",
     "start_time": "2018-03-17T07:41:59.612287Z"
    }
   },
   "outputs": [],
   "source": [
    "# Transform X_train and X_test using 2 vectorizers\n",
    "X_train_count = count_vectorizer.transform(X_train)\n",
    "X_train_tfidf = tfidf_vectorizer.transform(X_train)\n",
    "X_test_count = count_vectorizer.transform(X_test)\n",
    "X_test_tfidf = tfidf_vectorizer.transform(X_test)"
   ]
  },
  {
   "cell_type": "code",
   "execution_count": 27,
   "metadata": {
    "ExecuteTime": {
     "end_time": "2018-03-17T07:42:05.212207Z",
     "start_time": "2018-03-17T07:42:05.208944Z"
    }
   },
   "outputs": [
    {
     "data": {
      "text/plain": [
       "(2382, 891)"
      ]
     },
     "execution_count": 27,
     "metadata": {},
     "output_type": "execute_result"
    }
   ],
   "source": [
    "X_train_count.shape"
   ]
  },
  {
   "cell_type": "code",
   "execution_count": 28,
   "metadata": {
    "ExecuteTime": {
     "end_time": "2018-03-17T07:42:09.700368Z",
     "start_time": "2018-03-17T07:42:09.697296Z"
    }
   },
   "outputs": [
    {
     "data": {
      "text/plain": [
       "(2382, 891)"
      ]
     },
     "execution_count": 28,
     "metadata": {},
     "output_type": "execute_result"
    }
   ],
   "source": [
    "X_train_tfidf.shape"
   ]
  },
  {
   "cell_type": "code",
   "execution_count": 29,
   "metadata": {
    "ExecuteTime": {
     "end_time": "2018-03-17T07:42:14.150591Z",
     "start_time": "2018-03-17T07:42:14.147539Z"
    }
   },
   "outputs": [
    {
     "name": "stdout",
     "output_type": "stream",
     "text": [
      "  (0, 60)\t1\n",
      "  (0, 63)\t1\n",
      "  (0, 64)\t1\n",
      "  (0, 67)\t1\n",
      "  (0, 74)\t1\n",
      "  (0, 105)\t1\n",
      "  (0, 137)\t1\n",
      "  (0, 143)\t1\n",
      "  (0, 144)\t1\n",
      "  (0, 228)\t3\n",
      "  (0, 233)\t1\n",
      "  (0, 250)\t1\n",
      "  (0, 301)\t2\n",
      "  (0, 359)\t1\n",
      "  (0, 374)\t2\n",
      "  (0, 384)\t1\n",
      "  (0, 385)\t1\n",
      "  (0, 406)\t2\n",
      "  (0, 421)\t1\n",
      "  (0, 443)\t1\n",
      "  (0, 540)\t1\n",
      "  (0, 587)\t1\n",
      "  (0, 603)\t1\n",
      "  (0, 651)\t1\n",
      "  (0, 665)\t1\n",
      "  (0, 760)\t1\n",
      "  (0, 761)\t1\n",
      "  (0, 762)\t2\n",
      "  (0, 785)\t2\n",
      "  (0, 818)\t1\n",
      "  (0, 819)\t3\n",
      "  (0, 861)\t1\n",
      "  (0, 881)\t3\n"
     ]
    }
   ],
   "source": [
    "print(X_train_count[0, :])"
   ]
  },
  {
   "cell_type": "code",
   "execution_count": 30,
   "metadata": {
    "ExecuteTime": {
     "end_time": "2018-03-17T07:42:18.651261Z",
     "start_time": "2018-03-17T07:42:18.646934Z"
    }
   },
   "outputs": [
    {
     "name": "stdout",
     "output_type": "stream",
     "text": [
      "  (0, 881)\t0.576862404502\n",
      "  (0, 861)\t0.0728941164216\n",
      "  (0, 819)\t0.398347048389\n",
      "  (0, 818)\t0.179213589409\n",
      "  (0, 785)\t0.0988093651309\n",
      "  (0, 762)\t0.0902077527633\n",
      "  (0, 761)\t0.058409513562\n",
      "  (0, 760)\t0.126509695262\n",
      "  (0, 665)\t0.113406230175\n",
      "  (0, 651)\t0.124142000922\n",
      "  (0, 603)\t0.181009461643\n",
      "  (0, 587)\t0.128065574918\n",
      "  (0, 540)\t0.0531646115053\n",
      "  (0, 443)\t0.0951448117918\n",
      "  (0, 421)\t0.100418829305\n",
      "  (0, 406)\t0.121579076985\n",
      "  (0, 385)\t0.167644109262\n",
      "  (0, 384)\t0.0550409424255\n",
      "  (0, 374)\t0.202261823679\n",
      "  (0, 359)\t0.13653670152\n",
      "  (0, 301)\t0.124485489929\n",
      "  (0, 250)\t0.163907662217\n",
      "  (0, 233)\t0.140253453503\n",
      "  (0, 228)\t0.262696725634\n",
      "  (0, 144)\t0.157695146004\n",
      "  (0, 143)\t0.0802208063813\n",
      "  (0, 137)\t0.0711835823945\n",
      "  (0, 105)\t0.0669565451494\n",
      "  (0, 74)\t0.162354864317\n",
      "  (0, 67)\t0.092112478996\n",
      "  (0, 64)\t0.0526512312659\n",
      "  (0, 63)\t0.0818953815887\n",
      "  (0, 60)\t0.112756441459\n"
     ]
    }
   ],
   "source": [
    "print(X_train_tfidf[0, :])"
   ]
  },
  {
   "cell_type": "markdown",
   "metadata": {},
   "source": [
    "# 1. Fitting classifiers with count vectorizer"
   ]
  },
  {
   "cell_type": "code",
   "execution_count": 31,
   "metadata": {
    "ExecuteTime": {
     "end_time": "2018-03-17T07:42:23.142985Z",
     "start_time": "2018-03-17T07:42:23.140184Z"
    }
   },
   "outputs": [],
   "source": [
    "num_folds = 5\n",
    "num_instances = len(X_train)\n",
    "seed = 1234\n",
    "scoring = 'accuracy'"
   ]
  },
  {
   "cell_type": "markdown",
   "metadata": {},
   "source": [
    "## 1.1 Logistic Regression\n",
    "- regularization : L1, L2\n",
    "- C"
   ]
  },
  {
   "cell_type": "code",
   "execution_count": 32,
   "metadata": {
    "ExecuteTime": {
     "end_time": "2018-03-17T07:42:27.688424Z",
     "start_time": "2018-03-17T07:42:27.685120Z"
    }
   },
   "outputs": [],
   "source": [
    "model = LogisticRegression()\n",
    "penalty_set = ['l1', 'l2']\n",
    "C_set = [0.5, 1]\n",
    "param_grid = dict(penalty=penalty_set, C=C_set)"
   ]
  },
  {
   "cell_type": "code",
   "execution_count": 33,
   "metadata": {
    "ExecuteTime": {
     "end_time": "2018-03-17T07:42:34.867159Z",
     "start_time": "2018-03-17T07:42:32.266573Z"
    }
   },
   "outputs": [
    {
     "name": "stdout",
     "output_type": "stream",
     "text": [
      "Fitting 5 folds for each of 4 candidates, totalling 20 fits\n"
     ]
    },
    {
     "name": "stderr",
     "output_type": "stream",
     "text": [
      "[Parallel(n_jobs=-1)]: Done   5 out of  20 | elapsed:    0.2s remaining:    0.7s\n",
      "[Parallel(n_jobs=-1)]: Done  20 out of  20 | elapsed:    1.5s finished\n"
     ]
    },
    {
     "data": {
      "text/plain": [
       "GridSearchCV(cv=5, error_score='raise',\n",
       "       estimator=LogisticRegression(C=1.0, class_weight=None, dual=False, fit_intercept=True,\n",
       "          intercept_scaling=1, max_iter=100, multi_class='ovr', n_jobs=1,\n",
       "          penalty='l2', random_state=None, solver='liblinear', tol=0.0001,\n",
       "          verbose=0, warm_start=False),\n",
       "       fit_params=None, iid=True, n_jobs=-1,\n",
       "       param_grid={'penalty': ['l1', 'l2'], 'C': [0.5, 1]},\n",
       "       pre_dispatch='2*n_jobs', refit=True, return_train_score='warn',\n",
       "       scoring='accuracy', verbose=1)"
      ]
     },
     "execution_count": 33,
     "metadata": {},
     "output_type": "execute_result"
    }
   ],
   "source": [
    "# Using count vectorizer\n",
    "clf = GridSearchCV(estimator=model, param_grid=param_grid, scoring=scoring, cv=num_folds, n_jobs=-1, verbose=1)\n",
    "clf.fit(X_train_count, Y_train)"
   ]
  },
  {
   "cell_type": "code",
   "execution_count": 34,
   "metadata": {
    "ExecuteTime": {
     "end_time": "2018-03-17T07:42:39.360068Z",
     "start_time": "2018-03-17T07:42:39.351352Z"
    }
   },
   "outputs": [
    {
     "name": "stderr",
     "output_type": "stream",
     "text": [
      "/home/paulkim/anaconda3/envs/python3_0901/lib/python3.6/site-packages/sklearn/utils/deprecation.py:122: FutureWarning: You are accessing a training score ('mean_train_score'), which will not be available by default any more in 0.21. If you need training scores, please set return_train_score=True\n",
      "  warnings.warn(*warn_args, **warn_kwargs)\n",
      "/home/paulkim/anaconda3/envs/python3_0901/lib/python3.6/site-packages/sklearn/utils/deprecation.py:122: FutureWarning: You are accessing a training score ('split0_train_score'), which will not be available by default any more in 0.21. If you need training scores, please set return_train_score=True\n",
      "  warnings.warn(*warn_args, **warn_kwargs)\n",
      "/home/paulkim/anaconda3/envs/python3_0901/lib/python3.6/site-packages/sklearn/utils/deprecation.py:122: FutureWarning: You are accessing a training score ('split1_train_score'), which will not be available by default any more in 0.21. If you need training scores, please set return_train_score=True\n",
      "  warnings.warn(*warn_args, **warn_kwargs)\n",
      "/home/paulkim/anaconda3/envs/python3_0901/lib/python3.6/site-packages/sklearn/utils/deprecation.py:122: FutureWarning: You are accessing a training score ('split2_train_score'), which will not be available by default any more in 0.21. If you need training scores, please set return_train_score=True\n",
      "  warnings.warn(*warn_args, **warn_kwargs)\n",
      "/home/paulkim/anaconda3/envs/python3_0901/lib/python3.6/site-packages/sklearn/utils/deprecation.py:122: FutureWarning: You are accessing a training score ('split3_train_score'), which will not be available by default any more in 0.21. If you need training scores, please set return_train_score=True\n",
      "  warnings.warn(*warn_args, **warn_kwargs)\n",
      "/home/paulkim/anaconda3/envs/python3_0901/lib/python3.6/site-packages/sklearn/utils/deprecation.py:122: FutureWarning: You are accessing a training score ('split4_train_score'), which will not be available by default any more in 0.21. If you need training scores, please set return_train_score=True\n",
      "  warnings.warn(*warn_args, **warn_kwargs)\n",
      "/home/paulkim/anaconda3/envs/python3_0901/lib/python3.6/site-packages/sklearn/utils/deprecation.py:122: FutureWarning: You are accessing a training score ('std_train_score'), which will not be available by default any more in 0.21. If you need training scores, please set return_train_score=True\n",
      "  warnings.warn(*warn_args, **warn_kwargs)\n"
     ]
    },
    {
     "data": {
      "text/plain": [
       "{'mean_fit_time': array([ 0.1882442 ,  0.59979267,  0.71771169,  0.38417873]),\n",
       " 'mean_score_time': array([ 0.00148969,  0.00120149,  0.00098805,  0.00059419]),\n",
       " 'mean_test_score': array([ 0.85222502,  0.84592779,  0.85180521,  0.84466835]),\n",
       " 'mean_train_score': array([ 0.93304223,  0.97029806,  0.95969939,  0.97942856]),\n",
       " 'param_C': masked_array(data = [0.5 0.5 1 1],\n",
       "              mask = [False False False False],\n",
       "        fill_value = ?),\n",
       " 'param_penalty': masked_array(data = ['l1' 'l2' 'l1' 'l2'],\n",
       "              mask = [False False False False],\n",
       "        fill_value = ?),\n",
       " 'params': [{'C': 0.5, 'penalty': 'l1'},\n",
       "  {'C': 0.5, 'penalty': 'l2'},\n",
       "  {'C': 1, 'penalty': 'l1'},\n",
       "  {'C': 1, 'penalty': 'l2'}],\n",
       " 'rank_test_score': array([1, 3, 2, 4], dtype=int32),\n",
       " 'split0_test_score': array([ 0.86610879,  0.85564854,  0.87029289,  0.85146444]),\n",
       " 'split0_train_score': array([ 0.93644958,  0.97006303,  0.95798319,  0.97846639]),\n",
       " 'split1_test_score': array([ 0.83263598,  0.83263598,  0.82217573,  0.83263598]),\n",
       " 'split1_train_score': array([ 0.93329832,  0.96901261,  0.96271008,  0.97794118]),\n",
       " 'split2_test_score': array([ 0.8427673 ,  0.85115304,  0.85115304,  0.84696017]),\n",
       " 'split2_train_score': array([ 0.93858268,  0.97270341,  0.96430446,  0.98057743]),\n",
       " 'split3_test_score': array([ 0.86315789,  0.85052632,  0.87368421,  0.84842105]),\n",
       " 'split3_train_score': array([ 0.92815941,  0.96906135,  0.95647614,  0.98112218]),\n",
       " 'split4_test_score': array([ 0.85654008,  0.83966245,  0.84177215,  0.84388186]),\n",
       " 'split4_train_score': array([ 0.92872117,  0.9706499 ,  0.95702306,  0.97903564]),\n",
       " 'std_fit_time': array([ 0.00993798,  0.0633339 ,  0.0625916 ,  0.11250929]),\n",
       " 'std_score_time': array([  1.13369516e-04,   1.68182879e-04,   1.44363613e-04,\n",
       "          7.90577314e-05]),\n",
       " 'std_test_score': array([ 0.01269401,  0.00848003,  0.01898242,  0.00650418]),\n",
       " 'std_train_score': array([ 0.00412033,  0.00135252,  0.00318648,  0.00122317])}"
      ]
     },
     "execution_count": 34,
     "metadata": {},
     "output_type": "execute_result"
    }
   ],
   "source": [
    "clf.cv_results_"
   ]
  },
  {
   "cell_type": "code",
   "execution_count": 35,
   "metadata": {
    "ExecuteTime": {
     "end_time": "2018-03-17T07:42:43.875105Z",
     "start_time": "2018-03-17T07:42:43.871600Z"
    }
   },
   "outputs": [
    {
     "name": "stdout",
     "output_type": "stream",
     "text": [
      "Best params :  {'C': 0.5, 'penalty': 'l1'}\n",
      "Best test :  accuracy : 0.852225020991\n"
     ]
    }
   ],
   "source": [
    "print(\"Best params : \", clf.best_params_)\n",
    "print(\"Best test : \", scoring, \":\", clf.best_score_)"
   ]
  },
  {
   "cell_type": "code",
   "execution_count": 36,
   "metadata": {
    "ExecuteTime": {
     "end_time": "2018-03-17T07:42:48.914951Z",
     "start_time": "2018-03-17T07:42:48.912406Z"
    }
   },
   "outputs": [],
   "source": [
    "best_logistic_count = clf.best_estimator_"
   ]
  },
  {
   "cell_type": "markdown",
   "metadata": {},
   "source": [
    "## 1.2 MLPClassifier\n",
    "은닉층의 사이즈를 조절\n",
    "- 은닉층 1개(노드 수 = 100)\n",
    "- 은닉층 2개(노드 수 = 100)"
   ]
  },
  {
   "cell_type": "code",
   "execution_count": 37,
   "metadata": {
    "ExecuteTime": {
     "end_time": "2018-03-17T07:42:53.677390Z",
     "start_time": "2018-03-17T07:42:53.673961Z"
    }
   },
   "outputs": [],
   "source": [
    "model = MLPClassifier(learning_rate_init=0.01, max_iter=300)\n",
    "\n",
    "hidden_layer_sizes_set = [(100, ), (100, 100)]\n",
    "param_grid = dict(hidden_layer_sizes=hidden_layer_sizes_set)"
   ]
  },
  {
   "cell_type": "code",
   "execution_count": 38,
   "metadata": {
    "ExecuteTime": {
     "end_time": "2018-03-17T07:43:07.834888Z",
     "start_time": "2018-03-17T07:42:58.162644Z"
    }
   },
   "outputs": [
    {
     "name": "stdout",
     "output_type": "stream",
     "text": [
      "Fitting 5 folds for each of 2 candidates, totalling 10 fits\n"
     ]
    },
    {
     "name": "stderr",
     "output_type": "stream",
     "text": [
      "[Parallel(n_jobs=-1)]: Done   6 out of  10 | elapsed:    8.7s remaining:    5.8s\n",
      "[Parallel(n_jobs=-1)]: Done  10 out of  10 | elapsed:    9.0s finished\n"
     ]
    },
    {
     "data": {
      "text/plain": [
       "GridSearchCV(cv=5, error_score='raise',\n",
       "       estimator=MLPClassifier(activation='relu', alpha=0.0001, batch_size='auto', beta_1=0.9,\n",
       "       beta_2=0.999, early_stopping=False, epsilon=1e-08,\n",
       "       hidden_layer_sizes=(100,), learning_rate='constant',\n",
       "       learning_rate_init=0.01, max_iter=300, momentum=0.9,\n",
       "       nesterovs_momentum=True, power_t=0.5, random_state=None,\n",
       "       shuffle=True, solver='adam', tol=0.0001, validation_fraction=0.1,\n",
       "       verbose=False, warm_start=False),\n",
       "       fit_params=None, iid=True, n_jobs=-1,\n",
       "       param_grid={'hidden_layer_sizes': [(100,), (100, 100)]},\n",
       "       pre_dispatch='2*n_jobs', refit=True, return_train_score='warn',\n",
       "       scoring='accuracy', verbose=1)"
      ]
     },
     "execution_count": 38,
     "metadata": {},
     "output_type": "execute_result"
    }
   ],
   "source": [
    "# Using count vectorizer\n",
    "clf = GridSearchCV(estimator=model, param_grid=param_grid, scoring=scoring, cv=num_folds, verbose=1, n_jobs=-1)\n",
    "clf.fit(X_train_count, Y_train)"
   ]
  },
  {
   "cell_type": "code",
   "execution_count": 39,
   "metadata": {
    "ExecuteTime": {
     "end_time": "2018-03-17T07:43:12.552076Z",
     "start_time": "2018-03-17T07:43:12.543351Z"
    }
   },
   "outputs": [
    {
     "name": "stderr",
     "output_type": "stream",
     "text": [
      "/home/paulkim/anaconda3/envs/python3_0901/lib/python3.6/site-packages/sklearn/utils/deprecation.py:122: FutureWarning: You are accessing a training score ('mean_train_score'), which will not be available by default any more in 0.21. If you need training scores, please set return_train_score=True\n",
      "  warnings.warn(*warn_args, **warn_kwargs)\n",
      "/home/paulkim/anaconda3/envs/python3_0901/lib/python3.6/site-packages/sklearn/utils/deprecation.py:122: FutureWarning: You are accessing a training score ('split0_train_score'), which will not be available by default any more in 0.21. If you need training scores, please set return_train_score=True\n",
      "  warnings.warn(*warn_args, **warn_kwargs)\n",
      "/home/paulkim/anaconda3/envs/python3_0901/lib/python3.6/site-packages/sklearn/utils/deprecation.py:122: FutureWarning: You are accessing a training score ('split1_train_score'), which will not be available by default any more in 0.21. If you need training scores, please set return_train_score=True\n",
      "  warnings.warn(*warn_args, **warn_kwargs)\n",
      "/home/paulkim/anaconda3/envs/python3_0901/lib/python3.6/site-packages/sklearn/utils/deprecation.py:122: FutureWarning: You are accessing a training score ('split2_train_score'), which will not be available by default any more in 0.21. If you need training scores, please set return_train_score=True\n",
      "  warnings.warn(*warn_args, **warn_kwargs)\n",
      "/home/paulkim/anaconda3/envs/python3_0901/lib/python3.6/site-packages/sklearn/utils/deprecation.py:122: FutureWarning: You are accessing a training score ('split3_train_score'), which will not be available by default any more in 0.21. If you need training scores, please set return_train_score=True\n",
      "  warnings.warn(*warn_args, **warn_kwargs)\n",
      "/home/paulkim/anaconda3/envs/python3_0901/lib/python3.6/site-packages/sklearn/utils/deprecation.py:122: FutureWarning: You are accessing a training score ('split4_train_score'), which will not be available by default any more in 0.21. If you need training scores, please set return_train_score=True\n",
      "  warnings.warn(*warn_args, **warn_kwargs)\n",
      "/home/paulkim/anaconda3/envs/python3_0901/lib/python3.6/site-packages/sklearn/utils/deprecation.py:122: FutureWarning: You are accessing a training score ('std_train_score'), which will not be available by default any more in 0.21. If you need training scores, please set return_train_score=True\n",
      "  warnings.warn(*warn_args, **warn_kwargs)\n"
     ]
    },
    {
     "data": {
      "text/plain": [
       "{'mean_fit_time': array([ 8.08860846,  4.56226525]),\n",
       " 'mean_score_time': array([ 0.01542382,  0.02134137]),\n",
       " 'mean_test_score': array([ 0.8324937 ,  0.84130982]),\n",
       " 'mean_train_score': array([ 0.98698487,  0.9803675 ]),\n",
       " 'param_hidden_layer_sizes': masked_array(data = [(100,) (100, 100)],\n",
       "              mask = [False False],\n",
       "        fill_value = ?),\n",
       " 'params': [{'hidden_layer_sizes': (100,)},\n",
       "  {'hidden_layer_sizes': (100, 100)}],\n",
       " 'rank_test_score': array([2, 1], dtype=int32),\n",
       " 'split0_test_score': array([ 0.84728033,  0.83472803]),\n",
       " 'split0_train_score': array([ 0.98581933,  0.95798319]),\n",
       " 'split1_test_score': array([ 0.81799163,  0.83682008]),\n",
       " 'split1_train_score': array([ 0.98634454,  0.98371849]),\n",
       " 'split2_test_score': array([ 0.83018868,  0.82599581]),\n",
       " 'split2_train_score': array([ 0.98635171,  0.98372703]),\n",
       " 'split3_test_score': array([ 0.83157895,  0.85473684]),\n",
       " 'split3_train_score': array([ 0.98793917,  0.98793917]),\n",
       " 'split4_test_score': array([ 0.83544304,  0.85443038]),\n",
       " 'split4_train_score': array([ 0.9884696,  0.9884696]),\n",
       " 'std_fit_time': array([ 0.81609964,  1.04283625]),\n",
       " 'std_score_time': array([ 0.00618456,  0.01447688]),\n",
       " 'std_test_score': array([ 0.00943614,  0.01139774]),\n",
       " 'std_train_score': array([ 0.00102806,  0.01137143])}"
      ]
     },
     "execution_count": 39,
     "metadata": {},
     "output_type": "execute_result"
    }
   ],
   "source": [
    "clf.cv_results_"
   ]
  },
  {
   "cell_type": "code",
   "execution_count": 40,
   "metadata": {
    "ExecuteTime": {
     "end_time": "2018-03-17T07:43:17.088608Z",
     "start_time": "2018-03-17T07:43:17.085279Z"
    }
   },
   "outputs": [
    {
     "name": "stdout",
     "output_type": "stream",
     "text": [
      "Best params :  {'hidden_layer_sizes': (100, 100)}\n",
      "Best test :  accuracy : 0.841309823678\n"
     ]
    }
   ],
   "source": [
    "print(\"Best params : \", clf.best_params_)\n",
    "print(\"Best test : \", scoring, \":\", clf.best_score_)"
   ]
  },
  {
   "cell_type": "code",
   "execution_count": 41,
   "metadata": {
    "ExecuteTime": {
     "end_time": "2018-03-17T07:43:21.695821Z",
     "start_time": "2018-03-17T07:43:21.693631Z"
    }
   },
   "outputs": [],
   "source": [
    "best_mlp_count = clf.best_estimator_"
   ]
  },
  {
   "cell_type": "markdown",
   "metadata": {},
   "source": [
    "## 1.3 두 모델의 비교\n",
    "Logistic regression에서 가장 성능이 좋은 모델과 MLP에서 가장 성능이 좋은 모델을 선택하여 테스트 데이터에 대한 성능 비교"
   ]
  },
  {
   "cell_type": "code",
   "execution_count": 42,
   "metadata": {
    "ExecuteTime": {
     "end_time": "2018-03-17T07:43:26.172555Z",
     "start_time": "2018-03-17T07:43:26.169566Z"
    }
   },
   "outputs": [],
   "source": [
    "best_models_count = []\n",
    "best_models_count.append((\"LogisticRegression\", best_logistic_count))\n",
    "best_models_count.append((\"MLPClassifier\", best_mlp_count))"
   ]
  },
  {
   "cell_type": "code",
   "execution_count": 43,
   "metadata": {
    "ExecuteTime": {
     "end_time": "2018-03-17T07:43:30.767671Z",
     "start_time": "2018-03-17T07:43:30.749099Z"
    }
   },
   "outputs": [],
   "source": [
    "results = []\n",
    "scores = []\n",
    "names =[]\n",
    "for name, model in best_models_count:\n",
    "    Y_test_hat = model.predict(X_test_count)\n",
    "    results.append(metrics.confusion_matrix(Y_test, Y_test_hat))\n",
    "    scores.append(metrics.accuracy_score(Y_test, Y_test_hat))\n",
    "    names.append(name)"
   ]
  },
  {
   "cell_type": "code",
   "execution_count": 44,
   "metadata": {
    "ExecuteTime": {
     "end_time": "2018-03-17T07:43:35.308240Z",
     "start_time": "2018-03-17T07:43:35.303451Z"
    }
   },
   "outputs": [
    {
     "name": "stdout",
     "output_type": "stream",
     "text": [
      "\n",
      "[LogisticRegression]\n",
      "- test accuracy: 0.828283\n",
      "- confusion matrix: \n",
      " [[327  38  25   5]\n",
      " [  4 352  28  13]\n",
      " [ 19  46 311  18]\n",
      " [  9  38  29 322]]\n",
      "\n",
      "[MLPClassifier]\n",
      "- test accuracy: 0.791035\n",
      "- confusion matrix: \n",
      " [[323  23  27  22]\n",
      " [  7 306  32  52]\n",
      " [ 19  34 272  69]\n",
      " [  8  25  13 352]]\n"
     ]
    }
   ],
   "source": [
    "for name, score, cm in list(zip(names, scores, results)):\n",
    "    print('\\n[%s]'%name)\n",
    "    print('- test accuracy: %f'%score)\n",
    "    print(\"- confusion matrix: \\n\", cm)"
   ]
  },
  {
   "cell_type": "markdown",
   "metadata": {},
   "source": [
    "# 2. Fitting classifiers with tf-idf vectorizer"
   ]
  },
  {
   "cell_type": "code",
   "execution_count": 45,
   "metadata": {
    "ExecuteTime": {
     "end_time": "2018-03-17T07:43:39.776352Z",
     "start_time": "2018-03-17T07:43:39.772389Z"
    }
   },
   "outputs": [],
   "source": [
    "# Pre-definek options\n",
    "num_folds = 5\n",
    "num_instances = len(X_train)\n",
    "seed = 1234\n",
    "scoring = 'accuracy'"
   ]
  },
  {
   "cell_type": "markdown",
   "metadata": {},
   "source": [
    "## 2.1 Logistic Regression\n",
    "- 위와 동일"
   ]
  },
  {
   "cell_type": "code",
   "execution_count": 46,
   "metadata": {
    "ExecuteTime": {
     "end_time": "2018-03-17T07:43:44.369203Z",
     "start_time": "2018-03-17T07:43:44.365804Z"
    }
   },
   "outputs": [],
   "source": [
    "model = LogisticRegression()\n",
    "penalty_set = ['l1', 'l2']\n",
    "C_set = [0.1, 1, 10, 100]\n",
    "param_grid = dict(penalty=penalty_set, C=C_set)"
   ]
  },
  {
   "cell_type": "code",
   "execution_count": 47,
   "metadata": {
    "ExecuteTime": {
     "end_time": "2018-03-17T07:43:50.252744Z",
     "start_time": "2018-03-17T07:43:48.906257Z"
    }
   },
   "outputs": [
    {
     "name": "stdout",
     "output_type": "stream",
     "text": [
      "Fitting 5 folds for each of 8 candidates, totalling 40 fits\n"
     ]
    },
    {
     "name": "stderr",
     "output_type": "stream",
     "text": [
      "[Parallel(n_jobs=-1)]: Done  40 out of  40 | elapsed:    1.0s finished\n"
     ]
    },
    {
     "data": {
      "text/plain": [
       "GridSearchCV(cv=5, error_score='raise',\n",
       "       estimator=LogisticRegression(C=1.0, class_weight=None, dual=False, fit_intercept=True,\n",
       "          intercept_scaling=1, max_iter=100, multi_class='ovr', n_jobs=1,\n",
       "          penalty='l2', random_state=None, solver='liblinear', tol=0.0001,\n",
       "          verbose=0, warm_start=False),\n",
       "       fit_params=None, iid=True, n_jobs=-1,\n",
       "       param_grid={'penalty': ['l1', 'l2'], 'C': [0.1, 1, 10, 100]},\n",
       "       pre_dispatch='2*n_jobs', refit=True, return_train_score='warn',\n",
       "       scoring='accuracy', verbose=1)"
      ]
     },
     "execution_count": 47,
     "metadata": {},
     "output_type": "execute_result"
    }
   ],
   "source": [
    "# Using count vectorizer\n",
    "clf = GridSearchCV(estimator=model, param_grid=param_grid, scoring=scoring, cv=num_folds, n_jobs=-1, verbose=1)\n",
    "clf.fit(X_train_tfidf, Y_train)"
   ]
  },
  {
   "cell_type": "code",
   "execution_count": 48,
   "metadata": {
    "ExecuteTime": {
     "end_time": "2018-03-17T07:43:54.825814Z",
     "start_time": "2018-03-17T07:43:54.816153Z"
    }
   },
   "outputs": [
    {
     "name": "stderr",
     "output_type": "stream",
     "text": [
      "/home/paulkim/anaconda3/envs/python3_0901/lib/python3.6/site-packages/sklearn/utils/deprecation.py:122: FutureWarning: You are accessing a training score ('mean_train_score'), which will not be available by default any more in 0.21. If you need training scores, please set return_train_score=True\n",
      "  warnings.warn(*warn_args, **warn_kwargs)\n",
      "/home/paulkim/anaconda3/envs/python3_0901/lib/python3.6/site-packages/sklearn/utils/deprecation.py:122: FutureWarning: You are accessing a training score ('split0_train_score'), which will not be available by default any more in 0.21. If you need training scores, please set return_train_score=True\n",
      "  warnings.warn(*warn_args, **warn_kwargs)\n",
      "/home/paulkim/anaconda3/envs/python3_0901/lib/python3.6/site-packages/sklearn/utils/deprecation.py:122: FutureWarning: You are accessing a training score ('split1_train_score'), which will not be available by default any more in 0.21. If you need training scores, please set return_train_score=True\n",
      "  warnings.warn(*warn_args, **warn_kwargs)\n",
      "/home/paulkim/anaconda3/envs/python3_0901/lib/python3.6/site-packages/sklearn/utils/deprecation.py:122: FutureWarning: You are accessing a training score ('split2_train_score'), which will not be available by default any more in 0.21. If you need training scores, please set return_train_score=True\n",
      "  warnings.warn(*warn_args, **warn_kwargs)\n",
      "/home/paulkim/anaconda3/envs/python3_0901/lib/python3.6/site-packages/sklearn/utils/deprecation.py:122: FutureWarning: You are accessing a training score ('split3_train_score'), which will not be available by default any more in 0.21. If you need training scores, please set return_train_score=True\n",
      "  warnings.warn(*warn_args, **warn_kwargs)\n",
      "/home/paulkim/anaconda3/envs/python3_0901/lib/python3.6/site-packages/sklearn/utils/deprecation.py:122: FutureWarning: You are accessing a training score ('split4_train_score'), which will not be available by default any more in 0.21. If you need training scores, please set return_train_score=True\n",
      "  warnings.warn(*warn_args, **warn_kwargs)\n",
      "/home/paulkim/anaconda3/envs/python3_0901/lib/python3.6/site-packages/sklearn/utils/deprecation.py:122: FutureWarning: You are accessing a training score ('std_train_score'), which will not be available by default any more in 0.21. If you need training scores, please set return_train_score=True\n",
      "  warnings.warn(*warn_args, **warn_kwargs)\n"
     ]
    },
    {
     "data": {
      "text/plain": [
       "{'mean_fit_time': array([ 0.06846523,  0.11430616,  0.09718485,  0.12800169,  0.14617949,\n",
       "         0.18747039,  0.16612148,  0.18234448]),\n",
       " 'mean_score_time': array([ 0.00136476,  0.00123553,  0.00121598,  0.00083847,  0.00105443,\n",
       "         0.0008441 ,  0.00087004,  0.00070577]),\n",
       " 'mean_test_score': array([ 0.60537364,  0.82157851,  0.8434089 ,  0.85642317,  0.85516373,\n",
       "         0.86607893,  0.84760705,  0.85558354]),\n",
       " 'mean_train_score': array([ 0.61912064,  0.85998917,  0.8929446 ,  0.92999613,  0.98667013,\n",
       "         0.98341674,  0.98698487,  0.98698487]),\n",
       " 'param_C': masked_array(data = [0.1 0.1 1 1 10 10 100 100],\n",
       "              mask = [False False False False False False False False],\n",
       "        fill_value = ?),\n",
       " 'param_penalty': masked_array(data = ['l1' 'l2' 'l1' 'l2' 'l1' 'l2' 'l1' 'l2'],\n",
       "              mask = [False False False False False False False False],\n",
       "        fill_value = ?),\n",
       " 'params': [{'C': 0.1, 'penalty': 'l1'},\n",
       "  {'C': 0.1, 'penalty': 'l2'},\n",
       "  {'C': 1, 'penalty': 'l1'},\n",
       "  {'C': 1, 'penalty': 'l2'},\n",
       "  {'C': 10, 'penalty': 'l1'},\n",
       "  {'C': 10, 'penalty': 'l2'},\n",
       "  {'C': 100, 'penalty': 'l1'},\n",
       "  {'C': 100, 'penalty': 'l2'}],\n",
       " 'rank_test_score': array([8, 7, 6, 2, 4, 1, 5, 3], dtype=int32),\n",
       " 'split0_test_score': array([ 0.64016736,  0.83891213,  0.86610879,  0.86192469,  0.86610879,\n",
       "         0.87238494,  0.86401674,  0.86401674]),\n",
       " 'split0_train_score': array([ 0.61607143,  0.85241597,  0.88340336,  0.92962185,  0.98581933,\n",
       "         0.98161765,  0.98581933,  0.98581933]),\n",
       " 'split1_test_score': array([ 0.5460251 ,  0.82635983,  0.82635983,  0.85983264,  0.84518828,\n",
       "         0.87238494,  0.83472803,  0.84728033]),\n",
       " 'split1_train_score': array([ 0.61764706,  0.85714286,  0.89705882,  0.93119748,  0.98581933,\n",
       "         0.98371849,  0.98634454,  0.98634454]),\n",
       " 'split2_test_score': array([ 0.62054507,  0.80083857,  0.83228512,  0.8427673 ,  0.84696017,\n",
       "         0.86163522,  0.8490566 ,  0.85324948]),\n",
       " 'split2_train_score': array([ 0.61942257,  0.86456693,  0.89186352,  0.93018373,  0.98635171,\n",
       "         0.9832021 ,  0.98635171,  0.98635171]),\n",
       " 'split3_test_score': array([ 0.61894737,  0.81473684,  0.83578947,  0.85684211,  0.88421053,\n",
       "         0.87578947,  0.85473684,  0.86105263]),\n",
       " 'split3_train_score': array([ 0.61772417,  0.86470897,  0.89407446,  0.92920818,  0.98741479,\n",
       "         0.98479287,  0.98793917,  0.98793917]),\n",
       " 'split4_test_score': array([ 0.60126582,  0.82700422,  0.85654008,  0.86075949,  0.83333333,\n",
       "         0.84810127,  0.83544304,  0.85232068]),\n",
       " 'split4_train_score': array([ 0.62473795,  0.86111111,  0.89832285,  0.92976939,  0.98794549,\n",
       "         0.98375262,  0.9884696 ,  0.9884696 ]),\n",
       " 'std_fit_time': array([ 0.00525558,  0.00622939,  0.00489305,  0.01797996,  0.01231811,\n",
       "         0.0458327 ,  0.04943095,  0.07888714]),\n",
       " 'std_score_time': array([  7.09962971e-05,   7.56087529e-05,   1.43100206e-04,\n",
       "          1.35608112e-04,   8.79100223e-05,   1.57811748e-04,\n",
       "          2.06566462e-04,   1.91079984e-04]),\n",
       " 'std_test_score': array([ 0.03218603,  0.01289224,  0.01524468,  0.00703752,  0.01790433,\n",
       "         0.01015043,  0.01128375,  0.00610578]),\n",
       " 'std_train_score': array([ 0.00300215,  0.00468926,  0.00527888,  0.00067687,  0.00086373,\n",
       "         0.00103734,  0.00102806,  0.00102806])}"
      ]
     },
     "execution_count": 48,
     "metadata": {},
     "output_type": "execute_result"
    }
   ],
   "source": [
    "clf.cv_results_"
   ]
  },
  {
   "cell_type": "code",
   "execution_count": 49,
   "metadata": {
    "ExecuteTime": {
     "end_time": "2018-03-17T07:43:59.497880Z",
     "start_time": "2018-03-17T07:43:59.494387Z"
    }
   },
   "outputs": [
    {
     "name": "stdout",
     "output_type": "stream",
     "text": [
      "Best params :  {'C': 10, 'penalty': 'l2'}\n",
      "Best test :  accuracy : 0.866078925273\n"
     ]
    }
   ],
   "source": [
    "print(\"Best params : \", clf.best_params_)\n",
    "print(\"Best test : \", scoring, \":\", clf.best_score_)"
   ]
  },
  {
   "cell_type": "code",
   "execution_count": 50,
   "metadata": {
    "ExecuteTime": {
     "end_time": "2018-03-17T07:44:04.163717Z",
     "start_time": "2018-03-17T07:44:04.161414Z"
    }
   },
   "outputs": [],
   "source": [
    "best_logistic_tfidf = clf.best_estimator_"
   ]
  },
  {
   "cell_type": "markdown",
   "metadata": {},
   "source": [
    "## 2.2 MLPClassifer\n",
    "- 위와 동일"
   ]
  },
  {
   "cell_type": "code",
   "execution_count": 51,
   "metadata": {
    "ExecuteTime": {
     "end_time": "2018-03-17T07:44:08.760052Z",
     "start_time": "2018-03-17T07:44:08.755772Z"
    }
   },
   "outputs": [],
   "source": [
    "model = MLPClassifier(learning_rate_init=0.01, max_iter=300)\n",
    "hidden_layer_sizes_set = [(100, ), (100, 100)]\n",
    "param_grid = dict(hidden_layer_sizes=hidden_layer_sizes_set)"
   ]
  },
  {
   "cell_type": "code",
   "execution_count": 52,
   "metadata": {
    "ExecuteTime": {
     "end_time": "2018-03-17T07:44:20.834110Z",
     "start_time": "2018-03-17T07:44:13.310377Z"
    }
   },
   "outputs": [
    {
     "name": "stdout",
     "output_type": "stream",
     "text": [
      "Fitting 5 folds for each of 2 candidates, totalling 10 fits\n"
     ]
    },
    {
     "name": "stderr",
     "output_type": "stream",
     "text": [
      "[Parallel(n_jobs=-1)]: Done   6 out of  10 | elapsed:    6.0s remaining:    4.0s\n",
      "[Parallel(n_jobs=-1)]: Done  10 out of  10 | elapsed:    6.7s finished\n"
     ]
    },
    {
     "data": {
      "text/plain": [
       "GridSearchCV(cv=5, error_score='raise',\n",
       "       estimator=MLPClassifier(activation='relu', alpha=0.0001, batch_size='auto', beta_1=0.9,\n",
       "       beta_2=0.999, early_stopping=False, epsilon=1e-08,\n",
       "       hidden_layer_sizes=(100,), learning_rate='constant',\n",
       "       learning_rate_init=0.01, max_iter=300, momentum=0.9,\n",
       "       nesterovs_momentum=True, power_t=0.5, random_state=None,\n",
       "       shuffle=True, solver='adam', tol=0.0001, validation_fraction=0.1,\n",
       "       verbose=False, warm_start=False),\n",
       "       fit_params=None, iid=True, n_jobs=-1,\n",
       "       param_grid={'hidden_layer_sizes': [(100,), (100, 100)]},\n",
       "       pre_dispatch='2*n_jobs', refit=True, return_train_score='warn',\n",
       "       scoring='accuracy', verbose=1)"
      ]
     },
     "execution_count": 52,
     "metadata": {},
     "output_type": "execute_result"
    }
   ],
   "source": [
    "clf = GridSearchCV(estimator=model, param_grid=param_grid, scoring=scoring, cv=num_folds, n_jobs=-1, verbose=1)\n",
    "clf.fit(X_train_tfidf, Y_train)"
   ]
  },
  {
   "cell_type": "code",
   "execution_count": 53,
   "metadata": {
    "ExecuteTime": {
     "end_time": "2018-03-17T07:44:25.368638Z",
     "start_time": "2018-03-17T07:44:25.359849Z"
    }
   },
   "outputs": [
    {
     "name": "stderr",
     "output_type": "stream",
     "text": [
      "/home/paulkim/anaconda3/envs/python3_0901/lib/python3.6/site-packages/sklearn/utils/deprecation.py:122: FutureWarning: You are accessing a training score ('mean_train_score'), which will not be available by default any more in 0.21. If you need training scores, please set return_train_score=True\n",
      "  warnings.warn(*warn_args, **warn_kwargs)\n",
      "/home/paulkim/anaconda3/envs/python3_0901/lib/python3.6/site-packages/sklearn/utils/deprecation.py:122: FutureWarning: You are accessing a training score ('split0_train_score'), which will not be available by default any more in 0.21. If you need training scores, please set return_train_score=True\n",
      "  warnings.warn(*warn_args, **warn_kwargs)\n",
      "/home/paulkim/anaconda3/envs/python3_0901/lib/python3.6/site-packages/sklearn/utils/deprecation.py:122: FutureWarning: You are accessing a training score ('split1_train_score'), which will not be available by default any more in 0.21. If you need training scores, please set return_train_score=True\n",
      "  warnings.warn(*warn_args, **warn_kwargs)\n",
      "/home/paulkim/anaconda3/envs/python3_0901/lib/python3.6/site-packages/sklearn/utils/deprecation.py:122: FutureWarning: You are accessing a training score ('split2_train_score'), which will not be available by default any more in 0.21. If you need training scores, please set return_train_score=True\n",
      "  warnings.warn(*warn_args, **warn_kwargs)\n",
      "/home/paulkim/anaconda3/envs/python3_0901/lib/python3.6/site-packages/sklearn/utils/deprecation.py:122: FutureWarning: You are accessing a training score ('split3_train_score'), which will not be available by default any more in 0.21. If you need training scores, please set return_train_score=True\n",
      "  warnings.warn(*warn_args, **warn_kwargs)\n",
      "/home/paulkim/anaconda3/envs/python3_0901/lib/python3.6/site-packages/sklearn/utils/deprecation.py:122: FutureWarning: You are accessing a training score ('split4_train_score'), which will not be available by default any more in 0.21. If you need training scores, please set return_train_score=True\n",
      "  warnings.warn(*warn_args, **warn_kwargs)\n",
      "/home/paulkim/anaconda3/envs/python3_0901/lib/python3.6/site-packages/sklearn/utils/deprecation.py:122: FutureWarning: You are accessing a training score ('std_train_score'), which will not be available by default any more in 0.21. If you need training scores, please set return_train_score=True\n",
      "  warnings.warn(*warn_args, **warn_kwargs)\n"
     ]
    },
    {
     "data": {
      "text/plain": [
       "{'mean_fit_time': array([ 5.86700387,  3.44230008]),\n",
       " 'mean_score_time': array([ 0.02879663,  0.02137346]),\n",
       " 'mean_test_score': array([ 0.84760705,  0.85264484]),\n",
       " 'mean_train_score': array([ 0.98698487,  0.98698487]),\n",
       " 'param_hidden_layer_sizes': masked_array(data = [(100,) (100, 100)],\n",
       "              mask = [False False],\n",
       "        fill_value = ?),\n",
       " 'params': [{'hidden_layer_sizes': (100,)},\n",
       "  {'hidden_layer_sizes': (100, 100)}],\n",
       " 'rank_test_score': array([2, 1], dtype=int32),\n",
       " 'split0_test_score': array([ 0.85983264,  0.87029289]),\n",
       " 'split0_train_score': array([ 0.98581933,  0.98581933]),\n",
       " 'split1_test_score': array([ 0.85146444,  0.84518828]),\n",
       " 'split1_train_score': array([ 0.98634454,  0.98634454]),\n",
       " 'split2_test_score': array([ 0.83857442,  0.85953878]),\n",
       " 'split2_train_score': array([ 0.98635171,  0.98635171]),\n",
       " 'split3_test_score': array([ 0.84842105,  0.84210526]),\n",
       " 'split3_train_score': array([ 0.98793917,  0.98793917]),\n",
       " 'split4_test_score': array([ 0.83966245,  0.84599156]),\n",
       " 'split4_train_score': array([ 0.9884696,  0.9884696]),\n",
       " 'std_fit_time': array([ 0.18251642,  0.50025667]),\n",
       " 'std_score_time': array([ 0.01172867,  0.02032867]),\n",
       " 'std_test_score': array([ 0.0078746 ,  0.01068337]),\n",
       " 'std_train_score': array([ 0.00102806,  0.00102806])}"
      ]
     },
     "execution_count": 53,
     "metadata": {},
     "output_type": "execute_result"
    }
   ],
   "source": [
    "clf.cv_results_"
   ]
  },
  {
   "cell_type": "code",
   "execution_count": 54,
   "metadata": {
    "ExecuteTime": {
     "end_time": "2018-03-17T07:44:29.864109Z",
     "start_time": "2018-03-17T07:44:29.860835Z"
    }
   },
   "outputs": [
    {
     "name": "stdout",
     "output_type": "stream",
     "text": [
      "Best params :  {'hidden_layer_sizes': (100, 100)}\n",
      "Best test :  accuracy : 0.852644836272\n"
     ]
    }
   ],
   "source": [
    "print(\"Best params : \", clf.best_params_)\n",
    "print(\"Best test : \", scoring, \":\", clf.best_score_)"
   ]
  },
  {
   "cell_type": "code",
   "execution_count": 55,
   "metadata": {
    "ExecuteTime": {
     "end_time": "2018-03-17T07:44:34.363244Z",
     "start_time": "2018-03-17T07:44:34.361198Z"
    }
   },
   "outputs": [],
   "source": [
    "best_mlp_tfidf = clf.best_estimator_"
   ]
  },
  {
   "cell_type": "markdown",
   "metadata": {},
   "source": [
    "## 2.3 두 모델의 비교"
   ]
  },
  {
   "cell_type": "code",
   "execution_count": 56,
   "metadata": {
    "ExecuteTime": {
     "end_time": "2018-03-17T07:44:38.862859Z",
     "start_time": "2018-03-17T07:44:38.860084Z"
    }
   },
   "outputs": [],
   "source": [
    "best_models = []\n",
    "best_models.append(('LogisticRegression', best_logistic_tfidf))\n",
    "best_models.append(('MLPClassifier', best_mlp_tfidf))"
   ]
  },
  {
   "cell_type": "code",
   "execution_count": 57,
   "metadata": {
    "ExecuteTime": {
     "end_time": "2018-03-17T07:44:43.383191Z",
     "start_time": "2018-03-17T07:44:43.359421Z"
    }
   },
   "outputs": [],
   "source": [
    "results = []\n",
    "scores  = []\n",
    "names   = []\n",
    "for name, model in best_models:\n",
    "    Y_test_hat = model.predict(X_test_tfidf)\n",
    "    results.append(metrics.confusion_matrix(Y_test, Y_test_hat))\n",
    "    scores.append(metrics.accuracy_score(Y_test, Y_test_hat))\n",
    "    names.append(name)"
   ]
  },
  {
   "cell_type": "code",
   "execution_count": 58,
   "metadata": {
    "ExecuteTime": {
     "end_time": "2018-03-17T07:45:19.702907Z",
     "start_time": "2018-03-17T07:45:19.697553Z"
    }
   },
   "outputs": [
    {
     "name": "stdout",
     "output_type": "stream",
     "text": [
      "\n",
      "[LogisticRegression]\n",
      "- test accuracy: 0.838384\n",
      "- confusion matrix :\n",
      " [[335  31  23   6]\n",
      " [ 10 340  27  20]\n",
      " [ 20  41 306  27]\n",
      " [ 10  27  14 347]]\n",
      "\n",
      "[MLPClassifier]\n",
      "- test accuracy: 0.818813\n",
      "- confusion matrix :\n",
      " [[334  21  29  11]\n",
      " [ 10 325  36  26]\n",
      " [ 24  44 299  27]\n",
      " [ 10  31  18 339]]\n"
     ]
    }
   ],
   "source": [
    "for name, score, cm in list(zip(names, scores, results)):\n",
    "    print('\\n[%s]' % name)\n",
    "    print('- test accuracy: %f' % score)\n",
    "    print('- confusion matrix :\\n', cm)"
   ]
  },
  {
   "cell_type": "code",
   "execution_count": null,
   "metadata": {},
   "outputs": [],
   "source": []
  }
 ],
 "metadata": {
  "kernelspec": {
   "display_name": "Python (python3_0901)",
   "language": "python",
   "name": "python3_0901"
  },
  "language_info": {
   "codemirror_mode": {
    "name": "ipython",
    "version": 3
   },
   "file_extension": ".py",
   "mimetype": "text/x-python",
   "name": "python",
   "nbconvert_exporter": "python",
   "pygments_lexer": "ipython3",
   "version": "3.6.3"
  },
  "latex_envs": {
   "LaTeX_envs_menu_present": true,
   "autoclose": false,
   "autocomplete": true,
   "bibliofile": "biblio.bib",
   "cite_by": "apalike",
   "current_citInitial": 1,
   "eqLabelWithNumbers": true,
   "eqNumInitial": 1,
   "hotkeys": {
    "equation": "Ctrl-E",
    "itemize": "Ctrl-I"
   },
   "labels_anchors": false,
   "latex_user_defs": false,
   "report_style_numbering": false,
   "user_envs_cfg": false
  },
  "varInspector": {
   "cols": {
    "lenName": 16,
    "lenType": 16,
    "lenVar": 40
   },
   "kernels_config": {
    "python": {
     "delete_cmd_postfix": "",
     "delete_cmd_prefix": "del ",
     "library": "var_list.py",
     "varRefreshCmd": "print(var_dic_list())"
    },
    "r": {
     "delete_cmd_postfix": ") ",
     "delete_cmd_prefix": "rm(",
     "library": "var_list.r",
     "varRefreshCmd": "cat(var_dic_list()) "
    }
   },
   "types_to_exclude": [
    "module",
    "function",
    "builtin_function_or_method",
    "instance",
    "_Feature"
   ],
   "window_display": false
  }
 },
 "nbformat": 4,
 "nbformat_minor": 2
}
