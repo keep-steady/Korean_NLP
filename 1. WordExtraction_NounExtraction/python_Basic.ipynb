{
 "cells": [
  {
   "cell_type": "markdown",
   "metadata": {},
   "source": [
    "## 1. JSON"
   ]
  },
  {
   "cell_type": "markdown",
   "metadata": {},
   "source": [
    "representor는 Python의 dict로 이뤄진 데이터구조임. JSON은 dict의 key가 str이며, 그 value는 int, float, str, 그리고 이로 이뤄진 또 다른 dict, list가 될 수 있다는 것을 기억"
   ]
  },
  {
   "cell_type": "code",
   "execution_count": 1,
   "metadata": {
    "ExecuteTime": {
     "end_time": "2018-03-17T13:12:11.758737Z",
     "start_time": "2018-03-17T13:12:11.753219Z"
    }
   },
   "outputs": [],
   "source": [
    "representor = {\n",
    "    'name' : '김예찬',\n",
    "    'age' : 29,\n",
    "    'interests' : ['text mining', 'natural language processing'],\n",
    "    'friends' : {\n",
    "        'name' : '강병욱',\n",
    "        'id' : 'kbw'\n",
    "    }\n",
    "}"
   ]
  },
  {
   "cell_type": "markdown",
   "metadata": {},
   "source": [
    "representor['name']을 하면 해당 값이 return 됩니다. "
   ]
  },
  {
   "cell_type": "code",
   "execution_count": 2,
   "metadata": {
    "ExecuteTime": {
     "end_time": "2018-03-17T13:12:12.038277Z",
     "start_time": "2018-03-17T13:12:12.029911Z"
    }
   },
   "outputs": [
    {
     "data": {
      "text/plain": [
       "'김예찬'"
      ]
     },
     "execution_count": 2,
     "metadata": {},
     "output_type": "execute_result"
    }
   ],
   "source": [
    "representor['name']"
   ]
  },
  {
   "cell_type": "markdown",
   "metadata": {},
   "source": [
    "representor의 friends는 또 다른 dict이며, JSON은 이처럼 depth가 1보다 더 깊어질 수 있습니다. 만약 특정 키가 존재함을 알고 있다면 representor['friends']의 ['name']을 통하여 직접 해당 값도 가져올 수 있음"
   ]
  },
  {
   "cell_type": "code",
   "execution_count": 3,
   "metadata": {
    "ExecuteTime": {
     "end_time": "2018-03-17T13:12:12.286863Z",
     "start_time": "2018-03-17T13:12:12.283812Z"
    }
   },
   "outputs": [
    {
     "data": {
      "text/plain": [
       "'강병욱'"
      ]
     },
     "execution_count": 3,
     "metadata": {},
     "output_type": "execute_result"
    }
   ],
   "source": [
    "representor['friends']['name']"
   ]
  },
  {
   "cell_type": "markdown",
   "metadata": {},
   "source": [
    "dict를 print 하면 길이가 짧을 경우, 한 줄로 표시가 되어서 읽기 어려움. 이 때에는 pretty print를 사용해보는 것을 권장"
   ]
  },
  {
   "cell_type": "code",
   "execution_count": 4,
   "metadata": {
    "ExecuteTime": {
     "end_time": "2018-03-17T13:12:13.294011Z",
     "start_time": "2018-03-17T13:12:12.540415Z"
    }
   },
   "outputs": [
    {
     "name": "stdout",
     "output_type": "stream",
     "text": [
      "{'name': '김예찬', 'age': 29, 'interests': ['text mining', 'natural language processing'], 'friends': {'name': '강병욱', 'id': 'kbw'}}\n"
     ]
    }
   ],
   "source": [
    "print(representor)"
   ]
  },
  {
   "cell_type": "code",
   "execution_count": 5,
   "metadata": {
    "ExecuteTime": {
     "end_time": "2018-03-17T13:12:13.395545Z",
     "start_time": "2018-03-17T13:12:13.330306Z"
    }
   },
   "outputs": [
    {
     "name": "stdout",
     "output_type": "stream",
     "text": [
      "{'age': 29,\n",
      " 'friends': {'id': 'kbw', 'name': '강병욱'},\n",
      " 'interests': ['text mining', 'natural language processing'],\n",
      " 'name': '김예찬'}\n"
     ]
    }
   ],
   "source": [
    "from pprint import pprint\n",
    "pprint(representor)"
   ]
  },
  {
   "cell_type": "markdown",
   "metadata": {},
   "source": [
    "representor를 저장하고, 다시 불러올 것입니다. 만약 저장하려는 path의 폴더가 존재하지 않는다면 이 폴더를 생성하여 저장하도록 한다"
   ]
  },
  {
   "cell_type": "code",
   "execution_count": 6,
   "metadata": {
    "ExecuteTime": {
     "end_time": "2018-03-17T13:12:13.473796Z",
     "start_time": "2018-03-17T13:12:13.440084Z"
    }
   },
   "outputs": [
    {
     "name": "stdout",
     "output_type": "stream",
     "text": [
      "tmp/representor.json tmp\n"
     ]
    }
   ],
   "source": [
    "fname = \"tmp/representor.json\"\n",
    "folder = fname.split('/')[0]\n",
    "\n",
    "print(fname, folder)"
   ]
  },
  {
   "cell_type": "code",
   "execution_count": 7,
   "metadata": {
    "ExecuteTime": {
     "end_time": "2018-03-17T13:12:13.543095Z",
     "start_time": "2018-03-17T13:12:13.516082Z"
    }
   },
   "outputs": [
    {
     "name": "stdout",
     "output_type": "stream",
     "text": [
      "True\n"
     ]
    }
   ],
   "source": [
    "import os\n",
    "\n",
    "print(os.path.exists(folder))"
   ]
  },
  {
   "cell_type": "code",
   "execution_count": 8,
   "metadata": {
    "ExecuteTime": {
     "end_time": "2018-03-17T13:12:13.607902Z",
     "start_time": "2018-03-17T13:12:13.586029Z"
    }
   },
   "outputs": [],
   "source": [
    "if not os.path.exists(folder):\n",
    "    os.mkdir(folder)\n",
    "    print('created %s'%folder)"
   ]
  },
  {
   "cell_type": "markdown",
   "metadata": {},
   "source": [
    "Python에서 파일을 읽거나 쓸 때 (File I/O)는 open을 이용하면 됨. 이 때 반드시 인코딩을 utf-8로 지정하는 것을 추천함\n",
    "\n",
    "인코딩이란 쉽게 말하면 'a'라는 글자를 어떤 숫자로 저장할 것이냐라는 언어포임. 컴퓨터는 정보를 2진수로 이뤄진 숫자로 저아함. 'a'라는 글자는 어떤 인코딩에서는 0일 수도 있고, 다른 어떤 인코딩에서는 100일 수 있음. 각 인코딩이 표현할 수 있는 언어의 폭도 다름. 처음 컴퓨터가 만들어질 때 나왔던 인코딩은 한글, 중국어 등의 세계 각 국의 언어를 고려하지 않았음. 영어/숫자/특수기호 등으로 이뤄진 인코딩을 이용하였으나 컴퓨터를 사용하는 지역이 넓어짐에 따라 각 언어를 반영하도록 기술이 발전했다는 것을 기억해야 함\n",
    "\n",
    "현재는 utf-8이 표준 인코딩으로 사용되고 있으며 여기에는 한국어를 포함한 많은 언어들이 등록되어 있음.\n",
    "\n",
    "그런데 컴퓨터 입장에서 001010처럼 써진 숫자들만 보고 이 숫자가 어떤 글자를 의미하는지 추측하려면 때에 따라서 틀릴 수 있음. 반대로 사용자가 001010을 어떤 인코딩으로 읽으라고 지정할 수 도 있음. 또한 파일에 데이터를 쓸 때에도 'a'라는 글자를 어떤 인코딩 방식을 통해서 이진수로 표현하는지를 결정할 수 있음 \n",
    "\n",
    "파이썬은 해당 OS의 기본 인코딩을 사용함. 윈도우의 기본 인코딩을 cp949이며, ubuntu, MacOS에서 이 포멧이 잘 열리지 않을 수 있기 때문에 표준 인코딩인 utf-8을 명시하는 것을 권장한다는 것을 기억해라"
   ]
  },
  {
   "cell_type": "markdown",
   "metadata": {
    "collapsed": true
   },
   "source": [
    "JSON형식의 데이터를 저장할 때에는 \n",
    " - json.dump(object, file)"
   ]
  },
  {
   "cell_type": "code",
   "execution_count": 9,
   "metadata": {
    "ExecuteTime": {
     "end_time": "2018-03-17T13:12:14.362687Z",
     "start_time": "2018-03-17T13:12:14.355198Z"
    }
   },
   "outputs": [],
   "source": [
    "import json\n",
    "\n",
    "with open('tmp/representor.json', 'w', encoding='utf-8') as f:\n",
    "    json.dump(representor, f)"
   ]
  },
  {
   "cell_type": "markdown",
   "metadata": {},
   "source": [
    "파이썬에서 File I/O를 하기 위해 open을 이용할 때 2가지 방식이 가능함.\n",
    "- open으로 파일을 열어둔 통로를 f라는 변수로 받은 뒤 json을 등록하고 f를 close()하여 파일을 완전히 닫을 수 있음\n",
    "\n",
    "그렇지만 아래 방식은 실수로 f.close()를 하지 않는 경우 python이 해당 파일에 언제든지 쓸 준비를 하도록 만들어줌. 이렇게 열린 파일들이 많아지면 python이 중간에 죽는 일이 발생하며, 특히 아래 코드에서 매우 위험함\n",
    "\n",
    "```python\n",
    "for name in fnames:\n",
    "    f = open(fname)\n",
    "    ...\n",
    "```\n",
    "with open...은 해당 구문이 끝나면 f.close()를 자동으로 시켜주는 구문으로 위처럼 File I/O를 하는 것을 추천함"
   ]
  },
  {
   "cell_type": "code",
   "execution_count": 10,
   "metadata": {
    "ExecuteTime": {
     "end_time": "2018-03-17T13:12:14.987280Z",
     "start_time": "2018-03-17T13:12:14.979430Z"
    }
   },
   "outputs": [],
   "source": [
    "f = open('tmp/representor.json', 'w', encoding='utf-8')\n",
    "json.dump(representor, f)\n",
    "f.close()"
   ]
  },
  {
   "cell_type": "markdown",
   "metadata": {},
   "source": [
    "JSON형식의 데이터를 파일로부터 불러들일 때에는 json.load(file)을 하면 됨. 이전에 만든 representor와 같은지 확인하기 위해 다른 이름인 loaded_representor로 불러들여보자"
   ]
  },
  {
   "cell_type": "code",
   "execution_count": 11,
   "metadata": {
    "ExecuteTime": {
     "end_time": "2018-03-17T13:12:15.546256Z",
     "start_time": "2018-03-17T13:12:15.533900Z"
    }
   },
   "outputs": [
    {
     "name": "stdout",
     "output_type": "stream",
     "text": [
      "{'age': 29,\n",
      " 'friends': {'id': 'kbw', 'name': '강병욱'},\n",
      " 'interests': ['text mining', 'natural language processing'],\n",
      " 'name': '김예찬'}\n"
     ]
    }
   ],
   "source": [
    "with open('tmp/representor.json', encoding='utf-8') as f:\n",
    "    loaded_representor = json.load(f)\n",
    "    \n",
    "pprint(loaded_representor)"
   ]
  },
  {
   "cell_type": "markdown",
   "metadata": {},
   "source": [
    "새로운 정보를 추가하고 싶을 때에는 JSONObject['str_key'] =value를 입력하면 됨"
   ]
  },
  {
   "cell_type": "code",
   "execution_count": 12,
   "metadata": {
    "ExecuteTime": {
     "end_time": "2018-03-17T13:12:16.871241Z",
     "start_time": "2018-03-17T13:12:16.158419Z"
    }
   },
   "outputs": [
    {
     "name": "stdout",
     "output_type": "stream",
     "text": [
      "{'age': 29,\n",
      " 'friends': {'id': 'kbw', 'name': '강병욱'},\n",
      " 'interests': ['text mining', 'natural language processing'],\n",
      " 'likes': ['coffee', 'drinks'],\n",
      " 'name': '김예찬'}\n"
     ]
    }
   ],
   "source": [
    "representor['likes'] = ['coffee', 'drinks']\n",
    "pprint(representor)"
   ]
  },
  {
   "cell_type": "markdown",
   "metadata": {},
   "source": [
    "JSONObject에 어떤 keys가 들어있는지 확인할 수 있음"
   ]
  },
  {
   "cell_type": "code",
   "execution_count": 13,
   "metadata": {
    "ExecuteTime": {
     "end_time": "2018-03-17T13:12:17.070469Z",
     "start_time": "2018-03-17T13:12:17.066584Z"
    }
   },
   "outputs": [
    {
     "name": "stdout",
     "output_type": "stream",
     "text": [
      "representor keys :  dict_keys(['name', 'age', 'interests', 'friends', 'likes'])\n",
      "representor[\"friends\"] keys :  dict_keys(['name', 'id'])\n",
      "representor has age? :  True\n"
     ]
    }
   ],
   "source": [
    "print('representor keys : ', representor.keys())\n",
    "print('representor[\"friends\"] keys : ', representor['friends'].keys())\n",
    "print('representor has age? : ', 'age' in representor)"
   ]
  },
  {
   "cell_type": "markdown",
   "metadata": {},
   "source": [
    "JSONObject는 dict이기 때문에 존재하지 않는 key를 입력하면 에러가 남. 이를 방지하기 위하여 default return value를 지정할 수 있는 dict.get('key', default value)를 이용하면 좋음"
   ]
  },
  {
   "cell_type": "code",
   "execution_count": 14,
   "metadata": {
    "ExecuteTime": {
     "end_time": "2018-03-17T13:12:17.910413Z",
     "start_time": "2018-03-17T13:12:17.848763Z"
    }
   },
   "outputs": [
    {
     "ename": "KeyError",
     "evalue": "'wrong key'",
     "output_type": "error",
     "traceback": [
      "\u001b[0;31m---------------------------------------------------------------------------\u001b[0m",
      "\u001b[0;31mKeyError\u001b[0m                                  Traceback (most recent call last)",
      "\u001b[0;32m<ipython-input-14-fba746a87f02>\u001b[0m in \u001b[0;36m<module>\u001b[0;34m()\u001b[0m\n\u001b[0;32m----> 1\u001b[0;31m \u001b[0mrepresentor\u001b[0m\u001b[0;34m[\u001b[0m\u001b[0;34m'wrong key'\u001b[0m\u001b[0;34m]\u001b[0m\u001b[0;34m\u001b[0m\u001b[0m\n\u001b[0m",
      "\u001b[0;31mKeyError\u001b[0m: 'wrong key'"
     ]
    }
   ],
   "source": [
    "representor['wrong key']"
   ]
  },
  {
   "cell_type": "code",
   "execution_count": 15,
   "metadata": {
    "ExecuteTime": {
     "end_time": "2018-03-17T13:12:18.248568Z",
     "start_time": "2018-03-17T13:12:18.244164Z"
    }
   },
   "outputs": [
    {
     "data": {
      "text/plain": [
       "'김예찬'"
      ]
     },
     "execution_count": 15,
     "metadata": {},
     "output_type": "execute_result"
    }
   ],
   "source": [
    "representor.get('name',[])"
   ]
  },
  {
   "cell_type": "markdown",
   "metadata": {},
   "source": [
    "## 2. KoNLPy"
   ]
  },
  {
   "cell_type": "markdown",
   "metadata": {},
   "source": [
    "KoNLPy는 python에서 한국어 텍스트의 전처리를 할 수 있도록 토크나이징 / 품사 태깅 / 명사 추출을 하는 패키지임\n",
    "\n",
    "KoNLPy에서 트위터 형태소 분석기, 한나눔, 꼬꼬마, 코모란, 한국어-매캅 등 다양한 종류의 공개된 한국어 형태소 분석기들이 들어있음. 각 형태소 분석기마다 구현된 언어가 다름. 특히 자바로 구현된 형태소 분석디들을 사용하기 위해서는 JPype1을 먼저 설치해야 함\n",
    "\n",
    "꼬꼬마, 트위터, 한나눔을 사용해보자"
   ]
  },
  {
   "cell_type": "code",
   "execution_count": 16,
   "metadata": {
    "ExecuteTime": {
     "end_time": "2018-03-17T13:12:19.342679Z",
     "start_time": "2018-03-17T13:12:19.280971Z"
    }
   },
   "outputs": [],
   "source": [
    "from konlpy.tag import Kkma, Twitter, Hannanum\n",
    "from pprint import pprint"
   ]
  },
  {
   "cell_type": "markdown",
   "metadata": {},
   "source": [
    "여러 개의 형태소 분석기를 비교하기 위해서 각 형태소 분석기들을 이름과 함께 tuple로 만들어, 이를 list에 넣어보자"
   ]
  },
  {
   "cell_type": "code",
   "execution_count": 17,
   "metadata": {
    "ExecuteTime": {
     "end_time": "2018-03-17T13:12:20.807511Z",
     "start_time": "2018-03-17T13:12:19.981973Z"
    }
   },
   "outputs": [],
   "source": [
    "taggers = [('kkma', Kkma()), ('twitter', Twitter()), ('hannanum', Hannanum())]"
   ]
  },
  {
   "cell_type": "markdown",
   "metadata": {},
   "source": [
    "print를 할 때 %s는 해당 자리에 str이 들어간다는 의미임. 해당되는 값은 %뒤의 튜플 안에 넣어줄 수 있음.\n",
    "\n",
    "String format에 넣을 수 있는 것들은 %d(int), %f(float), %r(boolean) 등이 있음\n",
    "\n",
    "%10s를 이용하면 우측 정렬로 해당 str의 길이가 10보다 짧을 경우, 나머지를 모두 빈 칸으로 채워 넣어준다"
   ]
  },
  {
   "cell_type": "code",
   "execution_count": 18,
   "metadata": {
    "ExecuteTime": {
     "end_time": "2018-03-17T13:12:20.869263Z",
     "start_time": "2018-03-17T13:12:20.864982Z"
    }
   },
   "outputs": [
    {
     "name": "stdout",
     "output_type": "stream",
     "text": [
      "tagger name =       kkma\tclass_name = <class 'konlpy.tag._kkma.Kkma'>\n",
      "tagger name =    twitter\tclass_name = <class 'konlpy.tag._twitter.Twitter'>\n",
      "tagger name =   hannanum\tclass_name = <class 'konlpy.tag._hannanum.Hannanum'>\n"
     ]
    }
   ],
   "source": [
    "for tagger in taggers:\n",
    "    name = tagger[0]\n",
    "    tagger = tagger[1]\n",
    "    print('tagger name = %10s\\tclass_name = %s'%(name, tagger.__class__))"
   ]
  },
  {
   "cell_type": "markdown",
   "metadata": {},
   "source": [
    "비슷하게 %.3f를 이용하면 float의 소수점 3자리 까지만 출력해줌"
   ]
  },
  {
   "cell_type": "code",
   "execution_count": 19,
   "metadata": {
    "ExecuteTime": {
     "end_time": "2018-03-17T13:12:21.977392Z",
     "start_time": "2018-03-17T13:12:21.973579Z"
    }
   },
   "outputs": [
    {
     "data": {
      "text/plain": [
       "'1.323'"
      ]
     },
     "execution_count": 19,
     "metadata": {},
     "output_type": "execute_result"
    }
   ],
   "source": [
    "'%.3f'%1.32342523"
   ]
  },
  {
   "cell_type": "markdown",
   "metadata": {},
   "source": [
    "참고로 http://pyformat.info/를 살펴보면 {}를 이용하는 format도 볼 수 있음. %s를 이용하면 아비을 지정할 수 있다는 장점도 있음\n",
    "\n",
    "taggers list안의 자료들이 다른 자료 2개로 이뤄진 튜플이란 것을 알기 때문에\n",
    "\n",
    "```python\n",
    "    for tagger in taggers:\n",
    "```\n",
    "대신 tagger[0], tagger[1]을 미리 지정할 수 있음\n",
    "```python\n",
    "for name, tagger in taggers:\n",
    "```"
   ]
  },
  {
   "cell_type": "code",
   "execution_count": 20,
   "metadata": {
    "ExecuteTime": {
     "end_time": "2018-03-17T13:12:22.675268Z",
     "start_time": "2018-03-17T13:12:22.671605Z"
    }
   },
   "outputs": [
    {
     "name": "stdout",
     "output_type": "stream",
     "text": [
      "tagger name =       kkma\tclass_name = <class 'konlpy.tag._kkma.Kkma'>\n",
      "tagger name =    twitter\tclass_name = <class 'konlpy.tag._twitter.Twitter'>\n",
      "tagger name =   hannanum\tclass_name = <class 'konlpy.tag._hannanum.Hannanum'>\n"
     ]
    }
   ],
   "source": [
    "for name, tagger in taggers:\n",
    "    print('tagger name = %10s\\tclass_name = %s'%(name, tagger.__class__))"
   ]
  },
  {
   "cell_type": "markdown",
   "metadata": {},
   "source": [
    "함수를 실해하는 시간을 보고 싶을 때에는 '%%time' 예약어를 이용하면 됨\n",
    "\n",
    "패키지마다 품사표가 다름. Hannanum에서 '이건'이란 어절이 [('이', 'N'), ('이', 'J'), ('건', 'E')]으로 나오는 것은 '이'라는 글자가 명사(N), 조사(J)가 있기 때문임"
   ]
  },
  {
   "cell_type": "code",
   "execution_count": 21,
   "metadata": {
    "ExecuteTime": {
     "end_time": "2018-03-17T13:12:24.832068Z",
     "start_time": "2018-03-17T13:12:23.368145Z"
    }
   },
   "outputs": [
    {
     "name": "stdout",
     "output_type": "stream",
     "text": [
      "pos_tagger name = hannanum\n",
      "[('이', 'N'), ('이', 'J'), ('건', 'E'), ('테스트', 'N'), ('문장임', 'N')]\n",
      "CPU times: user 2.13 s, sys: 58.9 ms, total: 2.19 s\n",
      "Wall time: 522 ms\n"
     ]
    }
   ],
   "source": [
    "%%time\n",
    "print('pos_tagger name = %s'%taggers[2][0])\n",
    "pprint(taggers[2][1].pos('이건 테스트 문장임'))"
   ]
  },
  {
   "cell_type": "code",
   "execution_count": 22,
   "metadata": {
    "ExecuteTime": {
     "end_time": "2018-03-17T13:12:30.646038Z",
     "start_time": "2018-03-17T13:12:24.893550Z"
    }
   },
   "outputs": [
    {
     "name": "stdout",
     "output_type": "stream",
     "text": [
      "pos_tagger name = kkma\n",
      "[('이건', 'NNP'), ('테스트', 'NNG'), ('문장', 'NNG'), ('임', 'NNG')]\n",
      "pos_tagger name = twitter\n",
      "[('이건', 'Noun'), ('테스트', 'Noun'), ('문장', 'Noun'), ('임', 'Noun')]\n",
      "pos_tagger name = hannanum\n",
      "[('이', 'N'), ('이', 'J'), ('건', 'E'), ('테스트', 'N'), ('문장임', 'N')]\n",
      "CPU times: user 25.3 s, sys: 272 ms, total: 25.6 s\n",
      "Wall time: 5.75 s\n"
     ]
    }
   ],
   "source": [
    "%%time\n",
    "for name, tagger in taggers:\n",
    "    print('pos_tagger name = %s'%name)\n",
    "    pprint(tagger.pos('이건 테스트 문장임'))"
   ]
  },
  {
   "cell_type": "markdown",
   "metadata": {},
   "source": [
    "패키지마다 품사표가 조금씩 다름. 각 품사표를 확인하고자 한다면 [KoNLPy][konlpy_page]의  [품사 태그 비교표][tag_table]을 확인하거나 각 형태소 분석기의 태그셋을 확인하면 된다\n",
    "\n",
    "[konlpy_page]: http://konlpy.org/ko/v0.4.4/morph/\n",
    "[tag_table]: https://docs.google.com/spreadsheets/d/1OGAjUvalBuX-oZvZ_-9tEfYD2gQe7hTGsgUpiiBSXI8/edit#gid=0"
   ]
  },
  {
   "cell_type": "code",
   "execution_count": 23,
   "metadata": {
    "ExecuteTime": {
     "end_time": "2018-03-17T13:12:30.702635Z",
     "start_time": "2018-03-17T13:12:30.689735Z"
    }
   },
   "outputs": [
    {
     "name": "stdout",
     "output_type": "stream",
     "text": [
      "pos_tagger name = kkma\n",
      "{'EC': '연결 어미',\n",
      " 'ECD': '의존적 연결 어미',\n",
      " 'ECE': '대등 연결 어미',\n",
      " 'ECS': '보조적 연결 어미',\n",
      " 'EF': '종결 어미',\n",
      " 'EFA': '청유형 종결 어미',\n",
      " 'EFI': '감탄형 종결 어미',\n",
      " 'EFN': '평서형 종결 어미',\n",
      " 'EFO': '명령형 종결 어미',\n",
      " 'EFQ': '의문형 종결 어미',\n",
      " 'EFR': '존칭형 종결 어미',\n",
      " 'EP': '선어말 어미',\n",
      " 'EPH': '존칭 선어말 어미',\n",
      " 'EPP': '공손 선어말 어미',\n",
      " 'EPT': '시제 선어말 어미',\n",
      " 'ET': '전성 어미',\n",
      " 'ETD': '관형형 전성 어미',\n",
      " 'ETN': '명사형 전성 어미',\n",
      " 'IC': '감탄사',\n",
      " 'JC': '접속 조사',\n",
      " 'JK': '조사',\n",
      " 'JKC': '보격 조사',\n",
      " 'JKG': '관형격 조사',\n",
      " 'JKI': '호격 조사',\n",
      " 'JKM': '부사격 조사',\n",
      " 'JKO': '목적격 조사',\n",
      " 'JKQ': '인용격 조사',\n",
      " 'JKS': '주격 조사',\n",
      " 'JX': '보조사',\n",
      " 'MA': '부사',\n",
      " 'MAC': '접속 부사',\n",
      " 'MAG': '일반 부사',\n",
      " 'MD': '관형사',\n",
      " 'MDN': '수 관형사',\n",
      " 'MDT': '일반 관형사',\n",
      " 'NN': '명사',\n",
      " 'NNB': '일반 의존 명사',\n",
      " 'NNG': '보통명사',\n",
      " 'NNM': '단위 의존 명사',\n",
      " 'NNP': '고유명사',\n",
      " 'NP': '대명사',\n",
      " 'NR': '수사',\n",
      " 'OH': '한자',\n",
      " 'OL': '외국어',\n",
      " 'ON': '숫자',\n",
      " 'SE': '줄임표',\n",
      " 'SF': '마침표, 물음표, 느낌표',\n",
      " 'SO': '붙임표(물결,숨김,빠짐)',\n",
      " 'SP': '쉼표,가운뎃점,콜론,빗금',\n",
      " 'SS': '따옴표,괄호표,줄표',\n",
      " 'SW': '기타기호 (논리수학기호,화폐기호)',\n",
      " 'UN': '명사추정범주',\n",
      " 'VA': '형용사',\n",
      " 'VC': '지정사',\n",
      " 'VCN': \"부정 지정사, 형용사 '아니다'\",\n",
      " 'VCP': \"긍정 지정사, 서술격 조사 '이다'\",\n",
      " 'VV': '동사',\n",
      " 'VX': '보조 용언',\n",
      " 'VXA': '보조 형용사',\n",
      " 'VXV': '보조 동사',\n",
      " 'XP': '접두사',\n",
      " 'XPN': '체언 접두사',\n",
      " 'XPV': '용언 접두사',\n",
      " 'XR': '어근',\n",
      " 'XSA': '형용사 파생 접미사',\n",
      " 'XSN': '명사파생 접미사',\n",
      " 'XSV': '동사 파생 접미사'}\n"
     ]
    }
   ],
   "source": [
    "print('pos_tagger name = %s'%taggers[0][0])\n",
    "pprint(taggers[0][1].tagset)"
   ]
  },
  {
   "cell_type": "code",
   "execution_count": 24,
   "metadata": {
    "ExecuteTime": {
     "end_time": "2018-03-17T13:12:31.193636Z",
     "start_time": "2018-03-17T13:12:30.760023Z"
    }
   },
   "outputs": [
    {
     "name": "stdout",
     "output_type": "stream",
     "text": [
      "pos_tagger name = twitter\n",
      "{'Adjective': '형용사',\n",
      " 'Adverb': '부사',\n",
      " 'Alpha': '알파벳',\n",
      " 'Conjunction': '접속사',\n",
      " 'Determiner': '관형사',\n",
      " 'Eomi': '어미',\n",
      " 'Exclamation': '감탄사',\n",
      " 'Foreign': '외국어, 한자 및 기타기호',\n",
      " 'Hashtag': '트위터 해쉬태그',\n",
      " 'Josa': '조사',\n",
      " 'KoreanParticle': '(ex: ㅋㅋ)',\n",
      " 'Noun': '명사',\n",
      " 'Number': '숫자',\n",
      " 'PreEomi': '선어말어미',\n",
      " 'Punctuation': '구두점',\n",
      " 'ScreenName': '트위터 아이디',\n",
      " 'Suffix': '접미사',\n",
      " 'Unknown': '미등록어',\n",
      " 'Verb': '동사'}\n"
     ]
    }
   ],
   "source": [
    "print('pos_tagger name = %s'%taggers[1][0])\n",
    "pprint(taggers[1][1].tagset)"
   ]
  },
  {
   "cell_type": "markdown",
   "metadata": {},
   "source": [
    "12개로 이뤄진 실제 뉴스 기사에 대하여 각각의 형태소 분석기를 적용해보자"
   ]
  },
  {
   "cell_type": "code",
   "execution_count": 25,
   "metadata": {
    "ExecuteTime": {
     "end_time": "2018-03-17T13:12:31.253928Z",
     "start_time": "2018-03-17T13:12:31.238392Z"
    }
   },
   "outputs": [],
   "source": [
    "sents = ['최순실 씨가 외국인투자촉진법 개정안 통과와 예산안 반영까지 꼼꼼이 챙긴 건데, 이른바 외촉법, 어떤 법이길래 최 씨가 열심히 챙긴 걸까요. 자신의 이해관계와 맞아 떨어지는 부분이 없었는지 취재기자와 한걸음 더 들여다보겠습니다. 이서준 기자, 우선 외국인투자촉진법 개정안, 어떤 내용입니까?',\n",
    "        '한마디로 대기업이 외국 투자를 받아 계열사를 설립할 때 규제를 완화시켜 주는 법안입니다. 대기업 지주사의 손자 회사가 이른바 증손회사를 만들 때 지분 100%를 출자해야 합니다. 대기업의 문어발식 계열사 확장을 막기 위한 조치인데요. 외촉법 개정안은 손자회사가 외국 투자를 받아서 증손회사를 만들 땐 예외적으로 50% 지분만 투자해도 되게끔 해주는 내용입니다.',\n",
    "        '그만큼 쉽게 완화해주는 거잖아요. 그때 기억을 더듬어보면 야당의 반발이 매우 심했습니다. 그 이유가 뭐였죠? ',\n",
    "        '대기업 특혜 법안이라는 취지였는데요. (당연히 그랬겠죠.) 당시 박영선 의원의 국회 발언을 들어보시겠습니다. [박영선 의원/더불어민주당 (2013년 12월 31일) : 경제의 근간을 흔드는 법을 무원칙적으로 이렇게 특정 재벌 회사에게 특혜를 주기 위해 간청하는 민원법을 우리가 새해부터 왜 통과시켜야 합니까.]',\n",
    "        '최순실 씨 사건을 쫓아가다 보면 본의 아니게 이번 정부의 과거로 올라가면서 복기하는 듯한 느낌이 드는데 이것도 바로 그중 하나입니다. 생생하게 기억합니다. 이 때 장면들은. 특정 재벌 회사를 위한 특혜라고 말하는데, 어떤 기업을 말하는 건가요?',\n",
    "        'SK와 GS 입니다. 개정안이 통과되는 걸 전제로 두 회사는 외국 투자를 받아 증손회사 설립을 진행중이었기 때문인데요. 당시 개정안이 통과되지 않으면 두 기업이 수조원의 손실이 생길 수 있는 것으로 알려져 있었습니다. 허창수 GS 회장과 김창근 SK회장은 2013년 8월 박 대통령과 청와대에서 대기업 회장단 오찬자리에서 외촉법 통과를 요청한 바도 있습니다. ',\n",
    "        '물론 두 기업과 최순실 씨와 연결고리가 나온 건 아니지만, 정 전 비서관 녹취파일 속 최 씨는 외촉법에 상당히 집착을 하는 걸로 보이긴 합니다.',\n",
    "        '네 그렇습니다. 통화 내용을 다시 짚어보면요. 최 씨는 외촉법 관련 예산이 12월 2일, 반드시 되어야 한다, 작년 예산으로 돼서는 안 된다고 얘기하고 있는데요. 다시 말해서 외촉법 관련 예산안이 내년에 반영되어야 한다고 압박을 하고 있는 겁니다. 그러면서 \"국민을 볼모로 잡고 있다\"며 \"국회와 정치권에 책임을 묻겠다\"고 으름장까지 놓고 있는데요. 매우 집착하는 모습인데요. 이에 대해서 정 전 비서관이 \"예산이 그렇게 빨리 통과된 적 없습니다\"고 말하자 말을 끊으면서 매우 흥분한 듯, \"그렇더라도, 그렇더라도\" 하면서 \"야당이 공약 지키라고 하면서 협조는 안 한다\", \"대통령으로 할 수 있는 일이 없다\", \"불공정 사태와 난맥상이 나온다\"며 굉장한 압박까지 하고 있습니다.',\n",
    "        '이 얘기들만 들여다봐도 마치 본인이 대통령처럼 얘기하고 있습니다. 내용들 보면 그렇지 않습니까? 혹시 최 씨가 이 외촉법 통과로 이득을 본 경우도 있습니까. ',\n",
    "        '최 씨가 입김을 넣어 차은택 씨가 주도를 한 걸로 알려진 K컬처밸리 사업이 그렇다는 얘기가 나오고 있습니다. 외촉법을 편법으로 활용해 1% 금리를 적용받았다는 지적이 나오고 있습니다. 본격 사업이 추진되기 전 최순실 국정개입 사건이 터지기는 했지만, 이외에도 다른 혜택을 받았는지는 조사가 필요해 보입니다. ',\n",
    "        '그런데 녹취파일을 보면 \"남자1\"이 등장합니다. 이 사람은 누구입니까?',\n",
    "        '정 전 비서관을 \"정 과장님\"으로 부르며 반말을 하는 남자인데요. 최순실 씨처럼 정 전 비서관을 하대하고 있습니다. 또 청와대 내부 정보를 알고 있는 듯하고 또 인사에까지 개입하려고 하고 있습니다. 그렇기 때문에 정윤회 씨로 추정은 됩니다만 확인은 되지 않습니다.'\n",
    "]"
   ]
  },
  {
   "cell_type": "code",
   "execution_count": 26,
   "metadata": {
    "ExecuteTime": {
     "end_time": "2018-03-17T13:12:31.338653Z",
     "start_time": "2018-03-17T13:12:31.297849Z"
    }
   },
   "outputs": [
    {
     "data": {
      "text/plain": [
       "12"
      ]
     },
     "execution_count": 26,
     "metadata": {},
     "output_type": "execute_result"
    }
   ],
   "source": [
    "len(sents)"
   ]
  },
  {
   "cell_type": "markdown",
   "metadata": {},
   "source": [
    "어떤 라이브러리를 쓸지 선택하기 전에, 데이터의 프로세싱 시간은 얼마나 걸리는지, 그리고 그 처리 품질을 어떤지 먼저 확인해야 함. 1개의 기사에 대해 각각의 형태소 분석기 별 프로세싱 시간을 비교해보자\n",
    "```python\n",
    "    time.time()\n",
    "```\n",
    "은 컴퓨터 시간의 기준점으로부터의 현재 시간을 초단위로 나타내줌. 그렇기 때문에 작업 전의 시간을\n",
    "```python\n",
    "process_time = time.time()\n",
    "```\n",
    "으로 정한 뒤, 작어비 모두 끝난 시간을 빼주면, 작업 시간이 초 단위로 계산됨\n",
    "```python\n",
    "    ...\n",
    "    process_time = time.time() - process_time\n",
    "```\n",
    "각 tagger의 결과물을 tokens 안에 넣어둠"
   ]
  },
  {
   "cell_type": "code",
   "execution_count": 27,
   "metadata": {
    "ExecuteTime": {
     "end_time": "2018-03-17T13:12:36.398717Z",
     "start_time": "2018-03-17T13:12:34.074985Z"
    }
   },
   "outputs": [
    {
     "name": "stdout",
     "output_type": "stream",
     "text": [
      "tagger name =       kkma, 1.670 secs\n",
      "tagger name =    twitter, 0.199 secs\n",
      "tagger name =   hannanum, 0.436 secs\n"
     ]
    }
   ],
   "source": [
    "import time\n",
    "\n",
    "tokens = []\n",
    "taggers = [('kkma', Kkma()), ('twitter', Twitter()), ('hannanum', Hannanum())]\n",
    "\n",
    "for name, tagger in taggers:\n",
    "    process_time = time.time()\n",
    "    _tokens = []\n",
    "    \n",
    "    for sent in sents:\n",
    "        _tokens += tagger.pos(sent)\n",
    "        \n",
    "    process_time = time.time() - process_time\n",
    "    tokens.append(_tokens)\n",
    "    \n",
    "    print('tagger name = %10s, %.3f secs'%(name, process_time))"
   ]
  },
  {
   "cell_type": "markdown",
   "metadata": {},
   "source": [
    "whos명령어는 현재 파일의 kernel이 메모리에 올려둔 변수들을 보여줌. 이 때 앞에 under-bar, _ 가 들어간 변수들을 whos에 보이지 않음"
   ]
  },
  {
   "cell_type": "code",
   "execution_count": 28,
   "metadata": {
    "ExecuteTime": {
     "end_time": "2018-03-17T13:12:36.487438Z",
     "start_time": "2018-03-17T13:12:36.479158Z"
    }
   },
   "outputs": [
    {
     "name": "stdout",
     "output_type": "stream",
     "text": [
      "Variable             Type                          Data/Info\n",
      "------------------------------------------------------------\n",
      "Hannanum             type                          <class 'konlpy.tag._hannanum.Hannanum'>\n",
      "Kkma                 type                          <class 'konlpy.tag._kkma.Kkma'>\n",
      "NamespaceMagics      MetaHasTraits                 <class 'IPython.core.magi<...>mespace.NamespaceMagics'>\n",
      "Twitter              type                          <class 'konlpy.tag._twitter.Twitter'>\n",
      "f                    TextIOWrapper                 <_io.TextIOWrapper name='<...>ode='r' encoding='utf-8'>\n",
      "fname                str                           tmp/representor.json\n",
      "folder               str                           tmp\n",
      "get_ipython          function                      <function get_ipython at 0x7f38ccff9b70>\n",
      "getsizeof            builtin_function_or_method    <built-in function getsizeof>\n",
      "json                 module                        <module 'json' from '/hom<...>hon3.6/json/__init__.py'>\n",
      "loaded_representor   dict                          n=4\n",
      "name                 str                           hannanum\n",
      "os                   module                        <module 'os' from '/home/<...>901/lib/python3.6/os.py'>\n",
      "pprint               function                      <function pprint at 0x7f38cbd378c8>\n",
      "process_time         float                         0.4363827705383301\n",
      "representor          dict                          n=5\n",
      "sent                 str                           정 전 비서관을 \"정 과장님\"으로 부르며 반말<...> 씨로 추정은 됩니다만 확인은 되지 않습니다.\n",
      "sents                list                          n=12\n",
      "tagger               Hannanum                      <konlpy.tag._hannanum.Han<...>object at 0x7f38a8093ba8>\n",
      "taggers              list                          n=3\n",
      "time                 module                        <module 'time' (built-in)>\n",
      "tokens               list                          n=3\n",
      "var_dic_list         function                      <function var_dic_list at 0x7f38c657a620>\n",
      "yapf_reformat        function                      <function yapf_reformat at 0x7f38bdfd5598>\n"
     ]
    }
   ],
   "source": [
    "whos"
   ]
  },
  {
   "cell_type": "markdown",
   "metadata": {},
   "source": [
    "모든 토큰을 그대로 나열해 보는 것은 무리가 있어보임. \n",
    "형태소 분석기 별로 고유한 단어와 그 개수를 세어보자. 그리고 그 전에도 **'최순실'**이라는 이름이 꼬꼬마 형태소 분석기에서 '최', '순', '실'로 나누어지는 것이 보이는지 확인해보자. 만약 나누어진다면 이는 꼬꼬마 형태소 분석기가 학습할 때, '최순실'이라는 이름이 학습데이터에 없었기 때문임. 이러한 문제는 **out of vocabulary problem**이라 부름"
   ]
  },
  {
   "cell_type": "code",
   "execution_count": 29,
   "metadata": {
    "ExecuteTime": {
     "end_time": "2018-03-17T13:12:36.670102Z",
     "start_time": "2018-03-17T13:12:36.558762Z"
    }
   },
   "outputs": [
    {
     "name": "stdout",
     "output_type": "stream",
     "text": [
      "[('최', 'NNP'),\n",
      " ('순', 'NNG'),\n",
      " ('실', 'NNG'),\n",
      " ('씨', 'NNB'),\n",
      " ('가', 'JKS'),\n",
      " ('외국인', 'NNG'),\n",
      " ('투자', 'NNG'),\n",
      " ('촉진법', 'NNG'),\n",
      " ('개정안', 'NNG'),\n",
      " ('통과', 'NNG'),\n",
      " ('와', 'JC'),\n",
      " ('예산안', 'NNG'),\n",
      " ('반영', 'NNG'),\n",
      " ('까지', 'JX'),\n",
      " ('꼼꼼이', 'MAG'),\n",
      " ('챙기', 'VV'),\n",
      " ('ㄴ', 'ETD'),\n",
      " ('것', 'NNB'),\n",
      " ('이', 'VCP'),\n",
      " ('ㄴ데', 'ECD'),\n",
      " (',', 'SP'),\n",
      " ('이른바', 'MAG'),\n",
      " ('외촉', 'NNG'),\n",
      " ('법', 'NNG'),\n",
      " (',', 'SP'),\n",
      " ('어떤', 'MDT'),\n",
      " ('법', 'NNG'),\n",
      " ('이', 'VCP'),\n",
      " ('길래', 'ECD'),\n",
      " ('최', 'NNP'),\n",
      " ('씨', 'NNB'),\n",
      " ('가', 'JKS'),\n",
      " ('열심히', 'MAG'),\n",
      " ('챙기', 'VV'),\n",
      " ('ㄴ', 'ETD'),\n",
      " ('걸', 'VV'),\n",
      " ('ㄹ까요', 'EFQ'),\n",
      " ('.', 'SF'),\n",
      " ('자신', 'NNG'),\n",
      " ('의', 'JKG'),\n",
      " ('이해관계', 'NNG'),\n",
      " ('와', 'JKM'),\n",
      " ('맞', 'VV'),\n",
      " ('아', 'ECD'),\n",
      " ('떨어지', 'VV'),\n",
      " ('는', 'ETD'),\n",
      " ('부분', 'NNG'),\n",
      " ('이', 'JKS'),\n",
      " ('없', 'VA'),\n",
      " ('었', 'EPT'),\n",
      " ('는지', 'ECS'),\n",
      " ('취재', 'NNG'),\n",
      " ('기자', 'NNG'),\n",
      " ('와', 'JKM'),\n",
      " ('한걸음', 'NNG'),\n",
      " ('더', 'MAG'),\n",
      " ('들여다보', 'VV'),\n",
      " ('겠', 'EPT'),\n",
      " ('습니다', 'EFN'),\n",
      " ('.', 'SF'),\n",
      " ('이서', 'NNG'),\n",
      " ('주', 'VV'),\n",
      " ('ㄴ', 'ETD'),\n",
      " ('기자', 'NNG'),\n",
      " (',', 'SP'),\n",
      " ('우선', 'MAG'),\n",
      " ('외국인', 'NNG'),\n",
      " ('투자', 'NNG'),\n",
      " ('촉진법', 'NNG'),\n",
      " ('개정안', 'NNG'),\n",
      " (',', 'SP'),\n",
      " ('어떤', 'MDT'),\n",
      " ('내용', 'NNG'),\n",
      " ('이', 'VCP'),\n",
      " ('ㅂ니까', 'EFQ'),\n",
      " ('?', 'SF'),\n",
      " ('한마디', 'NNG'),\n",
      " ('로', 'JKM'),\n",
      " ('대기업', 'NNG'),\n",
      " ('이', 'JKS'),\n",
      " ('외국', 'NNG'),\n",
      " ('투자', 'NNG'),\n",
      " ('를', 'JKO'),\n",
      " ('받', 'VV'),\n",
      " ('아', 'ECD'),\n",
      " ('계열사', 'NNG'),\n",
      " ('를', 'JKO'),\n",
      " ('설립', 'NNG'),\n",
      " ('하', 'XSV'),\n",
      " ('ㄹ', 'ETD'),\n",
      " ('때', 'NNG'),\n",
      " ('규제', 'NNG'),\n",
      " ('를', 'JKO'),\n",
      " ('완화', 'NNG'),\n",
      " ('시키', 'XSV'),\n",
      " ('어', 'ECS'),\n",
      " ('주', 'VXV'),\n",
      " ('는', 'ETD'),\n",
      " ('법안', 'NNG'),\n",
      " ('이', 'VCP'),\n",
      " ('ㅂ니다', 'EFN'),\n",
      " ('.', 'SF'),\n",
      " ('대기업', 'NNG'),\n",
      " ('지주사', 'NNG'),\n",
      " ('의', 'JKG'),\n",
      " ('손자', 'NNG'),\n",
      " ('회사', 'NNG'),\n",
      " ('가', 'JKS'),\n",
      " ('이른바', 'MAG'),\n",
      " ('증손', 'NNG'),\n",
      " ('회사', 'NNG'),\n",
      " ('를', 'JKO'),\n",
      " ('만들', 'VV'),\n",
      " ('ㄹ', 'ETD'),\n",
      " ('때', 'NNG'),\n",
      " ('지분', 'NNG'),\n",
      " ('100', 'NR'),\n",
      " ('%', 'SW'),\n",
      " ('를', 'JKO'),\n",
      " ('출자', 'NNG'),\n",
      " ('하', 'XSV'),\n",
      " ('어야', 'ECD'),\n",
      " ('하', 'VV'),\n",
      " ('ㅂ니다', 'EFN'),\n",
      " ('.', 'SF'),\n",
      " ('대기업', 'NNG'),\n",
      " ('의', 'JKG'),\n",
      " ('문어발', 'NNG'),\n",
      " ('식', 'NNG'),\n",
      " ('계열사', 'NNG'),\n",
      " ('확장', 'NNG'),\n",
      " ('을', 'JKO'),\n",
      " ('막', 'VV'),\n",
      " ('기', 'ETN'),\n",
      " ('위하', 'VV'),\n",
      " ('ㄴ', 'ETD'),\n",
      " ('조치', 'NNG'),\n",
      " ('이', 'VCP'),\n",
      " ('ㄴ데요', 'EFN'),\n",
      " ('.', 'SF'),\n",
      " ('외촉', 'NNG'),\n",
      " ('법', 'NNG'),\n",
      " ('개정안', 'NNG'),\n",
      " ('은', 'JX'),\n",
      " ('손자', 'NNG'),\n",
      " ('회사', 'NNG'),\n",
      " ('가', 'JKS'),\n",
      " ('외국', 'NNG'),\n",
      " ('투자', 'NNG'),\n",
      " ('를', 'JKO'),\n",
      " ('받', 'VV'),\n",
      " ('아서', 'ECD'),\n",
      " ('증손', 'NNG'),\n",
      " ('회사', 'NNG'),\n",
      " ('를', 'JKO'),\n",
      " ('만들', 'VV'),\n",
      " ('ㄹ', 'ETD'),\n",
      " ('때', 'VV'),\n",
      " ('ㄴ', 'ETD'),\n",
      " ('예외적', 'NNG'),\n",
      " ('으로', 'JKM'),\n",
      " ('50', 'NR'),\n",
      " ('%', 'SW'),\n",
      " ('지분', 'NNG'),\n",
      " ('만', 'JX'),\n",
      " ('투자', 'NNG'),\n",
      " ('하', 'XSV'),\n",
      " ('어도', 'ECD'),\n",
      " ('되', 'VV'),\n",
      " ('게끔', 'ECD'),\n",
      " ('하', 'VV'),\n",
      " ('어', 'ECS'),\n",
      " ('주', 'VXV'),\n",
      " ('는', 'ETD'),\n",
      " ('내용', 'NNG'),\n",
      " ('이', 'VCP'),\n",
      " ('ㅂ니다', 'EFN'),\n",
      " ('.', 'SF'),\n",
      " ('그만큼', 'MAG'),\n",
      " ('쉽', 'VA'),\n",
      " ('게', 'ECD'),\n",
      " ('완화', 'NNG'),\n",
      " ('하', 'XSV'),\n",
      " ('어', 'ECS'),\n",
      " ('주', 'VXV'),\n",
      " ('는', 'ETD'),\n",
      " ('거잖아', 'UN'),\n",
      " ('요', 'JX'),\n",
      " ('.', 'SF'),\n",
      " ('그때', 'NNG'),\n",
      " ('기억', 'NNG'),\n",
      " ('을', 'JKO'),\n",
      " ('더듬', 'VV'),\n",
      " ('어', 'ECD'),\n",
      " ('보', 'VXV'),\n",
      " ('면', 'ECE'),\n",
      " ('야당', 'NNG'),\n",
      " ('의', 'JKG'),\n",
      " ('반발', 'NNG'),\n",
      " ('이', 'JKS'),\n",
      " ('매우', 'MAG'),\n",
      " ('심하', 'VA'),\n",
      " ('었', 'EPT'),\n",
      " ('습니다', 'EFN'),\n",
      " ('.', 'SF'),\n",
      " ('그', 'MDT'),\n",
      " ('이유', 'NNG'),\n",
      " ('가', 'JKS'),\n",
      " ('뭐', 'NP'),\n",
      " ('이', 'VCP'),\n",
      " ('었', 'EPT'),\n",
      " ('죠', 'EFN'),\n",
      " ('?', 'SF'),\n",
      " ('대기업', 'NNG'),\n",
      " ('특혜', 'NNG'),\n",
      " ('법안', 'NNG'),\n",
      " ('이', 'VCP'),\n",
      " ('라는', 'ETD'),\n",
      " ('취지', 'NNG'),\n",
      " ('이', 'VCP'),\n",
      " ('었', 'EPT'),\n",
      " ('는데요', 'ECD'),\n",
      " ('.', 'SF'),\n",
      " ('(', 'SS'),\n",
      " ('당연히', 'MAG'),\n",
      " ('그리하', 'VV'),\n",
      " ('였', 'EPT'),\n",
      " ('겠', 'EPT'),\n",
      " ('죠', 'EFN'),\n",
      " ('.', 'SF'),\n",
      " (')', 'SS'),\n",
      " ('당시', 'NNG'),\n",
      " ('박', 'NNG'),\n",
      " ('영선', 'NNG'),\n",
      " ('의원', 'NNG'),\n",
      " ('의', 'JKG'),\n",
      " ('국회', 'NNG'),\n",
      " ('발언', 'NNG'),\n",
      " ('을', 'JKO'),\n",
      " ('들어보', 'VV'),\n",
      " ('시', 'EPH'),\n",
      " ('겠', 'EPT'),\n",
      " ('습니다', 'EFN'),\n",
      " ('.', 'SF'),\n",
      " ('[', 'SS'),\n",
      " ('박', 'NNG'),\n",
      " ('영선', 'NNG'),\n",
      " ('의원', 'NNG'),\n",
      " ('/', 'SP'),\n",
      " ('더불', 'VV'),\n",
      " ('어', 'ECD'),\n",
      " ('민주당', 'NNG'),\n",
      " ('(', 'SS'),\n",
      " ('2013', 'NR'),\n",
      " ('년', 'NNB'),\n",
      " ('12', 'NR'),\n",
      " ('월', 'NNM'),\n",
      " ('31', 'NR'),\n",
      " ('일', 'NNM'),\n",
      " (')', 'SS'),\n",
      " (':', 'SP'),\n",
      " ('경제', 'NNG'),\n",
      " ('의', 'JKG'),\n",
      " ('근간', 'NNG'),\n",
      " ('을', 'JKO'),\n",
      " ('흔들', 'VV'),\n",
      " ('는', 'ETD'),\n",
      " ('법', 'NNG'),\n",
      " ('을', 'JKO'),\n",
      " ('무원칙', 'NNG'),\n",
      " ('적', 'XSN'),\n",
      " ('으로', 'JKM'),\n",
      " ('이렇', 'VA'),\n",
      " ('게', 'ECD'),\n",
      " ('특정', 'NNG'),\n",
      " ('재벌', 'NNG'),\n",
      " ('회사', 'NNG'),\n",
      " ('에게', 'JKM'),\n",
      " ('특혜', 'NNG'),\n",
      " ('를', 'JKO'),\n",
      " ('주', 'VV'),\n",
      " ('기', 'ETN'),\n",
      " ('위하', 'VV'),\n",
      " ('어', 'ECS'),\n",
      " ('간청', 'NNG'),\n",
      " ('하', 'XSV'),\n",
      " ('는', 'ETD'),\n",
      " ('민원', 'NNG'),\n",
      " ('법', 'NNG'),\n",
      " ('을', 'JKO'),\n",
      " ('우리', 'NP'),\n",
      " ('가', 'JKS'),\n",
      " ('새해', 'NNG'),\n",
      " ('부터', 'JX'),\n",
      " ('왜', 'MAG'),\n",
      " ('통과', 'NNG'),\n",
      " ('시키', 'XSV'),\n",
      " ('어야', 'ECD'),\n",
      " ('하', 'VV'),\n",
      " ('ㅂ니까', 'EFQ'),\n",
      " ('.', 'SF'),\n",
      " (']', 'SS'),\n",
      " ('최', 'NNP'),\n",
      " ('순', 'NNG'),\n",
      " ('실', 'NNG'),\n",
      " ('씨', 'NNB'),\n",
      " ('사건', 'NNG'),\n",
      " ('을', 'JKO'),\n",
      " ('쫓아가', 'VV'),\n",
      " ('다', 'ECS'),\n",
      " ('보', 'VXV'),\n",
      " ('면', 'ECE'),\n",
      " ('본의', 'NNG'),\n",
      " ('아니', 'VV'),\n",
      " ('게', 'ECD'),\n",
      " ('이번', 'NNG'),\n",
      " ('정부', 'NNG'),\n",
      " ('의', 'JKG'),\n",
      " ('과거', 'NNG'),\n",
      " ('로', 'JKM'),\n",
      " ('올라가', 'VV'),\n",
      " ('면서', 'ECE'),\n",
      " ('복기', 'NNG'),\n",
      " ('하', 'XSV'),\n",
      " ('는', 'ETD'),\n",
      " ('듯하', 'VXA'),\n",
      " ('ㄴ', 'ETD'),\n",
      " ('느낌', 'NNG'),\n",
      " ('이', 'JKS'),\n",
      " ('들', 'VV'),\n",
      " ('는데', 'ECD'),\n",
      " ('이것', 'NP'),\n",
      " ('도', 'JX'),\n",
      " ('바로', 'MAG'),\n",
      " ('그중', 'NNG'),\n",
      " ('하나', 'NR'),\n",
      " ('이', 'VCP'),\n",
      " ('ㅂ니다', 'EFN'),\n",
      " ('.', 'SF'),\n",
      " ('생생', 'XR'),\n",
      " ('하', 'XSA'),\n",
      " ('게', 'ECD'),\n",
      " ('기억', 'NNG'),\n",
      " ('하', 'XSV'),\n",
      " ('ㅂ니다', 'EFN'),\n",
      " ('.', 'SF'),\n",
      " ('이', 'NR'),\n",
      " ('때', 'NNG'),\n",
      " ('장면', 'NNG'),\n",
      " ('들', 'XSN'),\n",
      " ('은', 'JX'),\n",
      " ('.', 'SF'),\n",
      " ('특정', 'NNG'),\n",
      " ('재벌', 'NNG'),\n",
      " ('회사', 'NNG'),\n",
      " ('를', 'JKO'),\n",
      " ('위하', 'VV'),\n",
      " ('ㄴ', 'ETD'),\n",
      " ('특혜', 'NNG'),\n",
      " ('라고', 'JX'),\n",
      " ('말하', 'VV'),\n",
      " ('는데', 'ECD'),\n",
      " (',', 'SP'),\n",
      " ('어떤', 'MDT'),\n",
      " ('기업', 'NNG'),\n",
      " ('을', 'JKO'),\n",
      " ('말하', 'VV'),\n",
      " ('는', 'ETD'),\n",
      " ('것', 'NNB'),\n",
      " ('이', 'VCP'),\n",
      " ('ㄴ가요', 'EFQ'),\n",
      " ('?', 'SF'),\n",
      " ('SK', 'OL'),\n",
      " ('와', 'JC'),\n",
      " ('GS', 'OL'),\n",
      " ('일', 'VV'),\n",
      " ('ㅂ니다', 'EFN'),\n",
      " ('.', 'SF'),\n",
      " ('개정안', 'NNG'),\n",
      " ('이', 'JKS'),\n",
      " ('통과', 'NNG'),\n",
      " ('되', 'XSV'),\n",
      " ('는', 'ETD'),\n",
      " ('것', 'NNB'),\n",
      " ('을', 'JKO'),\n",
      " ('전제', 'NNG'),\n",
      " ('로', 'JKM'),\n",
      " ('두', 'MDN'),\n",
      " ('회사', 'NNG'),\n",
      " ('는', 'JX'),\n",
      " ('외국', 'NNG'),\n",
      " ('투자', 'NNG'),\n",
      " ('를', 'JKO'),\n",
      " ('받', 'VV'),\n",
      " ('아', 'ECD'),\n",
      " ('증손', 'NNG'),\n",
      " ('회사', 'NNG'),\n",
      " ('설립', 'NNG'),\n",
      " ('을', 'JKO'),\n",
      " ('진행', 'NNG'),\n",
      " ('중', 'NNB'),\n",
      " ('이', 'VCP'),\n",
      " ('었', 'EPT'),\n",
      " ('기', 'ETN'),\n",
      " ('때문', 'NNB'),\n",
      " ('이', 'VCP'),\n",
      " ('ㄴ데요', 'EFN'),\n",
      " ('.', 'SF'),\n",
      " ('당시', 'NNG'),\n",
      " ('개정안', 'NNG'),\n",
      " ('이', 'JKS'),\n",
      " ('통과', 'NNG'),\n",
      " ('되', 'XSV'),\n",
      " ('지', 'ECD'),\n",
      " ('않', 'VXV'),\n",
      " ('으면', 'ECD'),\n",
      " ('두', 'MDN'),\n",
      " ('기업', 'NNG'),\n",
      " ('이', 'JKS'),\n",
      " ('수조', 'NR'),\n",
      " ('원', 'NNM'),\n",
      " ('의', 'JKG'),\n",
      " ('손실', 'NNG'),\n",
      " ('이', 'JKS'),\n",
      " ('생기', 'VV'),\n",
      " ('ㄹ', 'ETD'),\n",
      " ('수', 'NNB'),\n",
      " ('있', 'VV'),\n",
      " ('는', 'ETD'),\n",
      " ('것', 'NNB'),\n",
      " ('으로', 'JKM'),\n",
      " ('알리', 'VV'),\n",
      " ('어', 'ECS'),\n",
      " ('지', 'VXV'),\n",
      " ('어', 'ECS'),\n",
      " ('있', 'VXV'),\n",
      " ('었', 'EPT'),\n",
      " ('습니다', 'EFN'),\n",
      " ('.', 'SF'),\n",
      " ('허', 'NNG'),\n",
      " ('창', 'NNG'),\n",
      " ('수', 'NNG'),\n",
      " ('GS', 'OL'),\n",
      " ('회장', 'NNG'),\n",
      " ('과', 'JKM'),\n",
      " ('김창근', 'NNG'),\n",
      " ('SK', 'OL'),\n",
      " ('회장', 'NNG'),\n",
      " ('은', 'JX'),\n",
      " ('2013', 'NR'),\n",
      " ('년', 'NNM'),\n",
      " ('8', 'NR'),\n",
      " ('월', 'NNM'),\n",
      " ('박', 'NNG'),\n",
      " ('대통령', 'NNG'),\n",
      " ('과', 'JC'),\n",
      " ('청와대', 'NNG'),\n",
      " ('에서', 'JKM'),\n",
      " ('대기업', 'NNG'),\n",
      " ('회장단', 'NNG'),\n",
      " ('오찬', 'NNG'),\n",
      " ('자리', 'NNG'),\n",
      " ('에서', 'JKM'),\n",
      " ('외촉', 'NNG'),\n",
      " ('법', 'NNG'),\n",
      " ('통과', 'NNG'),\n",
      " ('를', 'JKO'),\n",
      " ('요청', 'NNG'),\n",
      " ('하', 'XSV'),\n",
      " ('ㄴ', 'ETD'),\n",
      " ('바', 'NNB'),\n",
      " ('도', 'JX'),\n",
      " ('있', 'VV'),\n",
      " ('습니다', 'EFN'),\n",
      " ('.', 'SF'),\n",
      " ('물론', 'MAG'),\n",
      " ('두', 'MDN'),\n",
      " ('기업', 'NNG'),\n",
      " ('과', 'JKM'),\n",
      " ('최', 'NNP'),\n",
      " ('순', 'NNG'),\n",
      " ('실', 'NNG'),\n",
      " ('씨', 'NNB'),\n",
      " ('와', 'JKM'),\n",
      " ('연결', 'NNG'),\n",
      " ('고리', 'NNG'),\n",
      " ('가', 'JKS'),\n",
      " ('나오', 'VV'),\n",
      " ('ㄴ', 'ETD'),\n",
      " ('건', 'NNM'),\n",
      " ('아니', 'VCN'),\n",
      " ('지만', 'ECE'),\n",
      " (',', 'SP'),\n",
      " ('정', 'NNG'),\n",
      " ('전', 'NNG'),\n",
      " ('비서관', 'NNG'),\n",
      " ('녹취', 'NNG'),\n",
      " ('파일', 'NNG'),\n",
      " ('속', 'NNG'),\n",
      " ('최', 'NNP'),\n",
      " ('씨', 'NNB'),\n",
      " ('는', 'JX'),\n",
      " ('외촉', 'NNG'),\n",
      " ('법', 'NNG'),\n",
      " ('에', 'JKM'),\n",
      " ('상당히', 'MAG'),\n",
      " ('집착', 'NNG'),\n",
      " ('을', 'JKO'),\n",
      " ('하', 'VV'),\n",
      " ('는', 'ETD'),\n",
      " ('것', 'NNB'),\n",
      " ('으로', 'JKM'),\n",
      " ('보이', 'VV'),\n",
      " ('기', 'ETN'),\n",
      " ('는', 'JKS'),\n",
      " ('하', 'VV'),\n",
      " ('ㅂ니다', 'EFN'),\n",
      " ('.', 'SF'),\n",
      " ('네', 'MDN'),\n",
      " ('그렇', 'VA'),\n",
      " ('습니다', 'EFN'),\n",
      " ('.', 'SF'),\n",
      " ('통화', 'NNG'),\n",
      " ('내용', 'NNG'),\n",
      " ('을', 'JKO'),\n",
      " ('다시', 'MAG'),\n",
      " ('짚', 'VV'),\n",
      " ('어', 'ECD'),\n",
      " ('보', 'VV'),\n",
      " ('면요', 'ECE'),\n",
      " ('.', 'SF'),\n",
      " ('최', 'NNP'),\n",
      " ('씨', 'NNB'),\n",
      " ('는', 'JX'),\n",
      " ('외촉', 'NNG'),\n",
      " ('법', 'NNG'),\n",
      " ('관련', 'NNG'),\n",
      " ('예산', 'NNG'),\n",
      " ('이', 'JKS'),\n",
      " ('12', 'NR'),\n",
      " ('월', 'NNM'),\n",
      " ('2', 'NR'),\n",
      " ('일', 'NNM'),\n",
      " (',', 'SP'),\n",
      " ('반드시', 'MAG'),\n",
      " ('되', 'VV'),\n",
      " ('어야', 'ECD'),\n",
      " ('하', 'VV'),\n",
      " ('ㄴ다', 'ECS'),\n",
      " (',', 'SP'),\n",
      " ('작년', 'NNG'),\n",
      " ('예산', 'NNG'),\n",
      " ('으로', 'JKM'),\n",
      " ('되', 'VV'),\n",
      " ('어서', 'ECD'),\n",
      " ('는', 'JX'),\n",
      " ('안', 'MAG'),\n",
      " ('되', 'VV'),\n",
      " ('ㄴ다고', 'ECE'),\n",
      " ('얘기', 'NNG'),\n",
      " ('하', 'XSV'),\n",
      " ('고', 'ECE'),\n",
      " ('있', 'VXV'),\n",
      " ('는데요', 'ECD'),\n",
      " ('.', 'SF'),\n",
      " ('다시', 'MAG'),\n",
      " ('말하', 'VV'),\n",
      " ('어서', 'ECD'),\n"
     ]
    },
    {
     "name": "stdout",
     "output_type": "stream",
     "text": [
      " ('외촉', 'NNG'),\n",
      " ('법', 'NNG'),\n",
      " ('관련', 'NNG'),\n",
      " ('예산안', 'NNG'),\n",
      " ('이', 'JKS'),\n",
      " ('내년', 'NNG'),\n",
      " ('에', 'JKM'),\n",
      " ('반영', 'NNG'),\n",
      " ('되', 'XSV'),\n",
      " ('어야', 'ECD'),\n",
      " ('하', 'VV'),\n",
      " ('ㄴ다고', 'ECE'),\n",
      " ('압박', 'NNG'),\n",
      " ('을', 'JKO'),\n",
      " ('하', 'VV'),\n",
      " ('고', 'ECE'),\n",
      " ('있', 'VXV'),\n",
      " ('는', 'ETD'),\n",
      " ('것', 'NNB'),\n",
      " ('이', 'VCP'),\n",
      " ('ㅂ니다', 'EFN'),\n",
      " ('.', 'SF'),\n",
      " ('그러', 'VV'),\n",
      " ('면서', 'ECE'),\n",
      " ('\"', 'SS'),\n",
      " ('국민', 'NNG'),\n",
      " ('을', 'JKO'),\n",
      " ('볼모', 'NNG'),\n",
      " ('로', 'JKM'),\n",
      " ('잡', 'VV'),\n",
      " ('고', 'ECE'),\n",
      " ('있', 'VXV'),\n",
      " ('다', 'ECS'),\n",
      " ('\"', 'SS'),\n",
      " ('며', 'JC'),\n",
      " ('\"', 'SS'),\n",
      " ('국회', 'NNG'),\n",
      " ('와', 'JKM'),\n",
      " ('정치권', 'NNG'),\n",
      " ('에', 'JKM'),\n",
      " ('책임', 'NNG'),\n",
      " ('을', 'JKO'),\n",
      " ('묻', 'VV'),\n",
      " ('겠', 'EPT'),\n",
      " ('다', 'ECS'),\n",
      " ('\"', 'SS'),\n",
      " ('고', 'NNG'),\n",
      " ('으름장', 'NNG'),\n",
      " ('까지', 'JX'),\n",
      " ('놓', 'VV'),\n",
      " ('고', 'ECE'),\n",
      " ('있', 'VXV'),\n",
      " ('는데요', 'ECD'),\n",
      " ('.', 'SF'),\n",
      " ('매우', 'MAG'),\n",
      " ('집착', 'NNG'),\n",
      " ('하', 'XSV'),\n",
      " ('는', 'ETD'),\n",
      " ('모습', 'NNG'),\n",
      " ('이', 'VCP'),\n",
      " ('ㄴ데요', 'EFN'),\n",
      " ('.', 'SF'),\n",
      " ('이에', 'MAG'),\n",
      " ('대하', 'VV'),\n",
      " ('어서', 'ECD'),\n",
      " ('정', 'NNG'),\n",
      " ('전', 'NNG'),\n",
      " ('비서관', 'NNG'),\n",
      " ('이', 'JKS'),\n",
      " ('\"', 'SS'),\n",
      " ('예산', 'NNG'),\n",
      " ('이', 'JKS'),\n",
      " ('그렇', 'VA'),\n",
      " ('게', 'ECD'),\n",
      " ('빨리', 'MAG'),\n",
      " ('통과', 'NNG'),\n",
      " ('되', 'XSV'),\n",
      " ('ㄴ', 'ETD'),\n",
      " ('적', 'NNB'),\n",
      " ('없', 'VA'),\n",
      " ('습니다', 'EFN'),\n",
      " ('\"', 'SS'),\n",
      " ('고', 'NNG'),\n",
      " ('말하', 'VV'),\n",
      " ('자', 'ECE'),\n",
      " ('말', 'NNG'),\n",
      " ('을', 'JKO'),\n",
      " ('끊', 'VV'),\n",
      " ('으면서', 'ECE'),\n",
      " ('매우', 'MAG'),\n",
      " ('흥분', 'NNG'),\n",
      " ('하', 'XSV'),\n",
      " ('ㄴ', 'ETD'),\n",
      " ('듯', 'NNB'),\n",
      " (',', 'SP'),\n",
      " ('\"', 'SS'),\n",
      " ('그렇', 'VA'),\n",
      " ('더라도', 'ECD'),\n",
      " (',', 'SP'),\n",
      " ('그렇', 'VA'),\n",
      " ('더라도', 'ECD'),\n",
      " ('\"', 'SS'),\n",
      " ('하', 'VV'),\n",
      " ('면서', 'ECE'),\n",
      " ('\"', 'SS'),\n",
      " ('야당', 'NNG'),\n",
      " ('이', 'JKS'),\n",
      " ('공약', 'NNG'),\n",
      " ('지', 'NNG'),\n",
      " ('키', 'NNG'),\n",
      " ('라고', 'JX'),\n",
      " ('하면서', 'NNG'),\n",
      " ('협조', 'NNG'),\n",
      " ('는', 'JX'),\n",
      " ('안', 'MAG'),\n",
      " ('하', 'VV'),\n",
      " ('ㄴ다', 'ECS'),\n",
      " ('\"', 'SS'),\n",
      " (',', 'SP'),\n",
      " ('\"', 'SS'),\n",
      " ('대통령', 'NNG'),\n",
      " ('으로', 'JKM'),\n",
      " ('하', 'VV'),\n",
      " ('ㄹ', 'ETD'),\n",
      " ('수', 'NNB'),\n",
      " ('있', 'VV'),\n",
      " ('는', 'ETD'),\n",
      " ('일', 'NNG'),\n",
      " ('이', 'JKS'),\n",
      " ('없', 'VA'),\n",
      " ('다', 'ECS'),\n",
      " ('\"', 'SS'),\n",
      " (',', 'SP'),\n",
      " ('\"', 'SS'),\n",
      " ('불공정', 'NNG'),\n",
      " ('사태', 'NNG'),\n",
      " ('와', 'JKM'),\n",
      " ('난맥상', 'NNG'),\n",
      " ('이', 'JKS'),\n",
      " ('나오', 'VV'),\n",
      " ('ㄴ다', 'ECS'),\n",
      " ('\"', 'SS'),\n",
      " ('며', 'JC'),\n",
      " ('굉장', 'XR'),\n",
      " ('하', 'XSA'),\n",
      " ('ㄴ', 'ETD'),\n",
      " ('압박', 'NNG'),\n",
      " ('까지', 'JX'),\n",
      " ('하', 'VV'),\n",
      " ('고', 'ECE'),\n",
      " ('있', 'VXV'),\n",
      " ('습니다', 'EFN'),\n",
      " ('.', 'SF'),\n",
      " ('이', 'MDT'),\n",
      " ('얘기', 'NNG'),\n",
      " ('들', 'XSN'),\n",
      " ('만', 'NNB'),\n",
      " ('들여다보', 'VV'),\n",
      " ('아도', 'ECD'),\n",
      " ('마치', 'MAG'),\n",
      " ('본인', 'NNG'),\n",
      " ('이', 'JKS'),\n",
      " ('대통령', 'NNG'),\n",
      " ('처럼', 'JKM'),\n",
      " ('얘기', 'NNG'),\n",
      " ('하', 'XSV'),\n",
      " ('고', 'ECE'),\n",
      " ('있', 'VXV'),\n",
      " ('습니다', 'EFN'),\n",
      " ('.', 'SF'),\n",
      " ('내용', 'NNG'),\n",
      " ('들', 'XSN'),\n",
      " ('보', 'VV'),\n",
      " ('면', 'ECE'),\n",
      " ('그렇', 'VA'),\n",
      " ('지', 'ECD'),\n",
      " ('않', 'VXV'),\n",
      " ('습니까', 'EFQ'),\n",
      " ('?', 'SF'),\n",
      " ('혹시', 'MAG'),\n",
      " ('최', 'NNP'),\n",
      " ('씨', 'NNB'),\n",
      " ('가', 'JKS'),\n",
      " ('이', 'MDT'),\n",
      " ('외촉', 'NNG'),\n",
      " ('법', 'NNG'),\n",
      " ('통과', 'NNG'),\n",
      " ('로', 'JKM'),\n",
      " ('이득', 'NNG'),\n",
      " ('을', 'JKO'),\n",
      " ('보', 'VV'),\n",
      " ('ㄴ', 'ETD'),\n",
      " ('경우', 'NNG'),\n",
      " ('도', 'JX'),\n",
      " ('있', 'VV'),\n",
      " ('습니까', 'EFQ'),\n",
      " ('.', 'SF'),\n",
      " ('최', 'NNP'),\n",
      " ('씨', 'NNB'),\n",
      " ('가', 'JKS'),\n",
      " ('입김', 'NNG'),\n",
      " ('을', 'JKO'),\n",
      " ('넣', 'VV'),\n",
      " ('어', 'ECD'),\n",
      " ('차', 'NNG'),\n",
      " ('은택', 'NNG'),\n",
      " ('씨', 'NNB'),\n",
      " ('가', 'JKS'),\n",
      " ('주도', 'NNG'),\n",
      " ('를', 'JKO'),\n",
      " ('하', 'VV'),\n",
      " ('ㄴ', 'ETD'),\n",
      " ('것', 'NNB'),\n",
      " ('으로', 'JKM'),\n",
      " ('알리', 'VV'),\n",
      " ('어', 'ECS'),\n",
      " ('지', 'VXV'),\n",
      " ('ㄴ', 'ETD'),\n",
      " ('K', 'OL'),\n",
      " ('커', 'VV'),\n",
      " ('ㄹ', 'ETD'),\n",
      " ('처', 'NNG'),\n",
      " ('밸리', 'NNG'),\n",
      " ('사업', 'NNG'),\n",
      " ('이', 'JKS'),\n",
      " ('그렇', 'VA'),\n",
      " ('다는', 'ETD'),\n",
      " ('얘기', 'NNG'),\n",
      " ('가', 'JKS'),\n",
      " ('나오', 'VV'),\n",
      " ('고', 'ECE'),\n",
      " ('있', 'VXV'),\n",
      " ('습니다', 'EFN'),\n",
      " ('.', 'SF'),\n",
      " ('외촉', 'NNG'),\n",
      " ('법', 'NNG'),\n",
      " ('을', 'JKO'),\n",
      " ('편법', 'NNG'),\n",
      " ('으로', 'JKM'),\n",
      " ('활용', 'NNG'),\n",
      " ('하', 'XSV'),\n",
      " ('어', 'ECS'),\n",
      " ('1', 'NR'),\n",
      " ('%', 'SW'),\n",
      " ('금리', 'NNG'),\n",
      " ('를', 'JKO'),\n",
      " ('적용', 'NNG'),\n",
      " ('받', 'VV'),\n",
      " ('았', 'EPT'),\n",
      " ('다는', 'ETD'),\n",
      " ('지적', 'NNG'),\n",
      " ('이', 'JKS'),\n",
      " ('나오', 'VV'),\n",
      " ('고', 'ECE'),\n",
      " ('있', 'VXV'),\n",
      " ('습니다', 'EFN'),\n",
      " ('.', 'SF'),\n",
      " ('본격', 'NNG'),\n",
      " ('사업', 'NNG'),\n",
      " ('이', 'JKS'),\n",
      " ('추진', 'NNG'),\n",
      " ('되', 'XSV'),\n",
      " ('기', 'ETN'),\n",
      " ('전', 'NNG'),\n",
      " ('최', 'NNP'),\n",
      " ('순', 'NNG'),\n",
      " ('실', 'NNG'),\n",
      " ('국정', 'NNG'),\n",
      " ('개입', 'NNG'),\n",
      " ('사건', 'NNG'),\n",
      " ('이', 'JKS'),\n",
      " ('터지', 'VV'),\n",
      " ('기', 'ETN'),\n",
      " ('는', 'JX'),\n",
      " ('하', 'VV'),\n",
      " ('었', 'EPT'),\n",
      " ('지만', 'ECE'),\n",
      " (',', 'SP'),\n",
      " ('이외', 'NNG'),\n",
      " ('에', 'JKM'),\n",
      " ('도', 'JX'),\n",
      " ('다른', 'MDT'),\n",
      " ('혜택', 'NNG'),\n",
      " ('을', 'JKO'),\n",
      " ('받', 'VV'),\n",
      " ('았', 'EPT'),\n",
      " ('는지', 'ECS'),\n",
      " ('는', 'JX'),\n",
      " ('조사', 'NNG'),\n",
      " ('가', 'JKS'),\n",
      " ('필요', 'NNG'),\n",
      " ('하', 'XSV'),\n",
      " ('어', 'ECS'),\n",
      " ('보이', 'VV'),\n",
      " ('ㅂ니다', 'EFN'),\n",
      " ('.', 'SF'),\n",
      " ('그런데', 'MAC'),\n",
      " ('녹취', 'NNG'),\n",
      " ('파일', 'NNG'),\n",
      " ('을', 'JKO'),\n",
      " ('보', 'VV'),\n",
      " ('면', 'ECE'),\n",
      " ('\"', 'SS'),\n",
      " ('남자', 'NNG'),\n",
      " ('1', 'NR'),\n",
      " ('\"', 'SS'),\n",
      " ('이', 'NNG'),\n",
      " ('등장', 'NNG'),\n",
      " ('하', 'XSV'),\n",
      " ('ㅂ니다', 'EFN'),\n",
      " ('.', 'SF'),\n",
      " ('이', 'NR'),\n",
      " ('사람', 'NNG'),\n",
      " ('은', 'JX'),\n",
      " ('누구', 'NP'),\n",
      " ('이', 'VCP'),\n",
      " ('ㅂ니까', 'EFQ'),\n",
      " ('?', 'SF'),\n",
      " ('정', 'NNG'),\n",
      " ('전', 'NNG'),\n",
      " ('비서관', 'NNG'),\n",
      " ('을', 'JKO'),\n",
      " ('\"', 'SS'),\n",
      " ('정', 'NNG'),\n",
      " ('과장', 'NNG'),\n",
      " ('님', 'XSN'),\n",
      " ('\"', 'SS'),\n",
      " ('으로', 'JKM'),\n",
      " ('부르', 'VV'),\n",
      " ('며', 'ECE'),\n",
      " ('반말', 'NNG'),\n",
      " ('을', 'JKO'),\n",
      " ('하', 'VV'),\n",
      " ('는', 'ETD'),\n",
      " ('남자', 'NNG'),\n",
      " ('이', 'VCP'),\n",
      " ('ㄴ데요', 'EFN'),\n",
      " ('.', 'SF'),\n",
      " ('최', 'NNP'),\n",
      " ('순', 'NNG'),\n",
      " ('실', 'NNG'),\n",
      " ('씨', 'NNB'),\n",
      " ('처럼', 'JKM'),\n",
      " ('정', 'NNG'),\n",
      " ('전', 'NNG'),\n",
      " ('비서관', 'NNG'),\n",
      " ('을', 'JKO'),\n",
      " ('하대', 'NNG'),\n",
      " ('하', 'XSV'),\n",
      " ('고', 'ECE'),\n",
      " ('있', 'VXV'),\n",
      " ('습니다', 'EFN'),\n",
      " ('.', 'SF'),\n",
      " ('또', 'MAG'),\n",
      " ('청와대', 'NNG'),\n",
      " ('내부', 'NNG'),\n",
      " ('정보', 'NNG'),\n",
      " ('를', 'JKO'),\n",
      " ('알', 'VV'),\n",
      " ('고', 'ECE'),\n",
      " ('있', 'VXV'),\n",
      " ('는', 'ETD'),\n",
      " ('듯하', 'VXA'),\n",
      " ('고', 'ECE'),\n",
      " ('또', 'MAG'),\n",
      " ('인사', 'NNG'),\n",
      " ('에', 'JKM'),\n",
      " ('까지', 'JX'),\n",
      " ('개입', 'NNG'),\n",
      " ('하', 'XSV'),\n",
      " ('려고', 'ECD'),\n",
      " ('하', 'VV'),\n",
      " ('고', 'ECE'),\n",
      " ('있', 'VXV'),\n",
      " ('습니다', 'EFN'),\n",
      " ('.', 'SF'),\n",
      " ('그렇', 'VV'),\n",
      " ('기', 'ETN'),\n",
      " ('때문', 'NNB'),\n",
      " ('에', 'JKM'),\n",
      " ('정', 'NNG'),\n",
      " ('윤회', 'NNG'),\n",
      " ('씨', 'NNB'),\n",
      " ('로', 'JKM'),\n",
      " ('추정', 'NNG'),\n",
      " ('은', 'JX'),\n",
      " ('되', 'VV'),\n",
      " ('ㅂ니다만', 'ECE'),\n",
      " ('확인', 'NNG'),\n",
      " ('은', 'JX'),\n",
      " ('되', 'VV'),\n",
      " ('지', 'ECD'),\n",
      " ('않', 'VXV'),\n",
      " ('습니다', 'EFN'),\n",
      " ('.', 'SF')]\n"
     ]
    }
   ],
   "source": [
    "pprint(tokens[0]) # 꼬꼬마 형태소 분석기로 토큰나이즈된 단어들임"
   ]
  },
  {
   "cell_type": "markdown",
   "metadata": {},
   "source": [
    "각 단어들이 몇 번 등장하였는지 그 횟수를 카운팅해보자. \n",
    "- 이 때 가장 좋지 않은 방법인 **(1) dict**를 이용하는 법, \n",
    "- 조금 더 나은 **(2) defaultdict**를 이용하는 법\n",
    "- **(3) collections.Counter**를 이용하는 법"
   ]
  },
  {
   "cell_type": "markdown",
   "metadata": {},
   "source": [
    "### 1. dict를 이용하는 방법"
   ]
  },
  {
   "cell_type": "code",
   "execution_count": 30,
   "metadata": {
    "ExecuteTime": {
     "end_time": "2018-03-17T13:12:44.810028Z",
     "start_time": "2018-03-17T13:12:44.803823Z"
    }
   },
   "outputs": [
    {
     "name": "stdout",
     "output_type": "stream",
     "text": [
      "[(('최', 'NNP'), 10), (('순', 'NNG'), 5), (('실', 'NNG'), 5), (('씨', 'NNB'), 11), (('가', 'JKS'), 12), (('외국인', 'NNG'), 2), (('투자', 'NNG'), 6), (('촉진법', 'NNG'), 2), (('개정안', 'NNG'), 5), (('통과', 'NNG'), 7)]\n"
     ]
    }
   ],
   "source": [
    "counter = {}\n",
    "\n",
    "# 꼬꼬마만 확인해보자\n",
    "for word in tokens[0]:\n",
    "    if word in counter:\n",
    "        counter[word] = counter[word] + 1\n",
    "    else:\n",
    "        counter[word] = 1\n",
    "\n",
    "print(list(counter.items())[:10]) # list(counter.items())[:10], '...'"
   ]
  },
  {
   "cell_type": "markdown",
   "metadata": {},
   "source": [
    "정렬은 sorted를 이용함. sorted함수의 key를 통하여 정렬의 기준을 지정할 수 있음.\n",
    "\n",
    "lambda는 이름이 없는 함수를 의미함. counter는 dict이므로 keys(), values, items()를 갖음. 이 때 items()의 return은 [(key, value), (key, value), ...]형태이기 때문에 정렬 대상(key, value)를 x로 볼 때, x의 1번째 값 x[1]을 기준으로 정렬하라는 의미임, 순서는 1, 2, 3, ..의 오름차순이 아닌 역순으로 하라는 의미임\n",
    "\n",
    "sorted의 return type은 list이기 때문에 가장 앞쪽의 5개만 slice해서 살펴보자"
   ]
  },
  {
   "cell_type": "code",
   "execution_count": 31,
   "metadata": {
    "ExecuteTime": {
     "end_time": "2018-03-17T13:12:45.523775Z",
     "start_time": "2018-03-17T13:12:45.460183Z"
    }
   },
   "outputs": [
    {
     "data": {
      "text/plain": [
       "[(('.', 'SF'), 37),\n",
       " (('을', 'JKO'), 24),\n",
       " (('이', 'JKS'), 20),\n",
       " (('\"', 'SS'), 18),\n",
       " (('이', 'VCP'), 17)]"
      ]
     },
     "execution_count": 31,
     "metadata": {},
     "output_type": "execute_result"
    }
   ],
   "source": [
    "sorted(counter.items(), key=lambda x:x[1], reverse=True)[:5]"
   ]
  },
  {
   "cell_type": "markdown",
   "metadata": {},
   "source": [
    "lambda대신에 sorting함수를 지정할 수도 있음. my_key는 x라는 값을 입력받아서 sorting에 이용할 변수를 만들어 줌. 이 때 함수 안에서 다양한 값의 변형을 할 수도 있음. reverse를 False로 하면서 같은 결과를 얻기 위해서는 return x[1] 대신 return -1 * x[1]을 해줄 수도 있음"
   ]
  },
  {
   "cell_type": "code",
   "execution_count": 32,
   "metadata": {
    "ExecuteTime": {
     "end_time": "2018-03-17T13:12:46.174718Z",
     "start_time": "2018-03-17T13:12:46.168225Z"
    }
   },
   "outputs": [],
   "source": [
    "def my_key(x):\n",
    "    return -1 * x[1]"
   ]
  },
  {
   "cell_type": "code",
   "execution_count": 33,
   "metadata": {
    "ExecuteTime": {
     "end_time": "2018-03-17T13:12:46.469261Z",
     "start_time": "2018-03-17T13:12:46.461539Z"
    }
   },
   "outputs": [
    {
     "data": {
      "text/plain": [
       "[(('.', 'SF'), 37),\n",
       " (('을', 'JKO'), 24),\n",
       " (('이', 'JKS'), 20),\n",
       " (('\"', 'SS'), 18),\n",
       " (('이', 'VCP'), 17)]"
      ]
     },
     "execution_count": 33,
     "metadata": {},
     "output_type": "execute_result"
    }
   ],
   "source": [
    "sorted(counter.items(), key=my_key)[:5]"
   ]
  },
  {
   "cell_type": "markdown",
   "metadata": {},
   "source": [
    "그런데 Python에서는 if word in counter: else: 와 같은 구문을 한 줄로 아름답게 코딩할 수 있도록 defaultdict를 제공해줌. **dict.get(key, 0)**과 같은 효과가 있음. 더해서 명사, tag의 첫 글자가 NN으로 시작하는 것만 선택해서 카운팅해보자"
   ]
  },
  {
   "cell_type": "markdown",
   "metadata": {},
   "source": [
    "### 2. defaultdict를 사용하는 방법"
   ]
  },
  {
   "cell_type": "code",
   "execution_count": 34,
   "metadata": {
    "ExecuteTime": {
     "end_time": "2018-03-17T13:12:47.613005Z",
     "start_time": "2018-03-17T13:12:47.379475Z"
    }
   },
   "outputs": [
    {
     "name": "stdout",
     "output_type": "stream",
     "text": [
      "[(('씨', 'NNB'), 11),\n",
      " (('법', 'NNG'), 11),\n",
      " (('최', 'NNP'), 10),\n",
      " (('외촉', 'NNG'), 8),\n",
      " (('회사', 'NNG'), 8),\n",
      " (('통과', 'NNG'), 7),\n",
      " (('것', 'NNB'), 7),\n",
      " (('투자', 'NNG'), 6),\n",
      " (('정', 'NNG'), 6),\n",
      " (('순', 'NNG'), 5),\n",
      " (('실', 'NNG'), 5),\n",
      " (('개정안', 'NNG'), 5),\n",
      " (('대기업', 'NNG'), 5),\n",
      " (('전', 'NNG'), 5),\n",
      " (('내용', 'NNG'), 4),\n",
      " (('비서관', 'NNG'), 4),\n",
      " (('얘기', 'NNG'), 4),\n",
      " (('외국', 'NNG'), 3),\n",
      " (('때', 'NNG'), 3),\n",
      " (('증손', 'NNG'), 3),\n",
      " (('특혜', 'NNG'), 3),\n",
      " (('박', 'NNG'), 3),\n",
      " (('월', 'NNM'), 3),\n",
      " (('기업', 'NNG'), 3),\n",
      " (('대통령', 'NNG'), 3),\n",
      " (('예산', 'NNG'), 3),\n",
      " (('외국인', 'NNG'), 2),\n",
      " (('촉진법', 'NNG'), 2),\n",
      " (('예산안', 'NNG'), 2),\n",
      " (('반영', 'NNG'), 2),\n",
      " (('기자', 'NNG'), 2),\n",
      " (('계열사', 'NNG'), 2),\n",
      " (('설립', 'NNG'), 2),\n",
      " (('완화', 'NNG'), 2),\n",
      " (('법안', 'NNG'), 2),\n",
      " (('손자', 'NNG'), 2),\n",
      " (('지분', 'NNG'), 2),\n",
      " (('기억', 'NNG'), 2),\n",
      " (('야당', 'NNG'), 2),\n",
      " (('당시', 'NNG'), 2),\n",
      " (('영선', 'NNG'), 2),\n",
      " (('의원', 'NNG'), 2),\n",
      " (('국회', 'NNG'), 2),\n",
      " (('일', 'NNM'), 2),\n",
      " (('특정', 'NNG'), 2),\n",
      " (('재벌', 'NNG'), 2),\n",
      " (('사건', 'NNG'), 2),\n",
      " (('때문', 'NNB'), 2),\n",
      " (('수', 'NNB'), 2),\n",
      " (('회장', 'NNG'), 2),\n",
      " (('청와대', 'NNG'), 2),\n",
      " (('녹취', 'NNG'), 2),\n",
      " (('파일', 'NNG'), 2),\n",
      " (('집착', 'NNG'), 2),\n",
      " (('관련', 'NNG'), 2),\n",
      " (('압박', 'NNG'), 2),\n",
      " (('고', 'NNG'), 2),\n",
      " (('사업', 'NNG'), 2),\n",
      " (('개입', 'NNG'), 2),\n",
      " (('남자', 'NNG'), 2),\n",
      " (('자신', 'NNG'), 1),\n",
      " (('이해관계', 'NNG'), 1),\n",
      " (('부분', 'NNG'), 1),\n",
      " (('취재', 'NNG'), 1),\n",
      " (('한걸음', 'NNG'), 1),\n",
      " (('이서', 'NNG'), 1),\n",
      " (('한마디', 'NNG'), 1),\n",
      " (('규제', 'NNG'), 1),\n",
      " (('지주사', 'NNG'), 1),\n",
      " (('출자', 'NNG'), 1),\n",
      " (('문어발', 'NNG'), 1),\n",
      " (('식', 'NNG'), 1),\n",
      " (('확장', 'NNG'), 1),\n",
      " (('조치', 'NNG'), 1),\n",
      " (('예외적', 'NNG'), 1),\n",
      " (('그때', 'NNG'), 1),\n",
      " (('반발', 'NNG'), 1),\n",
      " (('이유', 'NNG'), 1),\n",
      " (('취지', 'NNG'), 1),\n",
      " (('발언', 'NNG'), 1),\n",
      " (('민주당', 'NNG'), 1),\n",
      " (('년', 'NNB'), 1),\n",
      " (('경제', 'NNG'), 1),\n",
      " (('근간', 'NNG'), 1),\n",
      " (('무원칙', 'NNG'), 1),\n",
      " (('간청', 'NNG'), 1),\n",
      " (('민원', 'NNG'), 1),\n",
      " (('새해', 'NNG'), 1),\n",
      " (('본의', 'NNG'), 1),\n",
      " (('이번', 'NNG'), 1),\n",
      " (('정부', 'NNG'), 1),\n",
      " (('과거', 'NNG'), 1),\n",
      " (('복기', 'NNG'), 1),\n",
      " (('느낌', 'NNG'), 1),\n",
      " (('그중', 'NNG'), 1),\n",
      " (('장면', 'NNG'), 1),\n",
      " (('전제', 'NNG'), 1),\n",
      " (('진행', 'NNG'), 1),\n",
      " (('중', 'NNB'), 1),\n",
      " (('원', 'NNM'), 1),\n",
      " (('손실', 'NNG'), 1),\n",
      " (('허', 'NNG'), 1),\n",
      " (('창', 'NNG'), 1),\n",
      " (('수', 'NNG'), 1),\n",
      " (('김창근', 'NNG'), 1),\n",
      " (('년', 'NNM'), 1),\n",
      " (('회장단', 'NNG'), 1),\n",
      " (('오찬', 'NNG'), 1),\n",
      " (('자리', 'NNG'), 1),\n",
      " (('요청', 'NNG'), 1),\n",
      " (('바', 'NNB'), 1),\n",
      " (('연결', 'NNG'), 1),\n",
      " (('고리', 'NNG'), 1),\n",
      " (('건', 'NNM'), 1),\n",
      " (('속', 'NNG'), 1),\n",
      " (('통화', 'NNG'), 1),\n",
      " (('작년', 'NNG'), 1),\n",
      " (('내년', 'NNG'), 1),\n",
      " (('국민', 'NNG'), 1),\n",
      " (('볼모', 'NNG'), 1),\n",
      " (('정치권', 'NNG'), 1),\n",
      " (('책임', 'NNG'), 1),\n",
      " (('으름장', 'NNG'), 1),\n",
      " (('모습', 'NNG'), 1),\n",
      " (('적', 'NNB'), 1),\n",
      " (('말', 'NNG'), 1),\n",
      " (('흥분', 'NNG'), 1),\n",
      " (('듯', 'NNB'), 1),\n",
      " (('공약', 'NNG'), 1),\n",
      " (('지', 'NNG'), 1),\n",
      " (('키', 'NNG'), 1),\n",
      " (('하면서', 'NNG'), 1),\n",
      " (('협조', 'NNG'), 1),\n",
      " (('일', 'NNG'), 1),\n",
      " (('불공정', 'NNG'), 1),\n",
      " (('사태', 'NNG'), 1),\n",
      " (('난맥상', 'NNG'), 1),\n",
      " (('만', 'NNB'), 1),\n",
      " (('본인', 'NNG'), 1),\n",
      " (('이득', 'NNG'), 1),\n",
      " (('경우', 'NNG'), 1),\n",
      " (('입김', 'NNG'), 1),\n",
      " (('차', 'NNG'), 1),\n",
      " (('은택', 'NNG'), 1),\n",
      " (('주도', 'NNG'), 1),\n",
      " (('처', 'NNG'), 1),\n",
      " (('밸리', 'NNG'), 1),\n",
      " (('편법', 'NNG'), 1),\n",
      " (('활용', 'NNG'), 1),\n",
      " (('금리', 'NNG'), 1),\n",
      " (('적용', 'NNG'), 1),\n",
      " (('지적', 'NNG'), 1),\n",
      " (('본격', 'NNG'), 1),\n",
      " (('추진', 'NNG'), 1),\n",
      " (('국정', 'NNG'), 1),\n",
      " (('이외', 'NNG'), 1),\n",
      " (('혜택', 'NNG'), 1),\n",
      " (('조사', 'NNG'), 1),\n",
      " (('필요', 'NNG'), 1),\n",
      " (('이', 'NNG'), 1),\n",
      " (('등장', 'NNG'), 1),\n",
      " (('사람', 'NNG'), 1),\n",
      " (('과장', 'NNG'), 1),\n",
      " (('반말', 'NNG'), 1),\n",
      " (('하대', 'NNG'), 1),\n",
      " (('내부', 'NNG'), 1),\n",
      " (('정보', 'NNG'), 1),\n",
      " (('인사', 'NNG'), 1),\n",
      " (('윤회', 'NNG'), 1),\n",
      " (('추정', 'NNG'), 1),\n",
      " (('확인', 'NNG'), 1)]\n"
     ]
    }
   ],
   "source": [
    "from collections import defaultdict\n",
    "\n",
    "counter = defaultdict(lambda : 0)\n",
    "nouns = [word for word in tokens[0] if word[1][:2] == 'NN']\n",
    "\n",
    "for word in nouns:\n",
    "    counter[word] += 1\n",
    "    \n",
    "pprint(sorted(counter.items(), key=lambda x:x[1], reverse=True))"
   ]
  },
  {
   "cell_type": "markdown",
   "metadata": {},
   "source": [
    "빈도수가 작은 경우도 많아서 좀 복잡해보임. 최소한 2번 이상 나온 단어들만 살펴보자"
   ]
  },
  {
   "cell_type": "code",
   "execution_count": 35,
   "metadata": {
    "ExecuteTime": {
     "end_time": "2018-03-17T13:12:48.271260Z",
     "start_time": "2018-03-17T13:12:48.260915Z"
    }
   },
   "outputs": [
    {
     "name": "stdout",
     "output_type": "stream",
     "text": [
      "[(('씨', 'NNB'), 11),\n",
      " (('법', 'NNG'), 11),\n",
      " (('최', 'NNP'), 10),\n",
      " (('외촉', 'NNG'), 8),\n",
      " (('회사', 'NNG'), 8),\n",
      " (('통과', 'NNG'), 7),\n",
      " (('것', 'NNB'), 7),\n",
      " (('투자', 'NNG'), 6),\n",
      " (('정', 'NNG'), 6),\n",
      " (('순', 'NNG'), 5),\n",
      " (('실', 'NNG'), 5),\n",
      " (('개정안', 'NNG'), 5),\n",
      " (('대기업', 'NNG'), 5),\n",
      " (('전', 'NNG'), 5),\n",
      " (('내용', 'NNG'), 4),\n",
      " (('비서관', 'NNG'), 4),\n",
      " (('얘기', 'NNG'), 4),\n",
      " (('외국', 'NNG'), 3),\n",
      " (('때', 'NNG'), 3),\n",
      " (('증손', 'NNG'), 3),\n",
      " (('특혜', 'NNG'), 3),\n",
      " (('박', 'NNG'), 3),\n",
      " (('월', 'NNM'), 3),\n",
      " (('기업', 'NNG'), 3),\n",
      " (('대통령', 'NNG'), 3),\n",
      " (('예산', 'NNG'), 3),\n",
      " (('외국인', 'NNG'), 2),\n",
      " (('촉진법', 'NNG'), 2),\n",
      " (('예산안', 'NNG'), 2),\n",
      " (('반영', 'NNG'), 2),\n",
      " (('기자', 'NNG'), 2),\n",
      " (('계열사', 'NNG'), 2),\n",
      " (('설립', 'NNG'), 2),\n",
      " (('완화', 'NNG'), 2),\n",
      " (('법안', 'NNG'), 2),\n",
      " (('손자', 'NNG'), 2),\n",
      " (('지분', 'NNG'), 2),\n",
      " (('기억', 'NNG'), 2),\n",
      " (('야당', 'NNG'), 2),\n",
      " (('당시', 'NNG'), 2),\n",
      " (('영선', 'NNG'), 2),\n",
      " (('의원', 'NNG'), 2),\n",
      " (('국회', 'NNG'), 2),\n",
      " (('일', 'NNM'), 2),\n",
      " (('특정', 'NNG'), 2),\n",
      " (('재벌', 'NNG'), 2),\n",
      " (('사건', 'NNG'), 2),\n",
      " (('때문', 'NNB'), 2),\n",
      " (('수', 'NNB'), 2),\n",
      " (('회장', 'NNG'), 2),\n",
      " (('청와대', 'NNG'), 2),\n",
      " (('녹취', 'NNG'), 2),\n",
      " (('파일', 'NNG'), 2),\n",
      " (('집착', 'NNG'), 2),\n",
      " (('관련', 'NNG'), 2),\n",
      " (('압박', 'NNG'), 2),\n",
      " (('고', 'NNG'), 2),\n",
      " (('사업', 'NNG'), 2),\n",
      " (('개입', 'NNG'), 2),\n",
      " (('남자', 'NNG'), 2)]\n"
     ]
    }
   ],
   "source": [
    "counter = { word:freq for word, freq in counter.items() if (freq >= 2) and (word[1][:2] == 'NN')}\n",
    "pprint(sorted(counter.items(), key=lambda x:x[1], reverse=True))"
   ]
  },
  {
   "cell_type": "markdown",
   "metadata": {},
   "source": [
    "최순실 -> [최, 순, 실], 박영선 -> [ 박, 영선]으로 나눠진 것을 볼 수 있음. 그런데 적어도 지금 시기의 뉴스 분석을 하기 위해서는 놓쳐서는 안되는 이름같음\n",
    "\n",
    "그리고 카운팅을 하기 위해선 사실 더 좋은 클래스를 python에서 제공해주고 있음. 위 작업을 가장 짧게 코딩해보자"
   ]
  },
  {
   "cell_type": "markdown",
   "metadata": {},
   "source": [
    "### 3. Collection.Counter"
   ]
  },
  {
   "cell_type": "code",
   "execution_count": 36,
   "metadata": {
    "ExecuteTime": {
     "end_time": "2018-03-17T13:12:49.475186Z",
     "start_time": "2018-03-17T13:12:49.142312Z"
    }
   },
   "outputs": [
    {
     "name": "stdout",
     "output_type": "stream",
     "text": [
      "[(('씨', 'NNB'), 11),\n",
      " (('법', 'NNG'), 11),\n",
      " (('최', 'NNP'), 10),\n",
      " (('외촉', 'NNG'), 8),\n",
      " (('회사', 'NNG'), 8),\n",
      " (('통과', 'NNG'), 7),\n",
      " (('것', 'NNB'), 7),\n",
      " (('투자', 'NNG'), 6),\n",
      " (('정', 'NNG'), 6),\n",
      " (('순', 'NNG'), 5),\n",
      " (('실', 'NNG'), 5),\n",
      " (('개정안', 'NNG'), 5),\n",
      " (('대기업', 'NNG'), 5),\n",
      " (('전', 'NNG'), 5),\n",
      " (('내용', 'NNG'), 4),\n",
      " (('비서관', 'NNG'), 4),\n",
      " (('얘기', 'NNG'), 4)]\n"
     ]
    }
   ],
   "source": [
    "from collections import Counter\n",
    "\n",
    "counter = Counter(tokens[0])\n",
    "counter = {word:freq for word, freq in counter.items() if (freq >= 4) and (word[1][:2] == 'NN')}\n",
    "pprint(sorted(counter.items(), key=lambda x:x[1], reverse=True))"
   ]
  },
  {
   "cell_type": "markdown",
   "metadata": {},
   "source": [
    "이제 모든 형태소 분석기들로부터, '최순실'이라는 이름이 제대로 잡혔는지, 그리고 빈도수가 4이상인 명사들은 어떤 것들이 있는지를 확인해보자\n",
    "\n",
    "두 개의 리스트에 있는 아이템을 동시에 가져오는 방법으로 **zip**이 있음. 이것 역시 python의 유용한 기능임."
   ]
  },
  {
   "cell_type": "code",
   "execution_count": 37,
   "metadata": {
    "ExecuteTime": {
     "end_time": "2018-03-17T13:12:49.802514Z",
     "start_time": "2018-03-17T13:12:49.795603Z"
    }
   },
   "outputs": [
    {
     "name": "stdout",
     "output_type": "stream",
     "text": [
      "1 a\n",
      "2 b\n",
      "3 c\n"
     ]
    }
   ],
   "source": [
    "list_1 = [1, 2, 3, 4]\n",
    "list_2 = ['a', 'b', 'c']\n",
    "\n",
    "for entry_1, entry_2 in zip(list_1, list_2):\n",
    "    print(entry_1, entry_2)"
   ]
  },
  {
   "cell_type": "markdown",
   "metadata": {},
   "source": [
    "이제 제대로 **zip**과 **collection.Counter**를 이용하여 카운팅을 해보자"
   ]
  },
  {
   "cell_type": "markdown",
   "metadata": {},
   "source": [
    "```python\n",
    "sents = ['최순실 씨가 외국인투자촉진법 개정안 통과와 예산안 반영까지 꼼꼼이 챙긴 건데, 이른바 외촉법, 어떤 법이길래 최 씨가 열심히 챙긴 걸까요. 자신의 이해관계와 맞아 떨어지는 부분이 없었는지 취재기자와 한걸음 더 들여다보겠습니다. 이서준 기자, 우선 외국인투자촉진법 개정안, 어떤 내용입니까?',\n",
    "        '한마디로 대기업이 외국 투자를 받아 계열사를 설립할 때 규제를 완화시켜 주는 법안입니다. 대기업 지주사의 손자 회사가 이른바 증손회사를 만들 때 지분 100%를 출자해야 합니다. 대기업의 문어발식 계열사 확장을 막기 위한 조치인데요. 외촉법 개정안은 손자회사가 외국 투자를 받아서 증손회사를 만들 땐 예외적으로 50% 지분만 투자해도 되게끔 해주는 내용입니다.',\n",
    "        '그만큼 쉽게 완화해주는 거잖아요. 그때 기억을 더듬어보면 야당의 반발이 매우 심했습니다. 그 이유가 뭐였죠? ',\n",
    "        '대기업 특혜 법안이라는 취지였는데요. (당연히 그랬겠죠.) 당시 박영선 의원의 국회 발언을 들어보시겠습니다. [박영선 의원/더불어민주당 (2013년 12월 31일) : 경제의 근간을 흔드는 법을 무원칙적으로 이렇게 특정 재벌 회사에게 특혜를 주기 위해 간청하는 민원법을 우리가 새해부터 왜 통과시켜야 합니까.]',\n",
    "        '최순실 씨 사건을 쫓아가다 보면 본의 아니게 이번 정부의 과거로 올라가면서 복기하는 듯한 느낌이 드는데 이것도 바로 그중 하나입니다. 생생하게 기억합니다. 이 때 장면들은. 특정 재벌 회사를 위한 특혜라고 말하는데, 어떤 기업을 말하는 건가요?',\n",
    "        'SK와 GS 입니다. 개정안이 통과되는 걸 전제로 두 회사는 외국 투자를 받아 증손회사 설립을 진행중이었기 때문인데요. 당시 개정안이 통과되지 않으면 두 기업이 수조원의 손실이 생길 수 있는 것으로 알려져 있었습니다. 허창수 GS 회장과 김창근 SK회장은 2013년 8월 박 대통령과 청와대에서 대기업 회장단 오찬자리에서 외촉법 통과를 요청한 바도 있습니다. ',\n",
    "        '물론 두 기업과 최순실 씨와 연결고리가 나온 건 아니지만, 정 전 비서관 녹취파일 속 최 씨는 외촉법에 상당히 집착을 하는 걸로 보이긴 합니다.',\n",
    "        '네 그렇습니다. 통화 내용을 다시 짚어보면요. 최 씨는 외촉법 관련 예산이 12월 2일, 반드시 되어야 한다, 작년 예산으로 돼서는 안 된다고 얘기하고 있는데요. 다시 말해서 외촉법 관련 예산안이 내년에 반영되어야 한다고 압박을 하고 있는 겁니다. 그러면서 \"국민을 볼모로 잡고 있다\"며 \"국회와 정치권에 책임을 묻겠다\"고 으름장까지 놓고 있는데요. 매우 집착하는 모습인데요. 이에 대해서 정 전 비서관이 \"예산이 그렇게 빨리 통과된 적 없습니다\"고 말하자 말을 끊으면서 매우 흥분한 듯, \"그렇더라도, 그렇더라도\" 하면서 \"야당이 공약 지키라고 하면서 협조는 안 한다\", \"대통령으로 할 수 있는 일이 없다\", \"불공정 사태와 난맥상이 나온다\"며 굉장한 압박까지 하고 있습니다.',\n",
    "        '이 얘기들만 들여다봐도 마치 본인이 대통령처럼 얘기하고 있습니다. 내용들 보면 그렇지 않습니까? 혹시 최 씨가 이 외촉법 통과로 이득을 본 경우도 있습니까. ',\n",
    "        '최 씨가 입김을 넣어 차은택 씨가 주도를 한 걸로 알려진 K컬처밸리 사업이 그렇다는 얘기가 나오고 있습니다. 외촉법을 편법으로 활용해 1% 금리를 적용받았다는 지적이 나오고 있습니다. 본격 사업이 추진되기 전 최순실 국정개입 사건이 터지기는 했지만, 이외에도 다른 혜택을 받았는지는 조사가 필요해 보입니다. ',\n",
    "        '그런데 녹취파일을 보면 \"남자1\"이 등장합니다. 이 사람은 누구입니까?',\n",
    "        '정 전 비서관을 \"정 과장님\"으로 부르며 반말을 하는 남자인데요. 최순실 씨처럼 정 전 비서관을 하대하고 있습니다. 또 청와대 내부 정보를 알고 있는 듯하고 또 인사에까지 개입하려고 하고 있습니다. 그렇기 때문에 정윤회 씨로 추정은 됩니다만 확인은 되지 않습니다.'\n",
    "]\n",
    "```"
   ]
  },
  {
   "cell_type": "markdown",
   "metadata": {},
   "source": [
    "코드가 헷갈릴 수 있으니 tokens를 다시 재정의"
   ]
  },
  {
   "cell_type": "code",
   "execution_count": 38,
   "metadata": {
    "ExecuteTime": {
     "end_time": "2018-03-17T13:12:53.051355Z",
     "start_time": "2018-03-17T13:12:51.088404Z"
    }
   },
   "outputs": [],
   "source": [
    "tokens = []\n",
    "taggers = [('kkma', Kkma()), ('twitter', Twitter()), ('hannanum', Hannanum())]\n",
    "\n",
    "for name, tagger in taggers:\n",
    "    process_time = time.time()\n",
    "    _tokens = []\n",
    "    \n",
    "    for sent in sents:\n",
    "        _tokens += tagger.pos(sent)\n",
    "        \n",
    "    process_time = time.time() - process_time\n",
    "    tokens.append(_tokens)"
   ]
  },
  {
   "cell_type": "code",
   "execution_count": 39,
   "metadata": {
    "ExecuteTime": {
     "end_time": "2018-03-17T13:12:53.146658Z",
     "start_time": "2018-03-17T13:12:53.141958Z"
    }
   },
   "outputs": [
    {
     "data": {
      "text/plain": [
       "[('최순실', 'Noun'),\n",
       " ('씨', 'Noun'),\n",
       " ('가', 'Josa'),\n",
       " ('외국인투자', 'Noun'),\n",
       " ('촉진법', 'Noun')]"
      ]
     },
     "execution_count": 39,
     "metadata": {},
     "output_type": "execute_result"
    }
   ],
   "source": [
    "tokens[1][:5]"
   ]
  },
  {
   "cell_type": "code",
   "execution_count": 40,
   "metadata": {
    "ExecuteTime": {
     "end_time": "2018-03-17T13:12:53.251512Z",
     "start_time": "2018-03-17T13:12:53.235593Z"
    }
   },
   "outputs": [
    {
     "name": "stdout",
     "output_type": "stream",
     "text": [
      "\n",
      "\n",
      "Part of speech tagger: kkma\n",
      "[(('씨', 'NNB'), 11),\n",
      " (('법', 'NNG'), 11),\n",
      " (('최', 'NNP'), 10),\n",
      " (('외촉', 'NNG'), 8),\n",
      " (('회사', 'NNG'), 8),\n",
      " (('통과', 'NNG'), 7),\n",
      " (('것', 'NNB'), 7),\n",
      " (('투자', 'NNG'), 6),\n",
      " (('정', 'NNG'), 6),\n",
      " (('순', 'NNG'), 5),\n",
      " (('실', 'NNG'), 5),\n",
      " (('개정안', 'NNG'), 5),\n",
      " (('대기업', 'NNG'), 5),\n",
      " (('전', 'NNG'), 5),\n",
      " (('내용', 'NNG'), 4),\n",
      " (('비서관', 'NNG'), 4),\n",
      " (('얘기', 'NNG'), 4)]\n",
      "\n",
      "\n",
      "Part of speech tagger: twitter\n",
      "[(('씨', 'Noun'), 11),\n",
      " (('외촉법', 'Noun'), 8),\n",
      " (('회사', 'Noun'), 8),\n",
      " (('통과', 'Noun'), 7),\n",
      " (('이', 'Noun'), 6),\n",
      " (('최순실', 'Noun'), 5),\n",
      " (('개정안', 'Noun'), 5),\n",
      " (('최', 'Noun'), 5),\n",
      " (('대기업', 'Noun'), 5),\n",
      " (('정', 'Noun'), 5),\n",
      " (('전', 'Noun'), 5),\n",
      " (('요', 'Noun'), 4),\n",
      " (('내용', 'Noun'), 4),\n",
      " (('투자', 'Noun'), 4),\n",
      " (('비서', 'Noun'), 4),\n",
      " (('관', 'Noun'), 4)]\n",
      "\n",
      "\n",
      "Part of speech tagger: hannanum\n",
      "[(('통과', 'N'), 7),\n",
      " (('외촉법', 'N'), 7),\n",
      " (('최순실', 'N'), 5),\n",
      " (('개정안', 'N'), 5),\n",
      " (('최', 'N'), 5),\n",
      " (('대기업', 'N'), 5),\n",
      " (('말', 'N'), 5),\n",
      " (('전', 'N'), 5),\n",
      " (('것', 'N'), 4),\n",
      " (('회사', 'N'), 4),\n",
      " (('비서관', 'N'), 4)]\n"
     ]
    }
   ],
   "source": [
    "for (name, _), _tokens in zip(taggers, tokens):\n",
    "    print('\\n\\nPart of speech tagger: %s'%name)\n",
    "    counter = Counter(_tokens)\n",
    "    counter = {word:freq for word, freq in counter.items() if (freq >= 4) and (word[1][:1]) == 'N'}\n",
    "    pprint(sorted(counter.items(), key=lambda x:x[1], reverse=True))"
   ]
  },
  {
   "cell_type": "markdown",
   "metadata": {},
   "source": [
    "모든 데이터에 적합할 정도로 universial corpus로부터 학습된 한국어 형태소 분석기는 '아직'까지는 없음. 그리고 한국어로 기술되었다고 하더라도, 차용한 글자만 한글일 뿐, 한국어는 아닌 언어들도 많이 있음. 특히 도메인 특수 용어들이 이에 해당함\n",
    "\n",
    "사용할 수 있는 알고리즘들이 여러개일 경우에는 주어진 시간 안에 작업이 끝날 수 있는지와 주어진 데이터에 대한 형태소 분석기의 경향, 정성석 품질이 어느 정도인지 반드시 확인하고 이용해야 한다는 것을 기억해야함"
   ]
  },
  {
   "cell_type": "markdown",
   "metadata": {},
   "source": [
    "# 3. Scraping_naver_movie"
   ]
  },
  {
   "cell_type": "markdown",
   "metadata": {},
   "source": [
    "웹 브라우저로 접근할 수 있는 페이지에 있는 정보 중, 각자가 운하는 정보를 선택하여 로컬 컴퓨터로 가져오는 과정을 스크래핑(Scraping)이라 하며, 크롤링(crawling)이라고 불리고 이지만, 그롤링은 정확히 스크래핑과는 차이가 있는 의미임\n",
    "\n",
    "스크래핑을 하기 위하여 beautifula soup 4라는 HTML parser와 beautiful soup 4가 이용하는 lxml이라는 XML parser를 이용함. 이 외에도 다양한 스크래핑 도구들은 있음\n",
    "\n",
    "또한 HTTP를 통하여 웹서버와 통신하기 위한 requests라는 패키지를 이용함"
   ]
  },
  {
   "cell_type": "markdown",
   "metadata": {},
   "source": [
    "'http://movie.naver.com/movie/bi/mi/basic.nhn?code=134963' # 라라랜드\n",
    "'http://movie.naver.com/movie/bi/mi/basic.nhn?code=126034' # 그래이트 월\n",
    "'http://movie.naver.com/movie/bi/mi/basic.nhn?code=127382' # 조작된 도시\n",
    "\n",
    "영화 아이디와 url의 공통된 부분을 합치면 각 영화에 해당하는 영화 url을 얻을 수 있음. 그렇기 때문에 url을 base와 id부분으로 나눠서 만들며, 영화 아이디를 넣을 부분을 %s로 표시함"
   ]
  },
  {
   "cell_type": "code",
   "execution_count": 41,
   "metadata": {
    "ExecuteTime": {
     "end_time": "2018-03-17T13:12:53.707915Z",
     "start_time": "2018-03-17T13:12:53.539870Z"
    }
   },
   "outputs": [],
   "source": [
    "from bs4 import BeautifulSoup\n",
    "import os\n",
    "import re\n",
    "import requests\n",
    "import sys\n",
    "from pprint import pprint\n",
    "\n",
    "url_basic_base = 'http://movie.naver.com/movie/bi/mi/basic.nhn?code=%s'"
   ]
  },
  {
   "cell_type": "markdown",
   "metadata": {},
   "source": [
    "라라랜드 영화 아이디는 movie_id = 134963임. 라라랜드 영화와 관련된 메타 데이터를 수집해보자"
   ]
  },
  {
   "cell_type": "code",
   "execution_count": 42,
   "metadata": {
    "ExecuteTime": {
     "end_time": "2018-03-17T13:12:54.507419Z",
     "start_time": "2018-03-17T13:12:54.504719Z"
    }
   },
   "outputs": [],
   "source": [
    "movie_id = 134963 # La La Land"
   ]
  },
  {
   "cell_type": "markdown",
   "metadata": {},
   "source": [
    "### 웹페이지 가져오기"
   ]
  },
  {
   "cell_type": "markdown",
   "metadata": {},
   "source": [
    "requests는 네이버 영화 서버에 어떤 것을 요청할 수 있는 라이브러리임. request의 requests.get(url)을 하면 해당 url의 서버로부터 웹페이지의 정보들을 얻어옴.\n",
    "requests.get(url)의 return은 텍스트 외에도 header와 같은 많은 정보들을 포함함. 이 중에서 우리가 필요한 것은 text(html source)이기 때문에 requests.get(url).text를 html로 저장함.\n",
    "html의 type은 str임\n",
    "\n",
    "BeautifulSoup(html, 'lxml')은 스트링 형식의 html을 lxml이라는 XML parser를 이용하여 문서를 구조화함. 웹페이지는 매우 긴 소스 코드로 이뤄져 있음. 브라우저(크럼, 익스플로러 등)은 이러한 복잡한 소스코드를 잘 구조화하여 화면에 보여주는 프로그램임. 매우 긴 코드지만 HTML은 구조화가 잘 되어 있음. 역으로 이 구조를 잘 파악하면 우리가 원하는 정보를 손쉽게 가져올 수 있는 거임. BeautifulSoup(html, 'lxml')을 한 번 실행함으로써 이미 HTML 문서는 다 구조화 되어있음. 이제부터는 그 구조화된 문소로부터 우리가 원하는 정보를 가져올 것임"
   ]
  },
  {
   "cell_type": "code",
   "execution_count": 43,
   "metadata": {
    "ExecuteTime": {
     "end_time": "2018-03-17T13:12:56.274989Z",
     "start_time": "2018-03-17T13:12:55.804075Z"
    }
   },
   "outputs": [
    {
     "name": "stdout",
     "output_type": "stream",
     "text": [
      "http://movie.naver.com/movie/bi/mi/basic.nhn?code=134963\n"
     ]
    }
   ],
   "source": [
    "url = url_basic_base % movie_id\n",
    "print(url)"
   ]
  },
  {
   "cell_type": "code",
   "execution_count": 44,
   "metadata": {
    "ExecuteTime": {
     "end_time": "2018-03-17T13:12:57.363523Z",
     "start_time": "2018-03-17T13:12:56.340153Z"
    }
   },
   "outputs": [],
   "source": [
    "r = requests.get(url)\n",
    "html = r.text\n",
    "page = BeautifulSoup(html, 'lxml')"
   ]
  },
  {
   "cell_type": "markdown",
   "metadata": {},
   "source": [
    "requests.get(url)의 결과물의 headers를 살펴보면, 해당 통신과 관련된 메타 정보들이 포함됨을 볼 수 있음"
   ]
  },
  {
   "cell_type": "code",
   "execution_count": 45,
   "metadata": {
    "ExecuteTime": {
     "end_time": "2018-03-17T13:12:58.159665Z",
     "start_time": "2018-03-17T13:12:58.150506Z"
    }
   },
   "outputs": [
    {
     "data": {
      "text/plain": [
       "{'Pragma': 'no-cache', 'Expires': 'Thu, 01 Jan 1970 00:00:00 GMT', 'Cache-Control': 'no-cache, no-store', 'Content-Language': 'ko-KR', 'P3P': 'CP=\"ALL CURa ADMa DEVa TAIa OUR BUS IND PHY ONL UNI PUR FIN COM NAV INT DEM CNT STA POL HEA PRE LOC OTC\", CP=\"ALL CURa ADMa DEVa TAIa OUR BUS IND PHY ONL UNI PUR FIN COM NAV INT DEM CNT STA POL HEA PRE LOC OTC\"', 'Vary': 'Accept-Encoding', 'Content-Encoding': 'gzip', 'Content-Type': 'text/html;charset=UTF-8', 'Content-Length': '37377', 'Accept-Ranges': 'bytes', 'Date': 'Sat, 17 Mar 2018 13:12:57 GMT', 'X-Varnish': '371908191', 'Age': '0', 'Via': '1.1 varnish', 'X-Varnish-Cache': 'MISS', 'Referrer-Policy': 'unsafe-url', 'Server': 'nfront'}"
      ]
     },
     "execution_count": 45,
     "metadata": {},
     "output_type": "execute_result"
    }
   ],
   "source": [
    "r.headers"
   ]
  },
  {
   "cell_type": "markdown",
   "metadata": {},
   "source": [
    "### 영화 제목 가져오기"
   ]
  },
  {
   "cell_type": "markdown",
   "metadata": {},
   "source": [
    "영화의 영어 제목을 가져와 보자\n",
    "\n",
    "![lalaland_1.png](LaLaLand01.png)\n",
    "\n",
    "좌측 상단에 영화 이름이 있음. 원하는 정보를 드래그한 뒤, 그롬의 Inspect을 눌러보면 해당 부분의 source code가 우측에 하이라이팅 되어 나타남. La La Land라는 영화 제목은 strong이라는 태그 안에 들어있으며, 그 태그의 class는 h_movie임. HTML에서 태그라는 것은 \"<>\"으로 시작하여 \"</ >\"으로 끝나는 부분임. 링크의 경우에는 \"\\<a>\"로 시작하여 \"\\</a>\"로 끝남\n",
    "\n",
    "\"\\<strong class=h_movie2\">\"는 \"\\<div class=mv_info>\"아래에 있다는 것도 볼 수 있음\n",
    "\n",
    "    page.select('div[class=mv_info] strong[class=h_movie2]'>\n",
    "\n",
    "위 코드는 mv_info라는 클래스 이름을 갖는 div 아래에 속한, class이름이 h_movie2인 strong이라는 것을 찾아서 가져온다는 의미임\n",
    "\n",
    "![lalaland_2.png](LaLaLand02.png)\n",
    "\n",
    "select의 결과는 하나가 아닐 수 있기 때문에 return type은 list임. 실제 데이터에서도 select에 해당하는 부분이 2개가 있는 것을 확인할 수 있음. 그 중 첫번째 부분만을 이용하자"
   ]
  },
  {
   "cell_type": "code",
   "execution_count": 46,
   "metadata": {
    "ExecuteTime": {
     "end_time": "2018-03-17T13:12:59.592392Z",
     "start_time": "2018-03-17T13:12:59.584360Z"
    }
   },
   "outputs": [
    {
     "name": "stdout",
     "output_type": "stream",
     "text": [
      "<class 'list'>\n",
      "2 \n",
      "\n"
     ]
    }
   ],
   "source": [
    "title = page.select('div[class=mv_info] strong[class=h_movie2]')\n",
    "print(type(title))\n",
    "print(len(title), '\\n')"
   ]
  },
  {
   "cell_type": "code",
   "execution_count": 47,
   "metadata": {
    "ExecuteTime": {
     "end_time": "2018-03-17T13:13:00.137061Z",
     "start_time": "2018-03-17T13:13:00.100020Z"
    }
   },
   "outputs": [
    {
     "name": "stdout",
     "output_type": "stream",
     "text": [
      "[<strong class=\"h_movie2\" title=\"La La Land\t\t\t\t\t\t\t\t\t\t, \t\t\t\t\t2016\">La La Land\r\n",
      "\t\t\t\t\t\r\n",
      "\t\t\t\t\t, \r\n",
      "\t\t\t\t\t2016</strong>, <strong class=\"h_movie2\" title=\"La La Land, 2016\">La La Land, 2016</strong>] \n",
      "\n"
     ]
    }
   ],
   "source": [
    "print(title, '\\n')"
   ]
  },
  {
   "cell_type": "code",
   "execution_count": 48,
   "metadata": {
    "ExecuteTime": {
     "end_time": "2018-03-17T13:13:00.456901Z",
     "start_time": "2018-03-17T13:13:00.454220Z"
    }
   },
   "outputs": [
    {
     "name": "stdout",
     "output_type": "stream",
     "text": [
      "<strong class=\"h_movie2\" title=\"La La Land\t\t\t\t\t\t\t\t\t\t, \t\t\t\t\t2016\">La La Land\r\n",
      "\t\t\t\t\t\r\n",
      "\t\t\t\t\t, \r\n",
      "\t\t\t\t\t2016</strong> \n",
      "\n"
     ]
    }
   ],
   "source": [
    "print(title[0], '\\n')"
   ]
  },
  {
   "cell_type": "code",
   "execution_count": 49,
   "metadata": {
    "ExecuteTime": {
     "end_time": "2018-03-17T13:13:00.896835Z",
     "start_time": "2018-03-17T13:13:00.893909Z"
    }
   },
   "outputs": [
    {
     "name": "stdout",
     "output_type": "stream",
     "text": [
      "<strong class=\"h_movie2\" title=\"La La Land, 2016\">La La Land, 2016</strong> \n",
      "\n"
     ]
    }
   ],
   "source": [
    "print(title[1], '\\n')"
   ]
  },
  {
   "cell_type": "markdown",
   "metadata": {},
   "source": [
    "BeautifulSoup.select()의 return type은 **bs4에서 만들어둔 클래스**임"
   ]
  },
  {
   "cell_type": "code",
   "execution_count": 50,
   "metadata": {
    "ExecuteTime": {
     "end_time": "2018-03-17T13:13:01.758155Z",
     "start_time": "2018-03-17T13:13:01.749203Z"
    }
   },
   "outputs": [
    {
     "name": "stdout",
     "output_type": "stream",
     "text": [
      "<class 'bs4.element.Tag'>\n"
     ]
    }
   ],
   "source": [
    "print(type(title[0]))"
   ]
  },
  {
   "cell_type": "markdown",
   "metadata": {},
   "source": [
    "bs4.element.Tag 안에는 HTML tag의 attribute 종류나 값과 같은 태그 정보를 가져오거나 텍스트 부분을 가져올 수 있는 기능이 있음. 영화 제목 La La Land, 2016은 텍스트 부분에 있으니 가져와보자"
   ]
  },
  {
   "cell_type": "code",
   "execution_count": 51,
   "metadata": {
    "ExecuteTime": {
     "end_time": "2018-03-17T13:13:02.626766Z",
     "start_time": "2018-03-17T13:13:02.623789Z"
    }
   },
   "outputs": [
    {
     "data": {
      "text/plain": [
       "'La La Land\\r\\n\\t\\t\\t\\t\\t\\r\\n\\t\\t\\t\\t\\t, \\r\\n\\t\\t\\t\\t\\t2016'"
      ]
     },
     "execution_count": 51,
     "metadata": {},
     "output_type": "execute_result"
    }
   ],
   "source": [
    "title[0].text"
   ]
  },
  {
   "cell_type": "markdown",
   "metadata": {},
   "source": [
    "\\n\\r과 같은 줄바꿈 기호나 \\t과 같은 탭, 띄어스기 때문에 텍스트가 깔끔해 보이지 않음. 이를 제거하여 깔끔한 영화 제목을 가져오자"
   ]
  },
  {
   "cell_type": "code",
   "execution_count": 52,
   "metadata": {
    "ExecuteTime": {
     "end_time": "2018-03-17T13:13:03.447361Z",
     "start_time": "2018-03-17T13:13:03.437794Z"
    }
   },
   "outputs": [
    {
     "data": {
      "text/plain": [
       "'La La Land, 2016'"
      ]
     },
     "execution_count": 52,
     "metadata": {},
     "output_type": "execute_result"
    }
   ],
   "source": [
    "title[0].text.replace(\"\\t\",\"\").replace(\"\\r\",\"\").replace(\"\\n\",\"\")"
   ]
  },
  {
   "cell_type": "markdown",
   "metadata": {},
   "source": [
    "비슷하게 한국어 영화 제목도 가져와보자"
   ]
  },
  {
   "cell_type": "code",
   "execution_count": 53,
   "metadata": {
    "ExecuteTime": {
     "end_time": "2018-03-17T13:13:04.266481Z",
     "start_time": "2018-03-17T13:13:04.249802Z"
    }
   },
   "outputs": [
    {
     "data": {
      "text/plain": [
       "'라라랜드'"
      ]
     },
     "execution_count": 53,
     "metadata": {},
     "output_type": "execute_result"
    }
   ],
   "source": [
    "title = page.select('div[class=mv_info] h3[class=h_movie] a')\n",
    "title[0].text"
   ]
  },
  {
   "cell_type": "markdown",
   "metadata": {},
   "source": [
    "네이버 영화 페이지는 모든 영화에 대하여 각 영화에 해당하는 페이지의 내용만 바뀌며, 그 형식은 일정한 것을 확인할 수 있음. 템플릿이 존재하는 웹페이지에서 스크래핑을 할 때는 해당 웹페이지들의 구조를 파악하면 됨"
   ]
  },
  {
   "cell_type": "markdown",
   "metadata": {},
   "source": [
    "### try-except를 통한 에러 방지"
   ]
  },
  {
   "cell_type": "markdown",
   "metadata": {},
   "source": [
    "for loop을 돌면서 여러 영화의 메타 정보를 가져와보자. 그런데 중간에 Exception이 날 수 있음. 인터넷이 끊길 수도 있고, 형식이 잘 맞지 않는 HTML이 있을 수도 있음. 이 때 한 번 오류가 나면 프러그램이 멈출텐데, 오류가 나는 영화는 건너띄고 다음 영화의 정보를 얻어오고 싶다면 try - except 구문을 사용하면 됨\n",
    "\n",
    "아래의 코드는 i가 3일 때 3앞에 a라는 문자를 붙여서 출력하는 코드임. 그리고 그 아래 코드는 i가 3일때 a를 붙인 뒤, j를 다시 integer로 casting하는 코드임. 그렇다면 i=3일 때에는 a3을 인티저로 캐스팅 하지 못하여 오류가 남. 그리고 그 다음 i=4일때는 실행되지 않음"
   ]
  },
  {
   "cell_type": "code",
   "execution_count": 54,
   "metadata": {
    "ExecuteTime": {
     "end_time": "2018-03-17T13:13:05.616928Z",
     "start_time": "2018-03-17T13:13:05.605004Z"
    }
   },
   "outputs": [
    {
     "name": "stdout",
     "output_type": "stream",
     "text": [
      "0\n",
      "1\n",
      "2\n",
      "a3\n",
      "4\n"
     ]
    }
   ],
   "source": [
    "for i in range(5):\n",
    "    s = str(i) if i != 3 else 'a%d'%i\n",
    "    print(s)"
   ]
  },
  {
   "cell_type": "code",
   "execution_count": 55,
   "metadata": {
    "ExecuteTime": {
     "end_time": "2018-03-17T13:13:06.071767Z",
     "start_time": "2018-03-17T13:13:06.036268Z"
    }
   },
   "outputs": [
    {
     "name": "stdout",
     "output_type": "stream",
     "text": [
      "s = 0, j = 0\n",
      "s = 1, j = 1\n",
      "s = 2, j = 2\n"
     ]
    },
    {
     "ename": "ValueError",
     "evalue": "invalid literal for int() with base 10: 'a3'",
     "output_type": "error",
     "traceback": [
      "\u001b[0;31m---------------------------------------------------------------------------\u001b[0m",
      "\u001b[0;31mValueError\u001b[0m                                Traceback (most recent call last)",
      "\u001b[0;32m<ipython-input-55-9e505cdf95be>\u001b[0m in \u001b[0;36m<module>\u001b[0;34m()\u001b[0m\n\u001b[1;32m      1\u001b[0m \u001b[0;32mfor\u001b[0m \u001b[0mi\u001b[0m \u001b[0;32min\u001b[0m \u001b[0mrange\u001b[0m\u001b[0;34m(\u001b[0m\u001b[0;36m5\u001b[0m\u001b[0;34m)\u001b[0m\u001b[0;34m:\u001b[0m\u001b[0;34m\u001b[0m\u001b[0m\n\u001b[1;32m      2\u001b[0m     \u001b[0ms\u001b[0m \u001b[0;34m=\u001b[0m \u001b[0mstr\u001b[0m\u001b[0;34m(\u001b[0m\u001b[0mi\u001b[0m\u001b[0;34m)\u001b[0m \u001b[0;32mif\u001b[0m \u001b[0mi\u001b[0m \u001b[0;34m!=\u001b[0m \u001b[0;36m3\u001b[0m \u001b[0;32melse\u001b[0m \u001b[0;34m'a%d'\u001b[0m\u001b[0;34m%\u001b[0m\u001b[0mi\u001b[0m\u001b[0;34m\u001b[0m\u001b[0m\n\u001b[0;32m----> 3\u001b[0;31m     \u001b[0mj\u001b[0m \u001b[0;34m=\u001b[0m \u001b[0mint\u001b[0m\u001b[0;34m(\u001b[0m\u001b[0ms\u001b[0m\u001b[0;34m)\u001b[0m\u001b[0;34m\u001b[0m\u001b[0m\n\u001b[0m\u001b[1;32m      4\u001b[0m \u001b[0;34m\u001b[0m\u001b[0m\n\u001b[1;32m      5\u001b[0m     \u001b[0mprint\u001b[0m\u001b[0;34m(\u001b[0m\u001b[0;34m's = %s, j = %d'\u001b[0m\u001b[0;34m%\u001b[0m\u001b[0;34m(\u001b[0m\u001b[0ms\u001b[0m\u001b[0;34m,\u001b[0m \u001b[0mj\u001b[0m\u001b[0;34m)\u001b[0m\u001b[0;34m)\u001b[0m\u001b[0;34m\u001b[0m\u001b[0m\n",
      "\u001b[0;31mValueError\u001b[0m: invalid literal for int() with base 10: 'a3'"
     ]
    }
   ],
   "source": [
    "for i in range(5):\n",
    "    s = str(i) if i != 3 else 'a%d'%i\n",
    "    j = int(s)\n",
    "    \n",
    "    print('s = %s, j = %d'%(s, j))"
   ]
  },
  {
   "cell_type": "markdown",
   "metadata": {},
   "source": [
    "오류가 날 수 있는 부분을 try-except로 감싸면 오류가 난 경우 print(e)에 의하여 오류 형태를 출력해주고 다음 for loop(i=4)일때로 넘어감. Exception을 e라는 이름으로 받은 뒤 except안에서 출력하면 해당 예외가 무엇이었는지 알 수 있음"
   ]
  },
  {
   "cell_type": "code",
   "execution_count": 56,
   "metadata": {
    "ExecuteTime": {
     "end_time": "2018-03-17T13:13:06.819582Z",
     "start_time": "2018-03-17T13:13:06.810363Z"
    }
   },
   "outputs": [
    {
     "name": "stdout",
     "output_type": "stream",
     "text": [
      "s = 0, j = 0\n",
      "s = 1, j = 1\n",
      "s = 2, j = 2\n",
      "invalid literal for int() with base 10: 'a3'\n",
      "s = 4, j = 4\n"
     ]
    }
   ],
   "source": [
    "errors = []\n",
    "\n",
    "for i in range(5):\n",
    "    try:\n",
    "        s = str(i) if i != 3 else 'a%d'%i\n",
    "        j = int(s)\n",
    "        \n",
    "        print('s = %s, j = %d'%(s, j))\n",
    "    except Exception as e:\n",
    "        print(e)\n",
    "        continue"
   ]
  },
  {
   "cell_type": "markdown",
   "metadata": {},
   "source": [
    "### 여러 영화에 대하여 영화마다 제목 가져오기\n",
    "기능별로 함수화를 하면 코드가 가독성이 좋아짐"
   ]
  },
  {
   "cell_type": "code",
   "execution_count": 57,
   "metadata": {
    "ExecuteTime": {
     "end_time": "2018-03-17T13:13:07.564007Z",
     "start_time": "2018-03-17T13:13:07.548658Z"
    }
   },
   "outputs": [],
   "source": [
    "def get_soup(url):\n",
    "    try:\n",
    "        r = requests.get(url).text\n",
    "        return BeautifulSoup(r, 'lxml')\n",
    "    except Exception as e:\n",
    "        exc_type, exc_value, exc_traceback = sys.exc_info()\n",
    "        traceback_details = {\n",
    "            'filename' : exc_traceback.tb_frame.f_code.co_filename,\n",
    "            'lineno': exc_traceback.tb_lineno,\n",
    "            'name' : exc_traceback.tb_frame.f_code.co_name,\n",
    "            'type' : exc_type.__name__,\n",
    "            'message' : str(e)\n",
    "        }\n",
    "        pprint(traceback_details)\n",
    "        return ''\n",
    "    \n",
    "def _parse_title(page):\n",
    "    try:\n",
    "        return page.select('div[class=mv_info] h3[class=h_movie] a')[0].text.strip()\n",
    "    except:\n",
    "        return ''"
   ]
  },
  {
   "cell_type": "markdown",
   "metadata": {},
   "source": [
    "range는 range(b, e)에 대하여 b부터 e까지의 숫자를 1씩 증가시키면서 yield(return과 비슷) 함"
   ]
  },
  {
   "cell_type": "code",
   "execution_count": 58,
   "metadata": {
    "ExecuteTime": {
     "end_time": "2018-03-17T13:13:16.729529Z",
     "start_time": "2018-03-17T13:13:08.282721Z"
    }
   },
   "outputs": [
    {
     "name": "stdout",
     "output_type": "stream",
     "text": [
      "134960: 그놈이다\n",
      "134961: 어 라 말라\n",
      "134962: 아이\n",
      "134963: 라라랜드\n",
      "134964: 콜 포 헬프\n"
     ]
    }
   ],
   "source": [
    "for movie_id in range(134960, 134965):\n",
    "    url = url_basic_base % movie_id\n",
    "    page = get_soup(url)\n",
    "    title = _parse_title(page)\n",
    "    print('%d: %s'%(movie_id, title))"
   ]
  },
  {
   "cell_type": "markdown",
   "metadata": {},
   "source": [
    "range(b, e,s)를 하면 b부터 e까지 s간격으로 출력됨"
   ]
  },
  {
   "cell_type": "code",
   "execution_count": 59,
   "metadata": {
    "ExecuteTime": {
     "end_time": "2018-03-17T13:13:16.917755Z",
     "start_time": "2018-03-17T13:13:16.914619Z"
    }
   },
   "outputs": [
    {
     "data": {
      "text/plain": [
       "[1, 3, 5]"
      ]
     },
     "execution_count": 59,
     "metadata": {},
     "output_type": "execute_result"
    }
   ],
   "source": [
    "list(range(1, 6, 2))"
   ]
  },
  {
   "cell_type": "markdown",
   "metadata": {},
   "source": [
    "### Packing\n",
    "코드를 짤 때, 기능별로 함수를 나눠서 적어두면 좋음. parse_basic_page라는 함수를 보면, 제목을 가져오는 부분, 장르를 가져오는 부분 등을 나눠서 적어두었음. 가독성을 높여주며, 코드에 오류가 있을 대 수정하지 용이해짐"
   ]
  },
  {
   "cell_type": "code",
   "execution_count": 60,
   "metadata": {
    "ExecuteTime": {
     "end_time": "2018-03-17T13:13:17.305969Z",
     "start_time": "2018-03-17T13:13:17.098700Z"
    }
   },
   "outputs": [],
   "source": [
    "def get_soup(url):\n",
    "    try:\n",
    "        r = requests.get(url).text\n",
    "        return BeautifulSoup(r, 'lxml')\n",
    "    except Exception as e:\n",
    "        exc_type, exc_value, exc_traceback = sys.exc_info()\n",
    "        traceback_details = {\n",
    "            'filename' : exc_traceback.tb_frame.f_code.co_filename,\n",
    "            'lineno': exc_traceback.tb_lineno,\n",
    "            'name' : exc_traceback.tb_frame.f_code.co_name,\n",
    "            'type' : exc_type.__name__,\n",
    "            'message' : str(e)\n",
    "        }\n",
    "        pprint(traceback_details)\n",
    "        return ''\n",
    "\n",
    "# Basic pages\n",
    "def get_basic_page(movie_id):\n",
    "    url = url_basic_base % movie_id\n",
    "    return get_soup(url)\n",
    "\n",
    "def parse_basic_page(page):\n",
    "    movie = {}\n",
    "\n",
    "    score = _parse_main_score(page)\n",
    "    movie['expert_score'] = score[0]\n",
    "    movie['netizen_score'] = score[1]\n",
    "\n",
    "    movie['title'] = _parse_title(page)\n",
    "    movie['e_title'] = _parse_e_title(page)\n",
    "\n",
    "    try:\n",
    "        basic_inf = page.select('dl[class=info_spec]')[0]\n",
    "        movie['genres'] = _parse_genres(page)\n",
    "        movie['countries'] = _parse_countries(page)\n",
    "        movie['running_time'] = _parse_running_time(page)\n",
    "        movie['open_dates'] = _parse_open_date(page)\n",
    "        movie['grade'] = _parse_grade(page)\n",
    "        return movie\n",
    "    except Exception as e:\n",
    "        exc_type, exc_value, exc_traceback = sys.exc_info()\n",
    "        traceback_details = {\n",
    "                     'filename': exc_traceback.tb_frame.f_code.co_filename,\n",
    "                     'lineno'  : exc_traceback.tb_lineno,\n",
    "                     'name'    : exc_traceback.tb_frame.f_code.co_name,\n",
    "                     'type'    : exc_type.__name__,\n",
    "                     'message' : str(e)\n",
    "                    }\n",
    "        return movie\n",
    "    \n",
    "def _parse_title(page):\n",
    "    try:\n",
    "        return page.select('div[class=mv_info] h3[class=h_movie] a')[0].text.strip()\n",
    "    except:\n",
    "        return ''\n",
    "    \n",
    "def _parse_e_title(page):\n",
    "    try:\n",
    "        return page.select('div[class=mv_info] strong[class=h_movie2]')[0].text.replace('\\r', '').replace('\\t', '').replace('\\n', '').strip()\n",
    "    except:\n",
    "        return ''\n",
    "\n",
    "def _parse_genres(page):\n",
    "    genres = page.select('a[href^=/movie/sdb/browsing/bmovie.nhn?genre=]')\n",
    "    return list({ genre.text for genre in genres})\n",
    "\n",
    "def _parse_countries(page):\n",
    "    countries = page.select('a[href^=/movie/sdb/browsing/bmovie.nhn?nation=]')\n",
    "    return list({country.text for country in countries})\n",
    "\n",
    "def _parse_running_time(page):\n",
    "    running_time = 0\n",
    "    try:\n",
    "        running_time = re.search(r\"\\d+분\", page.text).group()[:-1]\n",
    "    except:\n",
    "        running_time = 0\n",
    "    return running_time\n",
    "\n",
    "# 다시 확인해보자\n",
    "def _parse_open_date(page):\n",
    "    return list({d for d in re.findall(r\"\\d+\\.\\d+\\.\\d+ 재*개봉\", page.text)})\n",
    "\n",
    "def _parse_grade(page):\n",
    "    try:\n",
    "        return page.select('a[href^=/movie/sdb/browsing/bmovie.nhn?grade]')[0].text\n",
    "    except:\n",
    "        return ''\n",
    "    \n",
    "def _parse_main_score(page):\n",
    "    try:\n",
    "        main_score = page.select('div[class=main_score]')[0]\n",
    "        expert_score = main_score.select('div[class=spc_score_area] div[class=star_score]')[0].text.replace('\\n','')\n",
    "        netizen_score = main_score.select('div[class=score] div[class=star_score] span[class=st_off]')[0].text.replace('관람객 평점 ', '').replace('점', '')\n",
    "        return expert_score, netizen_score\n",
    "    except Exception as e:\n",
    "        # print('error from _parse_main_score', e)\n",
    "        return -1, -1"
   ]
  },
  {
   "cell_type": "code",
   "execution_count": 61,
   "metadata": {
    "ExecuteTime": {
     "end_time": "2018-03-17T13:13:20.053174Z",
     "start_time": "2018-03-17T13:13:17.493295Z"
    }
   },
   "outputs": [
    {
     "data": {
      "text/plain": [
       "{'countries': ['미국'],\n",
       " 'e_title': 'La La Land, 2016',\n",
       " 'expert_score': '8.34',\n",
       " 'genres': ['뮤지컬', '드라마', '멜로/로맨스'],\n",
       " 'grade': '12세 관람가',\n",
       " 'netizen_score': '8.90',\n",
       " 'open_dates': [],\n",
       " 'running_time': '127',\n",
       " 'title': '라라랜드'}"
      ]
     },
     "execution_count": 61,
     "metadata": {},
     "output_type": "execute_result"
    }
   ],
   "source": [
    "movie_id = 134963\n",
    "url = url_basic_base % movie_id\n",
    "page = get_soup(url)\n",
    "parse_basic_page(page)"
   ]
  },
  {
   "cell_type": "code",
   "execution_count": 62,
   "metadata": {
    "ExecuteTime": {
     "end_time": "2018-03-17T13:13:26.687367Z",
     "start_time": "2018-03-17T13:13:20.328083Z"
    }
   },
   "outputs": [
    {
     "name": "stdout",
     "output_type": "stream",
     "text": [
      "134960: 그놈이다\n",
      "134961: 어 라 말라\n",
      "134962: 아이\n",
      "134963: 라라랜드\n",
      "134964: 콜 포 헬프\n"
     ]
    }
   ],
   "source": [
    "import time\n",
    "\n",
    "for movie_id in range(134960, 134965):\n",
    "    url = url_basic_base % movie_id\n",
    "    page = get_soup(url)\n",
    "    title = _parse_title(page)\n",
    "    print('%d: %s'%(movie_id, title))\n",
    "    time.sleep(1.0)"
   ]
  },
  {
   "cell_type": "markdown",
   "metadata": {},
   "source": [
    "### User agent 설정"
   ]
  },
  {
   "cell_type": "markdown",
   "metadata": {},
   "source": [
    "또한 네이버 영화 서버의 입장에서, 위의 코드는 자신의 정보를 제공하지 않을 체, 무명으로 접근하는 프로그램으로 인식할 수 있음. 어떤 서버들은 (예, IMDB) 이러한 요청에 대해서는 답변을 주지 않음. 이를 해결하기 위하여 requests를 보낼 때, 자신이 누구인지에 대한 정보를 넣어주면 좋음. user-agent를 header에 넣어서 requests를 보낼 수 있음\n",
    "\n",
    "headers = {'User-Agent': 'Mozilla/5.0 (Macintosh; Intel Mac OS X 10_10_1) AppleWebKit/537.36 (KHTML, like Gecko) Chrome/39.0.2171.95 Safari/537.36'}\n",
    "\n",
    "    response = requests.get(url, headers=headers)\n",
    "\n",
    "위와 같이 requests.get을 할 때, headers에 자신에 대한 정보를 적어주면 좋음. 어떤 user-agent를 적어야 하는지는 구글에 python requests user agent라는 제목으로 검색을 해보자.\n",
    "\n",
    "아래는 참고한 stackoverflow 주소입니다. **fake_useragent**라는 라이브러리도 있다고 함\n",
    "\n",
    "http://stackoverflow.com/questions/27652543/how-to-use-python-requests-to-fake-a-browser-visit"
   ]
  },
  {
   "cell_type": "markdown",
   "metadata": {},
   "source": [
    "### 파일 다운로드\n",
    "파이썬에도 음악/사진 파일들을 다운로드 받을 수 있음. 다운로드라는 것도 서버와 내 컴퓨터 간의 통로를 열어두고, 전송이 되는 byte 정보들을 모아서 다시 음악, 사진 포멧으로 읽는 것임. 물론 스트리밍 서비스들을 temporal하게 내 컴퓨터에 데이터가 쌓이지 않게 막을 수도 있음. 그런 종류가 아니라 \\< a>라는 태그로 링크가 걸려있는 이미지 파일들을 다운로드 해보자\n",
    "\n",
    "아래 코드는 url.requests.urlopen을 통해 서버와 내 컴퓨터 간의 통신 통로를 열어둠.\n",
    "while loop 안에서 열려진 통로에서 100000000 byte 만큼의 정보를 가져와서 buffer에 넣음. 그리고 이 정보를 미리 열어둔 downloaded_file이라는 파일에 적음. 주고 받은 정보가 텍스트가 아니라 바이트이기 때문에 'wb'로 파일을 열어둠. 다운로드가 모두 끝나면 열어둔 통신 서버를 닫고\n",
    "\n",
    "```python\n",
    "    opened.close()\n",
    "```\n",
    "열어둔 파일도 닫음\n",
    "\n",
    "```python\n",
    "    downloaded_file.close()\n",
    "```\n",
    "\n",
    "다운로드가 성공적으로 되었다면 True가, 실패했다면 False가 return 되도록 try-except로 이 코드 부분을 감싸준다"
   ]
  },
  {
   "cell_type": "code",
   "execution_count": 63,
   "metadata": {
    "ExecuteTime": {
     "end_time": "2018-03-17T13:13:26.914703Z",
     "start_time": "2018-03-17T13:13:26.903982Z"
    }
   },
   "outputs": [],
   "source": [
    "import os\n",
    "import sys\n",
    "import urllib\n",
    "\n",
    "def download_image(url, fname):\n",
    "    try:\n",
    "        downloaded_file = open(fname, 'wb')\n",
    "        opened = urllib.request.urlopen(url)\n",
    "        while True:\n",
    "            buffer = opened.read(100000000)\n",
    "            if len(buffer) == 0:\n",
    "                break\n",
    "            downloaded_file.write(buffer)\n",
    "        downloaded_file.close()\n",
    "        opened.close()\n",
    "        return True\n",
    "    except:\n",
    "        return False"
   ]
  },
  {
   "cell_type": "code",
   "execution_count": 64,
   "metadata": {
    "ExecuteTime": {
     "end_time": "2018-03-17T13:13:27.163694Z",
     "start_time": "2018-03-17T13:13:27.095757Z"
    }
   },
   "outputs": [
    {
     "data": {
      "text/plain": [
       "True"
      ]
     },
     "execution_count": 64,
     "metadata": {},
     "output_type": "execute_result"
    }
   ],
   "source": [
    "download_image('http://cfile29.uf.tistory.com/image/26437D3F56A668C21BC92D', 'dsimage.png')"
   ]
  },
  {
   "cell_type": "markdown",
   "metadata": {},
   "source": [
    "# 4. from json to doubleline corpus"
   ]
  },
  {
   "cell_type": "markdown",
   "metadata": {},
   "source": [
    "glob은 해당하는 파일을 찾아줌. ../은 상위 폴더 주소임\n",
    "\n",
    "실험 파일 전체에 적용되는 값들은 한 쪽(주로 Jupyter notebook 맨 왼쪽)에 몰아두는 것이 실수를 방지할 수 있음(config.py를 만드는 것도 좋은 방법임)"
   ]
  },
  {
   "cell_type": "code",
   "execution_count": 65,
   "metadata": {
    "ExecuteTime": {
     "end_time": "2018-03-17T13:13:27.352210Z",
     "start_time": "2018-03-17T13:13:27.343635Z"
    }
   },
   "outputs": [
    {
     "name": "stdout",
     "output_type": "stream",
     "text": [
      "1355\n"
     ]
    }
   ],
   "source": [
    "import glob\n",
    "\n",
    "RAW_DATA_FOLDER = '/home/paulkim/workspace/python/Korean_NLP/data/small_naver_news/raw/'\n",
    "PREPROSSED_DATA_FOLDER = '/home/paulkim/workspace/python/Korean_NLP/data/small_naver_news/processed/'\n",
    "\n",
    "json_fnames = glob.glob('%s/*.json'%RAW_DATA_FOLDER)\n",
    "print(len(json_fnames))"
   ]
  },
  {
   "cell_type": "code",
   "execution_count": 66,
   "metadata": {
    "ExecuteTime": {
     "end_time": "2018-03-17T13:13:28.008003Z",
     "start_time": "2018-03-17T13:13:27.542689Z"
    }
   },
   "outputs": [],
   "source": [
    "import json\n",
    "\n",
    "with open(json_fnames[14], encoding='utf-8') as f:\n",
    "    json_article = json.load(f)"
   ]
  },
  {
   "cell_type": "markdown",
   "metadata": {},
   "source": [
    "해당 문서는 네이버 뉴스의 내용을 수집한 것. contentHtml은 뉴스 본문 부분의 html을 태그를 제거하지 않고서 저장한 부분이고 content는 이 중에서 텍스트만 추린 부분"
   ]
  },
  {
   "cell_type": "code",
   "execution_count": 67,
   "metadata": {
    "ExecuteTime": {
     "end_time": "2018-03-17T13:13:28.199440Z",
     "start_time": "2018-03-17T13:13:28.195697Z"
    }
   },
   "outputs": [
    {
     "data": {
      "text/plain": [
       "dict_keys(['crawledTime', 'sid1', 'writtenTime', 'office', 'oid', 'title', 'contentHtml', 'aid', 'content', 'url', 'crawlerVersion'])"
      ]
     },
     "execution_count": 67,
     "metadata": {},
     "output_type": "execute_result"
    }
   ],
   "source": [
    "json_article.keys()"
   ]
  },
  {
   "cell_type": "code",
   "execution_count": 68,
   "metadata": {
    "ExecuteTime": {
     "end_time": "2018-03-17T13:13:28.401086Z",
     "start_time": "2018-03-17T13:13:28.397727Z"
    }
   },
   "outputs": [
    {
     "data": {
      "text/plain": [
       "{'aid': '0008914673',\n",
       " 'content': '의결정족수 미달하면 비대위 전환 불발로 정치적 타격\\n친박계, 인원점검 하고 전국위 \\'동원령\\'\\n(서울=연합뉴스) 안용수 류미나 기자 = 새누리당 비박(비박근혜)계의 연쇄 탈당 사태에 따라, 인명진 비상대책위원장 선출을 위해 오는 29일 열리는 전국위원회 개최에 비상이 걸렸다.\\n전국위에서 안건 의결을 위해서는 26일 현재 800여명인 재적 위원의 과반 출석에 과반 찬성이 필요하지만 비박계가 대거 탈당할 경우 의결 정족수를 채우지 못할 가능성도 있기 때문이다.\\n비박계에서는 27일 현역 국회의원 30명 안팎이 탈당할 예정으로 해당 지역의 지방자치단체장과 지방의원들까지 동반 탈당할 경우 전국위 재적위원이 크게 줄어들게 된다.\\n전국위는 당 대표, 최고위원, 시·도당위원장, 국회의원, 시·도지사, 기초단체장, 시·도의회 의장, 당원협의회 운영위원장 등으로 구성돼 있다.\\n비박계 탈당에 대한 대응 성격으로 내세운 인 위원장 카드가 무산돼 비대위 전환이 불발될 경우 보수 진영의 선명성 경쟁을 위한 주류 친박(친박근혜)계의 첫 행보부터 타격이 불가피하다.\\n정우택 원내대표는 26일 연합뉴스와의 통화에서 \"지금은 전국위를 정상적으로 개최하는 게 제일 중요하며 전국위 무산은 상상도 할 수 없는 일\"이라면서 \"전국위원 400명 이상의 참석을 목표로 의결 정족수를 채우기 위해 최선을 다할 수밖에 없다\"고 말했다.\\n일단 당 사무처는 내부적으로 전국위원이 탈당할 경우 재적 위원도 그만큼 줄어든다는 당헌·당규에 대한 유권해석을 내린 상태다.\\n한 핵심 당직자는 \"탈당을 선언하는 순간 전국위의 재적 위원에서 제외키로 했다\"면서 \"전국위의 재적 위원이 줄어들게 되면 의결 정족수도 낮아진다\"고 설명했다.\\n전국위 의장인 친박계 정갑윤 의원은 이날 오후 국회에서 재적 위원 현황과 예정 참석 인원을 점검하는 등 전국위 개최를 위한 자체 회의를 개최할 방침이다.\\n문제는 오는 1월5일 40명 가까운 원외 당협위원장을 시작으로 비박계의 추가 탈당이 예고된 데다 일부 중립 성향 의원들도 탈당 대열에 합류한다면 전국위 참석률이 떨어질 수 있다는 점이다.\\n탈당을 고려 중인 전국위원들은 전국위 재적 위원 숫자만 차지하고 친박계가 주도하는 전국위 참석은 거부할 가능성이 크기 때문에 현재 당 지도부로서는 의결 정족수 부족 사태를 우려하는 것이다.\\n이에 따라 친박계에서는 29일 전국위에 사실상 총동원령을 내리고, 전국위에 소속된 지방자치단체장과 지방의원 등의 동요와 이탈을 막는 데 주력하는 것으로 전해졌다.\\n전국위 주재하는 정갑윤 의장(자료사진)\\naayyss@yna.co.kr\\n',\n",
       " 'contentHtml': '<div id=\"articleBodyContents\"> \\n <!-- 본문 내용 --> \\n <!-- TV플레이어 --> \\n <!-- // TV플레이어 --> \\n <script type=\"text/javascript\">\\n// flash 오류를 우회하기 위한 함수 추가\\nfunction _flash_removeCallback() {}\\n</script> \\n <br />\\n <br />의결정족수 미달하면 비대위 전환 불발로 정치적 타격\\n <br />\\n <br />친박계, 인원점검 하고 전국위 \\'동원령\\'\\n <br />\\n <br />(서울=연합뉴스) 안용수 류미나 기자 = 새누리당 비박(비박근혜)계의 연쇄 탈당 사태에 따라, 인명진 비상대책위원장 선출을 위해 오는 29일 열리는 전국위원회 개최에 비상이 걸렸다.\\n <br />\\n <br /> 전국위에서 안건 의결을 위해서는 26일 현재 800여명인 재적 위원의 과반 출석에 과반 찬성이 필요하지만 비박계가 대거 탈당할 경우 의결 정족수를 채우지 못할 가능성도 있기 때문이다.\\n <br />\\n <br /> 비박계에서는 27일 현역 국회의원 30명 안팎이 탈당할 예정으로 해당 지역의 지방자치단체장과 지방의원들까지 동반 탈당할 경우 전국위 재적위원이 크게 줄어들게 된다.\\n <br />\\n <br /> 전국위는 당 대표, 최고위원, 시&middot;도당위원장, 국회의원, 시&middot;도지사, 기초단체장, 시&middot;도의회 의장, 당원협의회 운영위원장 등으로 구성돼 있다.\\n <br />\\n <br /> 비박계 탈당에 대한 대응 성격으로 내세운 인 위원장 카드가 무산돼 비대위 전환이 불발될 경우 보수 진영의 선명성 경쟁을 위한 주류 친박(친박근혜)계의 첫 행보부터 타격이 불가피하다.\\n <br />\\n <br /> 정우택 원내대표는 26일 연합뉴스와의 통화에서 &quot;지금은 전국위를 정상적으로 개최하는 게 제일 중요하며 전국위 무산은 상상도 할 수 없는 일&quot;이라면서 &quot;전국위원 400명 이상의 참석을 목표로 의결 정족수를 채우기 위해 최선을 다할 수밖에 없다&quot;고 말했다.\\n <br />\\n <br /> 일단 당 사무처는 내부적으로 전국위원이 탈당할 경우 재적 위원도 그만큼 줄어든다는 당헌&middot;당규에 대한 유권해석을 내린 상태다. \\n <br />\\n <br /> 한 핵심 당직자는 &quot;탈당을 선언하는 순간 전국위의 재적 위원에서 제외키로 했다&quot;면서 &quot;전국위의 재적 위원이 줄어들게 되면 의결 정족수도 낮아진다&quot;고 설명했다.\\n <br />\\n <br /> 전국위 의장인 친박계 정갑윤 의원은 이날 오후 국회에서 재적 위원 현황과 예정 참석 인원을 점검하는 등 전국위 개최를 위한 자체 회의를 개최할 방침이다.\\n <br />\\n <br /> 문제는 오는 1월5일 40명 가까운 원외 당협위원장을 시작으로 비박계의 추가 탈당이 예고된 데다 일부 중립 성향 의원들도 탈당 대열에 합류한다면 전국위 참석률이 떨어질 수 있다는 점이다.\\n <br />\\n <br /> 탈당을 고려 중인 전국위원들은 전국위 재적 위원 숫자만 차지하고 친박계가 주도하는 전국위 참석은 거부할 가능성이 크기 때문에 현재 당 지도부로서는 의결 정족수 부족 사태를 우려하는 것이다.\\n <br />\\n <br /> 이에 따라 친박계에서는 29일 전국위에 사실상 총동원령을 내리고, 전국위에 소속된 지방자치단체장과 지방의원 등의 동요와 이탈을 막는 데 주력하는 것으로 전해졌다.\\n <br />\\n <br />\\n <span class=\"end_photo_org\"><img src=\"http://imgnews.naver.net/image/001/2016/12/26/AKR20161226054300001_01_i_99_20161226105705.jpg?type=w540\" /><em class=\"img_desc\">전국위 주재하는 정갑윤 의장(자료사진)</em></span>\\n <br />\\n <br />aayyss@yna.co.kr\\n <br />\\n <br />\\n <br />\\n <br /> \\n <!-- // 본문 내용 --> \\n</div>',\n",
       " 'crawledTime': '2016-12-29 18:26',\n",
       " 'crawlerVersion': '0.1',\n",
       " 'office': 'http://www.yonhapnews.co.kr',\n",
       " 'oid': '001',\n",
       " 'sid1': '100',\n",
       " 'title': \"與, 연쇄탈당에 '인명진 추인' 비상…전국위 의결정족수 '불안'\",\n",
       " 'url': 'http://news.naver.com/main/read.nhn?mode=LSD&mid=sec&sid1=100&oid=001&aid=0008914673',\n",
       " 'writtenTime': '2016-12-26 10:55'}"
      ]
     },
     "execution_count": 68,
     "metadata": {},
     "output_type": "execute_result"
    }
   ],
   "source": [
    "json_article"
   ]
  },
  {
   "cell_type": "markdown",
   "metadata": {},
   "source": [
    "a line a document로 텍스트를 저장하자. 나중에 term frequency matrix를 만들거나 Word2Vec, Doc2Vec을 학습할 때 편리함\n",
    "\n",
    "하나의 문서는 여러 줄로 구성될 수 있음. 그래서 실제 줄바꿈이 있는 경우에는 **두 칸 띄어쓰기**를 이용하여 구분. 기호에 따라서 탭 구분도 사용하면 괜찮음. 이 때 줄 구분기호(두 칸 띄어쓰기)는 반드시 한 문장에서 없어야 함\n",
    "\n",
    "그리고 뉴스에서 필요한 메타 정보들도 line number를 맞춰서 index파일로 만드는 것이 좋음. 이렇게 line number가 맞으면 필요할 때 해당 문서의 메타 정보들을 이용할 수 있음\n",
    "\n",
    "JSON 문서에 만약 content, title과 같은 정보가 존재하지 않아 오류가 날 것을 대비해서 dict.get(key, '')를 이용해서 json parser를 만듦."
   ]
  },
  {
   "cell_type": "code",
   "execution_count": 69,
   "metadata": {
    "ExecuteTime": {
     "end_time": "2018-03-17T13:13:28.607422Z",
     "start_time": "2018-03-17T13:13:28.595070Z"
    }
   },
   "outputs": [
    {
     "name": "stdout",
     "output_type": "stream",
     "text": [
      "title: 與, 연쇄탈당에 '인명진 추인' 비상…전국위 의결정족수 '불안'\n",
      "idx: 0008914673\n",
      "text: 의결정족수 미달하면 비대위 전환 불발로 정치적 타격  친박계, 인원점검 하고 전국위 '동원령'  (서울=연합뉴스) 안용수 류미나 기자 = 새누리당 비박(비박근혜)계의 연쇄 탈당 사태에 따라, 인명진 비상대책위원장 선출을 위해 오는 29일 열리는 전국위원회 개최에 비상이 걸렸다.  전국위에서 안건 의결을 위해서는 26일 현재 800여명인 재적 위원의 과반 출석에 과반 찬성이 필요하지만 비박계가 대거 탈당할 경우 의결 정족수를 채우지 못할 가능성도 있기 때문이다.  비박계에서는 27일 현역 국회의원 30명 안팎이 탈당할 예정으로 해당 지역의 지방자치단체장과 지방의원들까지 동반 탈당할 경우 전국위 재적위원이 크게 줄어들게 된다.  전국위는 당 대표, 최고위원, 시·도당위원장, 국회의원, 시·도지사, 기초단체장, 시·도의회 의장, 당원협의회 운영위원장 등으로 구성돼 있다.  비박계 탈당에 대한 대응 성격으로 내세운 인 위원장 카드가 무산돼 비대위 전환이 불발될 경우 보수 진영의 선명성 경쟁을 위한 주류 친박(친박근혜)계의 첫 행보부터 타격이 불가피하다.  정우택 원내대표는 26일 연합뉴스와의 통화에서 \"지금은 전국위를 정상적으로 개최하는 게 제일 중요하며 전국위 무산은 상상도 할 수 없는 일\"이라면서 \"전국위원 400명 이상의 참석을 목표로 의결 정족수를 채우기 위해 최선을 다할 수밖에 없다\"고 말했다.  일단 당 사무처는 내부적으로 전국위원이 탈당할 경우 재적 위원도 그만큼 줄어든다는 당헌·당규에 대한 유권해석을 내린 상태다.  한 핵심 당직자는 \"탈당을 선언하는 순간 전국위의 재적 위원에서 제외키로 했다\"면서 \"전국위의 재적 위원이 줄어들게 되면 의결 정족수도 낮아진다\"고 설명했다.  전국위 의장인 친박계 정갑윤 의원은 이날 오후 국회에서 재적 위원 현황과 예정 참석 인원을 점검하는 등 전국위 개최를 위한 자체 회의를 개최할 방침이다.  문제는 오는 1월5일 40명 가까운 원외 당협위원장을 시작으로 비박계의 추가 탈당이 예고된 데다 일부 중립 성향 의원들도 탈당 대열에 합류한다면 전국위 참석률이 떨어질 수 있다는 점이다.  탈당을 고려 중인 전국위원들은 전국위 재적 위원 숫자만 차지하고 친박계가 주도하는 전국위 참석은 거부할 가능성이 크기 때문에 현재 당 지도부로서는 의결 정족수 부족 사태를 우려하는 것이다.  이에 따라 친박계에서는 29일 전국위에 사실상 총동원령을 내리고, 전국위에 소속된 지방자치단체장과 지방의원 등의 동요와 이탈을 막는 데 주력하는 것으로 전해졌다.  전국위 주재하는 정갑윤 의장(자료사진)  aayyss@yna.co.kr  \n"
     ]
    }
   ],
   "source": [
    "import json\n",
    "\n",
    "def parse_json(json_fname):\n",
    "    with open(json_fname, encoding='utf-8') as f:\n",
    "        json_object = json.load(f)\n",
    "        text = json_object.get('content', '').replace('\\n', '  ')\n",
    "        title = json_object.get('title', '')\n",
    "        idx = json_fname.split('/')[-1].split('.')[0]\n",
    "        return text, title, idx\n",
    "    \n",
    "text, title, idx = parse_json(json_fnames[14])\n",
    "\n",
    "print('title: %s' % title)\n",
    "print('idx: %s' % idx)\n",
    "print('text: %s' % text)"
   ]
  },
  {
   "cell_type": "markdown",
   "metadata": {},
   "source": [
    "두 칸 띄어쓰기로 각 문장을 나누었기 때문에 return 된 text를 두 칸 띄어쓰기로 다시 나눠보자. 한 기사에 16줄이 잇엇음을 확인할 수 있음"
   ]
  },
  {
   "cell_type": "code",
   "execution_count": 70,
   "metadata": {
    "ExecuteTime": {
     "end_time": "2018-03-17T13:13:33.832981Z",
     "start_time": "2018-03-17T13:13:33.829841Z"
    }
   },
   "outputs": [
    {
     "data": {
      "text/plain": [
       "17"
      ]
     },
     "execution_count": 70,
     "metadata": {},
     "output_type": "execute_result"
    }
   ],
   "source": [
    "len(text.split('  '))"
   ]
  },
  {
   "cell_type": "markdown",
   "metadata": {},
   "source": [
    "a line a document 형식의 corpus.txt 파일과 이에 해당하는 corpus_index.txt파일을 만듦"
   ]
  },
  {
   "cell_type": "code",
   "execution_count": 71,
   "metadata": {
    "ExecuteTime": {
     "end_time": "2018-03-17T13:13:34.580272Z",
     "start_time": "2018-03-17T13:13:34.460740Z"
    }
   },
   "outputs": [
    {
     "name": "stdout",
     "output_type": "stream",
     "text": [
      "done\n"
     ]
    }
   ],
   "source": [
    "with open('%s/corpus.txt'%PREPROSSED_DATA_FOLDER, 'w', encoding='utf-8') as fc:\n",
    "    with open('%s/corpus_index.txt'%PREPROSSED_DATA_FOLDER, 'w', encoding='utf-8') as fi:\n",
    "        for json_fname in json_fnames:\n",
    "            text, title, idx = parse_json(json_fname)\n",
    "            fc.write('%s\\n'%text)\n",
    "            fi.write('%s\\t%s\\n'%(title, idx))\n",
    "            \n",
    "print('done')"
   ]
  },
  {
   "cell_type": "code",
   "execution_count": 72,
   "metadata": {
    "ExecuteTime": {
     "end_time": "2018-03-17T13:13:34.806556Z",
     "start_time": "2018-03-17T13:13:34.792756Z"
    }
   },
   "outputs": [
    {
     "name": "stdout",
     "output_type": "stream",
     "text": [
      "num docs = 1355\n",
      "num sents of docs[14] = 16\n",
      "docs[14]\n",
      "의결정족수 미달하면 비대위 전환 불발로 정치적 타격  친박계, 인원점검 하고 전국위 '동원령'  (서울=연합뉴스) 안용수 류미나 기자 = 새누리당 비박(비박근혜)계의 연쇄 탈당 사태에 따라, 인명진 비상대책위원장 선출을 위해 오는 29일 열리는 전국위원회 개최에 비상이 걸렸다.  전국위에서 안건 의결을 위해서는 26일 현재 800여명인 재적 위원의 과반 출석에 과반 찬성이 필요하지만 비박계가 대거 탈당할 경우 의결 정족수를 채우지 못할 가능성도 있기 때문이다.  비박계에서는 27일 현역 국회의원 30명 안팎이 탈당할 예정으로 해당 지역의 지방자치단체장과 지방의원들까지 동반 탈당할 경우 전국위 재적위원이 크게 줄어들게 된다.  전국위는 당 대표, 최고위원, 시·도당위원장, 국회의원, 시·도지사, 기초단체장, 시·도의회 의장, 당원협의회 운영위원장 등으로 구성돼 있다.  비박계 탈당에 대한 대응 성격으로 내세운 인 위원장 카드가 무산돼 비대위 전환이 불발될 경우 보수 진영의 선명성 경쟁을 위한 주류 친박(친박근혜)계의 첫 행보부터 타격이 불가피하다.  정우택 원내대표는 26일 연합뉴스와의 통화에서 \"지금은 전국위를 정상적으로 개최하는 게 제일 중요하며 전국위 무산은 상상도 할 수 없는 일\"이라면서 \"전국위원 400명 이상의 참석을 목표로 의결 정족수를 채우기 위해 최선을 다할 수밖에 없다\"고 말했다.  일단 당 사무처는 내부적으로 전국위원이 탈당할 경우 재적 위원도 그만큼 줄어든다는 당헌·당규에 대한 유권해석을 내린 상태다.  한 핵심 당직자는 \"탈당을 선언하는 순간 전국위의 재적 위원에서 제외키로 했다\"면서 \"전국위의 재적 위원이 줄어들게 되면 의결 정족수도 낮아진다\"고 설명했다.  전국위 의장인 친박계 정갑윤 의원은 이날 오후 국회에서 재적 위원 현황과 예정 참석 인원을 점검하는 등 전국위 개최를 위한 자체 회의를 개최할 방침이다.  문제는 오는 1월5일 40명 가까운 원외 당협위원장을 시작으로 비박계의 추가 탈당이 예고된 데다 일부 중립 성향 의원들도 탈당 대열에 합류한다면 전국위 참석률이 떨어질 수 있다는 점이다.  탈당을 고려 중인 전국위원들은 전국위 재적 위원 숫자만 차지하고 친박계가 주도하는 전국위 참석은 거부할 가능성이 크기 때문에 현재 당 지도부로서는 의결 정족수 부족 사태를 우려하는 것이다.  이에 따라 친박계에서는 29일 전국위에 사실상 총동원령을 내리고, 전국위에 소속된 지방자치단체장과 지방의원 등의 동요와 이탈을 막는 데 주력하는 것으로 전해졌다.  전국위 주재하는 정갑윤 의장(자료사진)  aayyss@yna.co.kr\n"
     ]
    }
   ],
   "source": [
    "with open('%s/corpus.txt'%PREPROSSED_DATA_FOLDER , encoding='utf-8') as f:\n",
    "    docs = [doc.strip() for doc in f]\n",
    "    \n",
    "print('num docs = %d'%len(docs))\n",
    "print('num sents of docs[14] = %d'%len(docs[14].split('  ')))\n",
    "print('docs[14]\\n%s'%docs[14])"
   ]
  },
  {
   "cell_type": "code",
   "execution_count": 73,
   "metadata": {
    "ExecuteTime": {
     "end_time": "2018-03-17T13:13:35.341555Z",
     "start_time": "2018-03-17T13:13:35.123719Z"
    }
   },
   "outputs": [
    {
     "data": {
      "text/plain": [
       "'aayyss@yna.co.kr'"
      ]
     },
     "execution_count": 73,
     "metadata": {},
     "output_type": "execute_result"
    }
   ],
   "source": [
    "docs[14].split('  ')[-1]"
   ]
  },
  {
   "cell_type": "code",
   "execution_count": 74,
   "metadata": {
    "ExecuteTime": {
     "end_time": "2018-03-17T13:13:35.666032Z",
     "start_time": "2018-03-17T13:13:35.662927Z"
    }
   },
   "outputs": [
    {
     "data": {
      "text/plain": [
       "''"
      ]
     },
     "execution_count": 74,
     "metadata": {},
     "output_type": "execute_result"
    }
   ],
   "source": [
    "text.split('  ')[-1]"
   ]
  },
  {
   "cell_type": "code",
   "execution_count": 75,
   "metadata": {
    "ExecuteTime": {
     "end_time": "2018-03-17T13:13:36.153173Z",
     "start_time": "2018-03-17T13:13:36.148701Z"
    }
   },
   "outputs": [
    {
     "data": {
      "text/plain": [
       "'hye1@yna.co.kr'"
      ]
     },
     "execution_count": 75,
     "metadata": {},
     "output_type": "execute_result"
    }
   ],
   "source": [
    "text.split('  ')[-2]"
   ]
  },
  {
   "cell_type": "markdown",
   "metadata": {},
   "source": [
    "# 5 Keyword extraction "
   ]
  },
  {
   "cell_type": "code",
   "execution_count": 76,
   "metadata": {
    "ExecuteTime": {
     "end_time": "2018-03-17T13:13:36.785436Z",
     "start_time": "2018-03-17T13:13:36.780084Z"
    }
   },
   "outputs": [],
   "source": [
    "preprocessed_data_fname = '/home/paulkim/workspace/python/Korean_NLP/data/small_naver_news/processed/corpus.txt'\n",
    "model_folder = './tmp/'"
   ]
  },
  {
   "cell_type": "code",
   "execution_count": 77,
   "metadata": {
    "ExecuteTime": {
     "end_time": "2018-03-17T13:13:37.187800Z",
     "start_time": "2018-03-17T13:13:37.175233Z"
    }
   },
   "outputs": [
    {
     "name": "stdout",
     "output_type": "stream",
     "text": [
      "num docs = 1355\n"
     ]
    }
   ],
   "source": [
    "with open(preprocessed_data_fname, encoding='utf-8') as f:\n",
    "    docs = [doc.strip() for doc in f]\n",
    "    \n",
    "print('num docs = %d'%len(docs))"
   ]
  },
  {
   "cell_type": "markdown",
   "metadata": {},
   "source": [
    "### From corpus to noun term frequency sparse matrix\n",
    "Twitter.nouns(sent)를 사용. type은 list of str"
   ]
  },
  {
   "cell_type": "code",
   "execution_count": 78,
   "metadata": {
    "ExecuteTime": {
     "end_time": "2018-03-17T13:13:37.859028Z",
     "start_time": "2018-03-17T13:13:37.843494Z"
    }
   },
   "outputs": [
    {
     "data": {
      "text/plain": [
       "['이건', '테스트', '얌']"
      ]
     },
     "execution_count": 78,
     "metadata": {},
     "output_type": "execute_result"
    }
   ],
   "source": [
    "from collections import defaultdict\n",
    "from pprint import pprint\n",
    "from konlpy.tag import Twitter\n",
    "\n",
    "twitter = Twitter()\n",
    "twitter.nouns('이건 테스트얌~')"
   ]
  },
  {
   "cell_type": "markdown",
   "metadata": {},
   "source": [
    "a line a document이기 때문에 docs[i]은 하나의 문서를 의미하고, 하나의 문서는 두 칸 띄어쓰기로 줄이 나뉘어져 있음. 모든 문서에서 명사를 추출한 뒤, 각 명사들이 몇 번 나왔었는지를 알아보자. 굳이 한 줄 한 줄을 나눌 필요는 없음"
   ]
  },
  {
   "cell_type": "code",
   "execution_count": 79,
   "metadata": {
    "ExecuteTime": {
     "end_time": "2018-03-17T13:13:49.248323Z",
     "start_time": "2018-03-17T13:13:38.504903Z"
    }
   },
   "outputs": [
    {
     "name": "stdout",
     "output_type": "stream",
     "text": [
      "num of nouns : 12612\n"
     ]
    }
   ],
   "source": [
    "from collections import Counter\n",
    "\n",
    "noun_counter = Counter([noun for doc in docs for noun in twitter.nouns(doc)])\n",
    "print('num of nouns : %d'%len(noun_counter))"
   ]
  },
  {
   "cell_type": "markdown",
   "metadata": {},
   "source": [
    "term frequency matrix를 만들 때, 거의 등장하지 않는 단어들은 의미가 없음. min count를 설정하여 각 threshold별로 몇 개의 명사가 살아남는지 확인"
   ]
  },
  {
   "cell_type": "code",
   "execution_count": 80,
   "metadata": {
    "ExecuteTime": {
     "end_time": "2018-03-17T13:13:49.675090Z",
     "start_time": "2018-03-17T13:13:49.664786Z"
    }
   },
   "outputs": [
    {
     "name": "stdout",
     "output_type": "stream",
     "text": [
      "num of nouns (min_count = 2): 7772\n",
      "num of nouns (min_count = 3): 5900\n",
      "num of nouns (min_count = 5): 4102\n",
      "num of nouns (min_count = 10): 2424\n"
     ]
    }
   ],
   "source": [
    "for min_count in [2, 3, 5, 10]:\n",
    "    _counter = {word for word, freq in noun_counter.items() if freq >= min_count}\n",
    "    print('num of nouns (min_count = %d): %d'%(min_count, len(_counter)))"
   ]
  },
  {
   "cell_type": "markdown",
   "metadata": {},
   "source": [
    "5번 이상 나오는 4102개의 명사를 이용하여 term frequency matrix를 만듦. CountVectorizer는 문서가 주어지면 띄어쓰기를 tokenizer로 이용함. filtering이 되지 않음. 이를 방지하기 위해 빈도수가 5 이상인 명사만 return 하는 custom tokenizer를 만듦\n",
    "\n",
    "Twitter.nouns()와 custom_tokenizer의 결과가 달라짐을 확인할 수 있음"
   ]
  },
  {
   "cell_type": "code",
   "execution_count": 81,
   "metadata": {
    "ExecuteTime": {
     "end_time": "2018-03-17T13:13:50.081426Z",
     "start_time": "2018-03-17T13:13:50.072237Z"
    }
   },
   "outputs": [
    {
     "name": "stdout",
     "output_type": "stream",
     "text": [
      "['연합뉴스', '제공', '김성태', '청문회', '회', '불참', '최순실', '국회', '모독', '죄', '고발', '조치', '속보']\n",
      "['연합뉴스', '제공', '김성태', '청문회', '회', '최순실', '국회', '죄', '고발', '조치', '속보']\n"
     ]
    }
   ],
   "source": [
    "noun_dict = {word for word, freq in noun_counter.items() if freq >= 5}\n",
    "\n",
    "def custom_tokenizer(doc):\n",
    "    return [word for word in twitter.nouns(doc) if word in noun_dict]\n",
    "\n",
    "print(twitter.nouns(docs[1]))\n",
    "print(custom_tokenizer(docs[1]))"
   ]
  },
  {
   "cell_type": "code",
   "execution_count": 82,
   "metadata": {
    "ExecuteTime": {
     "end_time": "2018-03-17T13:13:50.475508Z",
     "start_time": "2018-03-17T13:13:50.472827Z"
    }
   },
   "outputs": [
    {
     "data": {
      "text/plain": [
       "4102"
      ]
     },
     "execution_count": 82,
     "metadata": {},
     "output_type": "execute_result"
    }
   ],
   "source": [
    "len(noun_dict)"
   ]
  },
  {
   "cell_type": "markdown",
   "metadata": {},
   "source": [
    "CounterVectorizer는 document frequency를 기준으로 대부분 문서에 등장하거나 거의 등장하지 않는 극단적인 단어들을 제거할 수 있음. min_df와 max_df를 이용하면 되며, df는 비율임. [0, 1]사이의 값을 입력"
   ]
  },
  {
   "cell_type": "code",
   "execution_count": 83,
   "metadata": {
    "ExecuteTime": {
     "end_time": "2018-03-17T13:14:01.669392Z",
     "start_time": "2018-03-17T13:13:50.861896Z"
    }
   },
   "outputs": [],
   "source": [
    "from sklearn.feature_extraction.text import CountVectorizer\n",
    "\n",
    "vectorizer = CountVectorizer(tokenizer=custom_tokenizer, min_df=0.005, max_df=0.95)\n",
    "x_sparse = vectorizer.fit_transform(docs)"
   ]
  },
  {
   "cell_type": "markdown",
   "metadata": {},
   "source": [
    "x_sparse는 scipy의 sparse matrix임. Sparse matrix는 0 값이 많은 행렬에 대하여 0이 아닌 (i, j)의 값만을 저장한 matrix를 의미함. Term frequency matrix는 very sparse matrix에 속하므로 dense matrix보다 sparse matrix가 훨씬 효율적임. dense matrix는 문서의 양이 조금만 커도 메모리가 폭발함\n",
    "\n",
    "1355개의 문서가 2283개의 단어로 이뤄졌으며 0이 아닌 (i, j)의 갯수가 62633개라는 의미임. min_df, max_df에 의하여 또 한번 극단적인 단어들이 제거되었기 때문에 4102개의 명사 중 2283개만이 이용된 것임"
   ]
  },
  {
   "cell_type": "code",
   "execution_count": 84,
   "metadata": {
    "ExecuteTime": {
     "end_time": "2018-03-17T13:14:02.084163Z",
     "start_time": "2018-03-17T13:14:02.080312Z"
    }
   },
   "outputs": [
    {
     "data": {
      "text/plain": [
       "<1355x2283 sparse matrix of type '<class 'numpy.int64'>'\n",
       "\twith 62633 stored elements in Compressed Sparse Row format>"
      ]
     },
     "execution_count": 84,
     "metadata": {},
     "output_type": "execute_result"
    }
   ],
   "source": [
    "x_sparse"
   ]
  },
  {
   "cell_type": "markdown",
   "metadata": {},
   "source": [
    "## CountVectorizer에서 각 column에 해당하는 term 알아내기\n",
    "\n",
    "vectorizer.vocabulary_는 dict형식으로, {word:index} 임\n",
    "\n",
    "이를 이용하여 vocab to index, index to vocab을 만듦. 정부라는 단어가 1633에 해당함"
   ]
  },
  {
   "cell_type": "code",
   "execution_count": 85,
   "metadata": {
    "ExecuteTime": {
     "end_time": "2018-03-17T13:14:02.518574Z",
     "start_time": "2018-03-17T13:14:02.514831Z"
    }
   },
   "outputs": [
    {
     "data": {
      "text/plain": [
       "1663"
      ]
     },
     "execution_count": 85,
     "metadata": {},
     "output_type": "execute_result"
    }
   ],
   "source": [
    "vocab2int = vectorizer.vocabulary_\n",
    "vocab2int['정부']"
   ]
  },
  {
   "cell_type": "markdown",
   "metadata": {},
   "source": [
    "index는 0부터 시작함. 그러므로 int2vocab은 dictionay형태보다 list형태로 갖고 있어도 좋음. 이를 위해서 sorted함수를 이용"
   ]
  },
  {
   "cell_type": "code",
   "execution_count": 86,
   "metadata": {
    "ExecuteTime": {
     "end_time": "2018-03-17T13:14:02.997002Z",
     "start_time": "2018-03-17T13:14:02.991534Z"
    }
   },
   "outputs": [
    {
     "data": {
      "text/plain": [
       "'정부'"
      ]
     },
     "execution_count": 86,
     "metadata": {},
     "output_type": "execute_result"
    }
   ],
   "source": [
    "int2vocab = [word for word, index in sorted(vocab2int.items(), key=lambda x:x[1])]\n",
    "int2vocab[1663]"
   ]
  },
  {
   "cell_type": "markdown",
   "metadata": {},
   "source": [
    "# Sparse matrix와 dense matrix"
   ]
  },
  {
   "cell_type": "code",
   "execution_count": 87,
   "metadata": {
    "ExecuteTime": {
     "end_time": "2018-03-17T13:14:03.666615Z",
     "start_time": "2018-03-17T13:14:03.460261Z"
    }
   },
   "outputs": [
    {
     "data": {
      "text/plain": [
       "<1355x2283 sparse matrix of type '<class 'numpy.int64'>'\n",
       "\twith 62633 stored elements in COOrdinate format>"
      ]
     },
     "execution_count": 87,
     "metadata": {},
     "output_type": "execute_result"
    }
   ],
   "source": [
    "from scipy.io import mmwrite, mmread\n",
    "\n",
    "mmwrite('./tmp/x.mm', x_sparse)\n",
    "loaded_x_sparse = mmread('./tmp/x.mm')\n",
    "loaded_x_sparse"
   ]
  },
  {
   "cell_type": "markdown",
   "metadata": {},
   "source": [
    "todense()를 이용하면 sparse matrix는 모든 (i, j)의 값을 갖는 numpy.ndarray의 dense matrix로 변환됨"
   ]
  },
  {
   "cell_type": "code",
   "execution_count": 88,
   "metadata": {
    "ExecuteTime": {
     "end_time": "2018-03-17T13:14:04.146714Z",
     "start_time": "2018-03-17T13:14:04.137412Z"
    }
   },
   "outputs": [],
   "source": [
    "x_dense = loaded_x_sparse.todense()"
   ]
  },
  {
   "cell_type": "markdown",
   "metadata": {},
   "source": [
    "실제로 x_dense는 많은 값들이 0으로 채워져 있음"
   ]
  },
  {
   "cell_type": "code",
   "execution_count": 89,
   "metadata": {
    "ExecuteTime": {
     "end_time": "2018-03-17T13:14:05.091043Z",
     "start_time": "2018-03-17T13:14:04.609730Z"
    }
   },
   "outputs": [
    {
     "data": {
      "text/plain": [
       "matrix([[0, 0, 0, ..., 0, 0, 0],\n",
       "        [0, 0, 0, ..., 0, 0, 0],\n",
       "        [0, 0, 0, ..., 0, 0, 0],\n",
       "        ..., \n",
       "        [0, 0, 0, ..., 0, 0, 1],\n",
       "        [0, 0, 0, ..., 0, 0, 0],\n",
       "        [0, 0, 0, ..., 0, 0, 0]])"
      ]
     },
     "execution_count": 89,
     "metadata": {},
     "output_type": "execute_result"
    }
   ],
   "source": [
    "x_dense"
   ]
  },
  {
   "cell_type": "code",
   "execution_count": 90,
   "metadata": {
    "ExecuteTime": {
     "end_time": "2018-03-17T13:14:05.561343Z",
     "start_time": "2018-03-17T13:14:05.558338Z"
    }
   },
   "outputs": [
    {
     "data": {
      "text/plain": [
       "matrix([[0, 0, 0, ..., 0, 0, 0]])"
      ]
     },
     "execution_count": 90,
     "metadata": {},
     "output_type": "execute_result"
    }
   ],
   "source": [
    "x_dense[0]"
   ]
  },
  {
   "cell_type": "markdown",
   "metadata": {},
   "source": [
    "## term proportion vector 계산\n",
    "직관적으로 키워드 추출 알고리즘의 작동 원리를 알아보기 위해 작은 데이터를 이용한 예제에서는 dense matrix를 이용함. 하지만 큰 데이터는 반드시 sparse matrix로 코딩해야함"
   ]
  },
  {
   "cell_type": "code",
   "execution_count": 91,
   "metadata": {
    "ExecuteTime": {
     "end_time": "2018-03-17T13:14:07.473166Z",
     "start_time": "2018-03-17T13:14:07.465686Z"
    }
   },
   "outputs": [
    {
     "data": {
      "text/plain": [
       "array([[ 0.61647896,  0.5677124 ,  0.81465657,  0.32410236,  0.49841311,\n",
       "         0.81960365,  0.71650195,  0.03794535,  0.32227134,  0.06778488],\n",
       "       [ 0.79163931,  0.91608892,  0.23679768,  0.22312053,  0.65196836,\n",
       "         0.06585335,  0.57140033,  0.36864503,  0.71569353,  0.66606222],\n",
       "       [ 0.11639113,  0.9393842 ,  0.56372578,  0.4665309 ,  0.51005806,\n",
       "         0.07494885,  0.74646413,  0.45102108,  0.0753941 ,  0.10611035],\n",
       "       [ 0.14338196,  0.52807858,  0.38412838,  0.51981315,  0.20744972,\n",
       "         0.91801829,  0.77545301,  0.65732648,  0.24402909,  0.274855  ],\n",
       "       [ 0.76822197,  0.17702738,  0.56053734,  0.64662298,  0.60289627,\n",
       "         0.00537096,  0.99155485,  0.07049531,  0.36484568,  0.13946796]])"
      ]
     },
     "execution_count": 91,
     "metadata": {},
     "output_type": "execute_result"
    }
   ],
   "source": [
    "# 5 by 10의 random matrix를 생성\n",
    "import numpy as np\n",
    "\n",
    "x_tmp = np.random.random((5, 10))\n",
    "x_tmp"
   ]
  },
  {
   "cell_type": "markdown",
   "metadata": {},
   "source": [
    "x_tmp.sum()은 50개의 값의 합, x_tmp.sum(axis=0)은 row, x_tmp.sum(axis=1)은 column sum"
   ]
  },
  {
   "cell_type": "code",
   "execution_count": 92,
   "metadata": {
    "ExecuteTime": {
     "end_time": "2018-03-17T13:14:08.461320Z",
     "start_time": "2018-03-17T13:14:08.455480Z"
    }
   },
   "outputs": [
    {
     "data": {
      "text/plain": [
       "array([ 2.43611333,  3.12829148,  2.55984575,  2.18018993,  2.47078552,\n",
       "        1.88379511,  3.80137428,  1.58543325,  1.72223375,  1.25428042])"
      ]
     },
     "execution_count": 92,
     "metadata": {},
     "output_type": "execute_result"
    }
   ],
   "source": [
    "x_tmp.sum(axis = 0) # row들의 합"
   ]
  },
  {
   "cell_type": "code",
   "execution_count": 93,
   "metadata": {
    "ExecuteTime": {
     "end_time": "2018-03-17T13:14:09.109965Z",
     "start_time": "2018-03-17T13:14:09.105925Z"
    }
   },
   "outputs": [
    {
     "data": {
      "text/plain": [
       "array([ 4.78547058,  5.20726927,  4.05002858,  4.65253366,  4.32704071])"
      ]
     },
     "execution_count": 93,
     "metadata": {},
     "output_type": "execute_result"
    }
   ],
   "source": [
    "x_tmp.sum(axis = 1) # 각 row들의 column의 합"
   ]
  },
  {
   "cell_type": "markdown",
   "metadata": {},
   "source": [
    "하나의 row가 하나의 문서에 해당한다면, 모든 문서들에서 단어의 출현 빈도 비율을 아래와 같이 계산할 수 있음"
   ]
  },
  {
   "cell_type": "code",
   "execution_count": 94,
   "metadata": {
    "ExecuteTime": {
     "end_time": "2018-03-17T13:14:09.859243Z",
     "start_time": "2018-03-17T13:14:09.850169Z"
    }
   },
   "outputs": [
    {
     "data": {
      "text/plain": [
       "array([ 0.10581518,  0.13588068,  0.11118963,  0.09469887,  0.1073212 ,\n",
       "        0.08182465,  0.16511674,  0.06886498,  0.07480706,  0.05448101])"
      ]
     },
     "execution_count": 94,
     "metadata": {},
     "output_type": "execute_result"
    }
   ],
   "source": [
    "x_tmp.sum(axis = 0) / x_tmp.sum()"
   ]
  },
  {
   "cell_type": "markdown",
   "metadata": {},
   "source": [
    "row sum을 한 뒤 1 by 10 행렬을 각각 x1, x2라 할 때, x1 / (x1 + x2)를 하면 notes의 공식을 구현할 수 있음"
   ]
  },
  {
   "cell_type": "code",
   "execution_count": 95,
   "metadata": {
    "ExecuteTime": {
     "end_time": "2018-03-17T13:14:10.683774Z",
     "start_time": "2018-03-17T13:14:10.678425Z"
    }
   },
   "outputs": [
    {
     "data": {
      "text/plain": [
       "array([[ 0.36080941,  0.54754391,  0.58121417,  0.80110717,  0.13234422,\n",
       "         0.13093606,  0.69573128,  0.68658259,  0.61354319,  0.24880674]])"
      ]
     },
     "execution_count": 95,
     "metadata": {},
     "output_type": "execute_result"
    }
   ],
   "source": [
    "x1 = np.random.random((1, 10))\n",
    "x2 = np.random.random((1, 10))\n",
    "x_score = x1 / (x1 + x2)\n",
    "x_score"
   ]
  },
  {
   "cell_type": "markdown",
   "metadata": {},
   "source": [
    "## enumerate를 이용하여 list에서 조건에 해당하는 값들의 index 가져오기\n",
    "enumerate는 list, generator 등처럼 for loop을 돌면서 값이 하나씩 출력되는 객체들에 대하여 출력된 값의 순서를 0, 1, 2처럼 번호를 붙여주는 함수임\n",
    "\n",
    "x_score에서 0.5보다 높은 숫자들을 지닌 list index를 가져올 수 있음"
   ]
  },
  {
   "cell_type": "code",
   "execution_count": 96,
   "metadata": {
    "ExecuteTime": {
     "end_time": "2018-03-17T13:14:11.547958Z",
     "start_time": "2018-03-17T13:14:11.536165Z"
    }
   },
   "outputs": [
    {
     "data": {
      "text/plain": [
       "[1, 2, 3, 6, 7, 8]"
      ]
     },
     "execution_count": 96,
     "metadata": {},
     "output_type": "execute_result"
    }
   ],
   "source": [
    "[word_idx for word_idx, value in enumerate(x_score[0]) if value > 0.5]"
   ]
  },
  {
   "cell_type": "markdown",
   "metadata": {},
   "source": [
    "## keyword_extraction 함수"
   ]
  },
  {
   "cell_type": "markdown",
   "metadata": {},
   "source": [
    "score가 0.7인 이상인 단어들을 aspect_word_index에 대한 키워드로 추출하는 함수를 만듦.\n",
    "\n",
    "numpy.ndarray에서 x[:,3]은 모든 rows에 대해 3번째 column을 가져오라는 의미임. 이 때 return은 (n by 1) shape의 numpy.ndarray임\n",
    "\n",
    "(1 by n)이나 (n by 1)의 ndarraysms .reshape(-1)을 해주면 column vector(list 같은)가 됨"
   ]
  },
  {
   "cell_type": "code",
   "execution_count": 97,
   "metadata": {
    "ExecuteTime": {
     "end_time": "2018-03-17T13:14:12.915984Z",
     "start_time": "2018-03-17T13:14:12.887188Z"
    }
   },
   "outputs": [],
   "source": [
    "def keyword_extraction(x_dense, aspect_word_index, int2vocab, threshold=0.7):\n",
    "    dt_idx = []\n",
    "    dr_idx = []\n",
    "    \n",
    "    # 모든 문서에서 aspect_word의 column가져오기\n",
    "    for idx, tf in enumerate(x_dense[:, aspect_word_index]):\n",
    "        # tf가 0보다 크면 target (positive) document set\n",
    "        if tf > 0:\n",
    "            dt_idx.append(idx)\n",
    "        # tf == 0은 aspect word가 등장하지 않았으므로 reference document set\n",
    "        else:\n",
    "            dr_idx.append(idx)\n",
    "            \n",
    "    # x_dense에 list로 이뤄진 dt_idx를 넣으면, 해당 index의 rows만을 추려서 submatrix를 만듦        \n",
    "    x_dt = x_dense[dt_idx]\n",
    "    x_dr = x_dense[dr_idx]\n",
    "    \n",
    "    # term proportion matrix를 만듦\n",
    "    x_dt = x_dt.sum(axis = 0) / x_dt.sum()\n",
    "    x_dr = x_dr.sum(axis = 0) / x_dr.sum()\n",
    "    \n",
    "    # score를 구한 뒤 reshape를 이용하여 column vector 형태로 만들어줌\n",
    "    x_score = x_dt / (x_dt + x_dr)\n",
    "    x_score = np.asarray(x_score).reshape(-1)\n",
    "    \n",
    "    # score가 threshold 이상인 단어들의 index를 keywords list에 넣어둠\n",
    "    keywords = [(word_idx, score ) for word_idx, score in enumerate(x_score) if score >= threshold]\n",
    "    \n",
    "    # index2word를 이용하여 word index를 키워드로 바꿔줌\n",
    "    keywords = [(int2vocab[word_idx], score) for word_idx, score in keywords]\n",
    "    \n",
    "    return keywords"
   ]
  },
  {
   "cell_type": "markdown",
   "metadata": {},
   "source": [
    "threshold = 0.7을 넘는 키워드 중에서 빈도수 기준으로 정렬을 설정하여 top keyword 20개를 선택함\n",
    "\n",
    "길이가 1인 글자들은 해석하기가 너무 어려움. 제거"
   ]
  },
  {
   "cell_type": "code",
   "execution_count": 99,
   "metadata": {
    "ExecuteTime": {
     "end_time": "2018-03-17T13:14:24.682054Z",
     "start_time": "2018-03-17T13:14:24.546969Z"
    }
   },
   "outputs": [
    {
     "name": "stdout",
     "output_type": "stream",
     "text": [
      "\n",
      "\n",
      "Aspect word = 가요대전 (12)\n",
      "      연합뉴스\t0.786\n",
      "        서울\t0.911\n",
      "        기자\t0.867\n",
      "        오후\t0.966\n",
      "        에서\t0.982\n",
      "        사회\t0.812\n",
      "       강남구\t0.992\n",
      "        그룹\t0.932\n",
      "       코엑스\t0.999\n",
      "       어워즈\t1.000\n",
      "      페스티벌\t1.000\n",
      "      가요대전\t1.000\n",
      "       이재희\t1.000\n",
      "        보이\t0.934\n",
      "        포즈\t0.999\n",
      "       걸그룹\t1.000\n",
      "      레드카펫\t1.000\n",
      "        유리\t0.991\n",
      "      트와이스\t1.000\n",
      "\n",
      "\n",
      "Aspect word = 국정조사 (263)\n",
      "       대통령\t0.819\n",
      "        의원\t0.723\n",
      "        정부\t0.703\n",
      "       최순실\t0.898\n",
      "        의혹\t0.869\n",
      "        국회\t0.843\n",
      "       박근혜\t0.856\n",
      "        특검\t0.816\n",
      "       청문회\t0.971\n",
      "        현장\t0.873\n",
      "       위원회\t0.828\n",
      "        실장\t0.871\n",
      "        국정\t0.895\n",
      "       위원장\t0.755\n",
      "        사건\t0.859\n",
      "       청와대\t0.899\n",
      "        위원\t0.868\n",
      "        최씨\t0.876\n",
      "      압수수색\t0.804\n",
      "        수석\t0.867\n",
      "\n",
      "\n",
      "Aspect word = 최순실 (1936)\n",
      "       대통령\t0.831\n",
      "       최순실\t1.000\n",
      "        의혹\t0.934\n",
      "        수사\t0.947\n",
      "        국회\t0.800\n",
      "        문화\t0.796\n",
      "       박근혜\t0.952\n",
      "        특검\t0.961\n",
      "       청문회\t0.998\n",
      "        현장\t0.827\n",
      "        실장\t0.902\n",
      "        국정\t0.911\n",
      "        사건\t0.837\n",
      "       청와대\t0.990\n",
      "        위원\t0.767\n",
      "        최씨\t0.993\n",
      "      압수수색\t0.983\n",
      "        혐의\t0.725\n",
      "        수석\t0.964\n",
      "        내용\t0.707\n",
      "\n",
      "\n",
      "Aspect word = 트럼프 (2045)\n",
      "       대통령\t0.789\n",
      "        미국\t0.947\n",
      "        정책\t0.703\n",
      "        중국\t0.890\n",
      "        대해\t0.740\n",
      "        이후\t0.707\n",
      "       러시아\t0.914\n",
      "        세계\t0.719\n",
      "        우리\t0.848\n",
      "        현지\t0.809\n",
      "        결정\t0.740\n",
      "        차관\t0.799\n",
      "        면서\t0.725\n",
      "       트럼프\t1.000\n",
      "        달러\t0.797\n",
      "        대선\t0.826\n",
      "        정치\t0.815\n",
      "        북한\t0.712\n",
      "        일본\t0.824\n",
      "        총리\t0.886\n",
      "\n",
      "\n",
      "Aspect word = 롯데 (587)\n",
      "        사업\t0.789\n",
      "        문화\t0.807\n",
      "        행사\t0.832\n",
      "        전국\t0.732\n",
      "        면서\t0.766\n",
      "       가능성\t0.739\n",
      "        환경\t0.867\n",
      "        재단\t0.798\n",
      "        정보\t0.704\n",
      "        입장\t0.709\n",
      "        가격\t0.772\n",
      "        계약\t0.772\n",
      "        앞서\t0.720\n",
      "        협의\t0.729\n",
      "        공연\t0.738\n",
      "        주민\t0.747\n",
      "        롯데\t1.000\n",
      "        다음\t0.762\n",
      "        절차\t0.766\n",
      "        방침\t0.772\n",
      "\n",
      "\n",
      "Aspect word = 삼성 (959)\n",
      "        의혹\t0.856\n",
      "        특검\t0.907\n",
      "        실장\t0.728\n",
      "        관련\t0.786\n",
      "        조사\t0.794\n",
      "       청와대\t0.839\n",
      "        최씨\t0.774\n",
      "      압수수색\t0.779\n",
      "        혐의\t0.710\n",
      "        수석\t0.736\n",
      "        본부\t0.817\n",
      "        삼성\t1.000\n",
      "       강남구\t0.805\n",
      "        국내\t0.740\n",
      "        시장\t0.764\n",
      "        차관\t0.783\n",
      "        검찰\t0.726\n",
      "        달러\t0.747\n",
      "       문체부\t0.870\n",
      "        예술\t0.767\n"
     ]
    }
   ],
   "source": [
    "for word in ['가요대전', '국정조사', '최순실', '트럼프', '롯데', '삼성']:\n",
    "    if not word in vocab2int:\n",
    "        continue\n",
    "        \n",
    "    print('\\n\\nAspect word = %s (%d)'%(word, vocab2int[word]))\n",
    "    \n",
    "    word_index = vocab2int[word]\n",
    "    keywords = keyword_extraction(x_dense, word_index, int2vocab, threshold=0.7)\n",
    "    \n",
    "    # 길이가 1인 단어들 제거\n",
    "    keywords = [(word, score) for word, score in keywords if len(word) > 1]\n",
    "    \n",
    "    # 추출된 키워드들 term frequency 기준으로 정렬하여 상위 20개 선택\n",
    "    keywords_tops = sorted(keywords, key=lambda x:noun_counter.get(x[0], 0), reverse=True)[:20]\n",
    "    \n",
    "    for keyword, score in keywords_tops:\n",
    "        print(\"%10s\\t%.3f\"%(keyword, score))"
   ]
  },
  {
   "cell_type": "code",
   "execution_count": null,
   "metadata": {},
   "outputs": [],
   "source": []
  }
 ],
 "metadata": {
  "kernelspec": {
   "display_name": "Python (python3_0901)",
   "language": "python",
   "name": "python3_0901"
  },
  "language_info": {
   "codemirror_mode": {
    "name": "ipython",
    "version": 3
   },
   "file_extension": ".py",
   "mimetype": "text/x-python",
   "name": "python",
   "nbconvert_exporter": "python",
   "pygments_lexer": "ipython3",
   "version": "3.6.3"
  },
  "latex_envs": {
   "LaTeX_envs_menu_present": true,
   "autoclose": false,
   "autocomplete": true,
   "bibliofile": "biblio.bib",
   "cite_by": "apalike",
   "current_citInitial": 1,
   "eqLabelWithNumbers": true,
   "eqNumInitial": 1,
   "hotkeys": {
    "equation": "Ctrl-E",
    "itemize": "Ctrl-I"
   },
   "labels_anchors": false,
   "latex_user_defs": false,
   "report_style_numbering": false,
   "user_envs_cfg": false
  },
  "varInspector": {
   "cols": {
    "lenName": 16,
    "lenType": 16,
    "lenVar": 40
   },
   "kernels_config": {
    "python": {
     "delete_cmd_postfix": "",
     "delete_cmd_prefix": "del ",
     "library": "var_list.py",
     "varRefreshCmd": "print(var_dic_list())"
    },
    "r": {
     "delete_cmd_postfix": ") ",
     "delete_cmd_prefix": "rm(",
     "library": "var_list.r",
     "varRefreshCmd": "cat(var_dic_list()) "
    }
   },
   "types_to_exclude": [
    "module",
    "function",
    "builtin_function_or_method",
    "instance",
    "_Feature"
   ],
   "window_display": false
  }
 },
 "nbformat": 4,
 "nbformat_minor": 2
}
